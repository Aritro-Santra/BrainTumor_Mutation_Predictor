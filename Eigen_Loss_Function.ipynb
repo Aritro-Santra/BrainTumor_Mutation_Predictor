{
 "cells": [
  {
   "cell_type": "markdown",
   "source": [
    "# Implementation of the Eigen value based Loss Function\n",
    "This notebook contains the implementation of eigen value based loss function with examples."
   ],
   "metadata": {
    "collapsed": false
   }
  },
  {
   "cell_type": "markdown",
   "source": [
    "## Imports\n",
    "We first import all necessary packages and modules"
   ],
   "metadata": {
    "collapsed": false
   }
  },
  {
   "cell_type": "code",
   "execution_count": 1,
   "outputs": [],
   "source": [
    "import numpy as np\n",
    "import networkx as nx\n",
    "import torch\n",
    "import  random\n",
    "DEVICE = 'cuda' if torch.cuda.is_available() else 'cpu'"
   ],
   "metadata": {
    "collapsed": false,
    "ExecuteTime": {
     "end_time": "2023-05-29T07:41:52.247548900Z",
     "start_time": "2023-05-29T07:41:50.101064600Z"
    }
   }
  },
  {
   "cell_type": "markdown",
   "source": [
    "## Construction of Graphs from one hot vectors\n",
    "The outputs from CNN are formatted as one-hot encoded vectors of dimension 5 (since we are dealing with prediction of 5 mutations). Let us call this predicted one hot vector as $y_{pred}$ and its corresponding ground truth as $y_{true}$. We can create graphs from $y_{pred}$ and $y_{true}$. If we consider each node as a mutation, there will be 5 nodes. All mutations with same value will be connected with each other. For eg. if $y_{pred} = [1,0,1,1,0]$ where $y_{pred}[0]$ indicates absence(0)/presence(1) of mutation $0$, then node indicating 'mutation_0' will be connected to nodes indicating 'mutation_2' and 'mutation_3', while 'mutation_1' and 'mutation_4' will be connected. We will connect similarly for all other mutations.\n",
    "Let us consider the graphs constructed from $y_{pred}$ and $y_{true}$ as $G_{pred}$ and $G_{true}$."
   ],
   "metadata": {
    "collapsed": false
   }
  },
  {
   "cell_type": "markdown",
   "source": [
    "### Sample vector generation\n",
    "Let us create some random one vectors indicating the presence/absence of the mutations"
   ],
   "metadata": {
    "collapsed": false
   }
  },
  {
   "cell_type": "code",
   "execution_count": 2,
   "metadata": {
    "collapsed": true,
    "ExecuteTime": {
     "end_time": "2023-05-29T07:41:59.594210100Z",
     "start_time": "2023-05-29T07:41:57.201668200Z"
    }
   },
   "outputs": [
    {
     "name": "stdout",
     "output_type": "stream",
     "text": [
      "Simulated Predicted vectors:  tensor([[0., 0., 1., 1., 1.],\n",
      "        [1., 1., 1., 1., 0.],\n",
      "        [1., 1., 0., 0., 0.],\n",
      "        [1., 0., 0., 1., 0.],\n",
      "        [1., 1., 0., 1., 0.],\n",
      "        [1., 0., 1., 1., 0.],\n",
      "        [0., 1., 1., 0., 0.],\n",
      "        [0., 1., 0., 0., 1.],\n",
      "        [0., 1., 0., 0., 0.],\n",
      "        [1., 0., 0., 0., 0.]], device='cuda:0', dtype=torch.float64,\n",
      "       requires_grad=True)\n",
      "Simulated Ground Truth vectors:  tensor([[1., 1., 1., 0., 0.],\n",
      "        [1., 0., 0., 0., 1.],\n",
      "        [1., 1., 0., 0., 1.],\n",
      "        [0., 0., 0., 1., 0.],\n",
      "        [1., 1., 0., 1., 0.],\n",
      "        [0., 1., 1., 0., 1.],\n",
      "        [0., 0., 0., 1., 1.],\n",
      "        [0., 1., 0., 0., 1.],\n",
      "        [0., 0., 1., 0., 0.],\n",
      "        [1., 0., 0., 0., 0.]], device='cuda:0', dtype=torch.float64,\n",
      "       requires_grad=True)\n",
      "Using device:  0\n"
     ]
    }
   ],
   "source": [
    "num_samples = 10 # Number of samples\n",
    "y_pred = torch.randint(0,2,(num_samples,5), dtype=float, requires_grad=True, device=DEVICE)\n",
    "y_true = torch.randint(0,2,(num_samples,5), dtype=float, requires_grad=True, device=DEVICE)\n",
    "print(\"Simulated Predicted vectors: \", y_pred)\n",
    "print(\"Simulated Ground Truth vectors: \", y_true)\n",
    "print(\"Using device: \", y_pred.get_device())"
   ]
  },
  {
   "cell_type": "markdown",
   "source": [
    "### Graph building\n",
    "Now let us create graphs from `y_true` and `y_pred`"
   ],
   "metadata": {
    "collapsed": false
   }
  },
  {
   "cell_type": "code",
   "execution_count": 37,
   "outputs": [
    {
     "name": "stdout",
     "output_type": "stream",
     "text": [
      "tensor([[0., 0., 0., 0., 0.],\n",
      "        [1., 0., 1., 1., 0.],\n",
      "        [0., 0., 0., 0., 0.],\n",
      "        [0., 0., 0., 0., 0.],\n",
      "        [1., 0., 1., 1., 0.]], dtype=torch.float64, grad_fn=<MmBackward0>)\n"
     ]
    },
    {
     "data": {
      "text/plain": "tensor([[0., 1., 1., 0., 1.],\n        [0., 0., 0., 0., 0.],\n        [0., 0., 0., 0., 0.],\n        [0., 1., 1., 0., 1.],\n        [0., 0., 0., 0., 0.]], dtype=torch.float64, grad_fn=<FlipBackward0>)"
     },
     "execution_count": 37,
     "metadata": {},
     "output_type": "execute_result"
    }
   ],
   "source": [
    "# x = torch.tensor([1,0,1,1,0], dtype=float, requires_grad=True)\n",
    "# y = 1 - x\n",
    "# z = torch.matmul(torch.reshape(y, (-1, 1)), torch.reshape(x, (1, -1)))  # y_trans (5, 1) * x (1, 5) = z (5, 5)\n",
    "# print(z)\n",
    "# p = torch.flip(z, (0, ))\n",
    "# p"
   ],
   "metadata": {
    "collapsed": false,
    "ExecuteTime": {
     "end_time": "2023-05-26T14:22:37.436623500Z",
     "start_time": "2023-05-26T14:22:37.425621600Z"
    }
   }
  },
  {
   "cell_type": "code",
   "execution_count": 39,
   "outputs": [
    {
     "name": "stdout",
     "output_type": "stream",
     "text": [
      "tensor([[0., 1., 0., 0., 1.],\n",
      "        [0., 0., 0., 0., 0.],\n",
      "        [0., 1., 0., 0., 1.],\n",
      "        [0., 1., 0., 0., 1.],\n",
      "        [0., 0., 0., 0., 0.]], dtype=torch.float64, grad_fn=<MmBackward0>)\n"
     ]
    },
    {
     "data": {
      "text/plain": "tensor([[0., 0., 0., 0., 0.],\n        [1., 0., 0., 1., 0.],\n        [1., 0., 0., 1., 0.],\n        [0., 0., 0., 0., 0.],\n        [1., 0., 0., 1., 0.]], dtype=torch.float64, grad_fn=<FlipBackward0>)"
     },
     "execution_count": 39,
     "metadata": {},
     "output_type": "execute_result"
    }
   ],
   "source": [
    "# x = torch.tensor([1,0,1,1,0], dtype=float, requires_grad=True)\n",
    "# y = 1 - x\n",
    "# z = torch.matmul(torch.reshape(x, (-1, 1)), torch.reshape(y, (1, -1)))  # x (5, 1) * y_trans (1, 5) = z (5, 5)\n",
    "# print(z)\n",
    "# p = torch.flip(z, (0, 1))\n",
    "# p"
   ],
   "metadata": {
    "collapsed": false,
    "ExecuteTime": {
     "end_time": "2023-05-26T14:26:17.001926500Z",
     "start_time": "2023-05-26T14:26:16.991922300Z"
    }
   }
  },
  {
   "cell_type": "code",
   "execution_count": 4,
   "outputs": [],
   "source": [
    "def build_graph(x: torch.Tensor) -> torch.Tensor:\n",
    "    y = 1 - x\n",
    "    x_list = list(x.detach().cpu().numpy())\n",
    "    for idx, mutation_vector in enumerate(x_list):\n",
    "        if mutation_vector[0] == 0:\n",
    "            mat = torch.select(y, 0, idx)\n",
    "        else:\n",
    "            mat = torch.select(x, 0, idx)\n",
    "        for mutation_value in mutation_vector[1:]:\n",
    "            if mutation_value == 0:\n",
    "                mat = torch.row_stack((mat, torch.select(y, 0, idx)))\n",
    "            else:\n",
    "                mat = torch.row_stack((mat, torch.select(x, 0, idx)))\n",
    "        if idx == 0:\n",
    "            super_mat = mat\n",
    "        else:\n",
    "            super_mat = torch.row_stack((super_mat, mat))\n",
    "    return torch.reshape(super_mat, (10,5,5,))\n",
    "\n",
    "graph_pred = build_graph(y_pred)\n",
    "graph_true = build_graph(y_true)"
   ],
   "metadata": {
    "collapsed": false,
    "ExecuteTime": {
     "end_time": "2023-05-29T07:43:29.294577100Z",
     "start_time": "2023-05-29T07:43:29.270571100Z"
    }
   }
  },
  {
   "cell_type": "markdown",
   "source": [
    "## Graph Similarity calculation based on Eigen values\n",
    "### Calculate the Laplacians of $G_{pred}$ and $G_{true}$"
   ],
   "metadata": {
    "collapsed": false
   }
  },
  {
   "cell_type": "code",
   "execution_count": 5,
   "outputs": [],
   "source": [
    "def calculate_laplacian(adjacency_matrix: torch.Tensor) -> torch.Tensor:\n",
    "    # Calculate the degree matrix\n",
    "    degree_matrix = torch.diag(torch.sum(adjacency_matrix, dim=1)-1)\n",
    "\n",
    "    # Calculate the Laplacian matrix\n",
    "    laplacian_matrix = degree_matrix - adjacency_matrix\n",
    "\n",
    "    return laplacian_matrix\n",
    "\n",
    "lap_pred = calculate_laplacian(graph_pred)\n",
    "lap_true = calculate_laplacian(graph_true)"
   ],
   "metadata": {
    "collapsed": false,
    "ExecuteTime": {
     "end_time": "2023-05-29T07:43:32.288286400Z",
     "start_time": "2023-05-29T07:43:32.277284400Z"
    }
   }
  },
  {
   "cell_type": "markdown",
   "source": [
    "### Calculate the eigen values using `torch.linalg.eigvals()` for each laplacian"
   ],
   "metadata": {
    "collapsed": false
   }
  },
  {
   "cell_type": "code",
   "execution_count": 6,
   "outputs": [
    {
     "name": "stdout",
     "output_type": "stream",
     "text": [
      "Eigen Loss: tensor(37.0705, device='cuda:0', dtype=torch.float64,\n",
      "       grad_fn=<LinalgVectorNormBackward0>)\n"
     ]
    }
   ],
   "source": [
    "def select_best_eigen_values(eigen_values: torch.Tensor, threshold: float) -> int:\n",
    "    total_eig_sum = torch.sum(eigen_values, dim=1)    # Sum the eigen values of each data\n",
    "    num_values = eigen_values.shape[1]\n",
    "    for k in range(1, num_values+1):  # looping in range 1 to number of eigen values for each data\n",
    "        column_eig_vals = eigen_values[:, 0:k]    # selecting the first k values from each eigen value\n",
    "        temp_eig_sum = torch.sum(column_eig_vals, dim=1)\n",
    "        energy = torch.abs(torch.mean(temp_eig_sum/total_eig_sum)).item()\n",
    "        if energy > threshold:\n",
    "            return k\n",
    "    return k\n",
    "\n",
    "def eigen_value_similarity(l_pred: torch.Tensor, l_true:torch.Tensor) -> torch.Tensor:\n",
    "    pred_eigvals = torch.linalg.eigvals(l_pred)\n",
    "    true_eigvals = torch.linalg.eigvals(l_true)\n",
    "    # print(\"Predicted Eigen values:\", pred_eigvals)\n",
    "    # print(\"Actual Eigen values:\", true_eigvals)\n",
    "    k_pred = select_best_eigen_values(pred_eigvals, 0.85)\n",
    "    k_true = select_best_eigen_values(true_eigvals, 0.85)\n",
    "    min_k = min(k_true, k_pred)\n",
    "    distance = torch.norm(pred_eigvals[:, 0:min_k] - true_eigvals[0:min_k])\n",
    "    return distance\n",
    "eigen_loss = eigen_value_similarity(lap_pred, lap_true)\n",
    "print(\"Eigen Loss:\", eigen_loss)"
   ],
   "metadata": {
    "collapsed": false,
    "ExecuteTime": {
     "end_time": "2023-05-29T07:43:37.861561800Z",
     "start_time": "2023-05-29T07:43:37.335442900Z"
    }
   }
  },
  {
   "cell_type": "code",
   "execution_count": 7,
   "outputs": [
    {
     "name": "stdout",
     "output_type": "stream",
     "text": [
      "None\n",
      "tensor([[ 6.3831,  0.0474,  0.0418,  0.0418,  0.0418],\n",
      "        [ 0.0981, 19.5768,  0.0981,  0.0981, -0.4456],\n",
      "        [-0.0474, -0.0474, -5.9982, -0.0418, -0.0418],\n",
      "        [ 0.3377,  0.2969,  0.2969, -5.5309,  0.2969],\n",
      "        [-0.1263, -0.1263, -0.1434, -0.1263,  6.0187],\n",
      "        [ 0.0418,  0.0474,  0.0418,  0.0418,  0.0474],\n",
      "        [-0.2078, -0.2349, -0.2349, -0.2078, -0.2078],\n",
      "        [-0.0418, -0.0474, -0.0418, -0.0418, -0.0474],\n",
      "        [ 0.0364,  0.0535,  0.0364,  0.0364,  0.0364],\n",
      "        [ 0.5255,  0.3409,  0.3409,  0.3409,  0.3409]], device='cuda:0',\n",
      "       dtype=torch.float64)\n"
     ]
    }
   ],
   "source": [
    "print(y_pred.grad)\n",
    "eigen_loss.backward()\n",
    "print(y_pred.grad)"
   ],
   "metadata": {
    "collapsed": false,
    "ExecuteTime": {
     "end_time": "2023-05-29T07:43:49.228580500Z",
     "start_time": "2023-05-29T07:43:46.588983800Z"
    }
   }
  },
  {
   "cell_type": "code",
   "execution_count": null,
   "outputs": [],
   "source": [],
   "metadata": {
    "collapsed": false
   }
  }
 ],
 "metadata": {
  "kernelspec": {
   "display_name": "Python 3",
   "language": "python",
   "name": "python3"
  },
  "language_info": {
   "codemirror_mode": {
    "name": "ipython",
    "version": 2
   },
   "file_extension": ".py",
   "mimetype": "text/x-python",
   "name": "python",
   "nbconvert_exporter": "python",
   "pygments_lexer": "ipython2",
   "version": "2.7.6"
  }
 },
 "nbformat": 4,
 "nbformat_minor": 0
}
