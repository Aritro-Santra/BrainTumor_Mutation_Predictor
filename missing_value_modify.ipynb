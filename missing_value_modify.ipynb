{
 "cells": [
  {
   "cell_type": "code",
   "execution_count": 2,
   "metadata": {
    "collapsed": true,
    "ExecuteTime": {
     "end_time": "2023-05-23T11:32:59.595117966Z",
     "start_time": "2023-05-23T11:32:59.252265042Z"
    }
   },
   "outputs": [],
   "source": [
    "import numpy as np\n",
    "import pandas as pd\n",
    "import os\n",
    "from tqdm import tqdm"
   ]
  },
  {
   "cell_type": "code",
   "execution_count": 5,
   "outputs": [],
   "source": [
    "mutation_data_path = 'mutation_data.csv'\n",
    "df = pd.read_csv(mutation_data_path)\n",
    "df.drop(df.columns[df.columns.str.contains('unnamed',case = False)],axis = 1, inplace = True)"
   ],
   "metadata": {
    "collapsed": false,
    "ExecuteTime": {
     "end_time": "2023-05-23T11:35:57.321145630Z",
     "start_time": "2023-05-23T11:35:57.271662670Z"
    }
   }
  },
  {
   "cell_type": "code",
   "execution_count": 6,
   "outputs": [
    {
     "data": {
      "text/plain": "                      Patient ID                                 image_path  \\\n0       0_0_TCGA-02-0006_BS1_001    data_small/0_0_TCGA-02-0006_BS1_001.jpg   \n1       0_0_TCGA-02-0007_BS1_001    data_small/0_0_TCGA-02-0007_BS1_001.jpg   \n2       0_0_TCGA-02-0010_BS1_001    data_small/0_0_TCGA-02-0010_BS1_001.jpg   \n3     0_0_TCGA-02-0010_BS1_001_3  data_small/0_0_TCGA-02-0010_BS1_001_3.jpg   \n4       0_0_TCGA-02-0016_BS1_001    data_small/0_0_TCGA-02-0016_BS1_001.jpg   \n...                          ...                                        ...   \n6055  7_2_TCGA-HT-7603_BS1_001_3  data_small/7_2_TCGA-HT-7603_BS1_001_3.jpg   \n6056  7_2_TCGA-HT-7605_BS1_001_3  data_small/7_2_TCGA-HT-7605_BS1_001_3.jpg   \n6057  7_2_TCGA-HT-7616_BS1_001_3  data_small/7_2_TCGA-HT-7616_BS1_001_3.jpg   \n6058  7_2_TCGA-HT-7677_BS1_001_3  data_small/7_2_TCGA-HT-7677_BS1_001_3.jpg   \n6059  7_3_TCGA-EZ-7264_BS1_001_3  data_small/7_3_TCGA-EZ-7264_BS1_001_3.jpg   \n\n      IDH status  IDH-1P10Q Subtype  ATRX status  MGMT promoter status  \\\n0            0.0                  0          NaN                   0.0   \n1            0.0                  0          NaN                   0.0   \n2            1.0                  0          NaN                   0.0   \n3            1.0                  0          NaN                   0.0   \n4            0.0                  0          NaN                   NaN   \n...          ...                ...          ...                   ...   \n6055         1.0                  0          1.0                   1.0   \n6056         1.0                  1          0.0                   1.0   \n6057         1.0                  1          0.0                   1.0   \n6058         1.0                  1          0.0                   1.0   \n6059         1.0                  1          0.0                   1.0   \n\n      TERT expression status Cancer Type Detailed  \n0                          0                    G  \n1                          0                    G  \n2                          0                    G  \n3                          0                    G  \n4                          0                    G  \n...                      ...                  ...  \n6055                       0                    O  \n6056                       0                    O  \n6057                       0                    O  \n6058                       1                    O  \n6059                       1                    O  \n\n[6060 rows x 8 columns]",
      "text/html": "<div>\n<style scoped>\n    .dataframe tbody tr th:only-of-type {\n        vertical-align: middle;\n    }\n\n    .dataframe tbody tr th {\n        vertical-align: top;\n    }\n\n    .dataframe thead th {\n        text-align: right;\n    }\n</style>\n<table border=\"1\" class=\"dataframe\">\n  <thead>\n    <tr style=\"text-align: right;\">\n      <th></th>\n      <th>Patient ID</th>\n      <th>image_path</th>\n      <th>IDH status</th>\n      <th>IDH-1P10Q Subtype</th>\n      <th>ATRX status</th>\n      <th>MGMT promoter status</th>\n      <th>TERT expression status</th>\n      <th>Cancer Type Detailed</th>\n    </tr>\n  </thead>\n  <tbody>\n    <tr>\n      <th>0</th>\n      <td>0_0_TCGA-02-0006_BS1_001</td>\n      <td>data_small/0_0_TCGA-02-0006_BS1_001.jpg</td>\n      <td>0.0</td>\n      <td>0</td>\n      <td>NaN</td>\n      <td>0.0</td>\n      <td>0</td>\n      <td>G</td>\n    </tr>\n    <tr>\n      <th>1</th>\n      <td>0_0_TCGA-02-0007_BS1_001</td>\n      <td>data_small/0_0_TCGA-02-0007_BS1_001.jpg</td>\n      <td>0.0</td>\n      <td>0</td>\n      <td>NaN</td>\n      <td>0.0</td>\n      <td>0</td>\n      <td>G</td>\n    </tr>\n    <tr>\n      <th>2</th>\n      <td>0_0_TCGA-02-0010_BS1_001</td>\n      <td>data_small/0_0_TCGA-02-0010_BS1_001.jpg</td>\n      <td>1.0</td>\n      <td>0</td>\n      <td>NaN</td>\n      <td>0.0</td>\n      <td>0</td>\n      <td>G</td>\n    </tr>\n    <tr>\n      <th>3</th>\n      <td>0_0_TCGA-02-0010_BS1_001_3</td>\n      <td>data_small/0_0_TCGA-02-0010_BS1_001_3.jpg</td>\n      <td>1.0</td>\n      <td>0</td>\n      <td>NaN</td>\n      <td>0.0</td>\n      <td>0</td>\n      <td>G</td>\n    </tr>\n    <tr>\n      <th>4</th>\n      <td>0_0_TCGA-02-0016_BS1_001</td>\n      <td>data_small/0_0_TCGA-02-0016_BS1_001.jpg</td>\n      <td>0.0</td>\n      <td>0</td>\n      <td>NaN</td>\n      <td>NaN</td>\n      <td>0</td>\n      <td>G</td>\n    </tr>\n    <tr>\n      <th>...</th>\n      <td>...</td>\n      <td>...</td>\n      <td>...</td>\n      <td>...</td>\n      <td>...</td>\n      <td>...</td>\n      <td>...</td>\n      <td>...</td>\n    </tr>\n    <tr>\n      <th>6055</th>\n      <td>7_2_TCGA-HT-7603_BS1_001_3</td>\n      <td>data_small/7_2_TCGA-HT-7603_BS1_001_3.jpg</td>\n      <td>1.0</td>\n      <td>0</td>\n      <td>1.0</td>\n      <td>1.0</td>\n      <td>0</td>\n      <td>O</td>\n    </tr>\n    <tr>\n      <th>6056</th>\n      <td>7_2_TCGA-HT-7605_BS1_001_3</td>\n      <td>data_small/7_2_TCGA-HT-7605_BS1_001_3.jpg</td>\n      <td>1.0</td>\n      <td>1</td>\n      <td>0.0</td>\n      <td>1.0</td>\n      <td>0</td>\n      <td>O</td>\n    </tr>\n    <tr>\n      <th>6057</th>\n      <td>7_2_TCGA-HT-7616_BS1_001_3</td>\n      <td>data_small/7_2_TCGA-HT-7616_BS1_001_3.jpg</td>\n      <td>1.0</td>\n      <td>1</td>\n      <td>0.0</td>\n      <td>1.0</td>\n      <td>0</td>\n      <td>O</td>\n    </tr>\n    <tr>\n      <th>6058</th>\n      <td>7_2_TCGA-HT-7677_BS1_001_3</td>\n      <td>data_small/7_2_TCGA-HT-7677_BS1_001_3.jpg</td>\n      <td>1.0</td>\n      <td>1</td>\n      <td>0.0</td>\n      <td>1.0</td>\n      <td>1</td>\n      <td>O</td>\n    </tr>\n    <tr>\n      <th>6059</th>\n      <td>7_3_TCGA-EZ-7264_BS1_001_3</td>\n      <td>data_small/7_3_TCGA-EZ-7264_BS1_001_3.jpg</td>\n      <td>1.0</td>\n      <td>1</td>\n      <td>0.0</td>\n      <td>1.0</td>\n      <td>1</td>\n      <td>O</td>\n    </tr>\n  </tbody>\n</table>\n<p>6060 rows × 8 columns</p>\n</div>"
     },
     "execution_count": 6,
     "metadata": {},
     "output_type": "execute_result"
    }
   ],
   "source": [
    "df"
   ],
   "metadata": {
    "collapsed": false,
    "ExecuteTime": {
     "end_time": "2023-05-23T11:36:03.577396240Z",
     "start_time": "2023-05-23T11:36:03.566283051Z"
    }
   }
  },
  {
   "cell_type": "code",
   "execution_count": 10,
   "outputs": [],
   "source": [
    "# lazy grouping\n",
    "groups = df.groupby('Cancer Type Detailed')\n",
    "group_g = groups.get_group('G')\n",
    "group_a = groups.get_group('A')\n",
    "group_o = groups.get_group('O')"
   ],
   "metadata": {
    "collapsed": false,
    "ExecuteTime": {
     "end_time": "2023-05-23T11:39:13.824985546Z",
     "start_time": "2023-05-23T11:39:13.781894371Z"
    }
   }
  },
  {
   "cell_type": "code",
   "execution_count": 11,
   "outputs": [
    {
     "name": "stdout",
     "output_type": "stream",
     "text": [
      "Number of Glioblastoma (G) samples:  1824\n",
      "Number of Astrocytoma (A) samples:  1980\n",
      "Number of Oligodendroglioma (O) samples:  2256\n"
     ]
    }
   ],
   "source": [
    "print(\"Number of Glioblastoma (G) samples: \", len(group_g))\n",
    "print(\"Number of Astrocytoma (A) samples: \", len(group_a))\n",
    "print(\"Number of Oligodendroglioma (O) samples: \", len(group_o))"
   ],
   "metadata": {
    "collapsed": false,
    "ExecuteTime": {
     "end_time": "2023-05-23T11:44:27.827309163Z",
     "start_time": "2023-05-23T11:44:27.785627716Z"
    }
   }
  },
  {
   "cell_type": "code",
   "execution_count": null,
   "outputs": [],
   "source": [],
   "metadata": {
    "collapsed": false
   }
  }
 ],
 "metadata": {
  "kernelspec": {
   "display_name": "Python 3",
   "language": "python",
   "name": "python3"
  },
  "language_info": {
   "codemirror_mode": {
    "name": "ipython",
    "version": 2
   },
   "file_extension": ".py",
   "mimetype": "text/x-python",
   "name": "python",
   "nbconvert_exporter": "python",
   "pygments_lexer": "ipython2",
   "version": "2.7.6"
  }
 },
 "nbformat": 4,
 "nbformat_minor": 0
}
