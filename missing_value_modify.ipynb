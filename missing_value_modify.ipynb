{
 "cells": [
  {
   "cell_type": "code",
   "execution_count": 1,
   "metadata": {
    "collapsed": true,
    "ExecuteTime": {
     "end_time": "2023-05-29T12:12:27.826032313Z",
     "start_time": "2023-05-29T12:12:27.232469993Z"
    }
   },
   "outputs": [],
   "source": [
    "import numpy as np\n",
    "import pandas as pd\n",
    "import os\n",
    "from tqdm import tqdm"
   ]
  },
  {
   "cell_type": "code",
   "execution_count": 2,
   "outputs": [],
   "source": [
    "mutation_data_path = 'mutation_data_big.csv'\n",
    "df = pd.read_csv(mutation_data_path)\n",
    "df.drop(df.columns[df.columns.str.contains('unnamed',case = False)],axis = 1, inplace = True)"
   ],
   "metadata": {
    "collapsed": false,
    "ExecuteTime": {
     "end_time": "2023-05-29T12:12:28.114882830Z",
     "start_time": "2023-05-29T12:12:27.944032867Z"
    }
   }
  },
  {
   "cell_type": "code",
   "execution_count": null,
   "outputs": [],
   "source": [
    "df"
   ],
   "metadata": {
    "collapsed": false
   }
  },
  {
   "cell_type": "code",
   "execution_count": 3,
   "outputs": [],
   "source": [
    "# lazy grouping\n",
    "groups = df.groupby('Cancer Type Detailed')\n",
    "group_g = groups.get_group('G')\n",
    "group_a = groups.get_group('A')\n",
    "group_o = groups.get_group('O')"
   ],
   "metadata": {
    "collapsed": false,
    "ExecuteTime": {
     "end_time": "2023-05-29T12:12:30.245210770Z",
     "start_time": "2023-05-29T12:12:30.218309330Z"
    }
   }
  },
  {
   "cell_type": "code",
   "execution_count": 4,
   "outputs": [
    {
     "name": "stdout",
     "output_type": "stream",
     "text": [
      "Number of Glioblastoma (G) samples:  18973\n",
      "Number of Astrocytoma (A) samples:  21159\n",
      "Number of Oligodendroglioma (O) samples:  24968\n"
     ]
    }
   ],
   "source": [
    "print(\"Number of Glioblastoma (G) samples: \", len(group_g))\n",
    "print(\"Number of Astrocytoma (A) samples: \", len(group_a))\n",
    "print(\"Number of Oligodendroglioma (O) samples: \", len(group_o))"
   ],
   "metadata": {
    "collapsed": false,
    "ExecuteTime": {
     "end_time": "2023-05-29T12:12:30.829208098Z",
     "start_time": "2023-05-29T12:12:30.814657946Z"
    }
   }
  },
  {
   "cell_type": "markdown",
   "source": [
    "Find the most common value for each mutation for each group"
   ],
   "metadata": {
    "collapsed": false
   }
  },
  {
   "cell_type": "code",
   "execution_count": 5,
   "outputs": [
    {
     "name": "stdout",
     "output_type": "stream",
     "text": [
      "Mutation:  IDH status\n",
      "Values: [ 0.  1. nan]\tCounts: [10644  3755  4574]\n",
      "Mutation:  IDH-1P10Q Subtype\n",
      "Values: [0 1]\tCounts: [18334   639]\n",
      "Mutation:  ATRX status\n",
      "Values: [ 0.  1. nan]\tCounts: [ 3652  3358 11963]\n",
      "Mutation:  MGMT promoter status\n",
      "Values: [ 0.  1. nan]\tCounts: [4544 7015 7414]\n",
      "Mutation:  TERT expression status\n",
      "Values: [0 1]\tCounts: [17847  1126]\n"
     ]
    },
    {
     "data": {
      "text/plain": "{'IDH status': 0.0,\n 'IDH-1P10Q Subtype': 0,\n 'ATRX status': nan,\n 'MGMT promoter status': nan,\n 'TERT expression status': 0}"
     },
     "execution_count": 5,
     "metadata": {},
     "output_type": "execute_result"
    }
   ],
   "source": [
    "group_g_mutations = dict()\n",
    "columns = group_g.columns\n",
    "mutation_names = columns[2:-1]\n",
    "for mutation in mutation_names:\n",
    "    vals, counts = np.unique(group_g[mutation].values, return_counts=True)\n",
    "    print(\"Mutation: \", mutation)\n",
    "    print(f\"Values: {vals}\\tCounts: {counts}\")\n",
    "    most_common = np.argmax(counts)\n",
    "    most_common_val = vals[most_common]\n",
    "    group_g_mutations[mutation] = most_common_val\n",
    "group_g_mutations"
   ],
   "metadata": {
    "collapsed": false,
    "ExecuteTime": {
     "end_time": "2023-05-29T12:12:33.965841665Z",
     "start_time": "2023-05-29T12:12:33.952296200Z"
    }
   }
  },
  {
   "cell_type": "code",
   "execution_count": 6,
   "outputs": [
    {
     "name": "stdout",
     "output_type": "stream",
     "text": [
      "Mutation:  IDH status\n",
      "Values: [ 0.  1. nan]\tCounts: [ 5878 14815   466]\n",
      "Mutation:  IDH-1P10Q Subtype\n",
      "Values: [0 1]\tCounts: [19584  1575]\n",
      "Mutation:  ATRX status\n",
      "Values: [ 0.  1. nan]\tCounts: [ 8827 11866   466]\n",
      "Mutation:  MGMT promoter status\n",
      "Values: [0. 1.]\tCounts: [ 7222 13937]\n",
      "Mutation:  TERT expression status\n",
      "Values: [0 1]\tCounts: [18037  3122]\n"
     ]
    },
    {
     "data": {
      "text/plain": "{'IDH status': 1.0,\n 'IDH-1P10Q Subtype': 0,\n 'ATRX status': 1.0,\n 'MGMT promoter status': 1.0,\n 'TERT expression status': 0}"
     },
     "execution_count": 6,
     "metadata": {},
     "output_type": "execute_result"
    }
   ],
   "source": [
    "group_a_mutations = dict()\n",
    "columns = group_a.columns\n",
    "mutation_names = columns[2:-1]\n",
    "for mutation in mutation_names:\n",
    "    vals, counts = np.unique(group_a[mutation].values, return_counts=True)\n",
    "    print(\"Mutation: \", mutation)\n",
    "    print(f\"Values: {vals}\\tCounts: {counts}\")\n",
    "    most_common = np.argmax(counts)\n",
    "    most_common_val = vals[most_common]\n",
    "    group_a_mutations[mutation] = most_common_val\n",
    "group_a_mutations"
   ],
   "metadata": {
    "collapsed": false,
    "ExecuteTime": {
     "end_time": "2023-05-29T12:12:34.630482220Z",
     "start_time": "2023-05-29T12:12:34.603607870Z"
    }
   }
  },
  {
   "cell_type": "code",
   "execution_count": 7,
   "outputs": [
    {
     "name": "stdout",
     "output_type": "stream",
     "text": [
      "Mutation:  IDH status\n",
      "Values: [0. 1.]\tCounts: [ 1547 23421]\n",
      "Mutation:  IDH-1P10Q Subtype\n",
      "Values: [0 1]\tCounts: [ 4979 19989]\n",
      "Mutation:  ATRX status\n",
      "Values: [0. 1.]\tCounts: [20318  4650]\n",
      "Mutation:  MGMT promoter status\n",
      "Values: [0. 1.]\tCounts: [  138 24830]\n",
      "Mutation:  TERT expression status\n",
      "Values: [0 1]\tCounts: [ 8129 16839]\n"
     ]
    },
    {
     "data": {
      "text/plain": "{'IDH status': 1.0,\n 'IDH-1P10Q Subtype': 1,\n 'ATRX status': 0.0,\n 'MGMT promoter status': 1.0,\n 'TERT expression status': 1}"
     },
     "execution_count": 7,
     "metadata": {},
     "output_type": "execute_result"
    }
   ],
   "source": [
    "group_o_mutations = dict()\n",
    "columns = group_o.columns\n",
    "mutation_names = columns[2:-1]\n",
    "for mutation in mutation_names:\n",
    "    vals, counts = np.unique(group_o[mutation].values, return_counts=True)\n",
    "    print(\"Mutation: \", mutation)\n",
    "    print(f\"Values: {vals}\\tCounts: {counts}\")\n",
    "    most_common = np.argmax(counts)\n",
    "    most_common_val = vals[most_common]\n",
    "    group_o_mutations[mutation] = most_common_val\n",
    "group_o_mutations"
   ],
   "metadata": {
    "collapsed": false,
    "ExecuteTime": {
     "end_time": "2023-05-29T12:12:35.608857536Z",
     "start_time": "2023-05-29T12:12:35.593332883Z"
    }
   }
  },
  {
   "cell_type": "markdown",
   "source": [
    "We need to add the ATRX mutation status to 1 (mutated/lost) for NaN values in the ATRX column of all samples that have Glioblastoma (GBM)\n",
    "Reference: [CNS 2021 WHO guidelines](https://www.ncbi.nlm.nih.gov/pmc/articles/PMC8328013/)"
   ],
   "metadata": {
    "collapsed": false
   }
  },
  {
   "cell_type": "code",
   "execution_count": 8,
   "outputs": [
    {
     "name": "stderr",
     "output_type": "stream",
     "text": [
      "/tmp/ipykernel_26172/4188225431.py:2: SettingWithCopyWarning: \n",
      "A value is trying to be set on a copy of a slice from a DataFrame.\n",
      "Try using .loc[row_indexer,col_indexer] = value instead\n",
      "\n",
      "See the caveats in the documentation: https://pandas.pydata.org/pandas-docs/stable/user_guide/indexing.html#returning-a-view-versus-a-copy\n",
      "  group_g['ATRX status'] = group_g['ATRX status'].fillna(1)\n"
     ]
    }
   ],
   "source": [
    "# Fill missing ATRX value of group G\n",
    "group_g['ATRX status'] = group_g['ATRX status'].fillna(1)"
   ],
   "metadata": {
    "collapsed": false,
    "ExecuteTime": {
     "end_time": "2023-05-29T12:56:57.049131214Z",
     "start_time": "2023-05-29T12:56:57.001623669Z"
    }
   }
  },
  {
   "cell_type": "markdown",
   "source": [
    "For the MGMT status in Glioblastoma group, we need to replace NaN values with 1 values as most GBMs have MGMT status 1 (methylated)"
   ],
   "metadata": {
    "collapsed": false
   }
  },
  {
   "cell_type": "code",
   "execution_count": 9,
   "outputs": [
    {
     "name": "stderr",
     "output_type": "stream",
     "text": [
      "/tmp/ipykernel_26172/165947851.py:2: SettingWithCopyWarning: \n",
      "A value is trying to be set on a copy of a slice from a DataFrame.\n",
      "Try using .loc[row_indexer,col_indexer] = value instead\n",
      "\n",
      "See the caveats in the documentation: https://pandas.pydata.org/pandas-docs/stable/user_guide/indexing.html#returning-a-view-versus-a-copy\n",
      "  group_g['MGMT promoter status'] = group_g['MGMT promoter status'].fillna(1)\n"
     ]
    },
    {
     "data": {
      "text/plain": "                       Patient ID                               image_path  \\\n0        0_0_TCGA-02-0006_BS1_001    data_all/0_0_TCGA-02-0006_BS1_001.jpg   \n1        0_0_TCGA-02-0007_BS1_001    data_all/0_0_TCGA-02-0007_BS1_001.jpg   \n2        0_0_TCGA-02-0010_BS1_001    data_all/0_0_TCGA-02-0010_BS1_001.jpg   \n3      0_0_TCGA-02-0010_BS1_001_3  data_all/0_0_TCGA-02-0010_BS1_001_3.jpg   \n4        0_0_TCGA-02-0016_BS1_001    data_all/0_0_TCGA-02-0016_BS1_001.jpg   \n...                           ...                                      ...   \n64736  51_23_TCGA-06-6701_BS1_001  data_all/51_23_TCGA-06-6701_BS1_001.jpg   \n64756  51_24_TCGA-06-6701_BS1_001  data_all/51_24_TCGA-06-6701_BS1_001.jpg   \n64776  51_25_TCGA-06-6701_BS1_001  data_all/51_25_TCGA-06-6701_BS1_001.jpg   \n64795  51_26_TCGA-06-6701_BS1_001  data_all/51_26_TCGA-06-6701_BS1_001.jpg   \n64814  51_27_TCGA-06-6701_BS1_001  data_all/51_27_TCGA-06-6701_BS1_001.jpg   \n\n       IDH status  IDH-1P10Q Subtype  ATRX status  MGMT promoter status  \\\n0             0.0                  0          1.0                   0.0   \n1             0.0                  0          1.0                   0.0   \n2             1.0                  0          1.0                   0.0   \n3             1.0                  0          1.0                   0.0   \n4             0.0                  0          1.0                   1.0   \n...           ...                ...          ...                   ...   \n64736         1.0                  0          1.0                   1.0   \n64756         1.0                  0          1.0                   1.0   \n64776         1.0                  0          1.0                   1.0   \n64795         1.0                  0          1.0                   1.0   \n64814         1.0                  0          1.0                   1.0   \n\n       TERT expression status Cancer Type Detailed  \n0                           0                    G  \n1                           0                    G  \n2                           0                    G  \n3                           0                    G  \n4                           0                    G  \n...                       ...                  ...  \n64736                       0                    G  \n64756                       0                    G  \n64776                       0                    G  \n64795                       0                    G  \n64814                       0                    G  \n\n[18973 rows x 8 columns]",
      "text/html": "<div>\n<style scoped>\n    .dataframe tbody tr th:only-of-type {\n        vertical-align: middle;\n    }\n\n    .dataframe tbody tr th {\n        vertical-align: top;\n    }\n\n    .dataframe thead th {\n        text-align: right;\n    }\n</style>\n<table border=\"1\" class=\"dataframe\">\n  <thead>\n    <tr style=\"text-align: right;\">\n      <th></th>\n      <th>Patient ID</th>\n      <th>image_path</th>\n      <th>IDH status</th>\n      <th>IDH-1P10Q Subtype</th>\n      <th>ATRX status</th>\n      <th>MGMT promoter status</th>\n      <th>TERT expression status</th>\n      <th>Cancer Type Detailed</th>\n    </tr>\n  </thead>\n  <tbody>\n    <tr>\n      <th>0</th>\n      <td>0_0_TCGA-02-0006_BS1_001</td>\n      <td>data_all/0_0_TCGA-02-0006_BS1_001.jpg</td>\n      <td>0.0</td>\n      <td>0</td>\n      <td>1.0</td>\n      <td>0.0</td>\n      <td>0</td>\n      <td>G</td>\n    </tr>\n    <tr>\n      <th>1</th>\n      <td>0_0_TCGA-02-0007_BS1_001</td>\n      <td>data_all/0_0_TCGA-02-0007_BS1_001.jpg</td>\n      <td>0.0</td>\n      <td>0</td>\n      <td>1.0</td>\n      <td>0.0</td>\n      <td>0</td>\n      <td>G</td>\n    </tr>\n    <tr>\n      <th>2</th>\n      <td>0_0_TCGA-02-0010_BS1_001</td>\n      <td>data_all/0_0_TCGA-02-0010_BS1_001.jpg</td>\n      <td>1.0</td>\n      <td>0</td>\n      <td>1.0</td>\n      <td>0.0</td>\n      <td>0</td>\n      <td>G</td>\n    </tr>\n    <tr>\n      <th>3</th>\n      <td>0_0_TCGA-02-0010_BS1_001_3</td>\n      <td>data_all/0_0_TCGA-02-0010_BS1_001_3.jpg</td>\n      <td>1.0</td>\n      <td>0</td>\n      <td>1.0</td>\n      <td>0.0</td>\n      <td>0</td>\n      <td>G</td>\n    </tr>\n    <tr>\n      <th>4</th>\n      <td>0_0_TCGA-02-0016_BS1_001</td>\n      <td>data_all/0_0_TCGA-02-0016_BS1_001.jpg</td>\n      <td>0.0</td>\n      <td>0</td>\n      <td>1.0</td>\n      <td>1.0</td>\n      <td>0</td>\n      <td>G</td>\n    </tr>\n    <tr>\n      <th>...</th>\n      <td>...</td>\n      <td>...</td>\n      <td>...</td>\n      <td>...</td>\n      <td>...</td>\n      <td>...</td>\n      <td>...</td>\n      <td>...</td>\n    </tr>\n    <tr>\n      <th>64736</th>\n      <td>51_23_TCGA-06-6701_BS1_001</td>\n      <td>data_all/51_23_TCGA-06-6701_BS1_001.jpg</td>\n      <td>1.0</td>\n      <td>0</td>\n      <td>1.0</td>\n      <td>1.0</td>\n      <td>0</td>\n      <td>G</td>\n    </tr>\n    <tr>\n      <th>64756</th>\n      <td>51_24_TCGA-06-6701_BS1_001</td>\n      <td>data_all/51_24_TCGA-06-6701_BS1_001.jpg</td>\n      <td>1.0</td>\n      <td>0</td>\n      <td>1.0</td>\n      <td>1.0</td>\n      <td>0</td>\n      <td>G</td>\n    </tr>\n    <tr>\n      <th>64776</th>\n      <td>51_25_TCGA-06-6701_BS1_001</td>\n      <td>data_all/51_25_TCGA-06-6701_BS1_001.jpg</td>\n      <td>1.0</td>\n      <td>0</td>\n      <td>1.0</td>\n      <td>1.0</td>\n      <td>0</td>\n      <td>G</td>\n    </tr>\n    <tr>\n      <th>64795</th>\n      <td>51_26_TCGA-06-6701_BS1_001</td>\n      <td>data_all/51_26_TCGA-06-6701_BS1_001.jpg</td>\n      <td>1.0</td>\n      <td>0</td>\n      <td>1.0</td>\n      <td>1.0</td>\n      <td>0</td>\n      <td>G</td>\n    </tr>\n    <tr>\n      <th>64814</th>\n      <td>51_27_TCGA-06-6701_BS1_001</td>\n      <td>data_all/51_27_TCGA-06-6701_BS1_001.jpg</td>\n      <td>1.0</td>\n      <td>0</td>\n      <td>1.0</td>\n      <td>1.0</td>\n      <td>0</td>\n      <td>G</td>\n    </tr>\n  </tbody>\n</table>\n<p>18973 rows × 8 columns</p>\n</div>"
     },
     "execution_count": 9,
     "metadata": {},
     "output_type": "execute_result"
    }
   ],
   "source": [
    "# Fill missing MGMT value of Group G\n",
    "group_g['MGMT promoter status'] = group_g['MGMT promoter status'].fillna(1)\n",
    "group_g"
   ],
   "metadata": {
    "collapsed": false,
    "ExecuteTime": {
     "end_time": "2023-05-29T12:57:00.826116775Z",
     "start_time": "2023-05-29T12:57:00.782688105Z"
    }
   }
  },
  {
   "cell_type": "markdown",
   "source": [
    "For Group G, the IDH status should be 0 (wildtype). We fill all Nan IDH status for Group G with 0"
   ],
   "metadata": {
    "collapsed": false
   }
  },
  {
   "cell_type": "code",
   "execution_count": 10,
   "outputs": [
    {
     "name": "stderr",
     "output_type": "stream",
     "text": [
      "/tmp/ipykernel_26172/2730042049.py:1: SettingWithCopyWarning: \n",
      "A value is trying to be set on a copy of a slice from a DataFrame.\n",
      "Try using .loc[row_indexer,col_indexer] = value instead\n",
      "\n",
      "See the caveats in the documentation: https://pandas.pydata.org/pandas-docs/stable/user_guide/indexing.html#returning-a-view-versus-a-copy\n",
      "  group_g['IDH status'] = group_g['IDH status'].fillna(0)\n"
     ]
    }
   ],
   "source": [
    "group_g['IDH status'] = group_g['IDH status'].fillna(0)"
   ],
   "metadata": {
    "collapsed": false,
    "ExecuteTime": {
     "end_time": "2023-05-29T12:57:24.736504502Z",
     "start_time": "2023-05-29T12:57:24.703617053Z"
    }
   }
  },
  {
   "cell_type": "markdown",
   "source": [
    "For Group A, there are two mutations having NaN values - IDH status and ATRX. We will missing IDH status with 1 and missing ATRX status with 1 as majority is 1 for both mutations"
   ],
   "metadata": {
    "collapsed": false
   }
  },
  {
   "cell_type": "code",
   "execution_count": 11,
   "outputs": [
    {
     "name": "stderr",
     "output_type": "stream",
     "text": [
      "/tmp/ipykernel_26172/1875117548.py:1: SettingWithCopyWarning: \n",
      "A value is trying to be set on a copy of a slice from a DataFrame.\n",
      "Try using .loc[row_indexer,col_indexer] = value instead\n",
      "\n",
      "See the caveats in the documentation: https://pandas.pydata.org/pandas-docs/stable/user_guide/indexing.html#returning-a-view-versus-a-copy\n",
      "  group_a['IDH status'] = group_a['IDH status'].fillna(1)\n",
      "/tmp/ipykernel_26172/1875117548.py:2: SettingWithCopyWarning: \n",
      "A value is trying to be set on a copy of a slice from a DataFrame.\n",
      "Try using .loc[row_indexer,col_indexer] = value instead\n",
      "\n",
      "See the caveats in the documentation: https://pandas.pydata.org/pandas-docs/stable/user_guide/indexing.html#returning-a-view-versus-a-copy\n",
      "  group_a['ATRX status'] = group_a['ATRX status'].fillna(1)\n"
     ]
    }
   ],
   "source": [
    "group_a['IDH status'] = group_a['IDH status'].fillna(1)\n",
    "group_a['ATRX status'] = group_a['ATRX status'].fillna(1)"
   ],
   "metadata": {
    "collapsed": false,
    "ExecuteTime": {
     "end_time": "2023-05-29T12:57:26.498188780Z",
     "start_time": "2023-05-29T12:57:26.477696643Z"
    }
   }
  },
  {
   "cell_type": "markdown",
   "source": [
    "Now we need to combine the three groups into one dataframe and then write it into a csv file."
   ],
   "metadata": {
    "collapsed": false
   }
  },
  {
   "cell_type": "code",
   "execution_count": 12,
   "outputs": [
    {
     "name": "stderr",
     "output_type": "stream",
     "text": [
      "/tmp/ipykernel_26172/2591433249.py:1: FutureWarning: The frame.append method is deprecated and will be removed from pandas in a future version. Use pandas.concat instead.\n",
      "  group_g = group_g.append(group_a)\n",
      "/tmp/ipykernel_26172/2591433249.py:2: FutureWarning: The frame.append method is deprecated and will be removed from pandas in a future version. Use pandas.concat instead.\n",
      "  group_g = group_g.append(group_o)\n"
     ]
    },
    {
     "data": {
      "text/plain": "                       Patient ID                               image_path  \\\n0        0_0_TCGA-02-0006_BS1_001    data_all/0_0_TCGA-02-0006_BS1_001.jpg   \n1        0_0_TCGA-02-0007_BS1_001    data_all/0_0_TCGA-02-0007_BS1_001.jpg   \n2        0_0_TCGA-02-0010_BS1_001    data_all/0_0_TCGA-02-0010_BS1_001.jpg   \n3      0_0_TCGA-02-0010_BS1_001_3  data_all/0_0_TCGA-02-0010_BS1_001_3.jpg   \n4        0_0_TCGA-02-0016_BS1_001    data_all/0_0_TCGA-02-0016_BS1_001.jpg   \n...                           ...                                      ...   \n65089  52_26_TCGA-HT-7616_BS1_001  data_all/52_26_TCGA-HT-7616_BS1_001.jpg   \n65092  52_27_TCGA-EZ-7264_BS1_001  data_all/52_27_TCGA-EZ-7264_BS1_001.jpg   \n65093  52_27_TCGA-FG-7641_BS1_001  data_all/52_27_TCGA-FG-7641_BS1_001.jpg   \n65095  52_27_TCGA-HT-7605_BS1_001  data_all/52_27_TCGA-HT-7605_BS1_001.jpg   \n65097  52_27_TCGA-HT-7616_BS1_001  data_all/52_27_TCGA-HT-7616_BS1_001.jpg   \n\n       IDH status  IDH-1P10Q Subtype  ATRX status  MGMT promoter status  \\\n0             0.0                  0          1.0                   0.0   \n1             0.0                  0          1.0                   0.0   \n2             1.0                  0          1.0                   0.0   \n3             1.0                  0          1.0                   0.0   \n4             0.0                  0          1.0                   1.0   \n...           ...                ...          ...                   ...   \n65089         1.0                  1          0.0                   1.0   \n65092         1.0                  1          0.0                   1.0   \n65093         1.0                  1          0.0                   1.0   \n65095         1.0                  1          0.0                   1.0   \n65097         1.0                  1          0.0                   1.0   \n\n       TERT expression status Cancer Type Detailed  \n0                           0                    G  \n1                           0                    G  \n2                           0                    G  \n3                           0                    G  \n4                           0                    G  \n...                       ...                  ...  \n65089                       0                    O  \n65092                       1                    O  \n65093                       1                    O  \n65095                       0                    O  \n65097                       0                    O  \n\n[65100 rows x 8 columns]",
      "text/html": "<div>\n<style scoped>\n    .dataframe tbody tr th:only-of-type {\n        vertical-align: middle;\n    }\n\n    .dataframe tbody tr th {\n        vertical-align: top;\n    }\n\n    .dataframe thead th {\n        text-align: right;\n    }\n</style>\n<table border=\"1\" class=\"dataframe\">\n  <thead>\n    <tr style=\"text-align: right;\">\n      <th></th>\n      <th>Patient ID</th>\n      <th>image_path</th>\n      <th>IDH status</th>\n      <th>IDH-1P10Q Subtype</th>\n      <th>ATRX status</th>\n      <th>MGMT promoter status</th>\n      <th>TERT expression status</th>\n      <th>Cancer Type Detailed</th>\n    </tr>\n  </thead>\n  <tbody>\n    <tr>\n      <th>0</th>\n      <td>0_0_TCGA-02-0006_BS1_001</td>\n      <td>data_all/0_0_TCGA-02-0006_BS1_001.jpg</td>\n      <td>0.0</td>\n      <td>0</td>\n      <td>1.0</td>\n      <td>0.0</td>\n      <td>0</td>\n      <td>G</td>\n    </tr>\n    <tr>\n      <th>1</th>\n      <td>0_0_TCGA-02-0007_BS1_001</td>\n      <td>data_all/0_0_TCGA-02-0007_BS1_001.jpg</td>\n      <td>0.0</td>\n      <td>0</td>\n      <td>1.0</td>\n      <td>0.0</td>\n      <td>0</td>\n      <td>G</td>\n    </tr>\n    <tr>\n      <th>2</th>\n      <td>0_0_TCGA-02-0010_BS1_001</td>\n      <td>data_all/0_0_TCGA-02-0010_BS1_001.jpg</td>\n      <td>1.0</td>\n      <td>0</td>\n      <td>1.0</td>\n      <td>0.0</td>\n      <td>0</td>\n      <td>G</td>\n    </tr>\n    <tr>\n      <th>3</th>\n      <td>0_0_TCGA-02-0010_BS1_001_3</td>\n      <td>data_all/0_0_TCGA-02-0010_BS1_001_3.jpg</td>\n      <td>1.0</td>\n      <td>0</td>\n      <td>1.0</td>\n      <td>0.0</td>\n      <td>0</td>\n      <td>G</td>\n    </tr>\n    <tr>\n      <th>4</th>\n      <td>0_0_TCGA-02-0016_BS1_001</td>\n      <td>data_all/0_0_TCGA-02-0016_BS1_001.jpg</td>\n      <td>0.0</td>\n      <td>0</td>\n      <td>1.0</td>\n      <td>1.0</td>\n      <td>0</td>\n      <td>G</td>\n    </tr>\n    <tr>\n      <th>...</th>\n      <td>...</td>\n      <td>...</td>\n      <td>...</td>\n      <td>...</td>\n      <td>...</td>\n      <td>...</td>\n      <td>...</td>\n      <td>...</td>\n    </tr>\n    <tr>\n      <th>65089</th>\n      <td>52_26_TCGA-HT-7616_BS1_001</td>\n      <td>data_all/52_26_TCGA-HT-7616_BS1_001.jpg</td>\n      <td>1.0</td>\n      <td>1</td>\n      <td>0.0</td>\n      <td>1.0</td>\n      <td>0</td>\n      <td>O</td>\n    </tr>\n    <tr>\n      <th>65092</th>\n      <td>52_27_TCGA-EZ-7264_BS1_001</td>\n      <td>data_all/52_27_TCGA-EZ-7264_BS1_001.jpg</td>\n      <td>1.0</td>\n      <td>1</td>\n      <td>0.0</td>\n      <td>1.0</td>\n      <td>1</td>\n      <td>O</td>\n    </tr>\n    <tr>\n      <th>65093</th>\n      <td>52_27_TCGA-FG-7641_BS1_001</td>\n      <td>data_all/52_27_TCGA-FG-7641_BS1_001.jpg</td>\n      <td>1.0</td>\n      <td>1</td>\n      <td>0.0</td>\n      <td>1.0</td>\n      <td>1</td>\n      <td>O</td>\n    </tr>\n    <tr>\n      <th>65095</th>\n      <td>52_27_TCGA-HT-7605_BS1_001</td>\n      <td>data_all/52_27_TCGA-HT-7605_BS1_001.jpg</td>\n      <td>1.0</td>\n      <td>1</td>\n      <td>0.0</td>\n      <td>1.0</td>\n      <td>0</td>\n      <td>O</td>\n    </tr>\n    <tr>\n      <th>65097</th>\n      <td>52_27_TCGA-HT-7616_BS1_001</td>\n      <td>data_all/52_27_TCGA-HT-7616_BS1_001.jpg</td>\n      <td>1.0</td>\n      <td>1</td>\n      <td>0.0</td>\n      <td>1.0</td>\n      <td>0</td>\n      <td>O</td>\n    </tr>\n  </tbody>\n</table>\n<p>65100 rows × 8 columns</p>\n</div>"
     },
     "execution_count": 12,
     "metadata": {},
     "output_type": "execute_result"
    }
   ],
   "source": [
    "group_g = group_g.append(group_a)\n",
    "group_g = group_g.append(group_o)\n",
    "group_g"
   ],
   "metadata": {
    "collapsed": false,
    "ExecuteTime": {
     "end_time": "2023-05-29T12:59:58.288225164Z",
     "start_time": "2023-05-29T12:59:58.230491032Z"
    }
   }
  },
  {
   "cell_type": "code",
   "execution_count": 13,
   "outputs": [
    {
     "data": {
      "text/plain": "Patient ID                0\nimage_path                0\nIDH status                0\nIDH-1P10Q Subtype         0\nATRX status               0\nMGMT promoter status      0\nTERT expression status    0\nCancer Type Detailed      0\ndtype: int64"
     },
     "execution_count": 13,
     "metadata": {},
     "output_type": "execute_result"
    }
   ],
   "source": [
    "group_g.isna().sum()"
   ],
   "metadata": {
    "collapsed": false,
    "ExecuteTime": {
     "end_time": "2023-05-29T12:59:59.606646416Z",
     "start_time": "2023-05-29T12:59:59.575161266Z"
    }
   }
  },
  {
   "cell_type": "code",
   "execution_count": 14,
   "outputs": [
    {
     "data": {
      "text/plain": "                       Patient ID                           image_path  \\\n0        0_0_TCGA-02-0006_BS1_001    data/0_0_TCGA-02-0006_BS1_001.jpg   \n1        0_0_TCGA-02-0007_BS1_001    data/0_0_TCGA-02-0007_BS1_001.jpg   \n2        0_0_TCGA-02-0010_BS1_001    data/0_0_TCGA-02-0010_BS1_001.jpg   \n3      0_0_TCGA-02-0010_BS1_001_3  data/0_0_TCGA-02-0010_BS1_001_3.jpg   \n4        0_0_TCGA-02-0016_BS1_001    data/0_0_TCGA-02-0016_BS1_001.jpg   \n...                           ...                                  ...   \n65089  52_26_TCGA-HT-7616_BS1_001  data/52_26_TCGA-HT-7616_BS1_001.jpg   \n65092  52_27_TCGA-EZ-7264_BS1_001  data/52_27_TCGA-EZ-7264_BS1_001.jpg   \n65093  52_27_TCGA-FG-7641_BS1_001  data/52_27_TCGA-FG-7641_BS1_001.jpg   \n65095  52_27_TCGA-HT-7605_BS1_001  data/52_27_TCGA-HT-7605_BS1_001.jpg   \n65097  52_27_TCGA-HT-7616_BS1_001  data/52_27_TCGA-HT-7616_BS1_001.jpg   \n\n       IDH status  IDH-1P10Q Subtype  ATRX status  MGMT promoter status  \\\n0             0.0                  0          1.0                   0.0   \n1             0.0                  0          1.0                   0.0   \n2             1.0                  0          1.0                   0.0   \n3             1.0                  0          1.0                   0.0   \n4             0.0                  0          1.0                   1.0   \n...           ...                ...          ...                   ...   \n65089         1.0                  1          0.0                   1.0   \n65092         1.0                  1          0.0                   1.0   \n65093         1.0                  1          0.0                   1.0   \n65095         1.0                  1          0.0                   1.0   \n65097         1.0                  1          0.0                   1.0   \n\n       TERT expression status Cancer Type Detailed  \n0                           0                    G  \n1                           0                    G  \n2                           0                    G  \n3                           0                    G  \n4                           0                    G  \n...                       ...                  ...  \n65089                       0                    O  \n65092                       1                    O  \n65093                       1                    O  \n65095                       0                    O  \n65097                       0                    O  \n\n[65100 rows x 8 columns]",
      "text/html": "<div>\n<style scoped>\n    .dataframe tbody tr th:only-of-type {\n        vertical-align: middle;\n    }\n\n    .dataframe tbody tr th {\n        vertical-align: top;\n    }\n\n    .dataframe thead th {\n        text-align: right;\n    }\n</style>\n<table border=\"1\" class=\"dataframe\">\n  <thead>\n    <tr style=\"text-align: right;\">\n      <th></th>\n      <th>Patient ID</th>\n      <th>image_path</th>\n      <th>IDH status</th>\n      <th>IDH-1P10Q Subtype</th>\n      <th>ATRX status</th>\n      <th>MGMT promoter status</th>\n      <th>TERT expression status</th>\n      <th>Cancer Type Detailed</th>\n    </tr>\n  </thead>\n  <tbody>\n    <tr>\n      <th>0</th>\n      <td>0_0_TCGA-02-0006_BS1_001</td>\n      <td>data/0_0_TCGA-02-0006_BS1_001.jpg</td>\n      <td>0.0</td>\n      <td>0</td>\n      <td>1.0</td>\n      <td>0.0</td>\n      <td>0</td>\n      <td>G</td>\n    </tr>\n    <tr>\n      <th>1</th>\n      <td>0_0_TCGA-02-0007_BS1_001</td>\n      <td>data/0_0_TCGA-02-0007_BS1_001.jpg</td>\n      <td>0.0</td>\n      <td>0</td>\n      <td>1.0</td>\n      <td>0.0</td>\n      <td>0</td>\n      <td>G</td>\n    </tr>\n    <tr>\n      <th>2</th>\n      <td>0_0_TCGA-02-0010_BS1_001</td>\n      <td>data/0_0_TCGA-02-0010_BS1_001.jpg</td>\n      <td>1.0</td>\n      <td>0</td>\n      <td>1.0</td>\n      <td>0.0</td>\n      <td>0</td>\n      <td>G</td>\n    </tr>\n    <tr>\n      <th>3</th>\n      <td>0_0_TCGA-02-0010_BS1_001_3</td>\n      <td>data/0_0_TCGA-02-0010_BS1_001_3.jpg</td>\n      <td>1.0</td>\n      <td>0</td>\n      <td>1.0</td>\n      <td>0.0</td>\n      <td>0</td>\n      <td>G</td>\n    </tr>\n    <tr>\n      <th>4</th>\n      <td>0_0_TCGA-02-0016_BS1_001</td>\n      <td>data/0_0_TCGA-02-0016_BS1_001.jpg</td>\n      <td>0.0</td>\n      <td>0</td>\n      <td>1.0</td>\n      <td>1.0</td>\n      <td>0</td>\n      <td>G</td>\n    </tr>\n    <tr>\n      <th>...</th>\n      <td>...</td>\n      <td>...</td>\n      <td>...</td>\n      <td>...</td>\n      <td>...</td>\n      <td>...</td>\n      <td>...</td>\n      <td>...</td>\n    </tr>\n    <tr>\n      <th>65089</th>\n      <td>52_26_TCGA-HT-7616_BS1_001</td>\n      <td>data/52_26_TCGA-HT-7616_BS1_001.jpg</td>\n      <td>1.0</td>\n      <td>1</td>\n      <td>0.0</td>\n      <td>1.0</td>\n      <td>0</td>\n      <td>O</td>\n    </tr>\n    <tr>\n      <th>65092</th>\n      <td>52_27_TCGA-EZ-7264_BS1_001</td>\n      <td>data/52_27_TCGA-EZ-7264_BS1_001.jpg</td>\n      <td>1.0</td>\n      <td>1</td>\n      <td>0.0</td>\n      <td>1.0</td>\n      <td>1</td>\n      <td>O</td>\n    </tr>\n    <tr>\n      <th>65093</th>\n      <td>52_27_TCGA-FG-7641_BS1_001</td>\n      <td>data/52_27_TCGA-FG-7641_BS1_001.jpg</td>\n      <td>1.0</td>\n      <td>1</td>\n      <td>0.0</td>\n      <td>1.0</td>\n      <td>1</td>\n      <td>O</td>\n    </tr>\n    <tr>\n      <th>65095</th>\n      <td>52_27_TCGA-HT-7605_BS1_001</td>\n      <td>data/52_27_TCGA-HT-7605_BS1_001.jpg</td>\n      <td>1.0</td>\n      <td>1</td>\n      <td>0.0</td>\n      <td>1.0</td>\n      <td>0</td>\n      <td>O</td>\n    </tr>\n    <tr>\n      <th>65097</th>\n      <td>52_27_TCGA-HT-7616_BS1_001</td>\n      <td>data/52_27_TCGA-HT-7616_BS1_001.jpg</td>\n      <td>1.0</td>\n      <td>1</td>\n      <td>0.0</td>\n      <td>1.0</td>\n      <td>0</td>\n      <td>O</td>\n    </tr>\n  </tbody>\n</table>\n<p>65100 rows × 8 columns</p>\n</div>"
     },
     "execution_count": 14,
     "metadata": {},
     "output_type": "execute_result"
    }
   ],
   "source": [
    "group_g['image_path'] = group_g['image_path'].str.replace('data_all', 'data')\n",
    "group_g"
   ],
   "metadata": {
    "collapsed": false,
    "ExecuteTime": {
     "end_time": "2023-05-29T13:00:11.251524287Z",
     "start_time": "2023-05-29T13:00:10.887177808Z"
    }
   }
  },
  {
   "cell_type": "code",
   "execution_count": 15,
   "outputs": [],
   "source": [
    "filename = 'mutation_data_all.csv'\n",
    "df.to_csv('./'+filename)"
   ],
   "metadata": {
    "collapsed": false,
    "ExecuteTime": {
     "end_time": "2023-05-29T13:00:18.265959345Z",
     "start_time": "2023-05-29T13:00:17.717189850Z"
    }
   }
  },
  {
   "cell_type": "code",
   "execution_count": null,
   "outputs": [],
   "source": [],
   "metadata": {
    "collapsed": false
   }
  }
 ],
 "metadata": {
  "kernelspec": {
   "display_name": "Python 3",
   "language": "python",
   "name": "python3"
  },
  "language_info": {
   "codemirror_mode": {
    "name": "ipython",
    "version": 2
   },
   "file_extension": ".py",
   "mimetype": "text/x-python",
   "name": "python",
   "nbconvert_exporter": "python",
   "pygments_lexer": "ipython2",
   "version": "2.7.6"
  }
 },
 "nbformat": 4,
 "nbformat_minor": 0
}
