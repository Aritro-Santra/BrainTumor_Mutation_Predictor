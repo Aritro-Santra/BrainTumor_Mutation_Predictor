{
 "cells": [
  {
   "cell_type": "code",
   "execution_count": 1,
   "metadata": {
    "collapsed": true,
    "ExecuteTime": {
     "end_time": "2023-05-24T09:15:55.554082549Z",
     "start_time": "2023-05-24T09:15:55.218595566Z"
    }
   },
   "outputs": [],
   "source": [
    "import numpy as np\n",
    "import pandas as pd\n",
    "import os\n",
    "from tqdm import tqdm"
   ]
  },
  {
   "cell_type": "code",
   "execution_count": 2,
   "outputs": [],
   "source": [
    "mutation_data_path = 'mutation_data.csv'\n",
    "df = pd.read_csv(mutation_data_path)\n",
    "df.drop(df.columns[df.columns.str.contains('unnamed',case = False)],axis = 1, inplace = True)"
   ],
   "metadata": {
    "collapsed": false,
    "ExecuteTime": {
     "end_time": "2023-05-24T09:15:55.569983956Z",
     "start_time": "2023-05-24T09:15:55.557527896Z"
    }
   }
  },
  {
   "cell_type": "code",
   "execution_count": 3,
   "outputs": [
    {
     "data": {
      "text/plain": "                      Patient ID                                 image_path  \\\n0       0_0_TCGA-02-0006_BS1_001    data_small/0_0_TCGA-02-0006_BS1_001.jpg   \n1       0_0_TCGA-02-0007_BS1_001    data_small/0_0_TCGA-02-0007_BS1_001.jpg   \n2       0_0_TCGA-02-0010_BS1_001    data_small/0_0_TCGA-02-0010_BS1_001.jpg   \n3     0_0_TCGA-02-0010_BS1_001_3  data_small/0_0_TCGA-02-0010_BS1_001_3.jpg   \n4       0_0_TCGA-02-0016_BS1_001    data_small/0_0_TCGA-02-0016_BS1_001.jpg   \n...                          ...                                        ...   \n6055  7_2_TCGA-HT-7603_BS1_001_3  data_small/7_2_TCGA-HT-7603_BS1_001_3.jpg   \n6056  7_2_TCGA-HT-7605_BS1_001_3  data_small/7_2_TCGA-HT-7605_BS1_001_3.jpg   \n6057  7_2_TCGA-HT-7616_BS1_001_3  data_small/7_2_TCGA-HT-7616_BS1_001_3.jpg   \n6058  7_2_TCGA-HT-7677_BS1_001_3  data_small/7_2_TCGA-HT-7677_BS1_001_3.jpg   \n6059  7_3_TCGA-EZ-7264_BS1_001_3  data_small/7_3_TCGA-EZ-7264_BS1_001_3.jpg   \n\n      IDH status  IDH-1P10Q Subtype  ATRX status  MGMT promoter status  \\\n0            0.0                  0          NaN                   0.0   \n1            0.0                  0          NaN                   0.0   \n2            1.0                  0          NaN                   0.0   \n3            1.0                  0          NaN                   0.0   \n4            0.0                  0          NaN                   NaN   \n...          ...                ...          ...                   ...   \n6055         1.0                  0          1.0                   1.0   \n6056         1.0                  1          0.0                   1.0   \n6057         1.0                  1          0.0                   1.0   \n6058         1.0                  1          0.0                   1.0   \n6059         1.0                  1          0.0                   1.0   \n\n      TERT expression status Cancer Type Detailed  \n0                          0                    G  \n1                          0                    G  \n2                          0                    G  \n3                          0                    G  \n4                          0                    G  \n...                      ...                  ...  \n6055                       0                    O  \n6056                       0                    O  \n6057                       0                    O  \n6058                       1                    O  \n6059                       1                    O  \n\n[6060 rows x 8 columns]",
      "text/html": "<div>\n<style scoped>\n    .dataframe tbody tr th:only-of-type {\n        vertical-align: middle;\n    }\n\n    .dataframe tbody tr th {\n        vertical-align: top;\n    }\n\n    .dataframe thead th {\n        text-align: right;\n    }\n</style>\n<table border=\"1\" class=\"dataframe\">\n  <thead>\n    <tr style=\"text-align: right;\">\n      <th></th>\n      <th>Patient ID</th>\n      <th>image_path</th>\n      <th>IDH status</th>\n      <th>IDH-1P10Q Subtype</th>\n      <th>ATRX status</th>\n      <th>MGMT promoter status</th>\n      <th>TERT expression status</th>\n      <th>Cancer Type Detailed</th>\n    </tr>\n  </thead>\n  <tbody>\n    <tr>\n      <th>0</th>\n      <td>0_0_TCGA-02-0006_BS1_001</td>\n      <td>data_small/0_0_TCGA-02-0006_BS1_001.jpg</td>\n      <td>0.0</td>\n      <td>0</td>\n      <td>NaN</td>\n      <td>0.0</td>\n      <td>0</td>\n      <td>G</td>\n    </tr>\n    <tr>\n      <th>1</th>\n      <td>0_0_TCGA-02-0007_BS1_001</td>\n      <td>data_small/0_0_TCGA-02-0007_BS1_001.jpg</td>\n      <td>0.0</td>\n      <td>0</td>\n      <td>NaN</td>\n      <td>0.0</td>\n      <td>0</td>\n      <td>G</td>\n    </tr>\n    <tr>\n      <th>2</th>\n      <td>0_0_TCGA-02-0010_BS1_001</td>\n      <td>data_small/0_0_TCGA-02-0010_BS1_001.jpg</td>\n      <td>1.0</td>\n      <td>0</td>\n      <td>NaN</td>\n      <td>0.0</td>\n      <td>0</td>\n      <td>G</td>\n    </tr>\n    <tr>\n      <th>3</th>\n      <td>0_0_TCGA-02-0010_BS1_001_3</td>\n      <td>data_small/0_0_TCGA-02-0010_BS1_001_3.jpg</td>\n      <td>1.0</td>\n      <td>0</td>\n      <td>NaN</td>\n      <td>0.0</td>\n      <td>0</td>\n      <td>G</td>\n    </tr>\n    <tr>\n      <th>4</th>\n      <td>0_0_TCGA-02-0016_BS1_001</td>\n      <td>data_small/0_0_TCGA-02-0016_BS1_001.jpg</td>\n      <td>0.0</td>\n      <td>0</td>\n      <td>NaN</td>\n      <td>NaN</td>\n      <td>0</td>\n      <td>G</td>\n    </tr>\n    <tr>\n      <th>...</th>\n      <td>...</td>\n      <td>...</td>\n      <td>...</td>\n      <td>...</td>\n      <td>...</td>\n      <td>...</td>\n      <td>...</td>\n      <td>...</td>\n    </tr>\n    <tr>\n      <th>6055</th>\n      <td>7_2_TCGA-HT-7603_BS1_001_3</td>\n      <td>data_small/7_2_TCGA-HT-7603_BS1_001_3.jpg</td>\n      <td>1.0</td>\n      <td>0</td>\n      <td>1.0</td>\n      <td>1.0</td>\n      <td>0</td>\n      <td>O</td>\n    </tr>\n    <tr>\n      <th>6056</th>\n      <td>7_2_TCGA-HT-7605_BS1_001_3</td>\n      <td>data_small/7_2_TCGA-HT-7605_BS1_001_3.jpg</td>\n      <td>1.0</td>\n      <td>1</td>\n      <td>0.0</td>\n      <td>1.0</td>\n      <td>0</td>\n      <td>O</td>\n    </tr>\n    <tr>\n      <th>6057</th>\n      <td>7_2_TCGA-HT-7616_BS1_001_3</td>\n      <td>data_small/7_2_TCGA-HT-7616_BS1_001_3.jpg</td>\n      <td>1.0</td>\n      <td>1</td>\n      <td>0.0</td>\n      <td>1.0</td>\n      <td>0</td>\n      <td>O</td>\n    </tr>\n    <tr>\n      <th>6058</th>\n      <td>7_2_TCGA-HT-7677_BS1_001_3</td>\n      <td>data_small/7_2_TCGA-HT-7677_BS1_001_3.jpg</td>\n      <td>1.0</td>\n      <td>1</td>\n      <td>0.0</td>\n      <td>1.0</td>\n      <td>1</td>\n      <td>O</td>\n    </tr>\n    <tr>\n      <th>6059</th>\n      <td>7_3_TCGA-EZ-7264_BS1_001_3</td>\n      <td>data_small/7_3_TCGA-EZ-7264_BS1_001_3.jpg</td>\n      <td>1.0</td>\n      <td>1</td>\n      <td>0.0</td>\n      <td>1.0</td>\n      <td>1</td>\n      <td>O</td>\n    </tr>\n  </tbody>\n</table>\n<p>6060 rows × 8 columns</p>\n</div>"
     },
     "execution_count": 3,
     "metadata": {},
     "output_type": "execute_result"
    }
   ],
   "source": [
    "df"
   ],
   "metadata": {
    "collapsed": false,
    "ExecuteTime": {
     "end_time": "2023-05-24T09:15:56.721186004Z",
     "start_time": "2023-05-24T09:15:56.669244772Z"
    }
   }
  },
  {
   "cell_type": "code",
   "execution_count": 4,
   "outputs": [],
   "source": [
    "# lazy grouping\n",
    "groups = df.groupby('Cancer Type Detailed')\n",
    "group_g = groups.get_group('G')\n",
    "group_a = groups.get_group('A')\n",
    "group_o = groups.get_group('O')"
   ],
   "metadata": {
    "collapsed": false,
    "ExecuteTime": {
     "end_time": "2023-05-24T09:16:06.227244064Z",
     "start_time": "2023-05-24T09:16:06.193939632Z"
    }
   }
  },
  {
   "cell_type": "code",
   "execution_count": 5,
   "outputs": [
    {
     "name": "stdout",
     "output_type": "stream",
     "text": [
      "Number of Glioblastoma (G) samples:  1824\n",
      "Number of Astrocytoma (A) samples:  1980\n",
      "Number of Oligodendroglioma (O) samples:  2256\n"
     ]
    }
   ],
   "source": [
    "print(\"Number of Glioblastoma (G) samples: \", len(group_g))\n",
    "print(\"Number of Astrocytoma (A) samples: \", len(group_a))\n",
    "print(\"Number of Oligodendroglioma (O) samples: \", len(group_o))"
   ],
   "metadata": {
    "collapsed": false,
    "ExecuteTime": {
     "end_time": "2023-05-24T09:16:29.534228895Z",
     "start_time": "2023-05-24T09:16:29.473254894Z"
    }
   }
  },
  {
   "cell_type": "markdown",
   "source": [
    "Find the most common value for each mutation for each group"
   ],
   "metadata": {
    "collapsed": false
   }
  },
  {
   "cell_type": "code",
   "execution_count": 17,
   "outputs": [
    {
     "name": "stdout",
     "output_type": "stream",
     "text": [
      "Mutation:  IDH status\n",
      "Values: [ 0.  1. nan]\tCounts: [1088  268  468]\n",
      "Mutation:  IDH-1P10Q Subtype\n",
      "Values: [0 1]\tCounts: [1764   60]\n",
      "Mutation:  ATRX status\n",
      "Values: [0. 1.]\tCounts: [ 323 1501]\n",
      "Mutation:  MGMT promoter status\n",
      "Values: [0. 1.]\tCounts: [ 502 1322]\n",
      "Mutation:  TERT expression status\n",
      "Values: [0 1]\tCounts: [1692  132]\n"
     ]
    },
    {
     "data": {
      "text/plain": "{'IDH status': 0.0,\n 'IDH-1P10Q Subtype': 0,\n 'ATRX status': 1.0,\n 'MGMT promoter status': 1.0,\n 'TERT expression status': 0}"
     },
     "execution_count": 17,
     "metadata": {},
     "output_type": "execute_result"
    }
   ],
   "source": [
    "group_g_mutations = dict()\n",
    "columns = group_g.columns\n",
    "mutation_names = columns[2:-1]\n",
    "for mutation in mutation_names:\n",
    "    vals, counts = np.unique(group_g[mutation].values, return_counts=True)\n",
    "    print(\"Mutation: \", mutation)\n",
    "    print(f\"Values: {vals}\\tCounts: {counts}\")\n",
    "    most_common = np.argmax(counts)\n",
    "    most_common_val = vals[most_common]\n",
    "    group_g_mutations[mutation] = most_common_val\n",
    "group_g_mutations"
   ],
   "metadata": {
    "collapsed": false,
    "ExecuteTime": {
     "end_time": "2023-05-24T10:03:05.021749937Z",
     "start_time": "2023-05-24T10:03:04.990299174Z"
    }
   }
  },
  {
   "cell_type": "code",
   "execution_count": 11,
   "outputs": [
    {
     "name": "stdout",
     "output_type": "stream",
     "text": [
      "Mutation:  IDH status\n",
      "Values: [ 0.  1. nan]\tCounts: [ 567 1346   67]\n",
      "Mutation:  IDH-1P10Q Subtype\n",
      "Values: [0 1]\tCounts: [1857  123]\n",
      "Mutation:  ATRX status\n",
      "Values: [ 0.  1. nan]\tCounts: [ 783 1130   67]\n",
      "Mutation:  MGMT promoter status\n",
      "Values: [0. 1.]\tCounts: [ 627 1353]\n",
      "Mutation:  TERT expression status\n",
      "Values: [0 1]\tCounts: [1735  245]\n"
     ]
    },
    {
     "data": {
      "text/plain": "{'IDH status': 1.0,\n 'IDH-1P10Q Subtype': 0,\n 'ATRX status': 1.0,\n 'MGMT promoter status': 1.0,\n 'TERT expression status': 0}"
     },
     "execution_count": 11,
     "metadata": {},
     "output_type": "execute_result"
    }
   ],
   "source": [
    "group_a_mutations = dict()\n",
    "columns = group_a.columns\n",
    "mutation_names = columns[2:-1]\n",
    "for mutation in mutation_names:\n",
    "    vals, counts = np.unique(group_a[mutation].values, return_counts=True)\n",
    "    print(\"Mutation: \", mutation)\n",
    "    print(f\"Values: {vals}\\tCounts: {counts}\")\n",
    "    most_common = np.argmax(counts)\n",
    "    most_common_val = vals[most_common]\n",
    "    group_a_mutations[mutation] = most_common_val\n",
    "group_a_mutations"
   ],
   "metadata": {
    "collapsed": false,
    "ExecuteTime": {
     "end_time": "2023-05-24T09:29:16.405665392Z",
     "start_time": "2023-05-24T09:29:16.353412807Z"
    }
   }
  },
  {
   "cell_type": "code",
   "execution_count": 12,
   "outputs": [
    {
     "name": "stdout",
     "output_type": "stream",
     "text": [
      "Mutation:  IDH status\n",
      "Values: [0. 1.]\tCounts: [ 128 2128]\n",
      "Mutation:  IDH-1P10Q Subtype\n",
      "Values: [0 1]\tCounts: [ 439 1817]\n",
      "Mutation:  ATRX status\n",
      "Values: [0. 1.]\tCounts: [1816  440]\n",
      "Mutation:  MGMT promoter status\n",
      "Values: [0. 1.]\tCounts: [  26 2230]\n",
      "Mutation:  TERT expression status\n",
      "Values: [0 1]\tCounts: [ 693 1563]\n"
     ]
    },
    {
     "data": {
      "text/plain": "{'IDH status': 1.0,\n 'IDH-1P10Q Subtype': 1,\n 'ATRX status': 0.0,\n 'MGMT promoter status': 1.0,\n 'TERT expression status': 1}"
     },
     "execution_count": 12,
     "metadata": {},
     "output_type": "execute_result"
    }
   ],
   "source": [
    "group_o_mutations = dict()\n",
    "columns = group_o.columns\n",
    "mutation_names = columns[2:-1]\n",
    "for mutation in mutation_names:\n",
    "    vals, counts = np.unique(group_o[mutation].values, return_counts=True)\n",
    "    print(\"Mutation: \", mutation)\n",
    "    print(f\"Values: {vals}\\tCounts: {counts}\")\n",
    "    most_common = np.argmax(counts)\n",
    "    most_common_val = vals[most_common]\n",
    "    group_o_mutations[mutation] = most_common_val\n",
    "group_o_mutations"
   ],
   "metadata": {
    "collapsed": false,
    "ExecuteTime": {
     "end_time": "2023-05-24T09:29:18.614176693Z",
     "start_time": "2023-05-24T09:29:18.570140818Z"
    }
   }
  },
  {
   "cell_type": "markdown",
   "source": [
    "We need to add the ATRX mutation status to 1 (mutated/lost) for NaN values in the ATRX column of all samples that have Glioblastoma (GBM)\n",
    "Reference: [CNS 2021 WHO guidelines](https://www.ncbi.nlm.nih.gov/pmc/articles/PMC8328013/)"
   ],
   "metadata": {
    "collapsed": false
   }
  },
  {
   "cell_type": "code",
   "execution_count": 14,
   "outputs": [
    {
     "name": "stderr",
     "output_type": "stream",
     "text": [
      "/tmp/ipykernel_84404/2116977151.py:2: SettingWithCopyWarning: \n",
      "A value is trying to be set on a copy of a slice from a DataFrame.\n",
      "Try using .loc[row_indexer,col_indexer] = value instead\n",
      "\n",
      "See the caveats in the documentation: https://pandas.pydata.org/pandas-docs/stable/user_guide/indexing.html#returning-a-view-versus-a-copy\n",
      "  group_g['ATRX status'] = group_g['ATRX status'].fillna(1)\n"
     ]
    },
    {
     "data": {
      "text/plain": "                      Patient ID                                 image_path  \\\n0       0_0_TCGA-02-0006_BS1_001    data_small/0_0_TCGA-02-0006_BS1_001.jpg   \n1       0_0_TCGA-02-0007_BS1_001    data_small/0_0_TCGA-02-0007_BS1_001.jpg   \n2       0_0_TCGA-02-0010_BS1_001    data_small/0_0_TCGA-02-0010_BS1_001.jpg   \n3     0_0_TCGA-02-0010_BS1_001_3  data_small/0_0_TCGA-02-0010_BS1_001_3.jpg   \n4       0_0_TCGA-02-0016_BS1_001    data_small/0_0_TCGA-02-0016_BS1_001.jpg   \n...                          ...                                        ...   \n5421  3_2_TCGA-02-0099_BS1_002_3  data_small/3_2_TCGA-02-0099_BS1_002_3.jpg   \n5422  3_2_TCGA-02-0099_BS1_003_3  data_small/3_2_TCGA-02-0099_BS1_003_3.jpg   \n5423  3_2_TCGA-06-6694_BS1_001_3  data_small/3_2_TCGA-06-6694_BS1_001_3.jpg   \n5424  3_2_TCGA-06-6701_BS1_001_3  data_small/3_2_TCGA-06-6701_BS1_001_3.jpg   \n5425  3_2_TCGA-06-A5U0_TS1_001_3  data_small/3_2_TCGA-06-A5U0_TS1_001_3.jpg   \n\n      IDH status  IDH-1P10Q Subtype  ATRX status  MGMT promoter status  \\\n0            0.0                  0          1.0                   0.0   \n1            0.0                  0          1.0                   0.0   \n2            1.0                  0          1.0                   0.0   \n3            1.0                  0          1.0                   0.0   \n4            0.0                  0          1.0                   NaN   \n...          ...                ...          ...                   ...   \n5421         0.0                  0          1.0                   1.0   \n5422         0.0                  0          1.0                   1.0   \n5423         0.0                  0          0.0                   1.0   \n5424         1.0                  0          1.0                   1.0   \n5425         0.0                  0          1.0                   1.0   \n\n      TERT expression status Cancer Type Detailed  \n0                          0                    G  \n1                          0                    G  \n2                          0                    G  \n3                          0                    G  \n4                          0                    G  \n...                      ...                  ...  \n5421                       0                    G  \n5422                       0                    G  \n5423                       0                    G  \n5424                       0                    G  \n5425                       0                    G  \n\n[1824 rows x 8 columns]",
      "text/html": "<div>\n<style scoped>\n    .dataframe tbody tr th:only-of-type {\n        vertical-align: middle;\n    }\n\n    .dataframe tbody tr th {\n        vertical-align: top;\n    }\n\n    .dataframe thead th {\n        text-align: right;\n    }\n</style>\n<table border=\"1\" class=\"dataframe\">\n  <thead>\n    <tr style=\"text-align: right;\">\n      <th></th>\n      <th>Patient ID</th>\n      <th>image_path</th>\n      <th>IDH status</th>\n      <th>IDH-1P10Q Subtype</th>\n      <th>ATRX status</th>\n      <th>MGMT promoter status</th>\n      <th>TERT expression status</th>\n      <th>Cancer Type Detailed</th>\n    </tr>\n  </thead>\n  <tbody>\n    <tr>\n      <th>0</th>\n      <td>0_0_TCGA-02-0006_BS1_001</td>\n      <td>data_small/0_0_TCGA-02-0006_BS1_001.jpg</td>\n      <td>0.0</td>\n      <td>0</td>\n      <td>1.0</td>\n      <td>0.0</td>\n      <td>0</td>\n      <td>G</td>\n    </tr>\n    <tr>\n      <th>1</th>\n      <td>0_0_TCGA-02-0007_BS1_001</td>\n      <td>data_small/0_0_TCGA-02-0007_BS1_001.jpg</td>\n      <td>0.0</td>\n      <td>0</td>\n      <td>1.0</td>\n      <td>0.0</td>\n      <td>0</td>\n      <td>G</td>\n    </tr>\n    <tr>\n      <th>2</th>\n      <td>0_0_TCGA-02-0010_BS1_001</td>\n      <td>data_small/0_0_TCGA-02-0010_BS1_001.jpg</td>\n      <td>1.0</td>\n      <td>0</td>\n      <td>1.0</td>\n      <td>0.0</td>\n      <td>0</td>\n      <td>G</td>\n    </tr>\n    <tr>\n      <th>3</th>\n      <td>0_0_TCGA-02-0010_BS1_001_3</td>\n      <td>data_small/0_0_TCGA-02-0010_BS1_001_3.jpg</td>\n      <td>1.0</td>\n      <td>0</td>\n      <td>1.0</td>\n      <td>0.0</td>\n      <td>0</td>\n      <td>G</td>\n    </tr>\n    <tr>\n      <th>4</th>\n      <td>0_0_TCGA-02-0016_BS1_001</td>\n      <td>data_small/0_0_TCGA-02-0016_BS1_001.jpg</td>\n      <td>0.0</td>\n      <td>0</td>\n      <td>1.0</td>\n      <td>NaN</td>\n      <td>0</td>\n      <td>G</td>\n    </tr>\n    <tr>\n      <th>...</th>\n      <td>...</td>\n      <td>...</td>\n      <td>...</td>\n      <td>...</td>\n      <td>...</td>\n      <td>...</td>\n      <td>...</td>\n      <td>...</td>\n    </tr>\n    <tr>\n      <th>5421</th>\n      <td>3_2_TCGA-02-0099_BS1_002_3</td>\n      <td>data_small/3_2_TCGA-02-0099_BS1_002_3.jpg</td>\n      <td>0.0</td>\n      <td>0</td>\n      <td>1.0</td>\n      <td>1.0</td>\n      <td>0</td>\n      <td>G</td>\n    </tr>\n    <tr>\n      <th>5422</th>\n      <td>3_2_TCGA-02-0099_BS1_003_3</td>\n      <td>data_small/3_2_TCGA-02-0099_BS1_003_3.jpg</td>\n      <td>0.0</td>\n      <td>0</td>\n      <td>1.0</td>\n      <td>1.0</td>\n      <td>0</td>\n      <td>G</td>\n    </tr>\n    <tr>\n      <th>5423</th>\n      <td>3_2_TCGA-06-6694_BS1_001_3</td>\n      <td>data_small/3_2_TCGA-06-6694_BS1_001_3.jpg</td>\n      <td>0.0</td>\n      <td>0</td>\n      <td>0.0</td>\n      <td>1.0</td>\n      <td>0</td>\n      <td>G</td>\n    </tr>\n    <tr>\n      <th>5424</th>\n      <td>3_2_TCGA-06-6701_BS1_001_3</td>\n      <td>data_small/3_2_TCGA-06-6701_BS1_001_3.jpg</td>\n      <td>1.0</td>\n      <td>0</td>\n      <td>1.0</td>\n      <td>1.0</td>\n      <td>0</td>\n      <td>G</td>\n    </tr>\n    <tr>\n      <th>5425</th>\n      <td>3_2_TCGA-06-A5U0_TS1_001_3</td>\n      <td>data_small/3_2_TCGA-06-A5U0_TS1_001_3.jpg</td>\n      <td>0.0</td>\n      <td>0</td>\n      <td>1.0</td>\n      <td>1.0</td>\n      <td>0</td>\n      <td>G</td>\n    </tr>\n  </tbody>\n</table>\n<p>1824 rows × 8 columns</p>\n</div>"
     },
     "execution_count": 14,
     "metadata": {},
     "output_type": "execute_result"
    }
   ],
   "source": [
    "# Fill missing ATRX value of group G\n",
    "group_g['ATRX status'] = group_g['ATRX status'].fillna(1)\n",
    "group_g"
   ],
   "metadata": {
    "collapsed": false,
    "ExecuteTime": {
     "end_time": "2023-05-24T09:58:09.913999940Z",
     "start_time": "2023-05-24T09:58:09.869691693Z"
    }
   }
  },
  {
   "cell_type": "markdown",
   "source": [
    "For the MGMT status in Glioblastoma group, we need to replace NaN values with 1 values as most GBMs have MGMT status 1 (methylated)"
   ],
   "metadata": {
    "collapsed": false
   }
  },
  {
   "cell_type": "code",
   "execution_count": 16,
   "outputs": [
    {
     "name": "stderr",
     "output_type": "stream",
     "text": [
      "/tmp/ipykernel_84404/3858921286.py:2: SettingWithCopyWarning: \n",
      "A value is trying to be set on a copy of a slice from a DataFrame.\n",
      "Try using .loc[row_indexer,col_indexer] = value instead\n",
      "\n",
      "See the caveats in the documentation: https://pandas.pydata.org/pandas-docs/stable/user_guide/indexing.html#returning-a-view-versus-a-copy\n",
      "  group_g['MGMT promoter status'] = group_g['MGMT promoter status'].fillna(1)\n"
     ]
    },
    {
     "data": {
      "text/plain": "                      Patient ID                                 image_path  \\\n0       0_0_TCGA-02-0006_BS1_001    data_small/0_0_TCGA-02-0006_BS1_001.jpg   \n1       0_0_TCGA-02-0007_BS1_001    data_small/0_0_TCGA-02-0007_BS1_001.jpg   \n2       0_0_TCGA-02-0010_BS1_001    data_small/0_0_TCGA-02-0010_BS1_001.jpg   \n3     0_0_TCGA-02-0010_BS1_001_3  data_small/0_0_TCGA-02-0010_BS1_001_3.jpg   \n4       0_0_TCGA-02-0016_BS1_001    data_small/0_0_TCGA-02-0016_BS1_001.jpg   \n...                          ...                                        ...   \n5421  3_2_TCGA-02-0099_BS1_002_3  data_small/3_2_TCGA-02-0099_BS1_002_3.jpg   \n5422  3_2_TCGA-02-0099_BS1_003_3  data_small/3_2_TCGA-02-0099_BS1_003_3.jpg   \n5423  3_2_TCGA-06-6694_BS1_001_3  data_small/3_2_TCGA-06-6694_BS1_001_3.jpg   \n5424  3_2_TCGA-06-6701_BS1_001_3  data_small/3_2_TCGA-06-6701_BS1_001_3.jpg   \n5425  3_2_TCGA-06-A5U0_TS1_001_3  data_small/3_2_TCGA-06-A5U0_TS1_001_3.jpg   \n\n      IDH status  IDH-1P10Q Subtype  ATRX status  MGMT promoter status  \\\n0            0.0                  0          1.0                   0.0   \n1            0.0                  0          1.0                   0.0   \n2            1.0                  0          1.0                   0.0   \n3            1.0                  0          1.0                   0.0   \n4            0.0                  0          1.0                   1.0   \n...          ...                ...          ...                   ...   \n5421         0.0                  0          1.0                   1.0   \n5422         0.0                  0          1.0                   1.0   \n5423         0.0                  0          0.0                   1.0   \n5424         1.0                  0          1.0                   1.0   \n5425         0.0                  0          1.0                   1.0   \n\n      TERT expression status Cancer Type Detailed  \n0                          0                    G  \n1                          0                    G  \n2                          0                    G  \n3                          0                    G  \n4                          0                    G  \n...                      ...                  ...  \n5421                       0                    G  \n5422                       0                    G  \n5423                       0                    G  \n5424                       0                    G  \n5425                       0                    G  \n\n[1824 rows x 8 columns]",
      "text/html": "<div>\n<style scoped>\n    .dataframe tbody tr th:only-of-type {\n        vertical-align: middle;\n    }\n\n    .dataframe tbody tr th {\n        vertical-align: top;\n    }\n\n    .dataframe thead th {\n        text-align: right;\n    }\n</style>\n<table border=\"1\" class=\"dataframe\">\n  <thead>\n    <tr style=\"text-align: right;\">\n      <th></th>\n      <th>Patient ID</th>\n      <th>image_path</th>\n      <th>IDH status</th>\n      <th>IDH-1P10Q Subtype</th>\n      <th>ATRX status</th>\n      <th>MGMT promoter status</th>\n      <th>TERT expression status</th>\n      <th>Cancer Type Detailed</th>\n    </tr>\n  </thead>\n  <tbody>\n    <tr>\n      <th>0</th>\n      <td>0_0_TCGA-02-0006_BS1_001</td>\n      <td>data_small/0_0_TCGA-02-0006_BS1_001.jpg</td>\n      <td>0.0</td>\n      <td>0</td>\n      <td>1.0</td>\n      <td>0.0</td>\n      <td>0</td>\n      <td>G</td>\n    </tr>\n    <tr>\n      <th>1</th>\n      <td>0_0_TCGA-02-0007_BS1_001</td>\n      <td>data_small/0_0_TCGA-02-0007_BS1_001.jpg</td>\n      <td>0.0</td>\n      <td>0</td>\n      <td>1.0</td>\n      <td>0.0</td>\n      <td>0</td>\n      <td>G</td>\n    </tr>\n    <tr>\n      <th>2</th>\n      <td>0_0_TCGA-02-0010_BS1_001</td>\n      <td>data_small/0_0_TCGA-02-0010_BS1_001.jpg</td>\n      <td>1.0</td>\n      <td>0</td>\n      <td>1.0</td>\n      <td>0.0</td>\n      <td>0</td>\n      <td>G</td>\n    </tr>\n    <tr>\n      <th>3</th>\n      <td>0_0_TCGA-02-0010_BS1_001_3</td>\n      <td>data_small/0_0_TCGA-02-0010_BS1_001_3.jpg</td>\n      <td>1.0</td>\n      <td>0</td>\n      <td>1.0</td>\n      <td>0.0</td>\n      <td>0</td>\n      <td>G</td>\n    </tr>\n    <tr>\n      <th>4</th>\n      <td>0_0_TCGA-02-0016_BS1_001</td>\n      <td>data_small/0_0_TCGA-02-0016_BS1_001.jpg</td>\n      <td>0.0</td>\n      <td>0</td>\n      <td>1.0</td>\n      <td>1.0</td>\n      <td>0</td>\n      <td>G</td>\n    </tr>\n    <tr>\n      <th>...</th>\n      <td>...</td>\n      <td>...</td>\n      <td>...</td>\n      <td>...</td>\n      <td>...</td>\n      <td>...</td>\n      <td>...</td>\n      <td>...</td>\n    </tr>\n    <tr>\n      <th>5421</th>\n      <td>3_2_TCGA-02-0099_BS1_002_3</td>\n      <td>data_small/3_2_TCGA-02-0099_BS1_002_3.jpg</td>\n      <td>0.0</td>\n      <td>0</td>\n      <td>1.0</td>\n      <td>1.0</td>\n      <td>0</td>\n      <td>G</td>\n    </tr>\n    <tr>\n      <th>5422</th>\n      <td>3_2_TCGA-02-0099_BS1_003_3</td>\n      <td>data_small/3_2_TCGA-02-0099_BS1_003_3.jpg</td>\n      <td>0.0</td>\n      <td>0</td>\n      <td>1.0</td>\n      <td>1.0</td>\n      <td>0</td>\n      <td>G</td>\n    </tr>\n    <tr>\n      <th>5423</th>\n      <td>3_2_TCGA-06-6694_BS1_001_3</td>\n      <td>data_small/3_2_TCGA-06-6694_BS1_001_3.jpg</td>\n      <td>0.0</td>\n      <td>0</td>\n      <td>0.0</td>\n      <td>1.0</td>\n      <td>0</td>\n      <td>G</td>\n    </tr>\n    <tr>\n      <th>5424</th>\n      <td>3_2_TCGA-06-6701_BS1_001_3</td>\n      <td>data_small/3_2_TCGA-06-6701_BS1_001_3.jpg</td>\n      <td>1.0</td>\n      <td>0</td>\n      <td>1.0</td>\n      <td>1.0</td>\n      <td>0</td>\n      <td>G</td>\n    </tr>\n    <tr>\n      <th>5425</th>\n      <td>3_2_TCGA-06-A5U0_TS1_001_3</td>\n      <td>data_small/3_2_TCGA-06-A5U0_TS1_001_3.jpg</td>\n      <td>0.0</td>\n      <td>0</td>\n      <td>1.0</td>\n      <td>1.0</td>\n      <td>0</td>\n      <td>G</td>\n    </tr>\n  </tbody>\n</table>\n<p>1824 rows × 8 columns</p>\n</div>"
     },
     "execution_count": 16,
     "metadata": {},
     "output_type": "execute_result"
    }
   ],
   "source": [
    "# Fill missing MGMT value of Group G\n",
    "group_g['MGMT promoter status'] = group_g['MGMT promoter status'].fillna(1)\n",
    "group_g"
   ],
   "metadata": {
    "collapsed": false,
    "ExecuteTime": {
     "end_time": "2023-05-24T10:02:57.417522326Z",
     "start_time": "2023-05-24T10:02:57.404624064Z"
    }
   }
  },
  {
   "cell_type": "markdown",
   "source": [
    "Now we need to combine the three groups into one dataframe and then write it into a csv file."
   ],
   "metadata": {
    "collapsed": false
   }
  },
  {
   "cell_type": "code",
   "execution_count": 19,
   "outputs": [
    {
     "data": {
      "text/plain": "                      Patient ID                                 image_path  \\\n0       0_0_TCGA-02-0006_BS1_001    data_small/0_0_TCGA-02-0006_BS1_001.jpg   \n1       0_0_TCGA-02-0007_BS1_001    data_small/0_0_TCGA-02-0007_BS1_001.jpg   \n2       0_0_TCGA-02-0010_BS1_001    data_small/0_0_TCGA-02-0010_BS1_001.jpg   \n3     0_0_TCGA-02-0010_BS1_001_3  data_small/0_0_TCGA-02-0010_BS1_001_3.jpg   \n4       0_0_TCGA-02-0016_BS1_001    data_small/0_0_TCGA-02-0016_BS1_001.jpg   \n...                          ...                                        ...   \n5421  3_2_TCGA-02-0099_BS1_002_3  data_small/3_2_TCGA-02-0099_BS1_002_3.jpg   \n5422  3_2_TCGA-02-0099_BS1_003_3  data_small/3_2_TCGA-02-0099_BS1_003_3.jpg   \n5423  3_2_TCGA-06-6694_BS1_001_3  data_small/3_2_TCGA-06-6694_BS1_001_3.jpg   \n5424  3_2_TCGA-06-6701_BS1_001_3  data_small/3_2_TCGA-06-6701_BS1_001_3.jpg   \n5425  3_2_TCGA-06-A5U0_TS1_001_3  data_small/3_2_TCGA-06-A5U0_TS1_001_3.jpg   \n\n      IDH status  IDH-1P10Q Subtype  ATRX status  MGMT promoter status  \\\n0            0.0                  0          1.0                   0.0   \n1            0.0                  0          1.0                   0.0   \n2            1.0                  0          1.0                   0.0   \n3            1.0                  0          1.0                   0.0   \n4            0.0                  0          1.0                   1.0   \n...          ...                ...          ...                   ...   \n5421         0.0                  0          1.0                   1.0   \n5422         0.0                  0          1.0                   1.0   \n5423         0.0                  0          0.0                   1.0   \n5424         1.0                  0          1.0                   1.0   \n5425         0.0                  0          1.0                   1.0   \n\n      TERT expression status Cancer Type Detailed  \n0                          0                    G  \n1                          0                    G  \n2                          0                    G  \n3                          0                    G  \n4                          0                    G  \n...                      ...                  ...  \n5421                       0                    G  \n5422                       0                    G  \n5423                       0                    G  \n5424                       0                    G  \n5425                       0                    G  \n\n[1824 rows x 8 columns]",
      "text/html": "<div>\n<style scoped>\n    .dataframe tbody tr th:only-of-type {\n        vertical-align: middle;\n    }\n\n    .dataframe tbody tr th {\n        vertical-align: top;\n    }\n\n    .dataframe thead th {\n        text-align: right;\n    }\n</style>\n<table border=\"1\" class=\"dataframe\">\n  <thead>\n    <tr style=\"text-align: right;\">\n      <th></th>\n      <th>Patient ID</th>\n      <th>image_path</th>\n      <th>IDH status</th>\n      <th>IDH-1P10Q Subtype</th>\n      <th>ATRX status</th>\n      <th>MGMT promoter status</th>\n      <th>TERT expression status</th>\n      <th>Cancer Type Detailed</th>\n    </tr>\n  </thead>\n  <tbody>\n    <tr>\n      <th>0</th>\n      <td>0_0_TCGA-02-0006_BS1_001</td>\n      <td>data_small/0_0_TCGA-02-0006_BS1_001.jpg</td>\n      <td>0.0</td>\n      <td>0</td>\n      <td>1.0</td>\n      <td>0.0</td>\n      <td>0</td>\n      <td>G</td>\n    </tr>\n    <tr>\n      <th>1</th>\n      <td>0_0_TCGA-02-0007_BS1_001</td>\n      <td>data_small/0_0_TCGA-02-0007_BS1_001.jpg</td>\n      <td>0.0</td>\n      <td>0</td>\n      <td>1.0</td>\n      <td>0.0</td>\n      <td>0</td>\n      <td>G</td>\n    </tr>\n    <tr>\n      <th>2</th>\n      <td>0_0_TCGA-02-0010_BS1_001</td>\n      <td>data_small/0_0_TCGA-02-0010_BS1_001.jpg</td>\n      <td>1.0</td>\n      <td>0</td>\n      <td>1.0</td>\n      <td>0.0</td>\n      <td>0</td>\n      <td>G</td>\n    </tr>\n    <tr>\n      <th>3</th>\n      <td>0_0_TCGA-02-0010_BS1_001_3</td>\n      <td>data_small/0_0_TCGA-02-0010_BS1_001_3.jpg</td>\n      <td>1.0</td>\n      <td>0</td>\n      <td>1.0</td>\n      <td>0.0</td>\n      <td>0</td>\n      <td>G</td>\n    </tr>\n    <tr>\n      <th>4</th>\n      <td>0_0_TCGA-02-0016_BS1_001</td>\n      <td>data_small/0_0_TCGA-02-0016_BS1_001.jpg</td>\n      <td>0.0</td>\n      <td>0</td>\n      <td>1.0</td>\n      <td>1.0</td>\n      <td>0</td>\n      <td>G</td>\n    </tr>\n    <tr>\n      <th>...</th>\n      <td>...</td>\n      <td>...</td>\n      <td>...</td>\n      <td>...</td>\n      <td>...</td>\n      <td>...</td>\n      <td>...</td>\n      <td>...</td>\n    </tr>\n    <tr>\n      <th>5421</th>\n      <td>3_2_TCGA-02-0099_BS1_002_3</td>\n      <td>data_small/3_2_TCGA-02-0099_BS1_002_3.jpg</td>\n      <td>0.0</td>\n      <td>0</td>\n      <td>1.0</td>\n      <td>1.0</td>\n      <td>0</td>\n      <td>G</td>\n    </tr>\n    <tr>\n      <th>5422</th>\n      <td>3_2_TCGA-02-0099_BS1_003_3</td>\n      <td>data_small/3_2_TCGA-02-0099_BS1_003_3.jpg</td>\n      <td>0.0</td>\n      <td>0</td>\n      <td>1.0</td>\n      <td>1.0</td>\n      <td>0</td>\n      <td>G</td>\n    </tr>\n    <tr>\n      <th>5423</th>\n      <td>3_2_TCGA-06-6694_BS1_001_3</td>\n      <td>data_small/3_2_TCGA-06-6694_BS1_001_3.jpg</td>\n      <td>0.0</td>\n      <td>0</td>\n      <td>0.0</td>\n      <td>1.0</td>\n      <td>0</td>\n      <td>G</td>\n    </tr>\n    <tr>\n      <th>5424</th>\n      <td>3_2_TCGA-06-6701_BS1_001_3</td>\n      <td>data_small/3_2_TCGA-06-6701_BS1_001_3.jpg</td>\n      <td>1.0</td>\n      <td>0</td>\n      <td>1.0</td>\n      <td>1.0</td>\n      <td>0</td>\n      <td>G</td>\n    </tr>\n    <tr>\n      <th>5425</th>\n      <td>3_2_TCGA-06-A5U0_TS1_001_3</td>\n      <td>data_small/3_2_TCGA-06-A5U0_TS1_001_3.jpg</td>\n      <td>0.0</td>\n      <td>0</td>\n      <td>1.0</td>\n      <td>1.0</td>\n      <td>0</td>\n      <td>G</td>\n    </tr>\n  </tbody>\n</table>\n<p>1824 rows × 8 columns</p>\n</div>"
     },
     "execution_count": 19,
     "metadata": {},
     "output_type": "execute_result"
    }
   ],
   "source": [],
   "metadata": {
    "collapsed": false,
    "ExecuteTime": {
     "end_time": "2023-05-24T10:03:57.225324321Z",
     "start_time": "2023-05-24T10:03:57.215278478Z"
    }
   }
  }
 ],
 "metadata": {
  "kernelspec": {
   "display_name": "Python 3",
   "language": "python",
   "name": "python3"
  },
  "language_info": {
   "codemirror_mode": {
    "name": "ipython",
    "version": 2
   },
   "file_extension": ".py",
   "mimetype": "text/x-python",
   "name": "python",
   "nbconvert_exporter": "python",
   "pygments_lexer": "ipython2",
   "version": "2.7.6"
  }
 },
 "nbformat": 4,
 "nbformat_minor": 0
}
