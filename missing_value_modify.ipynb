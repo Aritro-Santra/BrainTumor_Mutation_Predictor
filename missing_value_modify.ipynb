{
 "cells": [
  {
   "cell_type": "code",
   "execution_count": 1,
   "metadata": {
    "ExecuteTime": {
     "end_time": "2023-05-29T12:12:27.826032313Z",
     "start_time": "2023-05-29T12:12:27.232469993Z"
    }
   },
   "outputs": [],
   "source": [
    "import numpy as np\n",
    "import pandas as pd\n",
    "import os\n",
    "from tqdm import tqdm"
   ]
  },
  {
   "cell_type": "code",
   "execution_count": 2,
   "metadata": {
    "ExecuteTime": {
     "end_time": "2023-05-29T12:12:28.114882830Z",
     "start_time": "2023-05-29T12:12:27.944032867Z"
    }
   },
   "outputs": [],
   "source": [
    "mutation_data_path = 'mutation_data_small.csv'\n",
    "df = pd.read_csv(mutation_data_path)\n",
    "df.drop(df.columns[df.columns.str.contains('unnamed',case = False)],axis = 1, inplace = True)"
   ]
  },
  {
   "cell_type": "code",
   "execution_count": 3,
   "metadata": {},
   "outputs": [
    {
     "data": {
      "text/html": [
       "<div>\n",
       "<style scoped>\n",
       "    .dataframe tbody tr th:only-of-type {\n",
       "        vertical-align: middle;\n",
       "    }\n",
       "\n",
       "    .dataframe tbody tr th {\n",
       "        vertical-align: top;\n",
       "    }\n",
       "\n",
       "    .dataframe thead th {\n",
       "        text-align: right;\n",
       "    }\n",
       "</style>\n",
       "<table border=\"1\" class=\"dataframe\">\n",
       "  <thead>\n",
       "    <tr style=\"text-align: right;\">\n",
       "      <th></th>\n",
       "      <th>Patient ID</th>\n",
       "      <th>image_path</th>\n",
       "      <th>IDH status</th>\n",
       "      <th>IDH-1P10Q Subtype</th>\n",
       "      <th>ATRX status</th>\n",
       "      <th>MGMT promoter status</th>\n",
       "      <th>TERT expression status</th>\n",
       "      <th>Cancer Type Detailed</th>\n",
       "    </tr>\n",
       "  </thead>\n",
       "  <tbody>\n",
       "    <tr>\n",
       "      <th>0</th>\n",
       "      <td>0_0_TCGA-02-0006_BS1_001</td>\n",
       "      <td>data_small/0_0_TCGA-02-0006_BS1_001.jpg</td>\n",
       "      <td>0.0</td>\n",
       "      <td>0</td>\n",
       "      <td>NaN</td>\n",
       "      <td>0.0</td>\n",
       "      <td>0</td>\n",
       "      <td>G</td>\n",
       "    </tr>\n",
       "    <tr>\n",
       "      <th>1</th>\n",
       "      <td>0_0_TCGA-02-0007_BS1_001</td>\n",
       "      <td>data_small/0_0_TCGA-02-0007_BS1_001.jpg</td>\n",
       "      <td>0.0</td>\n",
       "      <td>0</td>\n",
       "      <td>NaN</td>\n",
       "      <td>0.0</td>\n",
       "      <td>0</td>\n",
       "      <td>G</td>\n",
       "    </tr>\n",
       "    <tr>\n",
       "      <th>2</th>\n",
       "      <td>0_0_TCGA-02-0010_BS1_001</td>\n",
       "      <td>data_small/0_0_TCGA-02-0010_BS1_001.jpg</td>\n",
       "      <td>1.0</td>\n",
       "      <td>0</td>\n",
       "      <td>NaN</td>\n",
       "      <td>0.0</td>\n",
       "      <td>0</td>\n",
       "      <td>G</td>\n",
       "    </tr>\n",
       "    <tr>\n",
       "      <th>3</th>\n",
       "      <td>0_0_TCGA-02-0010_BS1_001_3</td>\n",
       "      <td>data_small/0_0_TCGA-02-0010_BS1_001_3.jpg</td>\n",
       "      <td>1.0</td>\n",
       "      <td>0</td>\n",
       "      <td>NaN</td>\n",
       "      <td>0.0</td>\n",
       "      <td>0</td>\n",
       "      <td>G</td>\n",
       "    </tr>\n",
       "    <tr>\n",
       "      <th>4</th>\n",
       "      <td>0_0_TCGA-02-0016_BS1_001</td>\n",
       "      <td>data_small/0_0_TCGA-02-0016_BS1_001.jpg</td>\n",
       "      <td>0.0</td>\n",
       "      <td>0</td>\n",
       "      <td>NaN</td>\n",
       "      <td>NaN</td>\n",
       "      <td>0</td>\n",
       "      <td>G</td>\n",
       "    </tr>\n",
       "    <tr>\n",
       "      <th>...</th>\n",
       "      <td>...</td>\n",
       "      <td>...</td>\n",
       "      <td>...</td>\n",
       "      <td>...</td>\n",
       "      <td>...</td>\n",
       "      <td>...</td>\n",
       "      <td>...</td>\n",
       "      <td>...</td>\n",
       "    </tr>\n",
       "    <tr>\n",
       "      <th>6055</th>\n",
       "      <td>7_2_TCGA-HT-7603_BS1_001_3</td>\n",
       "      <td>data_small/7_2_TCGA-HT-7603_BS1_001_3.jpg</td>\n",
       "      <td>1.0</td>\n",
       "      <td>0</td>\n",
       "      <td>1.0</td>\n",
       "      <td>1.0</td>\n",
       "      <td>0</td>\n",
       "      <td>O</td>\n",
       "    </tr>\n",
       "    <tr>\n",
       "      <th>6056</th>\n",
       "      <td>7_2_TCGA-HT-7605_BS1_001_3</td>\n",
       "      <td>data_small/7_2_TCGA-HT-7605_BS1_001_3.jpg</td>\n",
       "      <td>1.0</td>\n",
       "      <td>1</td>\n",
       "      <td>0.0</td>\n",
       "      <td>1.0</td>\n",
       "      <td>0</td>\n",
       "      <td>O</td>\n",
       "    </tr>\n",
       "    <tr>\n",
       "      <th>6057</th>\n",
       "      <td>7_2_TCGA-HT-7616_BS1_001_3</td>\n",
       "      <td>data_small/7_2_TCGA-HT-7616_BS1_001_3.jpg</td>\n",
       "      <td>1.0</td>\n",
       "      <td>1</td>\n",
       "      <td>0.0</td>\n",
       "      <td>1.0</td>\n",
       "      <td>0</td>\n",
       "      <td>O</td>\n",
       "    </tr>\n",
       "    <tr>\n",
       "      <th>6058</th>\n",
       "      <td>7_2_TCGA-HT-7677_BS1_001_3</td>\n",
       "      <td>data_small/7_2_TCGA-HT-7677_BS1_001_3.jpg</td>\n",
       "      <td>1.0</td>\n",
       "      <td>1</td>\n",
       "      <td>0.0</td>\n",
       "      <td>1.0</td>\n",
       "      <td>1</td>\n",
       "      <td>O</td>\n",
       "    </tr>\n",
       "    <tr>\n",
       "      <th>6059</th>\n",
       "      <td>7_3_TCGA-EZ-7264_BS1_001_3</td>\n",
       "      <td>data_small/7_3_TCGA-EZ-7264_BS1_001_3.jpg</td>\n",
       "      <td>1.0</td>\n",
       "      <td>1</td>\n",
       "      <td>0.0</td>\n",
       "      <td>1.0</td>\n",
       "      <td>1</td>\n",
       "      <td>O</td>\n",
       "    </tr>\n",
       "  </tbody>\n",
       "</table>\n",
       "<p>6060 rows × 8 columns</p>\n",
       "</div>"
      ],
      "text/plain": [
       "                      Patient ID                                 image_path  \\\n",
       "0       0_0_TCGA-02-0006_BS1_001    data_small/0_0_TCGA-02-0006_BS1_001.jpg   \n",
       "1       0_0_TCGA-02-0007_BS1_001    data_small/0_0_TCGA-02-0007_BS1_001.jpg   \n",
       "2       0_0_TCGA-02-0010_BS1_001    data_small/0_0_TCGA-02-0010_BS1_001.jpg   \n",
       "3     0_0_TCGA-02-0010_BS1_001_3  data_small/0_0_TCGA-02-0010_BS1_001_3.jpg   \n",
       "4       0_0_TCGA-02-0016_BS1_001    data_small/0_0_TCGA-02-0016_BS1_001.jpg   \n",
       "...                          ...                                        ...   \n",
       "6055  7_2_TCGA-HT-7603_BS1_001_3  data_small/7_2_TCGA-HT-7603_BS1_001_3.jpg   \n",
       "6056  7_2_TCGA-HT-7605_BS1_001_3  data_small/7_2_TCGA-HT-7605_BS1_001_3.jpg   \n",
       "6057  7_2_TCGA-HT-7616_BS1_001_3  data_small/7_2_TCGA-HT-7616_BS1_001_3.jpg   \n",
       "6058  7_2_TCGA-HT-7677_BS1_001_3  data_small/7_2_TCGA-HT-7677_BS1_001_3.jpg   \n",
       "6059  7_3_TCGA-EZ-7264_BS1_001_3  data_small/7_3_TCGA-EZ-7264_BS1_001_3.jpg   \n",
       "\n",
       "      IDH status  IDH-1P10Q Subtype  ATRX status  MGMT promoter status  \\\n",
       "0            0.0                  0          NaN                   0.0   \n",
       "1            0.0                  0          NaN                   0.0   \n",
       "2            1.0                  0          NaN                   0.0   \n",
       "3            1.0                  0          NaN                   0.0   \n",
       "4            0.0                  0          NaN                   NaN   \n",
       "...          ...                ...          ...                   ...   \n",
       "6055         1.0                  0          1.0                   1.0   \n",
       "6056         1.0                  1          0.0                   1.0   \n",
       "6057         1.0                  1          0.0                   1.0   \n",
       "6058         1.0                  1          0.0                   1.0   \n",
       "6059         1.0                  1          0.0                   1.0   \n",
       "\n",
       "      TERT expression status Cancer Type Detailed  \n",
       "0                          0                    G  \n",
       "1                          0                    G  \n",
       "2                          0                    G  \n",
       "3                          0                    G  \n",
       "4                          0                    G  \n",
       "...                      ...                  ...  \n",
       "6055                       0                    O  \n",
       "6056                       0                    O  \n",
       "6057                       0                    O  \n",
       "6058                       1                    O  \n",
       "6059                       1                    O  \n",
       "\n",
       "[6060 rows x 8 columns]"
      ]
     },
     "execution_count": 3,
     "metadata": {},
     "output_type": "execute_result"
    }
   ],
   "source": [
    "df"
   ]
  },
  {
   "cell_type": "code",
   "execution_count": 4,
   "metadata": {
    "ExecuteTime": {
     "end_time": "2023-05-29T12:12:30.245210770Z",
     "start_time": "2023-05-29T12:12:30.218309330Z"
    }
   },
   "outputs": [],
   "source": [
    "# lazy grouping\n",
    "groups = df.groupby('Cancer Type Detailed')\n",
    "group_g = groups.get_group('G')\n",
    "group_a = groups.get_group('A')\n",
    "group_o = groups.get_group('O')"
   ]
  },
  {
   "cell_type": "code",
   "execution_count": 5,
   "metadata": {
    "ExecuteTime": {
     "end_time": "2023-05-29T12:12:30.829208098Z",
     "start_time": "2023-05-29T12:12:30.814657946Z"
    }
   },
   "outputs": [
    {
     "name": "stdout",
     "output_type": "stream",
     "text": [
      "Number of Glioblastoma (G) samples:  1824\n",
      "Number of Astrocytoma (A) samples:  1980\n",
      "Number of Oligodendroglioma (O) samples:  2256\n"
     ]
    }
   ],
   "source": [
    "print(\"Number of Glioblastoma (G) samples: \", len(group_g))\n",
    "print(\"Number of Astrocytoma (A) samples: \", len(group_a))\n",
    "print(\"Number of Oligodendroglioma (O) samples: \", len(group_o))"
   ]
  },
  {
   "cell_type": "markdown",
   "metadata": {},
   "source": [
    "Find the most common value for each mutation for each group"
   ]
  },
  {
   "cell_type": "code",
   "execution_count": 6,
   "metadata": {
    "ExecuteTime": {
     "end_time": "2023-05-29T12:12:33.965841665Z",
     "start_time": "2023-05-29T12:12:33.952296200Z"
    }
   },
   "outputs": [
    {
     "name": "stdout",
     "output_type": "stream",
     "text": [
      "Mutation:  IDH status\n",
      "Values: [ 0.  1. nan]\tCounts: [1088  268  468]\n",
      "Mutation:  IDH-1P10Q Subtype\n",
      "Values: [0 1]\tCounts: [1764   60]\n",
      "Mutation:  ATRX status\n",
      "Values: [ 0.  1. nan]\tCounts: [ 323  217 1284]\n",
      "Mutation:  MGMT promoter status\n",
      "Values: [ 0.  1. nan]\tCounts: [502 551 771]\n",
      "Mutation:  TERT expression status\n",
      "Values: [0 1]\tCounts: [1692  132]\n"
     ]
    },
    {
     "data": {
      "text/plain": [
       "{'IDH status': 0.0,\n",
       " 'IDH-1P10Q Subtype': 0,\n",
       " 'ATRX status': nan,\n",
       " 'MGMT promoter status': nan,\n",
       " 'TERT expression status': 0}"
      ]
     },
     "execution_count": 6,
     "metadata": {},
     "output_type": "execute_result"
    }
   ],
   "source": [
    "group_g_mutations = dict()\n",
    "columns = group_g.columns\n",
    "mutation_names = columns[2:-1]\n",
    "for mutation in mutation_names:\n",
    "    vals, counts = np.unique(group_g[mutation].values, return_counts=True)\n",
    "    print(\"Mutation: \", mutation)\n",
    "    print(f\"Values: {vals}\\tCounts: {counts}\")\n",
    "    most_common = np.argmax(counts)\n",
    "    most_common_val = vals[most_common]\n",
    "    group_g_mutations[mutation] = most_common_val\n",
    "group_g_mutations"
   ]
  },
  {
   "cell_type": "code",
   "execution_count": 7,
   "metadata": {
    "ExecuteTime": {
     "end_time": "2023-05-29T12:12:34.630482220Z",
     "start_time": "2023-05-29T12:12:34.603607870Z"
    }
   },
   "outputs": [
    {
     "name": "stdout",
     "output_type": "stream",
     "text": [
      "Mutation:  IDH status\n",
      "Values: [ 0.  1. nan]\tCounts: [ 567 1346   67]\n",
      "Mutation:  IDH-1P10Q Subtype\n",
      "Values: [0 1]\tCounts: [1857  123]\n",
      "Mutation:  ATRX status\n",
      "Values: [ 0.  1. nan]\tCounts: [ 783 1130   67]\n",
      "Mutation:  MGMT promoter status\n",
      "Values: [0. 1.]\tCounts: [ 627 1353]\n",
      "Mutation:  TERT expression status\n",
      "Values: [0 1]\tCounts: [1735  245]\n"
     ]
    },
    {
     "data": {
      "text/plain": [
       "{'IDH status': 1.0,\n",
       " 'IDH-1P10Q Subtype': 0,\n",
       " 'ATRX status': 1.0,\n",
       " 'MGMT promoter status': 1.0,\n",
       " 'TERT expression status': 0}"
      ]
     },
     "execution_count": 7,
     "metadata": {},
     "output_type": "execute_result"
    }
   ],
   "source": [
    "group_a_mutations = dict()\n",
    "columns = group_a.columns\n",
    "mutation_names = columns[2:-1]\n",
    "for mutation in mutation_names:\n",
    "    vals, counts = np.unique(group_a[mutation].values, return_counts=True)\n",
    "    print(\"Mutation: \", mutation)\n",
    "    print(f\"Values: {vals}\\tCounts: {counts}\")\n",
    "    most_common = np.argmax(counts)\n",
    "    most_common_val = vals[most_common]\n",
    "    group_a_mutations[mutation] = most_common_val\n",
    "group_a_mutations"
   ]
  },
  {
   "cell_type": "code",
   "execution_count": 8,
   "metadata": {
    "ExecuteTime": {
     "end_time": "2023-05-29T12:12:35.608857536Z",
     "start_time": "2023-05-29T12:12:35.593332883Z"
    }
   },
   "outputs": [
    {
     "name": "stdout",
     "output_type": "stream",
     "text": [
      "Mutation:  IDH status\n",
      "Values: [0. 1.]\tCounts: [ 128 2128]\n",
      "Mutation:  IDH-1P10Q Subtype\n",
      "Values: [0 1]\tCounts: [ 439 1817]\n",
      "Mutation:  ATRX status\n",
      "Values: [0. 1.]\tCounts: [1816  440]\n",
      "Mutation:  MGMT promoter status\n",
      "Values: [0. 1.]\tCounts: [  26 2230]\n",
      "Mutation:  TERT expression status\n",
      "Values: [0 1]\tCounts: [ 693 1563]\n"
     ]
    },
    {
     "data": {
      "text/plain": [
       "{'IDH status': 1.0,\n",
       " 'IDH-1P10Q Subtype': 1,\n",
       " 'ATRX status': 0.0,\n",
       " 'MGMT promoter status': 1.0,\n",
       " 'TERT expression status': 1}"
      ]
     },
     "execution_count": 8,
     "metadata": {},
     "output_type": "execute_result"
    }
   ],
   "source": [
    "group_o_mutations = dict()\n",
    "columns = group_o.columns\n",
    "mutation_names = columns[2:-1]\n",
    "for mutation in mutation_names:\n",
    "    vals, counts = np.unique(group_o[mutation].values, return_counts=True)\n",
    "    print(\"Mutation: \", mutation)\n",
    "    print(f\"Values: {vals}\\tCounts: {counts}\")\n",
    "    most_common = np.argmax(counts)\n",
    "    most_common_val = vals[most_common]\n",
    "    group_o_mutations[mutation] = most_common_val\n",
    "group_o_mutations"
   ]
  },
  {
   "cell_type": "markdown",
   "metadata": {},
   "source": [
    "We need to add the ATRX mutation status to 1 (mutated/lost) for NaN values in the ATRX column of all samples that have Glioblastoma (GBM)\n",
    "Reference: [CNS 2021 WHO guidelines](https://www.ncbi.nlm.nih.gov/pmc/articles/PMC8328013/)"
   ]
  },
  {
   "cell_type": "code",
   "execution_count": 9,
   "metadata": {
    "ExecuteTime": {
     "end_time": "2023-05-29T12:56:57.049131214Z",
     "start_time": "2023-05-29T12:56:57.001623669Z"
    }
   },
   "outputs": [
    {
     "name": "stderr",
     "output_type": "stream",
     "text": [
      "C:\\Users\\ARIJIT\\AppData\\Local\\Temp\\ipykernel_5128\\224537689.py:2: SettingWithCopyWarning: \n",
      "A value is trying to be set on a copy of a slice from a DataFrame.\n",
      "Try using .loc[row_indexer,col_indexer] = value instead\n",
      "\n",
      "See the caveats in the documentation: https://pandas.pydata.org/pandas-docs/stable/user_guide/indexing.html#returning-a-view-versus-a-copy\n",
      "  group_g['ATRX status'] = group_g['ATRX status'].fillna(1)\n"
     ]
    }
   ],
   "source": [
    "# Fill missing ATRX value of group G\n",
    "group_g['ATRX status'] = group_g['ATRX status'].fillna(1)"
   ]
  },
  {
   "cell_type": "markdown",
   "metadata": {},
   "source": [
    "For the MGMT status in Glioblastoma group, we need to replace NaN values with 1 values as most GBMs have MGMT status 1 (methylated)"
   ]
  },
  {
   "cell_type": "code",
   "execution_count": 10,
   "metadata": {
    "ExecuteTime": {
     "end_time": "2023-05-29T12:57:00.826116775Z",
     "start_time": "2023-05-29T12:57:00.782688105Z"
    }
   },
   "outputs": [
    {
     "name": "stderr",
     "output_type": "stream",
     "text": [
      "C:\\Users\\ARIJIT\\AppData\\Local\\Temp\\ipykernel_5128\\3858921286.py:2: SettingWithCopyWarning: \n",
      "A value is trying to be set on a copy of a slice from a DataFrame.\n",
      "Try using .loc[row_indexer,col_indexer] = value instead\n",
      "\n",
      "See the caveats in the documentation: https://pandas.pydata.org/pandas-docs/stable/user_guide/indexing.html#returning-a-view-versus-a-copy\n",
      "  group_g['MGMT promoter status'] = group_g['MGMT promoter status'].fillna(1)\n"
     ]
    },
    {
     "data": {
      "text/html": [
       "<div>\n",
       "<style scoped>\n",
       "    .dataframe tbody tr th:only-of-type {\n",
       "        vertical-align: middle;\n",
       "    }\n",
       "\n",
       "    .dataframe tbody tr th {\n",
       "        vertical-align: top;\n",
       "    }\n",
       "\n",
       "    .dataframe thead th {\n",
       "        text-align: right;\n",
       "    }\n",
       "</style>\n",
       "<table border=\"1\" class=\"dataframe\">\n",
       "  <thead>\n",
       "    <tr style=\"text-align: right;\">\n",
       "      <th></th>\n",
       "      <th>Patient ID</th>\n",
       "      <th>image_path</th>\n",
       "      <th>IDH status</th>\n",
       "      <th>IDH-1P10Q Subtype</th>\n",
       "      <th>ATRX status</th>\n",
       "      <th>MGMT promoter status</th>\n",
       "      <th>TERT expression status</th>\n",
       "      <th>Cancer Type Detailed</th>\n",
       "    </tr>\n",
       "  </thead>\n",
       "  <tbody>\n",
       "    <tr>\n",
       "      <th>0</th>\n",
       "      <td>0_0_TCGA-02-0006_BS1_001</td>\n",
       "      <td>data_small/0_0_TCGA-02-0006_BS1_001.jpg</td>\n",
       "      <td>0.0</td>\n",
       "      <td>0</td>\n",
       "      <td>1.0</td>\n",
       "      <td>0.0</td>\n",
       "      <td>0</td>\n",
       "      <td>G</td>\n",
       "    </tr>\n",
       "    <tr>\n",
       "      <th>1</th>\n",
       "      <td>0_0_TCGA-02-0007_BS1_001</td>\n",
       "      <td>data_small/0_0_TCGA-02-0007_BS1_001.jpg</td>\n",
       "      <td>0.0</td>\n",
       "      <td>0</td>\n",
       "      <td>1.0</td>\n",
       "      <td>0.0</td>\n",
       "      <td>0</td>\n",
       "      <td>G</td>\n",
       "    </tr>\n",
       "    <tr>\n",
       "      <th>2</th>\n",
       "      <td>0_0_TCGA-02-0010_BS1_001</td>\n",
       "      <td>data_small/0_0_TCGA-02-0010_BS1_001.jpg</td>\n",
       "      <td>1.0</td>\n",
       "      <td>0</td>\n",
       "      <td>1.0</td>\n",
       "      <td>0.0</td>\n",
       "      <td>0</td>\n",
       "      <td>G</td>\n",
       "    </tr>\n",
       "    <tr>\n",
       "      <th>3</th>\n",
       "      <td>0_0_TCGA-02-0010_BS1_001_3</td>\n",
       "      <td>data_small/0_0_TCGA-02-0010_BS1_001_3.jpg</td>\n",
       "      <td>1.0</td>\n",
       "      <td>0</td>\n",
       "      <td>1.0</td>\n",
       "      <td>0.0</td>\n",
       "      <td>0</td>\n",
       "      <td>G</td>\n",
       "    </tr>\n",
       "    <tr>\n",
       "      <th>4</th>\n",
       "      <td>0_0_TCGA-02-0016_BS1_001</td>\n",
       "      <td>data_small/0_0_TCGA-02-0016_BS1_001.jpg</td>\n",
       "      <td>0.0</td>\n",
       "      <td>0</td>\n",
       "      <td>1.0</td>\n",
       "      <td>1.0</td>\n",
       "      <td>0</td>\n",
       "      <td>G</td>\n",
       "    </tr>\n",
       "    <tr>\n",
       "      <th>...</th>\n",
       "      <td>...</td>\n",
       "      <td>...</td>\n",
       "      <td>...</td>\n",
       "      <td>...</td>\n",
       "      <td>...</td>\n",
       "      <td>...</td>\n",
       "      <td>...</td>\n",
       "      <td>...</td>\n",
       "    </tr>\n",
       "    <tr>\n",
       "      <th>5421</th>\n",
       "      <td>3_2_TCGA-02-0099_BS1_002_3</td>\n",
       "      <td>data_small/3_2_TCGA-02-0099_BS1_002_3.jpg</td>\n",
       "      <td>0.0</td>\n",
       "      <td>0</td>\n",
       "      <td>1.0</td>\n",
       "      <td>1.0</td>\n",
       "      <td>0</td>\n",
       "      <td>G</td>\n",
       "    </tr>\n",
       "    <tr>\n",
       "      <th>5422</th>\n",
       "      <td>3_2_TCGA-02-0099_BS1_003_3</td>\n",
       "      <td>data_small/3_2_TCGA-02-0099_BS1_003_3.jpg</td>\n",
       "      <td>0.0</td>\n",
       "      <td>0</td>\n",
       "      <td>1.0</td>\n",
       "      <td>1.0</td>\n",
       "      <td>0</td>\n",
       "      <td>G</td>\n",
       "    </tr>\n",
       "    <tr>\n",
       "      <th>5423</th>\n",
       "      <td>3_2_TCGA-06-6694_BS1_001_3</td>\n",
       "      <td>data_small/3_2_TCGA-06-6694_BS1_001_3.jpg</td>\n",
       "      <td>0.0</td>\n",
       "      <td>0</td>\n",
       "      <td>0.0</td>\n",
       "      <td>1.0</td>\n",
       "      <td>0</td>\n",
       "      <td>G</td>\n",
       "    </tr>\n",
       "    <tr>\n",
       "      <th>5424</th>\n",
       "      <td>3_2_TCGA-06-6701_BS1_001_3</td>\n",
       "      <td>data_small/3_2_TCGA-06-6701_BS1_001_3.jpg</td>\n",
       "      <td>1.0</td>\n",
       "      <td>0</td>\n",
       "      <td>1.0</td>\n",
       "      <td>1.0</td>\n",
       "      <td>0</td>\n",
       "      <td>G</td>\n",
       "    </tr>\n",
       "    <tr>\n",
       "      <th>5425</th>\n",
       "      <td>3_2_TCGA-06-A5U0_TS1_001_3</td>\n",
       "      <td>data_small/3_2_TCGA-06-A5U0_TS1_001_3.jpg</td>\n",
       "      <td>0.0</td>\n",
       "      <td>0</td>\n",
       "      <td>1.0</td>\n",
       "      <td>1.0</td>\n",
       "      <td>0</td>\n",
       "      <td>G</td>\n",
       "    </tr>\n",
       "  </tbody>\n",
       "</table>\n",
       "<p>1824 rows × 8 columns</p>\n",
       "</div>"
      ],
      "text/plain": [
       "                      Patient ID                                 image_path  \\\n",
       "0       0_0_TCGA-02-0006_BS1_001    data_small/0_0_TCGA-02-0006_BS1_001.jpg   \n",
       "1       0_0_TCGA-02-0007_BS1_001    data_small/0_0_TCGA-02-0007_BS1_001.jpg   \n",
       "2       0_0_TCGA-02-0010_BS1_001    data_small/0_0_TCGA-02-0010_BS1_001.jpg   \n",
       "3     0_0_TCGA-02-0010_BS1_001_3  data_small/0_0_TCGA-02-0010_BS1_001_3.jpg   \n",
       "4       0_0_TCGA-02-0016_BS1_001    data_small/0_0_TCGA-02-0016_BS1_001.jpg   \n",
       "...                          ...                                        ...   \n",
       "5421  3_2_TCGA-02-0099_BS1_002_3  data_small/3_2_TCGA-02-0099_BS1_002_3.jpg   \n",
       "5422  3_2_TCGA-02-0099_BS1_003_3  data_small/3_2_TCGA-02-0099_BS1_003_3.jpg   \n",
       "5423  3_2_TCGA-06-6694_BS1_001_3  data_small/3_2_TCGA-06-6694_BS1_001_3.jpg   \n",
       "5424  3_2_TCGA-06-6701_BS1_001_3  data_small/3_2_TCGA-06-6701_BS1_001_3.jpg   \n",
       "5425  3_2_TCGA-06-A5U0_TS1_001_3  data_small/3_2_TCGA-06-A5U0_TS1_001_3.jpg   \n",
       "\n",
       "      IDH status  IDH-1P10Q Subtype  ATRX status  MGMT promoter status  \\\n",
       "0            0.0                  0          1.0                   0.0   \n",
       "1            0.0                  0          1.0                   0.0   \n",
       "2            1.0                  0          1.0                   0.0   \n",
       "3            1.0                  0          1.0                   0.0   \n",
       "4            0.0                  0          1.0                   1.0   \n",
       "...          ...                ...          ...                   ...   \n",
       "5421         0.0                  0          1.0                   1.0   \n",
       "5422         0.0                  0          1.0                   1.0   \n",
       "5423         0.0                  0          0.0                   1.0   \n",
       "5424         1.0                  0          1.0                   1.0   \n",
       "5425         0.0                  0          1.0                   1.0   \n",
       "\n",
       "      TERT expression status Cancer Type Detailed  \n",
       "0                          0                    G  \n",
       "1                          0                    G  \n",
       "2                          0                    G  \n",
       "3                          0                    G  \n",
       "4                          0                    G  \n",
       "...                      ...                  ...  \n",
       "5421                       0                    G  \n",
       "5422                       0                    G  \n",
       "5423                       0                    G  \n",
       "5424                       0                    G  \n",
       "5425                       0                    G  \n",
       "\n",
       "[1824 rows x 8 columns]"
      ]
     },
     "execution_count": 10,
     "metadata": {},
     "output_type": "execute_result"
    }
   ],
   "source": [
    "# Fill missing MGMT value of Group G\n",
    "group_g['MGMT promoter status'] = group_g['MGMT promoter status'].fillna(1)\n",
    "group_g"
   ]
  },
  {
   "cell_type": "markdown",
   "metadata": {},
   "source": [
    "For Group G, the IDH status should be 0 (wildtype). We fill all Nan IDH status for Group G with 0"
   ]
  },
  {
   "cell_type": "code",
   "execution_count": 11,
   "metadata": {
    "ExecuteTime": {
     "end_time": "2023-05-29T12:57:24.736504502Z",
     "start_time": "2023-05-29T12:57:24.703617053Z"
    }
   },
   "outputs": [
    {
     "name": "stderr",
     "output_type": "stream",
     "text": [
      "C:\\Users\\ARIJIT\\AppData\\Local\\Temp\\ipykernel_5128\\4045271657.py:1: SettingWithCopyWarning: \n",
      "A value is trying to be set on a copy of a slice from a DataFrame.\n",
      "Try using .loc[row_indexer,col_indexer] = value instead\n",
      "\n",
      "See the caveats in the documentation: https://pandas.pydata.org/pandas-docs/stable/user_guide/indexing.html#returning-a-view-versus-a-copy\n",
      "  group_g['IDH status'] = group_g['IDH status'].fillna(0)\n"
     ]
    }
   ],
   "source": [
    "group_g['IDH status'] = group_g['IDH status'].fillna(0)"
   ]
  },
  {
   "cell_type": "markdown",
   "metadata": {},
   "source": [
    "For Group A, there are two mutations having NaN values - IDH status and ATRX. We will missing IDH status with 1 and missing ATRX status with 1 as majority is 1 for both mutations"
   ]
  },
  {
   "cell_type": "code",
   "execution_count": 12,
   "metadata": {
    "ExecuteTime": {
     "end_time": "2023-05-29T12:57:26.498188780Z",
     "start_time": "2023-05-29T12:57:26.477696643Z"
    }
   },
   "outputs": [
    {
     "name": "stderr",
     "output_type": "stream",
     "text": [
      "C:\\Users\\ARIJIT\\AppData\\Local\\Temp\\ipykernel_5128\\2224564653.py:1: SettingWithCopyWarning: \n",
      "A value is trying to be set on a copy of a slice from a DataFrame.\n",
      "Try using .loc[row_indexer,col_indexer] = value instead\n",
      "\n",
      "See the caveats in the documentation: https://pandas.pydata.org/pandas-docs/stable/user_guide/indexing.html#returning-a-view-versus-a-copy\n",
      "  group_a['IDH status'] = group_a['IDH status'].fillna(1)\n",
      "C:\\Users\\ARIJIT\\AppData\\Local\\Temp\\ipykernel_5128\\2224564653.py:2: SettingWithCopyWarning: \n",
      "A value is trying to be set on a copy of a slice from a DataFrame.\n",
      "Try using .loc[row_indexer,col_indexer] = value instead\n",
      "\n",
      "See the caveats in the documentation: https://pandas.pydata.org/pandas-docs/stable/user_guide/indexing.html#returning-a-view-versus-a-copy\n",
      "  group_a['ATRX status'] = group_a['ATRX status'].fillna(1)\n"
     ]
    }
   ],
   "source": [
    "group_a['IDH status'] = group_a['IDH status'].fillna(1)\n",
    "group_a['ATRX status'] = group_a['ATRX status'].fillna(1)"
   ]
  },
  {
   "cell_type": "markdown",
   "metadata": {},
   "source": [
    "Now we need to combine the three groups into one dataframe and then write it into a csv file."
   ]
  },
  {
   "cell_type": "code",
   "execution_count": 13,
   "metadata": {
    "ExecuteTime": {
     "end_time": "2023-05-29T12:59:58.288225164Z",
     "start_time": "2023-05-29T12:59:58.230491032Z"
    }
   },
   "outputs": [
    {
     "name": "stderr",
     "output_type": "stream",
     "text": [
      "C:\\Users\\ARIJIT\\AppData\\Local\\Temp\\ipykernel_5128\\2911700139.py:1: FutureWarning: The frame.append method is deprecated and will be removed from pandas in a future version. Use pandas.concat instead.\n",
      "  group_g = group_g.append(group_a)\n",
      "C:\\Users\\ARIJIT\\AppData\\Local\\Temp\\ipykernel_5128\\2911700139.py:2: FutureWarning: The frame.append method is deprecated and will be removed from pandas in a future version. Use pandas.concat instead.\n",
      "  group_g = group_g.append(group_o)\n"
     ]
    },
    {
     "data": {
      "text/html": [
       "<div>\n",
       "<style scoped>\n",
       "    .dataframe tbody tr th:only-of-type {\n",
       "        vertical-align: middle;\n",
       "    }\n",
       "\n",
       "    .dataframe tbody tr th {\n",
       "        vertical-align: top;\n",
       "    }\n",
       "\n",
       "    .dataframe thead th {\n",
       "        text-align: right;\n",
       "    }\n",
       "</style>\n",
       "<table border=\"1\" class=\"dataframe\">\n",
       "  <thead>\n",
       "    <tr style=\"text-align: right;\">\n",
       "      <th></th>\n",
       "      <th>Patient ID</th>\n",
       "      <th>image_path</th>\n",
       "      <th>IDH status</th>\n",
       "      <th>IDH-1P10Q Subtype</th>\n",
       "      <th>ATRX status</th>\n",
       "      <th>MGMT promoter status</th>\n",
       "      <th>TERT expression status</th>\n",
       "      <th>Cancer Type Detailed</th>\n",
       "    </tr>\n",
       "  </thead>\n",
       "  <tbody>\n",
       "    <tr>\n",
       "      <th>0</th>\n",
       "      <td>0_0_TCGA-02-0006_BS1_001</td>\n",
       "      <td>data_small/0_0_TCGA-02-0006_BS1_001.jpg</td>\n",
       "      <td>0.0</td>\n",
       "      <td>0</td>\n",
       "      <td>1.0</td>\n",
       "      <td>0.0</td>\n",
       "      <td>0</td>\n",
       "      <td>G</td>\n",
       "    </tr>\n",
       "    <tr>\n",
       "      <th>1</th>\n",
       "      <td>0_0_TCGA-02-0007_BS1_001</td>\n",
       "      <td>data_small/0_0_TCGA-02-0007_BS1_001.jpg</td>\n",
       "      <td>0.0</td>\n",
       "      <td>0</td>\n",
       "      <td>1.0</td>\n",
       "      <td>0.0</td>\n",
       "      <td>0</td>\n",
       "      <td>G</td>\n",
       "    </tr>\n",
       "    <tr>\n",
       "      <th>2</th>\n",
       "      <td>0_0_TCGA-02-0010_BS1_001</td>\n",
       "      <td>data_small/0_0_TCGA-02-0010_BS1_001.jpg</td>\n",
       "      <td>1.0</td>\n",
       "      <td>0</td>\n",
       "      <td>1.0</td>\n",
       "      <td>0.0</td>\n",
       "      <td>0</td>\n",
       "      <td>G</td>\n",
       "    </tr>\n",
       "    <tr>\n",
       "      <th>3</th>\n",
       "      <td>0_0_TCGA-02-0010_BS1_001_3</td>\n",
       "      <td>data_small/0_0_TCGA-02-0010_BS1_001_3.jpg</td>\n",
       "      <td>1.0</td>\n",
       "      <td>0</td>\n",
       "      <td>1.0</td>\n",
       "      <td>0.0</td>\n",
       "      <td>0</td>\n",
       "      <td>G</td>\n",
       "    </tr>\n",
       "    <tr>\n",
       "      <th>4</th>\n",
       "      <td>0_0_TCGA-02-0016_BS1_001</td>\n",
       "      <td>data_small/0_0_TCGA-02-0016_BS1_001.jpg</td>\n",
       "      <td>0.0</td>\n",
       "      <td>0</td>\n",
       "      <td>1.0</td>\n",
       "      <td>1.0</td>\n",
       "      <td>0</td>\n",
       "      <td>G</td>\n",
       "    </tr>\n",
       "    <tr>\n",
       "      <th>...</th>\n",
       "      <td>...</td>\n",
       "      <td>...</td>\n",
       "      <td>...</td>\n",
       "      <td>...</td>\n",
       "      <td>...</td>\n",
       "      <td>...</td>\n",
       "      <td>...</td>\n",
       "      <td>...</td>\n",
       "    </tr>\n",
       "    <tr>\n",
       "      <th>6055</th>\n",
       "      <td>7_2_TCGA-HT-7603_BS1_001_3</td>\n",
       "      <td>data_small/7_2_TCGA-HT-7603_BS1_001_3.jpg</td>\n",
       "      <td>1.0</td>\n",
       "      <td>0</td>\n",
       "      <td>1.0</td>\n",
       "      <td>1.0</td>\n",
       "      <td>0</td>\n",
       "      <td>O</td>\n",
       "    </tr>\n",
       "    <tr>\n",
       "      <th>6056</th>\n",
       "      <td>7_2_TCGA-HT-7605_BS1_001_3</td>\n",
       "      <td>data_small/7_2_TCGA-HT-7605_BS1_001_3.jpg</td>\n",
       "      <td>1.0</td>\n",
       "      <td>1</td>\n",
       "      <td>0.0</td>\n",
       "      <td>1.0</td>\n",
       "      <td>0</td>\n",
       "      <td>O</td>\n",
       "    </tr>\n",
       "    <tr>\n",
       "      <th>6057</th>\n",
       "      <td>7_2_TCGA-HT-7616_BS1_001_3</td>\n",
       "      <td>data_small/7_2_TCGA-HT-7616_BS1_001_3.jpg</td>\n",
       "      <td>1.0</td>\n",
       "      <td>1</td>\n",
       "      <td>0.0</td>\n",
       "      <td>1.0</td>\n",
       "      <td>0</td>\n",
       "      <td>O</td>\n",
       "    </tr>\n",
       "    <tr>\n",
       "      <th>6058</th>\n",
       "      <td>7_2_TCGA-HT-7677_BS1_001_3</td>\n",
       "      <td>data_small/7_2_TCGA-HT-7677_BS1_001_3.jpg</td>\n",
       "      <td>1.0</td>\n",
       "      <td>1</td>\n",
       "      <td>0.0</td>\n",
       "      <td>1.0</td>\n",
       "      <td>1</td>\n",
       "      <td>O</td>\n",
       "    </tr>\n",
       "    <tr>\n",
       "      <th>6059</th>\n",
       "      <td>7_3_TCGA-EZ-7264_BS1_001_3</td>\n",
       "      <td>data_small/7_3_TCGA-EZ-7264_BS1_001_3.jpg</td>\n",
       "      <td>1.0</td>\n",
       "      <td>1</td>\n",
       "      <td>0.0</td>\n",
       "      <td>1.0</td>\n",
       "      <td>1</td>\n",
       "      <td>O</td>\n",
       "    </tr>\n",
       "  </tbody>\n",
       "</table>\n",
       "<p>6060 rows × 8 columns</p>\n",
       "</div>"
      ],
      "text/plain": [
       "                      Patient ID                                 image_path  \\\n",
       "0       0_0_TCGA-02-0006_BS1_001    data_small/0_0_TCGA-02-0006_BS1_001.jpg   \n",
       "1       0_0_TCGA-02-0007_BS1_001    data_small/0_0_TCGA-02-0007_BS1_001.jpg   \n",
       "2       0_0_TCGA-02-0010_BS1_001    data_small/0_0_TCGA-02-0010_BS1_001.jpg   \n",
       "3     0_0_TCGA-02-0010_BS1_001_3  data_small/0_0_TCGA-02-0010_BS1_001_3.jpg   \n",
       "4       0_0_TCGA-02-0016_BS1_001    data_small/0_0_TCGA-02-0016_BS1_001.jpg   \n",
       "...                          ...                                        ...   \n",
       "6055  7_2_TCGA-HT-7603_BS1_001_3  data_small/7_2_TCGA-HT-7603_BS1_001_3.jpg   \n",
       "6056  7_2_TCGA-HT-7605_BS1_001_3  data_small/7_2_TCGA-HT-7605_BS1_001_3.jpg   \n",
       "6057  7_2_TCGA-HT-7616_BS1_001_3  data_small/7_2_TCGA-HT-7616_BS1_001_3.jpg   \n",
       "6058  7_2_TCGA-HT-7677_BS1_001_3  data_small/7_2_TCGA-HT-7677_BS1_001_3.jpg   \n",
       "6059  7_3_TCGA-EZ-7264_BS1_001_3  data_small/7_3_TCGA-EZ-7264_BS1_001_3.jpg   \n",
       "\n",
       "      IDH status  IDH-1P10Q Subtype  ATRX status  MGMT promoter status  \\\n",
       "0            0.0                  0          1.0                   0.0   \n",
       "1            0.0                  0          1.0                   0.0   \n",
       "2            1.0                  0          1.0                   0.0   \n",
       "3            1.0                  0          1.0                   0.0   \n",
       "4            0.0                  0          1.0                   1.0   \n",
       "...          ...                ...          ...                   ...   \n",
       "6055         1.0                  0          1.0                   1.0   \n",
       "6056         1.0                  1          0.0                   1.0   \n",
       "6057         1.0                  1          0.0                   1.0   \n",
       "6058         1.0                  1          0.0                   1.0   \n",
       "6059         1.0                  1          0.0                   1.0   \n",
       "\n",
       "      TERT expression status Cancer Type Detailed  \n",
       "0                          0                    G  \n",
       "1                          0                    G  \n",
       "2                          0                    G  \n",
       "3                          0                    G  \n",
       "4                          0                    G  \n",
       "...                      ...                  ...  \n",
       "6055                       0                    O  \n",
       "6056                       0                    O  \n",
       "6057                       0                    O  \n",
       "6058                       1                    O  \n",
       "6059                       1                    O  \n",
       "\n",
       "[6060 rows x 8 columns]"
      ]
     },
     "execution_count": 13,
     "metadata": {},
     "output_type": "execute_result"
    }
   ],
   "source": [
    "group_g = group_g.append(group_a)\n",
    "group_g = group_g.append(group_o)\n",
    "group_g"
   ]
  },
  {
   "cell_type": "code",
   "execution_count": 14,
   "metadata": {
    "ExecuteTime": {
     "end_time": "2023-05-29T12:59:59.606646416Z",
     "start_time": "2023-05-29T12:59:59.575161266Z"
    }
   },
   "outputs": [
    {
     "data": {
      "text/plain": [
       "Patient ID                0\n",
       "image_path                0\n",
       "IDH status                0\n",
       "IDH-1P10Q Subtype         0\n",
       "ATRX status               0\n",
       "MGMT promoter status      0\n",
       "TERT expression status    0\n",
       "Cancer Type Detailed      0\n",
       "dtype: int64"
      ]
     },
     "execution_count": 14,
     "metadata": {},
     "output_type": "execute_result"
    }
   ],
   "source": [
    "group_g.isna().sum()"
   ]
  },
  {
   "cell_type": "code",
   "execution_count": 15,
   "metadata": {
    "ExecuteTime": {
     "end_time": "2023-05-29T13:00:11.251524287Z",
     "start_time": "2023-05-29T13:00:10.887177808Z"
    }
   },
   "outputs": [
    {
     "data": {
      "text/html": [
       "<div>\n",
       "<style scoped>\n",
       "    .dataframe tbody tr th:only-of-type {\n",
       "        vertical-align: middle;\n",
       "    }\n",
       "\n",
       "    .dataframe tbody tr th {\n",
       "        vertical-align: top;\n",
       "    }\n",
       "\n",
       "    .dataframe thead th {\n",
       "        text-align: right;\n",
       "    }\n",
       "</style>\n",
       "<table border=\"1\" class=\"dataframe\">\n",
       "  <thead>\n",
       "    <tr style=\"text-align: right;\">\n",
       "      <th></th>\n",
       "      <th>Patient ID</th>\n",
       "      <th>image_path</th>\n",
       "      <th>IDH status</th>\n",
       "      <th>IDH-1P10Q Subtype</th>\n",
       "      <th>ATRX status</th>\n",
       "      <th>MGMT promoter status</th>\n",
       "      <th>TERT expression status</th>\n",
       "      <th>Cancer Type Detailed</th>\n",
       "    </tr>\n",
       "  </thead>\n",
       "  <tbody>\n",
       "    <tr>\n",
       "      <th>0</th>\n",
       "      <td>0_0_TCGA-02-0006_BS1_001</td>\n",
       "      <td>data_small/0_0_TCGA-02-0006_BS1_001.jpg</td>\n",
       "      <td>0.0</td>\n",
       "      <td>0</td>\n",
       "      <td>1.0</td>\n",
       "      <td>0.0</td>\n",
       "      <td>0</td>\n",
       "      <td>G</td>\n",
       "    </tr>\n",
       "    <tr>\n",
       "      <th>1</th>\n",
       "      <td>0_0_TCGA-02-0007_BS1_001</td>\n",
       "      <td>data_small/0_0_TCGA-02-0007_BS1_001.jpg</td>\n",
       "      <td>0.0</td>\n",
       "      <td>0</td>\n",
       "      <td>1.0</td>\n",
       "      <td>0.0</td>\n",
       "      <td>0</td>\n",
       "      <td>G</td>\n",
       "    </tr>\n",
       "    <tr>\n",
       "      <th>2</th>\n",
       "      <td>0_0_TCGA-02-0010_BS1_001</td>\n",
       "      <td>data_small/0_0_TCGA-02-0010_BS1_001.jpg</td>\n",
       "      <td>1.0</td>\n",
       "      <td>0</td>\n",
       "      <td>1.0</td>\n",
       "      <td>0.0</td>\n",
       "      <td>0</td>\n",
       "      <td>G</td>\n",
       "    </tr>\n",
       "    <tr>\n",
       "      <th>3</th>\n",
       "      <td>0_0_TCGA-02-0010_BS1_001_3</td>\n",
       "      <td>data_small/0_0_TCGA-02-0010_BS1_001_3.jpg</td>\n",
       "      <td>1.0</td>\n",
       "      <td>0</td>\n",
       "      <td>1.0</td>\n",
       "      <td>0.0</td>\n",
       "      <td>0</td>\n",
       "      <td>G</td>\n",
       "    </tr>\n",
       "    <tr>\n",
       "      <th>4</th>\n",
       "      <td>0_0_TCGA-02-0016_BS1_001</td>\n",
       "      <td>data_small/0_0_TCGA-02-0016_BS1_001.jpg</td>\n",
       "      <td>0.0</td>\n",
       "      <td>0</td>\n",
       "      <td>1.0</td>\n",
       "      <td>1.0</td>\n",
       "      <td>0</td>\n",
       "      <td>G</td>\n",
       "    </tr>\n",
       "    <tr>\n",
       "      <th>...</th>\n",
       "      <td>...</td>\n",
       "      <td>...</td>\n",
       "      <td>...</td>\n",
       "      <td>...</td>\n",
       "      <td>...</td>\n",
       "      <td>...</td>\n",
       "      <td>...</td>\n",
       "      <td>...</td>\n",
       "    </tr>\n",
       "    <tr>\n",
       "      <th>6055</th>\n",
       "      <td>7_2_TCGA-HT-7603_BS1_001_3</td>\n",
       "      <td>data_small/7_2_TCGA-HT-7603_BS1_001_3.jpg</td>\n",
       "      <td>1.0</td>\n",
       "      <td>0</td>\n",
       "      <td>1.0</td>\n",
       "      <td>1.0</td>\n",
       "      <td>0</td>\n",
       "      <td>O</td>\n",
       "    </tr>\n",
       "    <tr>\n",
       "      <th>6056</th>\n",
       "      <td>7_2_TCGA-HT-7605_BS1_001_3</td>\n",
       "      <td>data_small/7_2_TCGA-HT-7605_BS1_001_3.jpg</td>\n",
       "      <td>1.0</td>\n",
       "      <td>1</td>\n",
       "      <td>0.0</td>\n",
       "      <td>1.0</td>\n",
       "      <td>0</td>\n",
       "      <td>O</td>\n",
       "    </tr>\n",
       "    <tr>\n",
       "      <th>6057</th>\n",
       "      <td>7_2_TCGA-HT-7616_BS1_001_3</td>\n",
       "      <td>data_small/7_2_TCGA-HT-7616_BS1_001_3.jpg</td>\n",
       "      <td>1.0</td>\n",
       "      <td>1</td>\n",
       "      <td>0.0</td>\n",
       "      <td>1.0</td>\n",
       "      <td>0</td>\n",
       "      <td>O</td>\n",
       "    </tr>\n",
       "    <tr>\n",
       "      <th>6058</th>\n",
       "      <td>7_2_TCGA-HT-7677_BS1_001_3</td>\n",
       "      <td>data_small/7_2_TCGA-HT-7677_BS1_001_3.jpg</td>\n",
       "      <td>1.0</td>\n",
       "      <td>1</td>\n",
       "      <td>0.0</td>\n",
       "      <td>1.0</td>\n",
       "      <td>1</td>\n",
       "      <td>O</td>\n",
       "    </tr>\n",
       "    <tr>\n",
       "      <th>6059</th>\n",
       "      <td>7_3_TCGA-EZ-7264_BS1_001_3</td>\n",
       "      <td>data_small/7_3_TCGA-EZ-7264_BS1_001_3.jpg</td>\n",
       "      <td>1.0</td>\n",
       "      <td>1</td>\n",
       "      <td>0.0</td>\n",
       "      <td>1.0</td>\n",
       "      <td>1</td>\n",
       "      <td>O</td>\n",
       "    </tr>\n",
       "  </tbody>\n",
       "</table>\n",
       "<p>6060 rows × 8 columns</p>\n",
       "</div>"
      ],
      "text/plain": [
       "                      Patient ID                                 image_path  \\\n",
       "0       0_0_TCGA-02-0006_BS1_001    data_small/0_0_TCGA-02-0006_BS1_001.jpg   \n",
       "1       0_0_TCGA-02-0007_BS1_001    data_small/0_0_TCGA-02-0007_BS1_001.jpg   \n",
       "2       0_0_TCGA-02-0010_BS1_001    data_small/0_0_TCGA-02-0010_BS1_001.jpg   \n",
       "3     0_0_TCGA-02-0010_BS1_001_3  data_small/0_0_TCGA-02-0010_BS1_001_3.jpg   \n",
       "4       0_0_TCGA-02-0016_BS1_001    data_small/0_0_TCGA-02-0016_BS1_001.jpg   \n",
       "...                          ...                                        ...   \n",
       "6055  7_2_TCGA-HT-7603_BS1_001_3  data_small/7_2_TCGA-HT-7603_BS1_001_3.jpg   \n",
       "6056  7_2_TCGA-HT-7605_BS1_001_3  data_small/7_2_TCGA-HT-7605_BS1_001_3.jpg   \n",
       "6057  7_2_TCGA-HT-7616_BS1_001_3  data_small/7_2_TCGA-HT-7616_BS1_001_3.jpg   \n",
       "6058  7_2_TCGA-HT-7677_BS1_001_3  data_small/7_2_TCGA-HT-7677_BS1_001_3.jpg   \n",
       "6059  7_3_TCGA-EZ-7264_BS1_001_3  data_small/7_3_TCGA-EZ-7264_BS1_001_3.jpg   \n",
       "\n",
       "      IDH status  IDH-1P10Q Subtype  ATRX status  MGMT promoter status  \\\n",
       "0            0.0                  0          1.0                   0.0   \n",
       "1            0.0                  0          1.0                   0.0   \n",
       "2            1.0                  0          1.0                   0.0   \n",
       "3            1.0                  0          1.0                   0.0   \n",
       "4            0.0                  0          1.0                   1.0   \n",
       "...          ...                ...          ...                   ...   \n",
       "6055         1.0                  0          1.0                   1.0   \n",
       "6056         1.0                  1          0.0                   1.0   \n",
       "6057         1.0                  1          0.0                   1.0   \n",
       "6058         1.0                  1          0.0                   1.0   \n",
       "6059         1.0                  1          0.0                   1.0   \n",
       "\n",
       "      TERT expression status Cancer Type Detailed  \n",
       "0                          0                    G  \n",
       "1                          0                    G  \n",
       "2                          0                    G  \n",
       "3                          0                    G  \n",
       "4                          0                    G  \n",
       "...                      ...                  ...  \n",
       "6055                       0                    O  \n",
       "6056                       0                    O  \n",
       "6057                       0                    O  \n",
       "6058                       1                    O  \n",
       "6059                       1                    O  \n",
       "\n",
       "[6060 rows x 8 columns]"
      ]
     },
     "execution_count": 15,
     "metadata": {},
     "output_type": "execute_result"
    }
   ],
   "source": [
    "group_g['image_path'] = group_g['image_path'].str.replace('data_all', 'data')\n",
    "group_g"
   ]
  },
  {
   "cell_type": "code",
   "execution_count": 16,
   "metadata": {},
   "outputs": [],
   "source": [
    "df.update(group_g)\n",
    "df.update(group_a)\n",
    "df.update(group_o)"
   ]
  },
  {
   "cell_type": "code",
   "execution_count": 17,
   "metadata": {
    "ExecuteTime": {
     "end_time": "2023-05-29T13:00:18.265959345Z",
     "start_time": "2023-05-29T13:00:17.717189850Z"
    }
   },
   "outputs": [],
   "source": [
    "filename = 'mutation_data_small_filled.csv'\n",
    "df.to_csv('./'+filename)"
   ]
  },
  {
   "cell_type": "code",
   "execution_count": null,
   "metadata": {},
   "outputs": [],
   "source": []
  }
 ],
 "metadata": {
  "kernelspec": {
   "display_name": "Python 3 (ipykernel)",
   "language": "python",
   "name": "python3"
  },
  "language_info": {
   "codemirror_mode": {
    "name": "ipython",
    "version": 3
   },
   "file_extension": ".py",
   "mimetype": "text/x-python",
   "name": "python",
   "nbconvert_exporter": "python",
   "pygments_lexer": "ipython3",
   "version": "3.10.11"
  }
 },
 "nbformat": 4,
 "nbformat_minor": 1
}
