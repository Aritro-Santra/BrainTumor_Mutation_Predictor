{
  "nbformat": 4,
  "nbformat_minor": 0,
  "metadata": {
    "colab": {
      "provenance": [],
      "machine_shape": "hm",
      "gpuType": "T4"
    },
    "kernelspec": {
      "name": "python3",
      "display_name": "Python 3"
    },
    "language_info": {
      "name": "python"
    },
    "accelerator": "GPU"
  },
  "cells": [
    {
      "cell_type": "markdown",
      "source": [
        "Basic imports"
      ],
      "metadata": {
        "id": "NPSklRU47bJ2"
      }
    },
    {
      "cell_type": "code",
      "source": [
        "from google.colab import drive\n",
        "drive.mount('/content/drive')"
      ],
      "metadata": {
        "colab": {
          "base_uri": "https://localhost:8080/"
        },
        "id": "bMX4bGNGQgVd",
        "outputId": "c1242dba-452b-4e21-c16e-34ae19bf3e7c"
      },
      "execution_count": 1,
      "outputs": [
        {
          "output_type": "stream",
          "name": "stdout",
          "text": [
            "Mounted at /content/drive\n"
          ]
        }
      ]
    },
    {
      "cell_type": "code",
      "source": [
        "import numpy as np\n",
        "import pandas as pd\n",
        "import matplotlib.pyplot as plt\n",
        "import cv2\n",
        "import os\n",
        "import random\n",
        "import warnings\n",
        "from glob import glob\n",
        "from tqdm import tqdm\n",
        "from PIL import Image\n",
        "from io import BytesIO\n",
        "import base64\n",
        "warnings.filterwarnings(\"ignore\")\n",
        "%matplotlib inline"
      ],
      "metadata": {
        "id": "B77E4cho8sbh"
      },
      "execution_count": 7,
      "outputs": []
    },
    {
      "cell_type": "markdown",
      "source": [
        "Read csv file and image paths"
      ],
      "metadata": {
        "id": "pX5hdcrl9het"
      }
    },
    {
      "cell_type": "code",
      "source": [
        "IMAGE_ROOT = \"/content/drive/MyDrive/input/bt_classifier/Multi_Label_dataset/train\"\n",
        "CSV_PATH = \"/content/drive/MyDrive/input/bt_classifier/Multi_Label_dataset/train_updated_2_missing_value_modify.csv\"\n",
        "\n",
        "df = pd.read_csv(CSV_PATH)\n",
        "image_paths = glob(IMAGE_ROOT + os.sep + \"*.jpg\")"
      ],
      "metadata": {
        "id": "oZtlf_Dc8ugY"
      },
      "execution_count": 35,
      "outputs": []
    },
    {
      "cell_type": "code",
      "source": [
        "df"
      ],
      "metadata": {
        "colab": {
          "base_uri": "https://localhost:8080/",
          "height": 423
        },
        "id": "zHXvNy_E-Oxq",
        "outputId": "48622857-23fb-4e12-b95a-9bdf55319020"
      },
      "execution_count": 36,
      "outputs": [
        {
          "output_type": "execute_result",
          "data": {
            "text/plain": [
              "                      Patient ID  IDH status  IDH-1P10Q Subtype  ATRX status  \\\n",
              "0       0_0_TCGA-02-0006_BS1_001         0.0                0.0          1.0   \n",
              "1       0_0_TCGA-02-0007_BS1_001         0.0                0.0          1.0   \n",
              "2       0_0_TCGA-02-0010_BS1_001         1.0                0.0          1.0   \n",
              "3     0_0_TCGA-02-0010_BS1_001_3         1.0                0.0          1.0   \n",
              "4       0_0_TCGA-02-0016_BS1_001         0.0                0.0          1.0   \n",
              "...                          ...         ...                ...          ...   \n",
              "6055  7_2_TCGA-HT-7603_BS1_001_3         1.0                0.0          1.0   \n",
              "6056  7_2_TCGA-HT-7605_BS1_001_3         1.0                1.0          0.0   \n",
              "6057  7_2_TCGA-HT-7616_BS1_001_3         1.0                1.0          0.0   \n",
              "6058  7_2_TCGA-HT-7677_BS1_001_3         1.0                1.0          0.0   \n",
              "6059  7_3_TCGA-EZ-7264_BS1_001_3         1.0                1.0          0.0   \n",
              "\n",
              "      MGMT promoter status  TERT expression status Cancer Type Detailed  \n",
              "0                      0.0                     0.0                    G  \n",
              "1                      0.0                     0.0                    G  \n",
              "2                      0.0                     0.0                    G  \n",
              "3                      0.0                     0.0                    G  \n",
              "4                      1.0                     0.0                    G  \n",
              "...                    ...                     ...                  ...  \n",
              "6055                   1.0                     0.0                    O  \n",
              "6056                   1.0                     0.0                    O  \n",
              "6057                   1.0                     0.0                    O  \n",
              "6058                   1.0                     1.0                    O  \n",
              "6059                   1.0                     1.0                    O  \n",
              "\n",
              "[6060 rows x 7 columns]"
            ],
            "text/html": [
              "\n",
              "  <div id=\"df-534cfd63-49a8-4b8d-a725-a326c6253fa0\">\n",
              "    <div class=\"colab-df-container\">\n",
              "      <div>\n",
              "<style scoped>\n",
              "    .dataframe tbody tr th:only-of-type {\n",
              "        vertical-align: middle;\n",
              "    }\n",
              "\n",
              "    .dataframe tbody tr th {\n",
              "        vertical-align: top;\n",
              "    }\n",
              "\n",
              "    .dataframe thead th {\n",
              "        text-align: right;\n",
              "    }\n",
              "</style>\n",
              "<table border=\"1\" class=\"dataframe\">\n",
              "  <thead>\n",
              "    <tr style=\"text-align: right;\">\n",
              "      <th></th>\n",
              "      <th>Patient ID</th>\n",
              "      <th>IDH status</th>\n",
              "      <th>IDH-1P10Q Subtype</th>\n",
              "      <th>ATRX status</th>\n",
              "      <th>MGMT promoter status</th>\n",
              "      <th>TERT expression status</th>\n",
              "      <th>Cancer Type Detailed</th>\n",
              "    </tr>\n",
              "  </thead>\n",
              "  <tbody>\n",
              "    <tr>\n",
              "      <th>0</th>\n",
              "      <td>0_0_TCGA-02-0006_BS1_001</td>\n",
              "      <td>0.0</td>\n",
              "      <td>0.0</td>\n",
              "      <td>1.0</td>\n",
              "      <td>0.0</td>\n",
              "      <td>0.0</td>\n",
              "      <td>G</td>\n",
              "    </tr>\n",
              "    <tr>\n",
              "      <th>1</th>\n",
              "      <td>0_0_TCGA-02-0007_BS1_001</td>\n",
              "      <td>0.0</td>\n",
              "      <td>0.0</td>\n",
              "      <td>1.0</td>\n",
              "      <td>0.0</td>\n",
              "      <td>0.0</td>\n",
              "      <td>G</td>\n",
              "    </tr>\n",
              "    <tr>\n",
              "      <th>2</th>\n",
              "      <td>0_0_TCGA-02-0010_BS1_001</td>\n",
              "      <td>1.0</td>\n",
              "      <td>0.0</td>\n",
              "      <td>1.0</td>\n",
              "      <td>0.0</td>\n",
              "      <td>0.0</td>\n",
              "      <td>G</td>\n",
              "    </tr>\n",
              "    <tr>\n",
              "      <th>3</th>\n",
              "      <td>0_0_TCGA-02-0010_BS1_001_3</td>\n",
              "      <td>1.0</td>\n",
              "      <td>0.0</td>\n",
              "      <td>1.0</td>\n",
              "      <td>0.0</td>\n",
              "      <td>0.0</td>\n",
              "      <td>G</td>\n",
              "    </tr>\n",
              "    <tr>\n",
              "      <th>4</th>\n",
              "      <td>0_0_TCGA-02-0016_BS1_001</td>\n",
              "      <td>0.0</td>\n",
              "      <td>0.0</td>\n",
              "      <td>1.0</td>\n",
              "      <td>1.0</td>\n",
              "      <td>0.0</td>\n",
              "      <td>G</td>\n",
              "    </tr>\n",
              "    <tr>\n",
              "      <th>...</th>\n",
              "      <td>...</td>\n",
              "      <td>...</td>\n",
              "      <td>...</td>\n",
              "      <td>...</td>\n",
              "      <td>...</td>\n",
              "      <td>...</td>\n",
              "      <td>...</td>\n",
              "    </tr>\n",
              "    <tr>\n",
              "      <th>6055</th>\n",
              "      <td>7_2_TCGA-HT-7603_BS1_001_3</td>\n",
              "      <td>1.0</td>\n",
              "      <td>0.0</td>\n",
              "      <td>1.0</td>\n",
              "      <td>1.0</td>\n",
              "      <td>0.0</td>\n",
              "      <td>O</td>\n",
              "    </tr>\n",
              "    <tr>\n",
              "      <th>6056</th>\n",
              "      <td>7_2_TCGA-HT-7605_BS1_001_3</td>\n",
              "      <td>1.0</td>\n",
              "      <td>1.0</td>\n",
              "      <td>0.0</td>\n",
              "      <td>1.0</td>\n",
              "      <td>0.0</td>\n",
              "      <td>O</td>\n",
              "    </tr>\n",
              "    <tr>\n",
              "      <th>6057</th>\n",
              "      <td>7_2_TCGA-HT-7616_BS1_001_3</td>\n",
              "      <td>1.0</td>\n",
              "      <td>1.0</td>\n",
              "      <td>0.0</td>\n",
              "      <td>1.0</td>\n",
              "      <td>0.0</td>\n",
              "      <td>O</td>\n",
              "    </tr>\n",
              "    <tr>\n",
              "      <th>6058</th>\n",
              "      <td>7_2_TCGA-HT-7677_BS1_001_3</td>\n",
              "      <td>1.0</td>\n",
              "      <td>1.0</td>\n",
              "      <td>0.0</td>\n",
              "      <td>1.0</td>\n",
              "      <td>1.0</td>\n",
              "      <td>O</td>\n",
              "    </tr>\n",
              "    <tr>\n",
              "      <th>6059</th>\n",
              "      <td>7_3_TCGA-EZ-7264_BS1_001_3</td>\n",
              "      <td>1.0</td>\n",
              "      <td>1.0</td>\n",
              "      <td>0.0</td>\n",
              "      <td>1.0</td>\n",
              "      <td>1.0</td>\n",
              "      <td>O</td>\n",
              "    </tr>\n",
              "  </tbody>\n",
              "</table>\n",
              "<p>6060 rows × 7 columns</p>\n",
              "</div>\n",
              "      <button class=\"colab-df-convert\" onclick=\"convertToInteractive('df-534cfd63-49a8-4b8d-a725-a326c6253fa0')\"\n",
              "              title=\"Convert this dataframe to an interactive table.\"\n",
              "              style=\"display:none;\">\n",
              "        \n",
              "  <svg xmlns=\"http://www.w3.org/2000/svg\" height=\"24px\"viewBox=\"0 0 24 24\"\n",
              "       width=\"24px\">\n",
              "    <path d=\"M0 0h24v24H0V0z\" fill=\"none\"/>\n",
              "    <path d=\"M18.56 5.44l.94 2.06.94-2.06 2.06-.94-2.06-.94-.94-2.06-.94 2.06-2.06.94zm-11 1L8.5 8.5l.94-2.06 2.06-.94-2.06-.94L8.5 2.5l-.94 2.06-2.06.94zm10 10l.94 2.06.94-2.06 2.06-.94-2.06-.94-.94-2.06-.94 2.06-2.06.94z\"/><path d=\"M17.41 7.96l-1.37-1.37c-.4-.4-.92-.59-1.43-.59-.52 0-1.04.2-1.43.59L10.3 9.45l-7.72 7.72c-.78.78-.78 2.05 0 2.83L4 21.41c.39.39.9.59 1.41.59.51 0 1.02-.2 1.41-.59l7.78-7.78 2.81-2.81c.8-.78.8-2.07 0-2.86zM5.41 20L4 18.59l7.72-7.72 1.47 1.35L5.41 20z\"/>\n",
              "  </svg>\n",
              "      </button>\n",
              "      \n",
              "  <style>\n",
              "    .colab-df-container {\n",
              "      display:flex;\n",
              "      flex-wrap:wrap;\n",
              "      gap: 12px;\n",
              "    }\n",
              "\n",
              "    .colab-df-convert {\n",
              "      background-color: #E8F0FE;\n",
              "      border: none;\n",
              "      border-radius: 50%;\n",
              "      cursor: pointer;\n",
              "      display: none;\n",
              "      fill: #1967D2;\n",
              "      height: 32px;\n",
              "      padding: 0 0 0 0;\n",
              "      width: 32px;\n",
              "    }\n",
              "\n",
              "    .colab-df-convert:hover {\n",
              "      background-color: #E2EBFA;\n",
              "      box-shadow: 0px 1px 2px rgba(60, 64, 67, 0.3), 0px 1px 3px 1px rgba(60, 64, 67, 0.15);\n",
              "      fill: #174EA6;\n",
              "    }\n",
              "\n",
              "    [theme=dark] .colab-df-convert {\n",
              "      background-color: #3B4455;\n",
              "      fill: #D2E3FC;\n",
              "    }\n",
              "\n",
              "    [theme=dark] .colab-df-convert:hover {\n",
              "      background-color: #434B5C;\n",
              "      box-shadow: 0px 1px 3px 1px rgba(0, 0, 0, 0.15);\n",
              "      filter: drop-shadow(0px 1px 2px rgba(0, 0, 0, 0.3));\n",
              "      fill: #FFFFFF;\n",
              "    }\n",
              "  </style>\n",
              "\n",
              "      <script>\n",
              "        const buttonEl =\n",
              "          document.querySelector('#df-534cfd63-49a8-4b8d-a725-a326c6253fa0 button.colab-df-convert');\n",
              "        buttonEl.style.display =\n",
              "          google.colab.kernel.accessAllowed ? 'block' : 'none';\n",
              "\n",
              "        async function convertToInteractive(key) {\n",
              "          const element = document.querySelector('#df-534cfd63-49a8-4b8d-a725-a326c6253fa0');\n",
              "          const dataTable =\n",
              "            await google.colab.kernel.invokeFunction('convertToInteractive',\n",
              "                                                     [key], {});\n",
              "          if (!dataTable) return;\n",
              "\n",
              "          const docLinkHtml = 'Like what you see? Visit the ' +\n",
              "            '<a target=\"_blank\" href=https://colab.research.google.com/notebooks/data_table.ipynb>data table notebook</a>'\n",
              "            + ' to learn more about interactive tables.';\n",
              "          element.innerHTML = '';\n",
              "          dataTable['output_type'] = 'display_data';\n",
              "          await google.colab.output.renderOutput(dataTable, element);\n",
              "          const docLink = document.createElement('div');\n",
              "          docLink.innerHTML = docLinkHtml;\n",
              "          element.appendChild(docLink);\n",
              "        }\n",
              "      </script>\n",
              "    </div>\n",
              "  </div>\n",
              "  "
            ]
          },
          "metadata": {},
          "execution_count": 36
        }
      ]
    },
    {
      "cell_type": "markdown",
      "source": [
        "## Deep Learning"
      ],
      "metadata": {
        "id": "rdw6FaHVeFDu"
      }
    },
    {
      "cell_type": "markdown",
      "source": [
        "### Dataset class creation"
      ],
      "metadata": {
        "id": "-WUvcuAmegbq"
      }
    },
    {
      "cell_type": "code",
      "source": [
        "import torch\n",
        "import torchvision.transforms as transforms\n",
        "from torch.utils.data import Dataset, DataLoader"
      ],
      "metadata": {
        "id": "eVGHXMLHeEnG"
      },
      "execution_count": 37,
      "outputs": []
    },
    {
      "cell_type": "code",
      "source": [
        "class ImageDataset(Dataset):\n",
        "    def __init__(self, csv, train, test):\n",
        "        self.csv = csv\n",
        "        self.train = train\n",
        "        self.test = test\n",
        "        self.all_image_names = self.csv[:]['Patient ID']\n",
        "        self.all_labels = np.array(self.csv.drop(['Patient ID','Cancer Type Detailed'], axis=1))\n",
        "        self.train_ratio = int(0.70 * len(self.csv))\n",
        "        self.valid_ratio = len(self.csv) - self.train_ratio\n",
        "        # set the training data images and labels\n",
        "        if self.train:\n",
        "            print(f\"Number of training images: {self.train_ratio}\")\n",
        "            self.image_names = list(self.all_image_names[:self.train_ratio])\n",
        "            self.labels = list(self.all_labels[:self.train_ratio])\n",
        "            # define the training transforms\n",
        "            self.transform = transforms.Compose([\n",
        "                transforms.ToPILImage(),\n",
        "                transforms.Resize((400, 400)),\n",
        "                transforms.RandomHorizontalFlip(p=0.5),\n",
        "                transforms.RandomRotation(degrees=45),\n",
        "                transforms.ToTensor(),\n",
        "            ])\n",
        "        # set the validation data images and labels\n",
        "        elif self.train == False and self.test == False:\n",
        "            print(f\"Number of validation images: {self.valid_ratio}\")\n",
        "            self.image_names = list(self.all_image_names[-self.valid_ratio:-10])\n",
        "            self.labels = list(self.all_labels[-self.valid_ratio:-10])\n",
        "            # define the validation transforms\n",
        "            self.transform = transforms.Compose([\n",
        "                transforms.ToPILImage(),\n",
        "                transforms.Resize((400, 400)),\n",
        "                transforms.ToTensor(),\n",
        "            ])\n",
        "        # set the test data images and labels, only last 10 images\n",
        "        # this, we will use in a separate inference script\n",
        "        elif self.test == True and self.train == False:\n",
        "            self.image_names = list(self.all_image_names[-10:])\n",
        "            self.labels = list(self.all_labels[-10:])\n",
        "             # define the test transforms\n",
        "            self.transform = transforms.Compose([\n",
        "                transforms.ToPILImage(),\n",
        "                transforms.ToTensor(),\n",
        "            ])\n",
        "    def __len__(self):\n",
        "        return len(self.image_names)\n",
        "    \n",
        "    def __getitem__(self, index):\n",
        "        image = cv2.imread(f\"/content/drive/MyDrive/input/bt_classifier/Multi_Label_dataset/train/{self.image_names[index]}.jpg\")\n",
        "        # convert the image from BGR to RGB color format\n",
        "        image = cv2.cvtColor(image, cv2.COLOR_BGR2RGB)\n",
        "        # apply image transforms\n",
        "        image = self.transform(image)\n",
        "        targets = self.labels[index]\n",
        "        \n",
        "        return {\n",
        "            'image': torch.tensor(image, dtype=torch.float32),\n",
        "            'label': torch.tensor(targets, dtype=torch.float32)\n",
        "        }"
      ],
      "metadata": {
        "id": "HqoDDDNJenlJ"
      },
      "execution_count": 38,
      "outputs": []
    },
    {
      "cell_type": "markdown",
      "source": [
        "### Model creation\n",
        "We use the EfficientNet-B0 model architecture"
      ],
      "metadata": {
        "id": "jQOW3JIFe6q3"
      }
    },
    {
      "cell_type": "code",
      "source": [
        "import torchvision.models as models\n",
        "import torch.nn as nn\n",
        "\n",
        "def build_model(pretrained=False, fine_tune=True, num_classes=5):\n",
        "    if pretrained:\n",
        "        print('[INFO]: Loading pre-trained weights')\n",
        "    else:\n",
        "        print('[INFO]: Not loading pre-trained weights')\n",
        "    model = models.efficientnet_b0(pretrained=pretrained)\n",
        "    if fine_tune:\n",
        "        print('[INFO]: Fine-tuning all layers...')\n",
        "        for params in model.parameters():\n",
        "            params.requires_grad = True\n",
        "    elif not fine_tune:\n",
        "        print('[INFO]: Freezing hidden layers...')\n",
        "        for params in model.parameters():\n",
        "            params.requires_grad = False\n",
        "    # Change the final classification head\n",
        "    model.classifier[1] = nn.Linear(in_features=1280, out_features=num_classes)\n",
        "    return model"
      ],
      "metadata": {
        "id": "Ef-u_1bq_2Lb"
      },
      "execution_count": 39,
      "outputs": []
    },
    {
      "cell_type": "markdown",
      "source": [
        "### Custom Loss Function"
      ],
      "metadata": {
        "id": "bboGZmn0kCh_"
      }
    },
    {
      "cell_type": "code",
      "source": [
        "# Finding number of positive and negative samples in each label \n",
        "\n",
        "N = len(df) \n",
        "\n",
        "labels = df.keys()[1:-1]\n",
        "\n",
        "for k, label in enumerate(sorted(labels)):\n",
        "    positives = sum(df[label] == 1)\n",
        "    print(\n",
        "      '{}:\\tPositive Samples: {}\\t\\tNegative Samples: {}'\n",
        "      .format(label, positives, N - positives)\n",
        "    )"
      ],
      "metadata": {
        "colab": {
          "base_uri": "https://localhost:8080/"
        },
        "id": "OD6TZceTDtXO",
        "outputId": "c5a9d52c-c52f-439b-d3f2-4b30f0a74247"
      },
      "execution_count": 40,
      "outputs": [
        {
          "output_type": "stream",
          "name": "stdout",
          "text": [
            "ATRX status:\tPositive Samples: 3138\t\tNegative Samples: 2922\n",
            "IDH status:\tPositive Samples: 3809\t\tNegative Samples: 2251\n",
            "IDH-1P10Q Subtype:\tPositive Samples: 2000\t\tNegative Samples: 4060\n",
            "MGMT promoter status:\tPositive Samples: 4905\t\tNegative Samples: 1155\n",
            "TERT expression status:\tPositive Samples: 1940\t\tNegative Samples: 4120\n"
          ]
        }
      ]
    },
    {
      "cell_type": "code",
      "source": [
        "# Calculating class weights for each label\n",
        "\n",
        "class_weights = {}\n",
        "positive_weights = {}\n",
        "negative_weights = {}\n",
        "\n",
        "for label in sorted(labels):\n",
        "    positive_weights[label] = N /(2 * sum(df[label] == 1))\n",
        "    negative_weights[label] = N /(2 * sum(df[label] == 0))\n",
        "    \n",
        "class_weights['positive_weights'] = positive_weights\n",
        "class_weights['negative_weights'] = negative_weights\n",
        "\n",
        "class_weights"
      ],
      "metadata": {
        "colab": {
          "base_uri": "https://localhost:8080/"
        },
        "id": "rJbQjSqTDtjA",
        "outputId": "07722a72-7a7d-41b7-f238-d230c6be3e06"
      },
      "execution_count": 41,
      "outputs": [
        {
          "output_type": "execute_result",
          "data": {
            "text/plain": [
              "{'positive_weights': {'ATRX status': 0.9655831739961759,\n",
              "  'IDH status': 0.7954843791021265,\n",
              "  'IDH-1P10Q Subtype': 1.515,\n",
              "  'MGMT promoter status': 0.617737003058104,\n",
              "  'TERT expression status': 1.5618556701030928},\n",
              " 'negative_weights': {'ATRX status': 1.0369609856262834,\n",
              "  'IDH status': 1.3460684140382053,\n",
              "  'IDH-1P10Q Subtype': 0.7463054187192119,\n",
              "  'MGMT promoter status': 2.6233766233766236,\n",
              "  'TERT expression status': 0.7354368932038835}}"
            ]
          },
          "metadata": {},
          "execution_count": 41
        }
      ]
    },
    {
      "cell_type": "code",
      "source": [
        "import torch\n",
        "import torch.nn.functional as F\n",
        "\n",
        "Wp = class_weights['positive_weights']\n",
        "Wn = class_weights['negative_weights']\n",
        "\n",
        "def custom_loss(y_true, y_pred):\n",
        "    '''\n",
        "    Multi-label cross-entropy\n",
        "    * Required \"Wp\", \"Wn\" as positive & negative class-weights\n",
        "    y_true: true value\n",
        "    y_pred: predicted value\n",
        "    '''\n",
        "    loss = 0.0\n",
        "\n",
        "    for i, key in enumerate(Wp.keys()):\n",
        "        first_term = Wp[key] * y_true[:, i] * torch.log(y_pred[:, i] + 1e-7)\n",
        "        second_term = Wn[key] * (1 - y_true[:, i]) * torch.log(1 - y_pred[:, i] + 1e-7)\n",
        "        loss -= torch.sum(first_term + second_term)\n",
        "    \n",
        "    return loss"
      ],
      "metadata": {
        "id": "wcQVsOiBlC-1"
      },
      "execution_count": 42,
      "outputs": []
    },
    {
      "cell_type": "markdown",
      "source": [
        "### Create train function"
      ],
      "metadata": {
        "id": "gZGon10ifDVr"
      }
    },
    {
      "cell_type": "code",
      "source": [
        "# training function\n",
        "def train(model, dataloader, optimizer, criterion, train_data, device):\n",
        "    print('Training')\n",
        "    model.train()\n",
        "    counter = 0\n",
        "    train_running_loss = 0.0\n",
        "    targets = []\n",
        "    predictions = []\n",
        "    for i, data in tqdm(enumerate(dataloader), total=int(len(train_data) / dataloader.batch_size)):\n",
        "        counter += 1\n",
        "        data, target = data['image'].to(device), data['label'].to(device)\n",
        "        optimizer.zero_grad()\n",
        "        outputs = model(data)\n",
        "        # apply sigmoid activation to get all the outputs between 0 and 1\n",
        "        outputs = torch.sigmoid(outputs)\n",
        "        binarized_outputs = torch.round(outputs)\n",
        "        # binarized_outputs.requires_grad = True\n",
        "        # binarized_outputs.retain_grad()\n",
        "        # print(\"GT: \", target)\n",
        "        # print(\"Prediction: \", binarized_outputs)\n",
        "        # print(binarized_outputs.grad_fn)\n",
        "        # print(binarized_outputs.requires_grad)\n",
        "        loss = custom_loss(target, binarized_outputs)\n",
        "        train_running_loss += loss.item()\n",
        "        # backpropagation\n",
        "        loss.backward()\n",
        "        # update optimizer parameters\n",
        "        optimizer.step()\n",
        "        y_true = target.detach().cpu().numpy()\n",
        "        y_pred = binarized_outputs.detach().cpu().numpy()\n",
        "        # confustion_matrix = multilabel_confusion_matrix(y_true, y_pred)\n",
        "        # print(confustion_matrix)\n",
        "        # print(classification_report(y_true, y_pred))\n",
        "        targets.append(y_true)\n",
        "        predictions.append(y_pred)\n",
        "    targets = np.concatenate(targets)\n",
        "    predictions = np.concatenate(predictions)\n",
        "    train_loss = train_running_loss / counter\n",
        "    return train_loss, targets, predictions"
      ],
      "metadata": {
        "id": "yuDnhMpMfJok"
      },
      "execution_count": 43,
      "outputs": []
    },
    {
      "cell_type": "markdown",
      "source": [
        "### Create validation function"
      ],
      "metadata": {
        "id": "pLiHX44-fJ3F"
      }
    },
    {
      "cell_type": "code",
      "source": [
        "# validation function\n",
        "def validate(model, dataloader, criterion, val_data, device):\n",
        "    print('Validating')\n",
        "    model.eval()\n",
        "    counter = 0\n",
        "    val_running_loss = 0.0\n",
        "    targets = []\n",
        "    predictions = []\n",
        "    with torch.no_grad():\n",
        "        for i, data in tqdm(enumerate(dataloader), total=int(len(val_data)/dataloader.batch_size)):\n",
        "            counter += 1\n",
        "            data, target = data['image'].to(device), data['label'].to(device)\n",
        "            outputs = model(data)\n",
        "            # apply sigmoid activation to get all the outputs between 0 and 1\n",
        "            outputs = torch.sigmoid(outputs)\n",
        "            binarized_outputs = torch.round(outputs)\n",
        "            loss = custom_loss(target, binarized_outputs)\n",
        "            val_running_loss += loss.item()\n",
        "            y_true = target.detach().cpu().numpy()\n",
        "            y_pred = binarized_outputs.detach().cpu().numpy()\n",
        "            targets.append(y_true)\n",
        "            predictions.append(y_pred)\n",
        "        val_loss = val_running_loss / counter\n",
        "        targets = np.concatenate(targets)\n",
        "        predictions = np.concatenate(predictions)\n",
        "        return val_loss, targets, predictions"
      ],
      "metadata": {
        "id": "IKUuNeFqfMDa"
      },
      "execution_count": 44,
      "outputs": []
    },
    {
      "cell_type": "markdown",
      "source": [
        "### Initiate model and start training"
      ],
      "metadata": {
        "id": "qf-nLh9tfVPh"
      }
    },
    {
      "cell_type": "code",
      "source": [
        "import torch.optim as optim\n",
        "# initialize the computation device\n",
        "device = torch.device('cuda' if torch.cuda.is_available() else 'cpu')"
      ],
      "metadata": {
        "id": "91cyWo90fVp7"
      },
      "execution_count": 45,
      "outputs": []
    },
    {
      "cell_type": "code",
      "source": [
        "#intialize the model\n",
        "model = build_model(pretrained=False, fine_tune=True, num_classes=5).to(device)\n",
        "# learning parameters\n",
        "lr = 1e-3\n",
        "epochs = 30\n",
        "batch_size = 32\n",
        "optimizer = optim.Adam(model.parameters(), lr=lr)\n",
        "# criterion = nn.BCELoss()"
      ],
      "metadata": {
        "id": "t4PNfO5jfpAZ",
        "colab": {
          "base_uri": "https://localhost:8080/"
        },
        "outputId": "c165f1eb-9988-433e-a3c6-4951be33e1a7"
      },
      "execution_count": 46,
      "outputs": [
        {
          "output_type": "stream",
          "name": "stdout",
          "text": [
            "[INFO]: Not loading pre-trained weights\n",
            "[INFO]: Fine-tuning all layers...\n"
          ]
        }
      ]
    },
    {
      "cell_type": "code",
      "source": [
        "# train dataset\n",
        "train_data = ImageDataset(df, train=True, test=False)\n",
        "# validation dataset\n",
        "valid_data = ImageDataset(df, train=False, test=False)\n",
        "# train data loader\n",
        "train_loader = DataLoader(train_data, batch_size=batch_size, shuffle=True)\n",
        "# validation data loader\n",
        "valid_loader = DataLoader(valid_data, batch_size=batch_size, shuffle=False)"
      ],
      "metadata": {
        "colab": {
          "base_uri": "https://localhost:8080/"
        },
        "id": "P2R5GzF9f132",
        "outputId": "5089a27d-1da9-4296-e481-4cedc8f541e8"
      },
      "execution_count": 47,
      "outputs": [
        {
          "output_type": "stream",
          "name": "stdout",
          "text": [
            "Number of training images: 4242\n",
            "Number of validation images: 1818\n"
          ]
        }
      ]
    },
    {
      "cell_type": "markdown",
      "source": [
        "### Defining Example Based metrics\n",
        "Implementations are taken from [here](https://medium.datadriveninvestor.com/a-survey-of-evaluation-metrics-for-multilabel-classification-bb16e8cd41cd)\n",
        "1.  Exact Match Ration (EMR)"
      ],
      "metadata": {
        "collapsed": false,
        "id": "s5WAppbqlvrY"
      }
    },
    {
      "cell_type": "code",
      "execution_count": 48,
      "outputs": [
        {
          "output_type": "stream",
          "name": "stdout",
          "text": [
            "EMR:  0.4\n"
          ]
        }
      ],
      "source": [
        "def emr(y_true, y_pred):\n",
        "    n = len(y_true)\n",
        "    row_indicators = np.all(y_true == y_pred, axis = 1) # axis = 1 will check for equality along rows.\n",
        "    exact_match_count = np.sum(row_indicators)\n",
        "    return exact_match_count/n\n",
        "\n",
        "# Example\n",
        "gt = np.asarray([[1, 0, 1], [1, 1, 0], [1, 0, 0], [1, 1, 1], [0, 1, 0]])\n",
        "pred = np.asarray([[1, 0, 1], [1, 0, 0], [1, 1, 0], [1, 1, 1], [0, 1, 1]])\n",
        "print(\"EMR: \", emr(gt, pred))"
      ],
      "metadata": {
        "colab": {
          "base_uri": "https://localhost:8080/"
        },
        "id": "Sdz6tdZYlvrY",
        "outputId": "09d4c314-a750-4aae-ca39-fb6982723835"
      }
    },
    {
      "cell_type": "markdown",
      "source": [
        "2. 1/0 Loss"
      ],
      "metadata": {
        "collapsed": false,
        "id": "WzuWhoXxlvrY"
      }
    },
    {
      "cell_type": "code",
      "execution_count": 49,
      "outputs": [
        {
          "output_type": "stream",
          "name": "stdout",
          "text": [
            "1/0 Loss:  0.6\n"
          ]
        }
      ],
      "source": [
        "def one_zero_loss(y_true, y_pred):\n",
        "    n = len(y_true)\n",
        "    row_indicators = np.logical_not(np.all(y_true == y_pred, axis = 1)) # axis = 1 will check for equality along rows.\n",
        "    not_equal_count = np.sum(row_indicators)\n",
        "    return not_equal_count/n\n",
        "\n",
        "# Example\n",
        "gt = np.asarray([[1, 0, 1], [1, 1, 0], [1, 0, 0], [1, 1, 1], [0, 1, 0]])\n",
        "pred = np.asarray([[1, 0, 1], [1, 0, 0], [1, 1, 0], [1, 1, 1], [0, 1, 1]])\n",
        "print(\"1/0 Loss: \", one_zero_loss(gt, pred))"
      ],
      "metadata": {
        "colab": {
          "base_uri": "https://localhost:8080/"
        },
        "id": "A0g_2I3ElvrY",
        "outputId": "e115978f-5f3d-4652-d312-08d4f0f32e3d"
      }
    },
    {
      "cell_type": "markdown",
      "source": [
        "3. Hamming Loss"
      ],
      "metadata": {
        "collapsed": false,
        "id": "NZ7aNzz4lvrY"
      }
    },
    {
      "cell_type": "code",
      "execution_count": 50,
      "outputs": [
        {
          "output_type": "stream",
          "name": "stdout",
          "text": [
            "Hamming Loss: 0.2\n"
          ]
        }
      ],
      "source": [
        "def hamming_loss(y_true, y_pred):\n",
        "    \"\"\"\n",
        "\tXOR TT for reference -\n",
        "\n",
        "\tA  B   Output\n",
        "\n",
        "\t0  0    0\n",
        "\t0  1    1\n",
        "\t1  0    1\n",
        "\t1  1    0\n",
        "\t\"\"\"\n",
        "    hl_num = np.sum(np.logical_xor(y_true, y_pred))\n",
        "    hl_den = np.prod(y_true.shape)\n",
        "\n",
        "    return hl_num/hl_den\n",
        "\n",
        "# Example\n",
        "gt = np.asarray([[1, 0, 1], [1, 1, 0], [1, 0, 0], [1, 1, 1], [0, 1, 0]])\n",
        "pred = np.asarray([[1, 0, 1], [1, 0, 0], [1, 1, 0], [1, 1, 1], [0, 1, 1]])\n",
        "hl_value = hamming_loss(gt, pred)\n",
        "print(f\"Hamming Loss: {hl_value}\")"
      ],
      "metadata": {
        "colab": {
          "base_uri": "https://localhost:8080/"
        },
        "id": "WwDHi-SolvrZ",
        "outputId": "32eb6320-9b79-42a2-cd5b-ddb57a791fab"
      }
    },
    {
      "cell_type": "markdown",
      "source": [
        "4. Example based accuracy"
      ],
      "metadata": {
        "collapsed": false,
        "id": "mytBroBflvrZ"
      }
    },
    {
      "cell_type": "code",
      "execution_count": 51,
      "outputs": [
        {
          "output_type": "stream",
          "name": "stdout",
          "text": [
            "Example Based Accuracy: 0.7\n"
          ]
        }
      ],
      "source": [
        "def example_based_accuracy(y_true, y_pred):\n",
        "\n",
        "    # compute true positives using the logical AND operator\n",
        "    numerator = np.sum(np.logical_and(y_true, y_pred), axis = 1)\n",
        "\n",
        "    # compute true_positive + false negatives + false positive using the logical OR operator\n",
        "    denominator = np.sum(np.logical_or(y_true, y_pred), axis = 1)\n",
        "    instance_accuracy = numerator/denominator\n",
        "\n",
        "    avg_accuracy = np.mean(instance_accuracy)\n",
        "    return avg_accuracy\n",
        "\n",
        "# Example\n",
        "gt = np.asarray([[1, 0, 1], [1, 1, 0], [1, 0, 0], [1, 1, 1], [0, 1, 0]])\n",
        "pred = np.asarray([[1, 0, 1], [1, 0, 0], [1, 1, 0], [1, 1, 1], [0, 1, 1]])\n",
        "ex_based_accuracy = example_based_accuracy(gt, pred)\n",
        "print(f\"Example Based Accuracy: {ex_based_accuracy}\")"
      ],
      "metadata": {
        "colab": {
          "base_uri": "https://localhost:8080/"
        },
        "id": "GLiMgun0lvrZ",
        "outputId": "340280e7-e363-48b7-d18b-fb6d609d41d3"
      }
    },
    {
      "cell_type": "markdown",
      "source": [
        "5. Example-Based Precision"
      ],
      "metadata": {
        "collapsed": false,
        "id": "sI6A6ZiElvrZ"
      }
    },
    {
      "cell_type": "code",
      "execution_count": 52,
      "outputs": [
        {
          "output_type": "stream",
          "name": "stdout",
          "text": [
            "Example Based Precision: 0.8\n"
          ]
        }
      ],
      "source": [
        "def example_based_precision(y_true, y_pred):\n",
        "    \"\"\"\n",
        "    precision = TP/ (TP + FP)\n",
        "    \"\"\"\n",
        "\n",
        "    # Compute True Positive\n",
        "    precision_num = np.sum(np.logical_and(y_true, y_pred), axis = 1)\n",
        "\n",
        "    # Total number of pred true labels\n",
        "    precision_den = np.sum(y_pred, axis = 1)\n",
        "\n",
        "    # precision averaged over all training examples\n",
        "    avg_precision = np.mean(precision_num/precision_den)\n",
        "\n",
        "    return avg_precision\n",
        "\n",
        "# Example\n",
        "gt = np.asarray([[1, 0, 1], [1, 1, 0], [1, 0, 0], [1, 1, 1], [0, 1, 0]])\n",
        "pred = np.asarray([[1, 0, 1], [1, 0, 0], [1, 1, 0], [1, 1, 1], [0, 1, 1]])\n",
        "ex_based_precision = example_based_precision(gt, pred)\n",
        "print(f\"Example Based Precision: {ex_based_precision}\")"
      ],
      "metadata": {
        "colab": {
          "base_uri": "https://localhost:8080/"
        },
        "id": "n7FMoo-ElvrZ",
        "outputId": "28adfd5e-9205-4784-da9b-ed9b22ccbb1d"
      }
    },
    {
      "cell_type": "markdown",
      "source": [
        "### Defining Label based metrics\n",
        "1. Macro Averaged Accuracy"
      ],
      "metadata": {
        "collapsed": false,
        "id": "McIGFRfelvrZ"
      }
    },
    {
      "cell_type": "code",
      "execution_count": 53,
      "outputs": [
        {
          "output_type": "stream",
          "name": "stdout",
          "text": [
            "Label Based Macro Accuracy: 0.7222222222222222\n"
          ]
        }
      ],
      "source": [
        "def label_based_macro_accuracy(y_true, y_pred):\n",
        "\n",
        "    # axis = 0 computes true positives along columns i.e labels\n",
        "    l_acc_num = np.sum(np.logical_and(y_true, y_pred), axis = 0)\n",
        "\n",
        "    # axis = 0 computes true postive + false positive + false negatives along columns i.e labels\n",
        "    l_acc_den = np.sum(np.logical_or(y_true, y_pred), axis = 0)\n",
        "\n",
        "    # compute mean accuracy across labels.\n",
        "    return np.mean(l_acc_num/l_acc_den)\n",
        "# Example\n",
        "gt = np.asarray([[1, 0, 1], [1, 1, 0], [1, 0, 0], [1, 1, 1], [0, 1, 0]])\n",
        "pred = np.asarray([[1, 0, 1], [1, 0, 0], [1, 1, 0], [1, 1, 1], [0, 1, 1]])\n",
        "lb_macro_acc_val = label_based_macro_accuracy(gt, pred)\n",
        "print(f\"Label Based Macro Accuracy: {lb_macro_acc_val}\")"
      ],
      "metadata": {
        "colab": {
          "base_uri": "https://localhost:8080/"
        },
        "id": "NI609esIlvrZ",
        "outputId": "363b4a6a-6410-44fb-aeeb-6e8d35bbb734"
      }
    },
    {
      "cell_type": "markdown",
      "source": [
        "2. Macro Averaged Precision"
      ],
      "metadata": {
        "collapsed": false,
        "id": "OEStlF0Nlvra"
      }
    },
    {
      "cell_type": "code",
      "execution_count": 54,
      "outputs": [
        {
          "output_type": "stream",
          "name": "stdout",
          "text": [
            "Label Based Precision: 0.7777777777777777\n"
          ]
        }
      ],
      "source": [
        "def label_based_macro_precision(y_true, y_pred):\n",
        " \n",
        "    # axis = 0 computes true positive along columns i.e labels\n",
        "    l_prec_num = np.sum(np.logical_and(y_true, y_pred), axis = 0)\n",
        "\n",
        "    # axis = computes true_positive + false positive along columns i.e labels\n",
        "    l_prec_den = np.sum(y_pred, axis = 0)\n",
        "\n",
        "    # compute precision per class/label\n",
        "    l_prec_per_class = l_prec_num/l_prec_den\n",
        "\n",
        "    # macro precision = average of precsion across labels. \n",
        "    l_prec = np.mean(l_prec_per_class)\n",
        "    return l_prec\n",
        "\n",
        "# Example\n",
        "gt = np.asarray([[1, 0, 1], [1, 1, 0], [1, 0, 0], [1, 1, 1], [0, 1, 0]])\n",
        "pred = np.asarray([[1, 0, 1], [1, 0, 0], [1, 1, 0], [1, 1, 1], [0, 1, 1]])\n",
        "lb_macro_precision_val = label_based_macro_precision(gt, pred)\n",
        "print(f\"Label Based Precision: {lb_macro_precision_val}\")"
      ],
      "metadata": {
        "colab": {
          "base_uri": "https://localhost:8080/"
        },
        "id": "wxRI9yowlvra",
        "outputId": "0b2352d3-8125-4467-cd57-633b29ee3fca"
      }
    },
    {
      "cell_type": "markdown",
      "source": [
        "3. Macro Averaged Recall"
      ],
      "metadata": {
        "collapsed": false,
        "id": "a2adr8_Xlvra"
      }
    },
    {
      "cell_type": "code",
      "execution_count": 55,
      "outputs": [
        {
          "output_type": "stream",
          "name": "stdout",
          "text": [
            "Label Based Recall: 0.8888888888888888\n"
          ]
        }
      ],
      "source": [
        "def label_based_macro_recall(y_true, y_pred):\n",
        "    \n",
        "    # compute true positive along axis = 0 i.e labels\n",
        "    l_recall_num = np.sum(np.logical_and(y_true, y_pred), axis = 0)\n",
        "\n",
        "    # compute true positive + false negatives along axis = 0 i.e columns\n",
        "    l_recall_den = np.sum(y_true, axis = 0)\n",
        "\n",
        "    # compute recall per class/label\n",
        "    l_recall_per_class = l_recall_num/l_recall_den\n",
        "\n",
        "    # compute macro averaged recall i.e recall averaged across labels. \n",
        "    l_recall = np.mean(l_recall_per_class)\n",
        "    return l_recall\n",
        "\n",
        "# Example\n",
        "gt = np.asarray([[1, 0, 1], [1, 1, 0], [1, 0, 0], [1, 1, 1], [0, 1, 0]])\n",
        "pred = np.asarray([[1, 0, 1], [1, 0, 0], [1, 1, 0], [1, 1, 1], [0, 1, 1]])\n",
        "lb_macro_recall_val = label_based_macro_recall(gt, pred) \n",
        "print(f\"Label Based Recall: {lb_macro_recall_val}\")"
      ],
      "metadata": {
        "colab": {
          "base_uri": "https://localhost:8080/"
        },
        "id": "SH8TffZRlvra",
        "outputId": "d204bee2-13cd-4399-fe1a-2f2c81aa40ee"
      }
    },
    {
      "cell_type": "markdown",
      "source": [
        "4. Micro Averaged Accuracy"
      ],
      "metadata": {
        "collapsed": false,
        "id": "ci5X6KSJlvra"
      }
    },
    {
      "cell_type": "code",
      "execution_count": 56,
      "outputs": [
        {
          "output_type": "stream",
          "name": "stdout",
          "text": [
            "Label Based Micro Accuracy: 0.7272727272727273\n"
          ]
        }
      ],
      "source": [
        "def label_based_micro_accuracy(y_true, y_pred):\n",
        "    \n",
        "    # sum of all true positives across all examples and labels \n",
        "    l_acc_num = np.sum(np.logical_and(y_true, y_pred))\n",
        "\n",
        "    # sum of all tp+fp+fn across all examples and labels.\n",
        "    l_acc_den = np.sum(np.logical_or(y_true, y_pred))\n",
        "\n",
        "    # compute mirco averaged accuracy\n",
        "    return l_acc_num/l_acc_den\n",
        "\n",
        "# Example\n",
        "gt = np.asarray([[1, 0, 1], [1, 1, 0], [1, 0, 0], [1, 1, 1], [0, 1, 0]])\n",
        "pred = np.asarray([[1, 0, 1], [1, 0, 0], [1, 1, 0], [1, 1, 1], [0, 1, 1]])\n",
        "lb_micro_acc_val = label_based_micro_accuracy(gt, pred)\n",
        "print(f\"Label Based Micro Accuracy: {lb_micro_acc_val}\")"
      ],
      "metadata": {
        "colab": {
          "base_uri": "https://localhost:8080/"
        },
        "id": "rcdl3OMYlvra",
        "outputId": "d2b2e769-7568-4f5a-f191-54727ff0192c"
      }
    },
    {
      "cell_type": "markdown",
      "source": [
        "5. Micro Averaged Precision"
      ],
      "metadata": {
        "collapsed": false,
        "id": "lit_LDu0lvra"
      }
    },
    {
      "cell_type": "code",
      "execution_count": 57,
      "outputs": [
        {
          "output_type": "stream",
          "name": "stdout",
          "text": [
            "Label Based Micro Precision: 0.8\n"
          ]
        }
      ],
      "source": [
        "def label_based_micro_precision(y_true, y_pred):\n",
        "    \n",
        "    # compute sum of true positives (tp) across training examples\n",
        "    # and labels. \n",
        "    l_prec_num = np.sum(np.logical_and(y_true, y_pred))\n",
        "\n",
        "    # compute the sum of tp + fp across training examples and labels\n",
        "    l_prec_den = np.sum(y_pred)\n",
        "\n",
        "    # compute micro-averaged precision\n",
        "    return l_prec_num/l_prec_den\n",
        "\n",
        "# Example\n",
        "gt = np.asarray([[1, 0, 1], [1, 1, 0], [1, 0, 0], [1, 1, 1], [0, 1, 0]])\n",
        "pred = np.asarray([[1, 0, 1], [1, 0, 0], [1, 1, 0], [1, 1, 1], [0, 1, 1]])\n",
        "lb_micro_prec_val = label_based_micro_precision(gt, pred)\n",
        "print(f\"Label Based Micro Precision: {lb_micro_prec_val}\")"
      ],
      "metadata": {
        "colab": {
          "base_uri": "https://localhost:8080/"
        },
        "id": "m-P-u21Tlvra",
        "outputId": "7ac13e5e-ef85-4dfb-c1ef-b3d66e6c80b8"
      }
    },
    {
      "cell_type": "markdown",
      "source": [
        "6. Micro Averaged Recall"
      ],
      "metadata": {
        "collapsed": false,
        "id": "Vi2vCPr3lvra"
      }
    },
    {
      "cell_type": "code",
      "execution_count": 58,
      "outputs": [
        {
          "output_type": "stream",
          "name": "stdout",
          "text": [
            "Label Based Micro Recall: 0.8888888888888888\n"
          ]
        }
      ],
      "source": [
        "def label_based_micro_recall(y_true, y_pred):\n",
        "\t\n",
        "    # compute sum of true positives across training examples and labels.\n",
        "    l_recall_num = np.sum(np.logical_and(y_true, y_pred))\n",
        "    # compute sum of tp + fn across training examples and labels\n",
        "    l_recall_den = np.sum(y_true)\n",
        "\n",
        "    # compute mirco-average recall\n",
        "    return l_recall_num/l_recall_den\n",
        "\n",
        "# Example\n",
        "gt = np.asarray([[1, 0, 1], [1, 1, 0], [1, 0, 0], [1, 1, 1], [0, 1, 0]])\n",
        "pred = np.asarray([[1, 0, 1], [1, 0, 0], [1, 1, 0], [1, 1, 1], [0, 1, 1]])\n",
        "lb_micro_recall_val = label_based_micro_recall(gt, pred)\n",
        "print(f\"Label Based Micro Recall: {lb_micro_recall_val}\")"
      ],
      "metadata": {
        "colab": {
          "base_uri": "https://localhost:8080/"
        },
        "id": "jFrY39zllvra",
        "outputId": "9f320a98-7f5b-47bc-8523-5b06cd756187"
      }
    },
    {
      "cell_type": "markdown",
      "source": [
        "### Defining F1 Score\n"
      ],
      "metadata": {
        "collapsed": false,
        "id": "WZD8vbuynD7Y"
      }
    },
    {
      "cell_type": "code",
      "source": [
        "import numpy as np\n",
        "\n",
        "def f1_score(y_true, y_pred):\n",
        "    '''\n",
        "    Calculate F1 score\n",
        "    y_true: true value\n",
        "    y_pred: predicted value\n",
        "    '''\n",
        "    epsilon = 1e-7\n",
        "\n",
        "    true_positives = np.sum(np.round(np.clip(y_true * y_pred, 0, 1)))\n",
        "    possible_positives = np.sum(np.round(np.clip(y_true, 0, 1)))\n",
        "    recall = true_positives / (possible_positives + epsilon)\n",
        "    predicted_positives = np.sum(np.round(np.clip(y_pred, 0, 1)))\n",
        "    precision = true_positives / (predicted_positives + epsilon)\n",
        "    return (2 * precision * recall) / (precision + recall + epsilon)\n",
        "\n",
        "# Example\n",
        "gt = np.asarray([[1, 0, 1], [1, 1, 0], [1, 0, 0], [1, 1, 1], [0, 1, 0]])\n",
        "pred = np.asarray([[1, 0, 1], [1, 0, 0], [1, 1, 0], [1, 1, 1], [0, 1, 1]])\n",
        "f1_score = f1_score(gt, pred)\n",
        "print(f\"F1 Score: {f1_score}\")"
      ],
      "metadata": {
        "id": "uUiCPWUSnWwx",
        "colab": {
          "base_uri": "https://localhost:8080/"
        },
        "outputId": "aab055ea-fa91-4da6-d722-bd2a00dd377a"
      },
      "execution_count": 59,
      "outputs": [
        {
          "output_type": "stream",
          "name": "stdout",
          "text": [
            "F1 Score: 0.8421052044321361\n"
          ]
        }
      ]
    },
    {
      "cell_type": "markdown",
      "source": [
        "Starting training and validation"
      ],
      "metadata": {
        "collapsed": false,
        "id": "1WzndTPRlvrb"
      }
    },
    {
      "cell_type": "code",
      "source": [
        "from sklearn.metrics import classification_report, multilabel_confusion_matrix\n",
        "# start the training and validation\n",
        "emr_list = []\n",
        "one_zero_loss_list = []\n",
        "hamming_loss_list = []\n",
        "example_based_accuracy_list = []\n",
        "example_based_precision_list = []\n",
        "label_based_macro_accuracy_list = []\n",
        "label_based_macro_precision_list = []\n",
        "label_based_macro_recall_list = []\n",
        "label_based_micro_accuracy_list = []\n",
        "label_based_micro_precision_list = []\n",
        "label_based_micro_recall_list = []\n",
        "# f1_score_list= []\n",
        "\n",
        "train_loss = []\n",
        "valid_loss = []\n",
        "for epoch in range(epochs):\n",
        "    print(f\"Epoch {epoch+1} of {epochs}\")\n",
        "    print(\"Training...\")\n",
        "    train_epoch_loss, targets, predictions = train(\n",
        "        model, train_loader, optimizer, custom_loss, train_data, device\n",
        "    )\n",
        "    print(\"Classification Report\")\n",
        "    print(classification_report(targets, predictions))\n",
        "    \n",
        "    emr_score = emr(targets, predictions)\n",
        "    one_zero_loss_score = one_zero_loss(targets, predictions)\n",
        "    hamming_loss_score = hamming_loss(targets, predictions)\n",
        "    example_based_accuracy_score = example_based_accuracy(targets, predictions)\n",
        "    example_based_precision_score = example_based_precision(targets, predictions)\n",
        "    label_based_macro_accuracy_score = label_based_macro_accuracy(targets, predictions)\n",
        "    label_based_macro_precision_score = label_based_macro_precision(targets, predictions)\n",
        "    label_based_macro_recall_score = label_based_macro_recall(targets, predictions)\n",
        "    label_based_micro_accuracy_score = label_based_micro_accuracy(targets, predictions)\n",
        "    label_based_micro_precision_score = label_based_micro_precision(targets, predictions)\n",
        "    label_based_micro_recall_score = label_based_micro_recall(targets, predictions)\n",
        "    # f1_score = f1_score(targets, predictions)\n",
        "\n",
        "    emr_list.append(emr_score)\n",
        "    one_zero_loss_list.append(one_zero_loss_score)\n",
        "    hamming_loss_list.append(hamming_loss_score)\n",
        "    example_based_accuracy_list.append(example_based_accuracy_score)\n",
        "    example_based_precision_list.append(example_based_precision_score)\n",
        "    label_based_macro_accuracy_list.append(label_based_macro_accuracy_score)\n",
        "    label_based_macro_precision_list.append(label_based_macro_precision_score)\n",
        "    label_based_macro_recall_list.append(label_based_macro_recall_score)\n",
        "    label_based_micro_accuracy_list.append(label_based_micro_accuracy_score)\n",
        "    label_based_micro_precision_list.append(label_based_micro_precision_score)\n",
        "    label_based_micro_recall_list.append(label_based_micro_recall_score)\n",
        "    # f1_score_list.append(f1_score)\n",
        "\n",
        "    print(\"Exact match ratio: \", emr_score)\n",
        "    print(\"1/0 Loss: \", one_zero_loss_score)\n",
        "    print(\"Hamming Loss: \", hamming_loss_score)\n",
        "    print(\"Example based Accuracy: \", example_based_accuracy_score)\n",
        "    print(\"Example based precision: \", example_based_precision_score)\n",
        "    print(\"Macro Averaged Accuracy: \", label_based_macro_accuracy_score)\n",
        "    print(\"Macro Averaged Precision: \", label_based_macro_precision_score)\n",
        "    print(\"Macro Averaged Recall: \", label_based_macro_recall_score)\n",
        "    print(\"Micro Averaged Accuracy: \", label_based_micro_accuracy_score)\n",
        "    print(\"Micro Averaged Precision: \", label_based_micro_precision_score)\n",
        "    print(\"Micro Averaged Recall: \", label_based_micro_recall_score)\n",
        "    # print(\"F1 Score:\", f1_score)\n",
        "\n",
        "    print(\"Validating...\")\n",
        "    valid_epoch_loss, val_targets, val_predictions = validate(\n",
        "        model, valid_loader, custom_loss, valid_data, device\n",
        "    )\n",
        "    print(\"Classification Report\")\n",
        "    print(classification_report(val_targets, val_predictions))\n",
        "    train_loss.append(train_epoch_loss)\n",
        "    valid_loss.append(valid_epoch_loss)\n",
        "    print(f\"Train Loss: {train_epoch_loss:.4f}\")\n",
        "    print(f'Val Loss: {valid_epoch_loss:.4f}')"
      ],
      "metadata": {
        "id": "94dsUmW7rag5",
        "colab": {
          "base_uri": "https://localhost:8080/"
        },
        "outputId": "41080595-74b1-47a0-d3bb-ca4c291e576c"
      },
      "execution_count": 60,
      "outputs": [
        {
          "output_type": "stream",
          "name": "stdout",
          "text": [
            "Epoch 1 of 30\n",
            "Training...\n",
            "Training\n"
          ]
        },
        {
          "output_type": "stream",
          "name": "stderr",
          "text": [
            "133it [01:44,  1.27it/s]\n"
          ]
        },
        {
          "output_type": "stream",
          "name": "stdout",
          "text": [
            "Classification Report\n",
            "              precision    recall  f1-score   support\n",
            "\n",
            "           0       0.56      0.28      0.37      2371\n",
            "           1       0.26      0.51      0.34      1165\n",
            "           2       0.59      0.91      0.71      2438\n",
            "           3       0.82      0.29      0.43      3380\n",
            "           4       0.25      0.29      0.27      1170\n",
            "\n",
            "   micro avg       0.49      0.45      0.47     10524\n",
            "   macro avg       0.49      0.45      0.42     10524\n",
            "weighted avg       0.58      0.45      0.45     10524\n",
            " samples avg       0.48      0.46      0.43     10524\n",
            "\n",
            "Exact match ratio:  0.02993870815652994\n",
            "1/0 Loss:  0.97006129184347\n",
            "Hamming Loss:  0.5077793493635078\n",
            "Example based Accuracy:  nan\n",
            "Example based precision:  nan\n",
            "Macro Averaged Accuracy:  0.2830020868279071\n",
            "Macro Averaged Precision:  0.4937658127611833\n",
            "Macro Averaged Recall:  0.4548204374789738\n",
            "Micro Averaged Accuracy:  0.3075736145043076\n",
            "Micro Averaged Precision:  0.4874668840432036\n",
            "Micro Averaged Recall:  0.4545800076016724\n",
            "Validating...\n",
            "Validating\n"
          ]
        },
        {
          "output_type": "stream",
          "name": "stderr",
          "text": [
            "57it [00:23,  2.48it/s]\n"
          ]
        },
        {
          "output_type": "stream",
          "name": "stdout",
          "text": [
            "Classification Report\n",
            "              precision    recall  f1-score   support\n",
            "\n",
            "           0       0.84      0.80      0.82      1429\n",
            "           1       0.46      0.14      0.21       828\n",
            "           2       0.43      0.85      0.57       698\n",
            "           3       0.84      0.16      0.27      1515\n",
            "           4       0.39      0.13      0.20       765\n",
            "\n",
            "   micro avg       0.62      0.42      0.50      5235\n",
            "   macro avg       0.59      0.42      0.41      5235\n",
            "weighted avg       0.66      0.42      0.44      5235\n",
            " samples avg       0.64      0.42      0.47      5235\n",
            "\n",
            "Train Loss: 1278.3465\n",
            "Val Loss: 1146.2513\n",
            "Epoch 2 of 30\n",
            "Training...\n",
            "Training\n"
          ]
        },
        {
          "output_type": "stream",
          "name": "stderr",
          "text": [
            "133it [01:42,  1.30it/s]\n"
          ]
        },
        {
          "output_type": "stream",
          "name": "stdout",
          "text": [
            "Classification Report\n",
            "              precision    recall  f1-score   support\n",
            "\n",
            "           0       0.58      0.28      0.38      2371\n",
            "           1       0.26      0.51      0.34      1165\n",
            "           2       0.59      0.91      0.71      2438\n",
            "           3       0.83      0.30      0.44      3380\n",
            "           4       0.24      0.29      0.27      1170\n",
            "\n",
            "   micro avg       0.49      0.46      0.47     10524\n",
            "   macro avg       0.50      0.46      0.43     10524\n",
            "weighted avg       0.59      0.46      0.46     10524\n",
            " samples avg       0.48      0.46      0.43     10524\n",
            "\n",
            "Exact match ratio:  0.025695426685525696\n",
            "1/0 Loss:  0.9743045733144743\n",
            "Hamming Loss:  0.506977840641207\n",
            "Example based Accuracy:  nan\n",
            "Example based precision:  nan\n",
            "Macro Averaged Accuracy:  0.2859360934854154\n",
            "Macro Averaged Precision:  0.49840456467420324\n",
            "Macro Averaged Recall:  0.4593488166375863\n",
            "Micro Averaged Accuracy:  0.3103072285292797\n",
            "Micro Averaged Precision:  0.4884401817264008\n",
            "Micro Averaged Recall:  0.459711136450019\n",
            "Validating...\n",
            "Validating\n"
          ]
        },
        {
          "output_type": "stream",
          "name": "stderr",
          "text": [
            "57it [00:22,  2.52it/s]\n"
          ]
        },
        {
          "output_type": "stream",
          "name": "stdout",
          "text": [
            "Classification Report\n",
            "              precision    recall  f1-score   support\n",
            "\n",
            "           0       0.84      0.79      0.81      1429\n",
            "           1       0.47      0.14      0.22       828\n",
            "           2       0.44      0.80      0.57       698\n",
            "           3       0.84      0.16      0.27      1515\n",
            "           4       0.39      0.14      0.21       765\n",
            "\n",
            "   micro avg       0.63      0.41      0.50      5235\n",
            "   macro avg       0.59      0.41      0.42      5235\n",
            "weighted avg       0.66      0.41      0.44      5235\n",
            " samples avg       0.65      0.41      0.46      5235\n",
            "\n",
            "Train Loss: 1277.1653\n",
            "Val Loss: 1150.4807\n",
            "Epoch 3 of 30\n",
            "Training...\n",
            "Training\n"
          ]
        },
        {
          "output_type": "stream",
          "name": "stderr",
          "text": [
            "133it [01:41,  1.30it/s]\n"
          ]
        },
        {
          "output_type": "stream",
          "name": "stdout",
          "text": [
            "Classification Report\n",
            "              precision    recall  f1-score   support\n",
            "\n",
            "           0       0.59      0.29      0.39      2371\n",
            "           1       0.26      0.53      0.35      1165\n",
            "           2       0.59      0.90      0.71      2438\n",
            "           3       0.83      0.29      0.43      3380\n",
            "           4       0.25      0.30      0.27      1170\n",
            "\n",
            "   micro avg       0.49      0.46      0.48     10524\n",
            "   macro avg       0.50      0.46      0.43     10524\n",
            "weighted avg       0.59      0.46      0.46     10524\n",
            " samples avg       0.48      0.46      0.43     10524\n",
            "\n",
            "Exact match ratio:  0.02428099952852428\n",
            "1/0 Loss:  0.9757190004714758\n",
            "Hamming Loss:  0.5031117397454031\n",
            "Example based Accuracy:  nan\n",
            "Example based precision:  nan\n",
            "Macro Averaged Accuracy:  0.2883931239499899\n",
            "Macro Averaged Precision:  0.5035147876373681\n",
            "Macro Averaged Recall:  0.46224645682786303\n",
            "Micro Averaged Accuracy:  0.31212531425256235\n",
            "Micro Averaged Precision:  0.492523649679585\n",
            "Micro Averaged Recall:  0.4600912200684151\n",
            "Validating...\n",
            "Validating\n"
          ]
        },
        {
          "output_type": "stream",
          "name": "stderr",
          "text": [
            "57it [00:23,  2.46it/s]\n"
          ]
        },
        {
          "output_type": "stream",
          "name": "stdout",
          "text": [
            "Classification Report\n",
            "              precision    recall  f1-score   support\n",
            "\n",
            "           0       0.84      0.83      0.83      1429\n",
            "           1       0.47      0.13      0.20       828\n",
            "           2       0.44      0.75      0.55       698\n",
            "           3       0.84      0.16      0.26      1515\n",
            "           4       0.39      0.13      0.19       765\n",
            "\n",
            "   micro avg       0.64      0.41      0.50      5235\n",
            "   macro avg       0.60      0.40      0.41      5235\n",
            "weighted avg       0.66      0.41      0.44      5235\n",
            " samples avg       0.67      0.41      0.46      5235\n",
            "\n",
            "Train Loss: 1268.1791\n",
            "Val Loss: 1141.6716\n",
            "Epoch 4 of 30\n",
            "Training...\n",
            "Training\n"
          ]
        },
        {
          "output_type": "stream",
          "name": "stderr",
          "text": [
            "133it [01:41,  1.31it/s]\n"
          ]
        },
        {
          "output_type": "stream",
          "name": "stdout",
          "text": [
            "Classification Report\n",
            "              precision    recall  f1-score   support\n",
            "\n",
            "           0       0.56      0.30      0.39      2371\n",
            "           1       0.25      0.49      0.33      1165\n",
            "           2       0.59      0.92      0.72      2438\n",
            "           3       0.83      0.28      0.42      3380\n",
            "           4       0.25      0.28      0.26      1170\n",
            "\n",
            "   micro avg       0.49      0.46      0.47     10524\n",
            "   macro avg       0.50      0.45      0.43     10524\n",
            "weighted avg       0.59      0.46      0.46     10524\n",
            " samples avg       0.49      0.46      0.43     10524\n",
            "\n",
            "Exact match ratio:  0.026402640264026403\n",
            "1/0 Loss:  0.9735973597359736\n",
            "Hamming Loss:  0.5044318717586044\n",
            "Example based Accuracy:  nan\n",
            "Example based precision:  nan\n",
            "Macro Averaged Accuracy:  0.2850131989408203\n",
            "Macro Averaged Precision:  0.496669452759364\n",
            "Macro Averaged Recall:  0.4549728510600685\n",
            "Micro Averaged Accuracy:  0.309964527571751\n",
            "Micro Averaged Precision:  0.491059568815776\n",
            "Micro Averaged Recall:  0.4566704675028506\n",
            "Validating...\n",
            "Validating\n"
          ]
        },
        {
          "output_type": "stream",
          "name": "stderr",
          "text": [
            "57it [00:23,  2.46it/s]\n"
          ]
        },
        {
          "output_type": "stream",
          "name": "stdout",
          "text": [
            "Classification Report\n",
            "              precision    recall  f1-score   support\n",
            "\n",
            "           0       0.84      0.84      0.84      1429\n",
            "           1       0.47      0.13      0.20       828\n",
            "           2       0.44      0.77      0.56       698\n",
            "           3       0.84      0.15      0.25      1515\n",
            "           4       0.38      0.13      0.19       765\n",
            "\n",
            "   micro avg       0.64      0.41      0.50      5235\n",
            "   macro avg       0.59      0.40      0.41      5235\n",
            "weighted avg       0.66      0.41      0.44      5235\n",
            " samples avg       0.67      0.41      0.46      5235\n",
            "\n",
            "Train Loss: 1263.1714\n",
            "Val Loss: 1137.4964\n",
            "Epoch 5 of 30\n",
            "Training...\n",
            "Training\n"
          ]
        },
        {
          "output_type": "stream",
          "name": "stderr",
          "text": [
            "133it [01:41,  1.31it/s]\n"
          ]
        },
        {
          "output_type": "stream",
          "name": "stdout",
          "text": [
            "Classification Report\n",
            "              precision    recall  f1-score   support\n",
            "\n",
            "           0       0.56      0.29      0.38      2371\n",
            "           1       0.26      0.50      0.34      1165\n",
            "           2       0.59      0.90      0.71      2438\n",
            "           3       0.81      0.28      0.41      3380\n",
            "           4       0.23      0.25      0.24      1170\n",
            "\n",
            "   micro avg       0.49      0.45      0.47     10524\n",
            "   macro avg       0.49      0.44      0.42     10524\n",
            "weighted avg       0.58      0.45      0.45     10524\n",
            " samples avg       0.48      0.44      0.42     10524\n",
            "\n",
            "Exact match ratio:  0.029231494578029232\n",
            "1/0 Loss:  0.9707685054219708\n",
            "Hamming Loss:  0.508015087223008\n",
            "Example based Accuracy:  nan\n",
            "Example based precision:  nan\n",
            "Macro Averaged Accuracy:  0.2778082069129545\n",
            "Macro Averaged Precision:  0.49013850437551343\n",
            "Macro Averaged Recall:  0.44291338848710826\n",
            "Micro Averaged Accuracy:  0.3031302548182641\n",
            "Micro Averaged Precision:  0.486961038961039\n",
            "Micro Averaged Recall:  0.4453629798555682\n",
            "Validating...\n",
            "Validating\n"
          ]
        },
        {
          "output_type": "stream",
          "name": "stderr",
          "text": [
            "57it [00:23,  2.47it/s]\n"
          ]
        },
        {
          "output_type": "stream",
          "name": "stdout",
          "text": [
            "Classification Report\n",
            "              precision    recall  f1-score   support\n",
            "\n",
            "           0       0.84      0.80      0.82      1429\n",
            "           1       0.46      0.14      0.21       828\n",
            "           2       0.42      0.65      0.51       698\n",
            "           3       0.84      0.17      0.28      1515\n",
            "           4       0.39      0.14      0.21       765\n",
            "\n",
            "   micro avg       0.63      0.40      0.49      5235\n",
            "   macro avg       0.59      0.38      0.41      5235\n",
            "weighted avg       0.66      0.40      0.44      5235\n",
            " samples avg       0.67      0.39      0.45      5235\n",
            "\n",
            "Train Loss: 1279.5106\n",
            "Val Loss: 1173.2638\n",
            "Epoch 6 of 30\n",
            "Training...\n",
            "Training\n"
          ]
        },
        {
          "output_type": "stream",
          "name": "stderr",
          "text": [
            "133it [01:41,  1.31it/s]\n"
          ]
        },
        {
          "output_type": "stream",
          "name": "stdout",
          "text": [
            "Classification Report\n",
            "              precision    recall  f1-score   support\n",
            "\n",
            "           0       0.55      0.29      0.38      2371\n",
            "           1       0.25      0.49      0.33      1165\n",
            "           2       0.59      0.91      0.72      2438\n",
            "           3       0.84      0.28      0.42      3380\n",
            "           4       0.23      0.27      0.25      1170\n",
            "\n",
            "   micro avg       0.49      0.45      0.47     10524\n",
            "   macro avg       0.49      0.45      0.42     10524\n",
            "weighted avg       0.59      0.45      0.45     10524\n",
            " samples avg       0.48      0.45      0.43     10524\n",
            "\n",
            "Exact match ratio:  0.02428099952852428\n",
            "1/0 Loss:  0.9757190004714758\n",
            "Hamming Loss:  0.5087223008015087\n",
            "Example based Accuracy:  nan\n",
            "Example based precision:  nan\n",
            "Macro Averaged Accuracy:  0.2794709259008261\n",
            "Macro Averaged Precision:  0.49479822834980886\n",
            "Macro Averaged Recall:  0.44648408993067346\n",
            "Micro Averaged Accuracy:  0.3043197936814958\n",
            "Micro Averaged Precision:  0.48629713579229344\n",
            "Micro Averaged Recall:  0.4484986697073356\n",
            "Validating...\n",
            "Validating\n"
          ]
        },
        {
          "output_type": "stream",
          "name": "stderr",
          "text": [
            "57it [00:23,  2.48it/s]\n"
          ]
        },
        {
          "output_type": "stream",
          "name": "stdout",
          "text": [
            "Classification Report\n",
            "              precision    recall  f1-score   support\n",
            "\n",
            "           0       0.84      0.83      0.83      1429\n",
            "           1       0.48      0.13      0.20       828\n",
            "           2       0.44      0.73      0.55       698\n",
            "           3       0.84      0.15      0.26      1515\n",
            "           4       0.40      0.12      0.18       765\n",
            "\n",
            "   micro avg       0.64      0.41      0.50      5235\n",
            "   macro avg       0.60      0.39      0.40      5235\n",
            "weighted avg       0.66      0.41      0.43      5235\n",
            " samples avg       0.68      0.40      0.46      5235\n",
            "\n",
            "Train Loss: 1272.2893\n",
            "Val Loss: 1141.7934\n",
            "Epoch 7 of 30\n",
            "Training...\n",
            "Training\n"
          ]
        },
        {
          "output_type": "stream",
          "name": "stderr",
          "text": [
            "133it [01:41,  1.31it/s]\n"
          ]
        },
        {
          "output_type": "stream",
          "name": "stdout",
          "text": [
            "Classification Report\n",
            "              precision    recall  f1-score   support\n",
            "\n",
            "           0       0.59      0.31      0.40      2371\n",
            "           1       0.26      0.50      0.34      1165\n",
            "           2       0.58      0.90      0.71      2438\n",
            "           3       0.82      0.26      0.39      3380\n",
            "           4       0.24      0.28      0.26      1170\n",
            "\n",
            "   micro avg       0.49      0.45      0.47     10524\n",
            "   macro avg       0.50      0.45      0.42     10524\n",
            "weighted avg       0.59      0.45      0.45     10524\n",
            " samples avg       0.48      0.45      0.43     10524\n",
            "\n",
            "Exact match ratio:  0.030174446016030174\n",
            "1/0 Loss:  0.9698255539839699\n",
            "Hamming Loss:  0.506977840641207\n",
            "Example based Accuracy:  nan\n",
            "Example based precision:  nan\n",
            "Macro Averaged Accuracy:  0.2799877149279034\n",
            "Macro Averaged Precision:  0.4998438175520613\n",
            "Macro Averaged Recall:  0.448260722855918\n",
            "Micro Averaged Accuracy:  0.3040579897741246\n",
            "Micro Averaged Precision:  0.4881038961038961\n",
            "Micro Averaged Recall:  0.44640820980615736\n",
            "Validating...\n",
            "Validating\n"
          ]
        },
        {
          "output_type": "stream",
          "name": "stderr",
          "text": [
            "57it [00:22,  2.54it/s]\n"
          ]
        },
        {
          "output_type": "stream",
          "name": "stdout",
          "text": [
            "Classification Report\n",
            "              precision    recall  f1-score   support\n",
            "\n",
            "           0       0.84      0.81      0.82      1429\n",
            "           1       0.47      0.13      0.21       828\n",
            "           2       0.44      0.80      0.56       698\n",
            "           3       0.84      0.15      0.26      1515\n",
            "           4       0.39      0.12      0.18       765\n",
            "\n",
            "   micro avg       0.63      0.41      0.50      5235\n",
            "   macro avg       0.59      0.40      0.41      5235\n",
            "weighted avg       0.66      0.41      0.43      5235\n",
            " samples avg       0.66      0.41      0.46      5235\n",
            "\n",
            "Train Loss: 1268.0059\n",
            "Val Loss: 1145.2516\n",
            "Epoch 8 of 30\n",
            "Training...\n",
            "Training\n"
          ]
        },
        {
          "output_type": "stream",
          "name": "stderr",
          "text": [
            "133it [01:41,  1.31it/s]\n"
          ]
        },
        {
          "output_type": "stream",
          "name": "stdout",
          "text": [
            "Classification Report\n",
            "              precision    recall  f1-score   support\n",
            "\n",
            "           0       0.58      0.30      0.39      2371\n",
            "           1       0.25      0.48      0.33      1165\n",
            "           2       0.59      0.91      0.71      2438\n",
            "           3       0.82      0.28      0.41      3380\n",
            "           4       0.24      0.27      0.25      1170\n",
            "\n",
            "   micro avg       0.49      0.45      0.47     10524\n",
            "   macro avg       0.50      0.45      0.42     10524\n",
            "weighted avg       0.58      0.45      0.45     10524\n",
            " samples avg       0.49      0.46      0.43     10524\n",
            "\n",
            "Exact match ratio:  0.03041018387553041\n",
            "1/0 Loss:  0.9695898161244696\n",
            "Hamming Loss:  0.5045261669024045\n",
            "Example based Accuracy:  nan\n",
            "Example based precision:  nan\n",
            "Macro Averaged Accuracy:  0.2811499487263166\n",
            "Macro Averaged Precision:  0.495754894682584\n",
            "Macro Averaged Recall:  0.4469607948690933\n",
            "Micro Averaged Accuracy:  0.3069300518134715\n",
            "Micro Averaged Precision:  0.4908337648886587\n",
            "Micro Averaged Recall:  0.45030406689471686\n",
            "Validating...\n",
            "Validating\n"
          ]
        },
        {
          "output_type": "stream",
          "name": "stderr",
          "text": [
            "57it [00:22,  2.52it/s]\n"
          ]
        },
        {
          "output_type": "stream",
          "name": "stdout",
          "text": [
            "Classification Report\n",
            "              precision    recall  f1-score   support\n",
            "\n",
            "           0       0.84      0.83      0.83      1429\n",
            "           1       0.47      0.13      0.20       828\n",
            "           2       0.44      0.74      0.55       698\n",
            "           3       0.84      0.15      0.25      1515\n",
            "           4       0.40      0.12      0.19       765\n",
            "\n",
            "   micro avg       0.64      0.41      0.50      5235\n",
            "   macro avg       0.60      0.39      0.41      5235\n",
            "weighted avg       0.66      0.41      0.43      5235\n",
            " samples avg       0.67      0.40      0.46      5235\n",
            "\n",
            "Train Loss: 1266.2042\n",
            "Val Loss: 1141.2778\n",
            "Epoch 9 of 30\n",
            "Training...\n",
            "Training\n"
          ]
        },
        {
          "output_type": "stream",
          "name": "stderr",
          "text": [
            "133it [01:41,  1.31it/s]\n"
          ]
        },
        {
          "output_type": "stream",
          "name": "stdout",
          "text": [
            "Classification Report\n",
            "              precision    recall  f1-score   support\n",
            "\n",
            "           0       0.56      0.28      0.38      2371\n",
            "           1       0.27      0.53      0.36      1165\n",
            "           2       0.59      0.90      0.71      2438\n",
            "           3       0.83      0.28      0.42      3380\n",
            "           4       0.25      0.29      0.26      1170\n",
            "\n",
            "   micro avg       0.49      0.45      0.47     10524\n",
            "   macro avg       0.50      0.46      0.43     10524\n",
            "weighted avg       0.59      0.45      0.45     10524\n",
            " samples avg       0.49      0.45      0.43     10524\n",
            "\n",
            "Exact match ratio:  0.02616690240452617\n",
            "1/0 Loss:  0.9738330975954739\n",
            "Hamming Loss:  0.5027817067421028\n",
            "Example based Accuracy:  nan\n",
            "Example based precision:  nan\n",
            "Macro Averaged Accuracy:  0.28467196721718024\n",
            "Macro Averaged Precision:  0.499996510632626\n",
            "Macro Averaged Recall:  0.4561070521413148\n",
            "Micro Averaged Accuracy:  0.30887880751782243\n",
            "Micro Averaged Precision:  0.4927626137303557\n",
            "Micro Averaged Recall:  0.45286963131889013\n",
            "Validating...\n",
            "Validating\n"
          ]
        },
        {
          "output_type": "stream",
          "name": "stderr",
          "text": [
            "57it [00:22,  2.53it/s]\n"
          ]
        },
        {
          "output_type": "stream",
          "name": "stdout",
          "text": [
            "Classification Report\n",
            "              precision    recall  f1-score   support\n",
            "\n",
            "           0       0.83      0.85      0.84      1429\n",
            "           1       0.47      0.12      0.19       828\n",
            "           2       0.44      0.74      0.55       698\n",
            "           3       0.84      0.14      0.24      1515\n",
            "           4       0.40      0.12      0.19       765\n",
            "\n",
            "   micro avg       0.64      0.41      0.50      5235\n",
            "   macro avg       0.60      0.39      0.40      5235\n",
            "weighted avg       0.66      0.41      0.43      5235\n",
            " samples avg       0.68      0.41      0.46      5235\n",
            "\n",
            "Train Loss: 1260.1972\n",
            "Val Loss: 1136.6310\n",
            "Epoch 10 of 30\n",
            "Training...\n",
            "Training\n"
          ]
        },
        {
          "output_type": "stream",
          "name": "stderr",
          "text": [
            "133it [01:41,  1.31it/s]\n"
          ]
        },
        {
          "output_type": "stream",
          "name": "stdout",
          "text": [
            "Classification Report\n",
            "              precision    recall  f1-score   support\n",
            "\n",
            "           0       0.56      0.27      0.36      2371\n",
            "           1       0.26      0.52      0.35      1165\n",
            "           2       0.59      0.92      0.72      2438\n",
            "           3       0.83      0.29      0.42      3380\n",
            "           4       0.24      0.28      0.26      1170\n",
            "\n",
            "   micro avg       0.49      0.45      0.47     10524\n",
            "   macro avg       0.50      0.45      0.42     10524\n",
            "weighted avg       0.59      0.45      0.45     10524\n",
            " samples avg       0.48      0.45      0.43     10524\n",
            "\n",
            "Exact match ratio:  0.025223950966525223\n",
            "1/0 Loss:  0.9747760490334748\n",
            "Hamming Loss:  0.5067421027817067\n",
            "Example based Accuracy:  nan\n",
            "Example based precision:  nan\n",
            "Macro Averaged Accuracy:  0.28168186998012884\n",
            "Macro Averaged Precision:  0.4961205569369703\n",
            "Macro Averaged Recall:  0.45322148001393164\n",
            "Micro Averaged Accuracy:  0.3068936609273231\n",
            "Micro Averaged Precision:  0.48850338739478544\n",
            "Micro Averaged Recall:  0.4522044849866971\n",
            "Validating...\n",
            "Validating\n"
          ]
        },
        {
          "output_type": "stream",
          "name": "stderr",
          "text": [
            "57it [00:22,  2.50it/s]\n"
          ]
        },
        {
          "output_type": "stream",
          "name": "stdout",
          "text": [
            "Classification Report\n",
            "              precision    recall  f1-score   support\n",
            "\n",
            "           0       0.84      0.81      0.82      1429\n",
            "           1       0.46      0.13      0.21       828\n",
            "           2       0.44      0.80      0.56       698\n",
            "           3       0.84      0.15      0.26      1515\n",
            "           4       0.39      0.13      0.20       765\n",
            "\n",
            "   micro avg       0.63      0.41      0.50      5235\n",
            "   macro avg       0.59      0.41      0.41      5235\n",
            "weighted avg       0.66      0.41      0.44      5235\n",
            " samples avg       0.66      0.41      0.46      5235\n",
            "\n",
            "Train Loss: 1271.5268\n",
            "Val Loss: 1145.8425\n",
            "Epoch 11 of 30\n",
            "Training...\n",
            "Training\n"
          ]
        },
        {
          "output_type": "stream",
          "name": "stderr",
          "text": [
            "133it [01:41,  1.31it/s]\n"
          ]
        },
        {
          "output_type": "stream",
          "name": "stdout",
          "text": [
            "Classification Report\n",
            "              precision    recall  f1-score   support\n",
            "\n",
            "           0       0.56      0.27      0.37      2371\n",
            "           1       0.27      0.54      0.36      1165\n",
            "           2       0.59      0.91      0.72      2438\n",
            "           3       0.83      0.30      0.44      3380\n",
            "           4       0.23      0.27      0.25      1170\n",
            "\n",
            "   micro avg       0.49      0.46      0.47     10524\n",
            "   macro avg       0.50      0.46      0.43     10524\n",
            "weighted avg       0.59      0.46      0.46     10524\n",
            " samples avg       0.48      0.46      0.43     10524\n",
            "\n",
            "Exact match ratio:  0.028995756718528994\n",
            "1/0 Loss:  0.9710042432814711\n",
            "Hamming Loss:  0.504997642621405\n",
            "Example based Accuracy:  nan\n",
            "Example based precision:  nan\n",
            "Macro Averaged Accuracy:  0.2845924206412275\n",
            "Macro Averaged Precision:  0.49746464982458105\n",
            "Macro Averaged Recall:  0.45729079919445326\n",
            "Micro Averaged Accuracy:  0.30981377666086735\n",
            "Micro Averaged Precision:  0.4904621034377232\n",
            "Micro Averaged Recall:  0.45686050931204863\n",
            "Validating...\n",
            "Validating\n"
          ]
        },
        {
          "output_type": "stream",
          "name": "stderr",
          "text": [
            "57it [00:23,  2.47it/s]\n"
          ]
        },
        {
          "output_type": "stream",
          "name": "stdout",
          "text": [
            "Classification Report\n",
            "              precision    recall  f1-score   support\n",
            "\n",
            "           0       0.84      0.83      0.83      1429\n",
            "           1       0.47      0.13      0.20       828\n",
            "           2       0.44      0.77      0.56       698\n",
            "           3       0.84      0.15      0.26      1515\n",
            "           4       0.39      0.13      0.20       765\n",
            "\n",
            "   micro avg       0.64      0.41      0.50      5235\n",
            "   macro avg       0.60      0.40      0.41      5235\n",
            "weighted avg       0.66      0.41      0.44      5235\n",
            " samples avg       0.67      0.41      0.46      5235\n",
            "\n",
            "Train Loss: 1270.3960\n",
            "Val Loss: 1137.7554\n",
            "Epoch 12 of 30\n",
            "Training...\n",
            "Training\n"
          ]
        },
        {
          "output_type": "stream",
          "name": "stderr",
          "text": [
            "133it [01:41,  1.31it/s]\n"
          ]
        },
        {
          "output_type": "stream",
          "name": "stdout",
          "text": [
            "Classification Report\n",
            "              precision    recall  f1-score   support\n",
            "\n",
            "           0       0.58      0.28      0.38      2371\n",
            "           1       0.26      0.51      0.34      1165\n",
            "           2       0.58      0.90      0.71      2438\n",
            "           3       0.84      0.28      0.43      3380\n",
            "           4       0.23      0.27      0.25      1170\n",
            "\n",
            "   micro avg       0.49      0.45      0.47     10524\n",
            "   macro avg       0.50      0.45      0.42     10524\n",
            "weighted avg       0.59      0.45      0.45     10524\n",
            " samples avg       0.48      0.45      0.43     10524\n",
            "\n",
            "Exact match ratio:  0.027345591702027345\n",
            "1/0 Loss:  0.9726544082979727\n",
            "Hamming Loss:  0.5071664309288072\n",
            "Example based Accuracy:  nan\n",
            "Example based precision:  nan\n",
            "Macro Averaged Accuracy:  0.28071837007763706\n",
            "Macro Averaged Precision:  0.4984071075386236\n",
            "Macro Averaged Recall:  0.4496259346971967\n",
            "Micro Averaged Accuracy:  0.30577605679251374\n",
            "Micro Averaged Precision:  0.4880008239777526\n",
            "Micro Averaged Recall:  0.45020904599011785\n",
            "Validating...\n",
            "Validating\n"
          ]
        },
        {
          "output_type": "stream",
          "name": "stderr",
          "text": [
            "57it [00:23,  2.47it/s]\n"
          ]
        },
        {
          "output_type": "stream",
          "name": "stdout",
          "text": [
            "Classification Report\n",
            "              precision    recall  f1-score   support\n",
            "\n",
            "           0       0.84      0.80      0.82      1429\n",
            "           1       0.47      0.13      0.21       828\n",
            "           2       0.44      0.80      0.57       698\n",
            "           3       0.84      0.16      0.27      1515\n",
            "           4       0.38      0.13      0.19       765\n",
            "\n",
            "   micro avg       0.63      0.41      0.50      5235\n",
            "   macro avg       0.59      0.40      0.41      5235\n",
            "weighted avg       0.66      0.41      0.44      5235\n",
            " samples avg       0.66      0.41      0.46      5235\n",
            "\n",
            "Train Loss: 1271.3331\n",
            "Val Loss: 1145.9604\n",
            "Epoch 13 of 30\n",
            "Training...\n",
            "Training\n"
          ]
        },
        {
          "output_type": "stream",
          "name": "stderr",
          "text": [
            "133it [01:40,  1.32it/s]\n"
          ]
        },
        {
          "output_type": "stream",
          "name": "stdout",
          "text": [
            "Classification Report\n",
            "              precision    recall  f1-score   support\n",
            "\n",
            "           0       0.56      0.27      0.36      2371\n",
            "           1       0.26      0.49      0.34      1165\n",
            "           2       0.59      0.90      0.71      2438\n",
            "           3       0.83      0.30      0.44      3380\n",
            "           4       0.23      0.26      0.24      1170\n",
            "\n",
            "   micro avg       0.49      0.45      0.47     10524\n",
            "   macro avg       0.49      0.44      0.42     10524\n",
            "weighted avg       0.58      0.45      0.45     10524\n",
            " samples avg       0.48      0.45      0.43     10524\n",
            "\n",
            "Exact match ratio:  0.024752475247524754\n",
            "1/0 Loss:  0.9752475247524752\n",
            "Hamming Loss:  0.5070721357850071\n",
            "Example based Accuracy:  nan\n",
            "Example based precision:  nan\n",
            "Macro Averaged Accuracy:  0.27897932795196534\n",
            "Macro Averaged Precision:  0.4924595453699281\n",
            "Macro Averaged Recall:  0.44396408957236433\n",
            "Micro Averaged Accuracy:  0.3050978871874394\n",
            "Micro Averaged Precision:  0.48806201550387596\n",
            "Micro Averaged Recall:  0.4486887115165336\n",
            "Validating...\n",
            "Validating\n"
          ]
        },
        {
          "output_type": "stream",
          "name": "stderr",
          "text": [
            "57it [00:23,  2.47it/s]\n"
          ]
        },
        {
          "output_type": "stream",
          "name": "stdout",
          "text": [
            "Classification Report\n",
            "              precision    recall  f1-score   support\n",
            "\n",
            "           0       0.84      0.81      0.82      1429\n",
            "           1       0.47      0.13      0.21       828\n",
            "           2       0.44      0.80      0.57       698\n",
            "           3       0.84      0.16      0.26      1515\n",
            "           4       0.39      0.12      0.19       765\n",
            "\n",
            "   micro avg       0.63      0.41      0.50      5235\n",
            "   macro avg       0.60      0.40      0.41      5235\n",
            "weighted avg       0.66      0.41      0.44      5235\n",
            " samples avg       0.66      0.41      0.46      5235\n",
            "\n",
            "Train Loss: 1274.6285\n",
            "Val Loss: 1142.0763\n",
            "Epoch 14 of 30\n",
            "Training...\n",
            "Training\n"
          ]
        },
        {
          "output_type": "stream",
          "name": "stderr",
          "text": [
            "133it [01:41,  1.31it/s]\n"
          ]
        },
        {
          "output_type": "stream",
          "name": "stdout",
          "text": [
            "Classification Report\n",
            "              precision    recall  f1-score   support\n",
            "\n",
            "           0       0.59      0.31      0.40      2371\n",
            "           1       0.25      0.47      0.33      1165\n",
            "           2       0.59      0.91      0.71      2438\n",
            "           3       0.84      0.28      0.42      3380\n",
            "           4       0.24      0.27      0.25      1170\n",
            "\n",
            "   micro avg       0.49      0.45      0.47     10524\n",
            "   macro avg       0.50      0.45      0.42     10524\n",
            "weighted avg       0.59      0.45      0.46     10524\n",
            " samples avg       0.49      0.46      0.43     10524\n",
            "\n",
            "Exact match ratio:  0.03206034889203206\n",
            "1/0 Loss:  0.967939651107968\n",
            "Hamming Loss:  0.5023102310231023\n",
            "Example based Accuracy:  nan\n",
            "Example based precision:  nan\n",
            "Macro Averaged Accuracy:  0.2826115547849701\n",
            "Macro Averaged Precision:  0.5013404116179307\n",
            "Macro Averaged Recall:  0.4468002212453278\n",
            "Micro Averaged Accuracy:  0.30818181818181817\n",
            "Micro Averaged Precision:  0.4932446476823945\n",
            "Micro Averaged Recall:  0.4509692132269099\n",
            "Validating...\n",
            "Validating\n"
          ]
        },
        {
          "output_type": "stream",
          "name": "stderr",
          "text": [
            "57it [00:22,  2.52it/s]\n"
          ]
        },
        {
          "output_type": "stream",
          "name": "stdout",
          "text": [
            "Classification Report\n",
            "              precision    recall  f1-score   support\n",
            "\n",
            "           0       0.83      0.87      0.85      1429\n",
            "           1       0.46      0.11      0.17       828\n",
            "           2       0.43      0.84      0.57       698\n",
            "           3       0.85      0.13      0.22      1515\n",
            "           4       0.39      0.08      0.13       765\n",
            "\n",
            "   micro avg       0.64      0.42      0.50      5235\n",
            "   macro avg       0.59      0.40      0.39      5235\n",
            "weighted avg       0.66      0.42      0.42      5235\n",
            " samples avg       0.66      0.41      0.47      5235\n",
            "\n",
            "Train Loss: 1254.1663\n",
            "Val Loss: 1125.7262\n",
            "Epoch 15 of 30\n",
            "Training...\n",
            "Training\n"
          ]
        },
        {
          "output_type": "stream",
          "name": "stderr",
          "text": [
            "133it [01:41,  1.32it/s]\n"
          ]
        },
        {
          "output_type": "stream",
          "name": "stdout",
          "text": [
            "Classification Report\n",
            "              precision    recall  f1-score   support\n",
            "\n",
            "           0       0.56      0.27      0.36      2371\n",
            "           1       0.26      0.50      0.34      1165\n",
            "           2       0.59      0.91      0.72      2438\n",
            "           3       0.83      0.28      0.42      3380\n",
            "           4       0.24      0.28      0.26      1170\n",
            "\n",
            "   micro avg       0.49      0.45      0.47     10524\n",
            "   macro avg       0.50      0.45      0.42     10524\n",
            "weighted avg       0.58      0.45      0.45     10524\n",
            " samples avg       0.48      0.45      0.43     10524\n",
            "\n",
            "Exact match ratio:  0.026874115983026876\n",
            "1/0 Loss:  0.9731258840169731\n",
            "Hamming Loss:  0.5058462989156058\n",
            "Example based Accuracy:  nan\n",
            "Example based precision:  nan\n",
            "Macro Averaged Accuracy:  0.2803747837481952\n",
            "Macro Averaged Precision:  0.495311396143717\n",
            "Macro Averaged Recall:  0.4484479982424758\n",
            "Micro Averaged Accuracy:  0.3057460851559467\n",
            "Micro Averaged Precision:  0.4893837389953392\n",
            "Micro Averaged Recall:  0.4489737742303307\n",
            "Validating...\n",
            "Validating\n"
          ]
        },
        {
          "output_type": "stream",
          "name": "stderr",
          "text": [
            "57it [00:22,  2.56it/s]\n"
          ]
        },
        {
          "output_type": "stream",
          "name": "stdout",
          "text": [
            "Classification Report\n",
            "              precision    recall  f1-score   support\n",
            "\n",
            "           0       0.83      0.85      0.84      1429\n",
            "           1       0.48      0.12      0.20       828\n",
            "           2       0.44      0.74      0.55       698\n",
            "           3       0.84      0.14      0.24      1515\n",
            "           4       0.38      0.11      0.18       765\n",
            "\n",
            "   micro avg       0.64      0.41      0.50      5235\n",
            "   macro avg       0.59      0.39      0.40      5235\n",
            "weighted avg       0.66      0.41      0.43      5235\n",
            " samples avg       0.67      0.40      0.46      5235\n",
            "\n",
            "Train Loss: 1266.4300\n",
            "Val Loss: 1141.5095\n",
            "Epoch 16 of 30\n",
            "Training...\n",
            "Training\n"
          ]
        },
        {
          "output_type": "stream",
          "name": "stderr",
          "text": [
            "133it [01:41,  1.31it/s]\n"
          ]
        },
        {
          "output_type": "stream",
          "name": "stdout",
          "text": [
            "Classification Report\n",
            "              precision    recall  f1-score   support\n",
            "\n",
            "           0       0.55      0.27      0.37      2371\n",
            "           1       0.26      0.51      0.35      1165\n",
            "           2       0.59      0.92      0.72      2438\n",
            "           3       0.83      0.30      0.44      3380\n",
            "           4       0.23      0.26      0.24      1170\n",
            "\n",
            "   micro avg       0.49      0.46      0.47     10524\n",
            "   macro avg       0.49      0.45      0.42     10524\n",
            "weighted avg       0.58      0.46      0.46     10524\n",
            " samples avg       0.48      0.46      0.43     10524\n",
            "\n",
            "Exact match ratio:  0.026874115983026876\n",
            "1/0 Loss:  0.9731258840169731\n",
            "Hamming Loss:  0.5058462989156058\n",
            "Example based Accuracy:  nan\n",
            "Example based precision:  nan\n",
            "Macro Averaged Accuracy:  0.282796804198158\n",
            "Macro Averaged Precision:  0.4927505355266929\n",
            "Macro Averaged Recall:  0.452084710498487\n",
            "Micro Averaged Accuracy:  0.30869845360824744\n",
            "Micro Averaged Precision:  0.48952692346990906\n",
            "Micro Averaged Recall:  0.45524515393386544\n",
            "Validating...\n",
            "Validating\n"
          ]
        },
        {
          "output_type": "stream",
          "name": "stderr",
          "text": [
            "57it [00:22,  2.56it/s]\n"
          ]
        },
        {
          "output_type": "stream",
          "name": "stdout",
          "text": [
            "Classification Report\n",
            "              precision    recall  f1-score   support\n",
            "\n",
            "           0       0.83      0.86      0.84      1429\n",
            "           1       0.48      0.13      0.20       828\n",
            "           2       0.44      0.76      0.56       698\n",
            "           3       0.84      0.15      0.25      1515\n",
            "           4       0.39      0.12      0.19       765\n",
            "\n",
            "   micro avg       0.64      0.42      0.50      5235\n",
            "   macro avg       0.60      0.40      0.41      5235\n",
            "weighted avg       0.66      0.42      0.44      5235\n",
            " samples avg       0.67      0.41      0.47      5235\n",
            "\n",
            "Train Loss: 1271.7340\n",
            "Val Loss: 1132.2458\n",
            "Epoch 17 of 30\n",
            "Training...\n",
            "Training\n"
          ]
        },
        {
          "output_type": "stream",
          "name": "stderr",
          "text": [
            "133it [01:41,  1.31it/s]\n"
          ]
        },
        {
          "output_type": "stream",
          "name": "stdout",
          "text": [
            "Classification Report\n",
            "              precision    recall  f1-score   support\n",
            "\n",
            "           0       0.58      0.30      0.39      2371\n",
            "           1       0.26      0.50      0.34      1165\n",
            "           2       0.59      0.91      0.71      2438\n",
            "           3       0.82      0.27      0.41      3380\n",
            "           4       0.24      0.28      0.26      1170\n",
            "\n",
            "   micro avg       0.49      0.45      0.47     10524\n",
            "   macro avg       0.50      0.45      0.42     10524\n",
            "weighted avg       0.58      0.45      0.45     10524\n",
            " samples avg       0.49      0.45      0.43     10524\n",
            "\n",
            "Exact match ratio:  0.026638378123526638\n",
            "1/0 Loss:  0.9733616218764733\n",
            "Hamming Loss:  0.505940594059406\n",
            "Example based Accuracy:  nan\n",
            "Example based precision:  nan\n",
            "Macro Averaged Accuracy:  0.28170222996950683\n",
            "Macro Averaged Precision:  0.49685689892154306\n",
            "Macro Averaged Recall:  0.4502575911120359\n",
            "Micro Averaged Accuracy:  0.3063796781074268\n",
            "Micro Averaged Precision:  0.4893155775781976\n",
            "Micro Averaged Recall:  0.45039908779931587\n",
            "Validating...\n",
            "Validating\n"
          ]
        },
        {
          "output_type": "stream",
          "name": "stderr",
          "text": [
            "57it [00:22,  2.52it/s]\n"
          ]
        },
        {
          "output_type": "stream",
          "name": "stdout",
          "text": [
            "Classification Report\n",
            "              precision    recall  f1-score   support\n",
            "\n",
            "           0       0.84      0.83      0.83      1429\n",
            "           1       0.48      0.13      0.21       828\n",
            "           2       0.44      0.80      0.56       698\n",
            "           3       0.84      0.15      0.26      1515\n",
            "           4       0.41      0.13      0.20       765\n",
            "\n",
            "   micro avg       0.63      0.42      0.50      5235\n",
            "   macro avg       0.60      0.41      0.41      5235\n",
            "weighted avg       0.67      0.42      0.44      5235\n",
            " samples avg       0.66      0.41      0.47      5235\n",
            "\n",
            "Train Loss: 1266.5464\n",
            "Val Loss: 1133.3395\n",
            "Epoch 18 of 30\n",
            "Training...\n",
            "Training\n"
          ]
        },
        {
          "output_type": "stream",
          "name": "stderr",
          "text": [
            "133it [01:40,  1.32it/s]\n"
          ]
        },
        {
          "output_type": "stream",
          "name": "stdout",
          "text": [
            "Classification Report\n",
            "              precision    recall  f1-score   support\n",
            "\n",
            "           0       0.58      0.30      0.40      2371\n",
            "           1       0.26      0.50      0.35      1165\n",
            "           2       0.59      0.89      0.71      2438\n",
            "           3       0.82      0.28      0.42      3380\n",
            "           4       0.23      0.25      0.24      1170\n",
            "\n",
            "   micro avg       0.49      0.45      0.47     10524\n",
            "   macro avg       0.50      0.45      0.42     10524\n",
            "weighted avg       0.59      0.45      0.45     10524\n",
            " samples avg       0.48      0.45      0.43     10524\n",
            "\n",
            "Exact match ratio:  0.030645921735030647\n",
            "1/0 Loss:  0.9693540782649693\n",
            "Hamming Loss:  0.5038189533239038\n",
            "Example based Accuracy:  nan\n",
            "Example based precision:  nan\n",
            "Macro Averaged Accuracy:  0.28083966142777106\n",
            "Macro Averaged Precision:  0.496747489078864\n",
            "Macro Averaged Recall:  0.4453676075036621\n",
            "Micro Averaged Accuracy:  0.3061489513667944\n",
            "Micro Averaged Precision:  0.4915554628857381\n",
            "Micro Averaged Recall:  0.44802356518434056\n",
            "Validating...\n",
            "Validating\n"
          ]
        },
        {
          "output_type": "stream",
          "name": "stderr",
          "text": [
            "57it [00:22,  2.49it/s]\n"
          ]
        },
        {
          "output_type": "stream",
          "name": "stdout",
          "text": [
            "Classification Report\n",
            "              precision    recall  f1-score   support\n",
            "\n",
            "           0       0.84      0.82      0.83      1429\n",
            "           1       0.47      0.13      0.20       828\n",
            "           2       0.44      0.79      0.56       698\n",
            "           3       0.84      0.15      0.25      1515\n",
            "           4       0.39      0.13      0.20       765\n",
            "\n",
            "   micro avg       0.63      0.41      0.50      5235\n",
            "   macro avg       0.59      0.40      0.41      5235\n",
            "weighted avg       0.66      0.41      0.43      5235\n",
            " samples avg       0.66      0.41      0.46      5235\n",
            "\n",
            "Train Loss: 1268.3518\n",
            "Val Loss: 1142.3234\n",
            "Epoch 19 of 30\n",
            "Training...\n",
            "Training\n"
          ]
        },
        {
          "output_type": "stream",
          "name": "stderr",
          "text": [
            "133it [01:41,  1.32it/s]\n"
          ]
        },
        {
          "output_type": "stream",
          "name": "stdout",
          "text": [
            "Classification Report\n",
            "              precision    recall  f1-score   support\n",
            "\n",
            "           0       0.57      0.29      0.38      2371\n",
            "           1       0.25      0.50      0.34      1165\n",
            "           2       0.59      0.91      0.72      2438\n",
            "           3       0.82      0.28      0.42      3380\n",
            "           4       0.21      0.25      0.23      1170\n",
            "\n",
            "   micro avg       0.48      0.45      0.47     10524\n",
            "   macro avg       0.49      0.45      0.42     10524\n",
            "weighted avg       0.58      0.45      0.45     10524\n",
            " samples avg       0.48      0.46      0.43     10524\n",
            "\n",
            "Exact match ratio:  0.026402640264026403\n",
            "1/0 Loss:  0.9735973597359736\n",
            "Hamming Loss:  0.5110325318246111\n",
            "Example based Accuracy:  nan\n",
            "Example based precision:  nan\n",
            "Macro Averaged Accuracy:  0.2798510277053968\n",
            "Macro Averaged Precision:  0.48980601579941824\n",
            "Macro Averaged Recall:  0.44838555308579586\n",
            "Micro Averaged Accuracy:  0.3050586651279092\n",
            "Micro Averaged Precision:  0.4839792493133964\n",
            "Micro Averaged Recall:  0.45210946408209807\n",
            "Validating...\n",
            "Validating\n"
          ]
        },
        {
          "output_type": "stream",
          "name": "stderr",
          "text": [
            "57it [00:22,  2.49it/s]\n"
          ]
        },
        {
          "output_type": "stream",
          "name": "stdout",
          "text": [
            "Classification Report\n",
            "              precision    recall  f1-score   support\n",
            "\n",
            "           0       0.84      0.82      0.83      1429\n",
            "           1       0.47      0.14      0.21       828\n",
            "           2       0.44      0.78      0.56       698\n",
            "           3       0.84      0.16      0.26      1515\n",
            "           4       0.37      0.12      0.18       765\n",
            "\n",
            "   micro avg       0.63      0.41      0.50      5235\n",
            "   macro avg       0.59      0.40      0.41      5235\n",
            "weighted avg       0.66      0.41      0.44      5235\n",
            " samples avg       0.66      0.41      0.46      5235\n",
            "\n",
            "Train Loss: 1285.0250\n",
            "Val Loss: 1143.9446\n",
            "Epoch 20 of 30\n",
            "Training...\n",
            "Training\n"
          ]
        },
        {
          "output_type": "stream",
          "name": "stderr",
          "text": [
            "133it [01:40,  1.32it/s]\n"
          ]
        },
        {
          "output_type": "stream",
          "name": "stdout",
          "text": [
            "Classification Report\n",
            "              precision    recall  f1-score   support\n",
            "\n",
            "           0       0.57      0.31      0.40      2371\n",
            "           1       0.25      0.48      0.33      1165\n",
            "           2       0.59      0.90      0.71      2438\n",
            "           3       0.82      0.27      0.41      3380\n",
            "           4       0.24      0.27      0.26      1170\n",
            "\n",
            "   micro avg       0.49      0.45      0.47     10524\n",
            "   macro avg       0.50      0.45      0.42     10524\n",
            "weighted avg       0.58      0.45      0.45     10524\n",
            " samples avg       0.48      0.45      0.43     10524\n",
            "\n",
            "Exact match ratio:  0.02876001885902876\n",
            "1/0 Loss:  0.9712399811409712\n",
            "Hamming Loss:  0.5051862329090052\n",
            "Example based Accuracy:  nan\n",
            "Example based precision:  nan\n",
            "Macro Averaged Accuracy:  0.281122168939712\n",
            "Macro Averaged Precision:  0.4960305076202056\n",
            "Macro Averaged Recall:  0.44696142789617477\n",
            "Micro Averaged Accuracy:  0.3062030562030562\n",
            "Micro Averaged Precision:  0.49010260130583483\n",
            "Micro Averaged Recall:  0.4493538578487267\n",
            "Validating...\n",
            "Validating\n"
          ]
        },
        {
          "output_type": "stream",
          "name": "stderr",
          "text": [
            "57it [00:22,  2.49it/s]\n"
          ]
        },
        {
          "output_type": "stream",
          "name": "stdout",
          "text": [
            "Classification Report\n",
            "              precision    recall  f1-score   support\n",
            "\n",
            "           0       0.84      0.83      0.83      1429\n",
            "           1       0.47      0.13      0.20       828\n",
            "           2       0.44      0.77      0.56       698\n",
            "           3       0.84      0.15      0.26      1515\n",
            "           4       0.40      0.13      0.20       765\n",
            "\n",
            "   micro avg       0.64      0.41      0.50      5235\n",
            "   macro avg       0.60      0.40      0.41      5235\n",
            "weighted avg       0.66      0.41      0.44      5235\n",
            " samples avg       0.67      0.41      0.46      5235\n",
            "\n",
            "Train Loss: 1266.7843\n",
            "Val Loss: 1139.4098\n",
            "Epoch 21 of 30\n",
            "Training...\n",
            "Training\n"
          ]
        },
        {
          "output_type": "stream",
          "name": "stderr",
          "text": [
            "133it [01:40,  1.32it/s]\n"
          ]
        },
        {
          "output_type": "stream",
          "name": "stdout",
          "text": [
            "Classification Report\n",
            "              precision    recall  f1-score   support\n",
            "\n",
            "           0       0.57      0.28      0.37      2371\n",
            "           1       0.26      0.52      0.35      1165\n",
            "           2       0.59      0.91      0.72      2438\n",
            "           3       0.82      0.28      0.42      3380\n",
            "           4       0.24      0.28      0.26      1170\n",
            "\n",
            "   micro avg       0.49      0.45      0.47     10524\n",
            "   macro avg       0.50      0.46      0.42     10524\n",
            "weighted avg       0.58      0.45      0.45     10524\n",
            " samples avg       0.48      0.46      0.43     10524\n",
            "\n",
            "Exact match ratio:  0.031117397454031116\n",
            "1/0 Loss:  0.9688826025459689\n",
            "Hamming Loss:  0.507024988213107\n",
            "Example based Accuracy:  nan\n",
            "Example based precision:  nan\n",
            "Macro Averaged Accuracy:  0.28315470883429683\n",
            "Macro Averaged Precision:  0.4962768029313316\n",
            "Macro Averaged Recall:  0.45550395791513065\n",
            "Micro Averaged Accuracy:  0.3077121153598558\n",
            "Micro Averaged Precision:  0.4882533197139939\n",
            "Micro Averaged Recall:  0.4541999239832763\n",
            "Validating...\n",
            "Validating\n"
          ]
        },
        {
          "output_type": "stream",
          "name": "stderr",
          "text": [
            "57it [00:22,  2.49it/s]\n"
          ]
        },
        {
          "output_type": "stream",
          "name": "stdout",
          "text": [
            "Classification Report\n",
            "              precision    recall  f1-score   support\n",
            "\n",
            "           0       0.83      0.85      0.84      1429\n",
            "           1       0.48      0.13      0.20       828\n",
            "           2       0.43      0.72      0.54       698\n",
            "           3       0.84      0.14      0.24      1515\n",
            "           4       0.40      0.13      0.19       765\n",
            "\n",
            "   micro avg       0.64      0.41      0.50      5235\n",
            "   macro avg       0.60      0.39      0.40      5235\n",
            "weighted avg       0.66      0.41      0.43      5235\n",
            " samples avg       0.68      0.40      0.46      5235\n",
            "\n",
            "Train Loss: 1271.5629\n",
            "Val Loss: 1140.6576\n",
            "Epoch 22 of 30\n",
            "Training...\n",
            "Training\n"
          ]
        },
        {
          "output_type": "stream",
          "name": "stderr",
          "text": [
            "133it [01:40,  1.32it/s]\n"
          ]
        },
        {
          "output_type": "stream",
          "name": "stdout",
          "text": [
            "Classification Report\n",
            "              precision    recall  f1-score   support\n",
            "\n",
            "           0       0.58      0.29      0.39      2371\n",
            "           1       0.26      0.51      0.34      1165\n",
            "           2       0.59      0.91      0.71      2438\n",
            "           3       0.82      0.29      0.43      3380\n",
            "           4       0.26      0.31      0.28      1170\n",
            "\n",
            "   micro avg       0.49      0.46      0.47     10524\n",
            "   macro avg       0.50      0.46      0.43     10524\n",
            "weighted avg       0.59      0.46      0.46     10524\n",
            " samples avg       0.48      0.46      0.43     10524\n",
            "\n",
            "Exact match ratio:  0.028052805280528052\n",
            "1/0 Loss:  0.971947194719472\n",
            "Hamming Loss:  0.5053276756247054\n",
            "Example based Accuracy:  nan\n",
            "Example based precision:  nan\n",
            "Macro Averaged Accuracy:  0.28721419103537427\n",
            "Macro Averaged Precision:  0.5003543170684556\n",
            "Macro Averaged Recall:  0.4612293567258249\n",
            "Micro Averaged Accuracy:  0.31113824795938044\n",
            "Micro Averaged Precision:  0.4901782098015391\n",
            "Micro Averaged Recall:  0.45999619916381607\n",
            "Validating...\n",
            "Validating\n"
          ]
        },
        {
          "output_type": "stream",
          "name": "stderr",
          "text": [
            "57it [00:22,  2.52it/s]\n"
          ]
        },
        {
          "output_type": "stream",
          "name": "stdout",
          "text": [
            "Classification Report\n",
            "              precision    recall  f1-score   support\n",
            "\n",
            "           0       0.83      0.85      0.84      1429\n",
            "           1       0.48      0.12      0.19       828\n",
            "           2       0.43      0.83      0.57       698\n",
            "           3       0.84      0.15      0.25      1515\n",
            "           4       0.40      0.11      0.17       765\n",
            "\n",
            "   micro avg       0.63      0.42      0.51      5235\n",
            "   macro avg       0.60      0.41      0.41      5235\n",
            "weighted avg       0.66      0.42      0.43      5235\n",
            " samples avg       0.66      0.42      0.47      5235\n",
            "\n",
            "Train Loss: 1270.3893\n",
            "Val Loss: 1130.0611\n",
            "Epoch 23 of 30\n",
            "Training...\n",
            "Training\n"
          ]
        },
        {
          "output_type": "stream",
          "name": "stderr",
          "text": [
            "133it [01:41,  1.31it/s]\n"
          ]
        },
        {
          "output_type": "stream",
          "name": "stdout",
          "text": [
            "Classification Report\n",
            "              precision    recall  f1-score   support\n",
            "\n",
            "           0       0.56      0.28      0.38      2371\n",
            "           1       0.25      0.48      0.33      1165\n",
            "           2       0.59      0.89      0.71      2438\n",
            "           3       0.83      0.27      0.41      3380\n",
            "           4       0.24      0.28      0.25      1170\n",
            "\n",
            "   micro avg       0.48      0.44      0.46     10524\n",
            "   macro avg       0.49      0.44      0.41     10524\n",
            "weighted avg       0.58      0.44      0.44     10524\n",
            " samples avg       0.48      0.44      0.42     10524\n",
            "\n",
            "Exact match ratio:  0.02498821310702499\n",
            "1/0 Loss:  0.975011786892975\n",
            "Hamming Loss:  0.5105610561056105\n",
            "Example based Accuracy:  nan\n",
            "Example based precision:  nan\n",
            "Macro Averaged Accuracy:  0.2754636879779711\n",
            "Macro Averaged Precision:  0.4930668007460346\n",
            "Macro Averaged Recall:  0.4396323601815945\n",
            "Micro Averaged Accuracy:  0.299773682508891\n",
            "Micro Averaged Precision:  0.4840764331210191\n",
            "Micro Averaged Recall:  0.44051691372101864\n",
            "Validating...\n",
            "Validating\n"
          ]
        },
        {
          "output_type": "stream",
          "name": "stderr",
          "text": [
            "57it [00:22,  2.53it/s]\n"
          ]
        },
        {
          "output_type": "stream",
          "name": "stdout",
          "text": [
            "Classification Report\n",
            "              precision    recall  f1-score   support\n",
            "\n",
            "           0       0.84      0.81      0.82      1429\n",
            "           1       0.47      0.13      0.21       828\n",
            "           2       0.44      0.76      0.56       698\n",
            "           3       0.84      0.15      0.26      1515\n",
            "           4       0.39      0.13      0.19       765\n",
            "\n",
            "   micro avg       0.64      0.41      0.49      5235\n",
            "   macro avg       0.60      0.40      0.41      5235\n",
            "weighted avg       0.66      0.41      0.43      5235\n",
            " samples avg       0.66      0.40      0.46      5235\n",
            "\n",
            "Train Loss: 1277.5591\n",
            "Val Loss: 1146.6507\n",
            "Epoch 24 of 30\n",
            "Training...\n",
            "Training\n"
          ]
        },
        {
          "output_type": "stream",
          "name": "stderr",
          "text": [
            "133it [01:41,  1.31it/s]\n"
          ]
        },
        {
          "output_type": "stream",
          "name": "stdout",
          "text": [
            "Classification Report\n",
            "              precision    recall  f1-score   support\n",
            "\n",
            "           0       0.58      0.28      0.38      2371\n",
            "           1       0.26      0.52      0.35      1165\n",
            "           2       0.59      0.91      0.72      2438\n",
            "           3       0.83      0.30      0.45      3380\n",
            "           4       0.23      0.27      0.25      1170\n",
            "\n",
            "   micro avg       0.49      0.46      0.48     10524\n",
            "   macro avg       0.50      0.46      0.43     10524\n",
            "weighted avg       0.59      0.46      0.46     10524\n",
            " samples avg       0.49      0.46      0.44     10524\n",
            "\n",
            "Exact match ratio:  0.029467232437529467\n",
            "1/0 Loss:  0.9705327675624705\n",
            "Hamming Loss:  0.5021216407355021\n",
            "Example based Accuracy:  nan\n",
            "Example based precision:  nan\n",
            "Macro Averaged Accuracy:  0.2860044340984782\n",
            "Macro Averaged Precision:  0.5006624305726152\n",
            "Macro Averaged Recall:  0.4561000425676001\n",
            "Micro Averaged Accuracy:  0.3117487398216363\n",
            "Micro Averaged Precision:  0.49355432780847147\n",
            "Micro Averaged Recall:  0.4583808437856328\n",
            "Validating...\n",
            "Validating\n"
          ]
        },
        {
          "output_type": "stream",
          "name": "stderr",
          "text": [
            "57it [00:22,  2.57it/s]\n"
          ]
        },
        {
          "output_type": "stream",
          "name": "stdout",
          "text": [
            "Classification Report\n",
            "              precision    recall  f1-score   support\n",
            "\n",
            "           0       0.84      0.83      0.84      1429\n",
            "           1       0.47      0.13      0.20       828\n",
            "           2       0.44      0.76      0.56       698\n",
            "           3       0.84      0.14      0.25      1515\n",
            "           4       0.40      0.13      0.20       765\n",
            "\n",
            "   micro avg       0.64      0.41      0.50      5235\n",
            "   macro avg       0.60      0.40      0.41      5235\n",
            "weighted avg       0.66      0.41      0.43      5235\n",
            " samples avg       0.67      0.41      0.46      5235\n",
            "\n",
            "Train Loss: 1264.0482\n",
            "Val Loss: 1136.3156\n",
            "Epoch 25 of 30\n",
            "Training...\n",
            "Training\n"
          ]
        },
        {
          "output_type": "stream",
          "name": "stderr",
          "text": [
            "133it [01:41,  1.31it/s]\n"
          ]
        },
        {
          "output_type": "stream",
          "name": "stdout",
          "text": [
            "Classification Report\n",
            "              precision    recall  f1-score   support\n",
            "\n",
            "           0       0.60      0.32      0.42      2371\n",
            "           1       0.25      0.48      0.33      1165\n",
            "           2       0.59      0.90      0.72      2438\n",
            "           3       0.82      0.28      0.42      3380\n",
            "           4       0.27      0.30      0.28      1170\n",
            "\n",
            "   micro avg       0.50      0.46      0.48     10524\n",
            "   macro avg       0.51      0.46      0.43     10524\n",
            "weighted avg       0.59      0.46      0.46     10524\n",
            " samples avg       0.50      0.46      0.44     10524\n",
            "\n",
            "Exact match ratio:  0.03323903818953324\n",
            "1/0 Loss:  0.9667609618104668\n",
            "Hamming Loss:  0.4964167845355964\n",
            "Example based Accuracy:  nan\n",
            "Example based precision:  nan\n",
            "Macro Averaged Accuracy:  0.29003008965108934\n",
            "Macro Averaged Precision:  0.5064989207845129\n",
            "Macro Averaged Recall:  0.4568757472270999\n",
            "Micro Averaged Accuracy:  0.3142503582128436\n",
            "Micro Averaged Precision:  0.4997410668047644\n",
            "Micro Averaged Recall:  0.4584758646902318\n",
            "Validating...\n",
            "Validating\n"
          ]
        },
        {
          "output_type": "stream",
          "name": "stderr",
          "text": [
            "57it [00:22,  2.54it/s]\n"
          ]
        },
        {
          "output_type": "stream",
          "name": "stdout",
          "text": [
            "Classification Report\n",
            "              precision    recall  f1-score   support\n",
            "\n",
            "           0       0.83      0.85      0.84      1429\n",
            "           1       0.48      0.12      0.19       828\n",
            "           2       0.44      0.73      0.55       698\n",
            "           3       0.84      0.14      0.24      1515\n",
            "           4       0.42      0.10      0.16       765\n",
            "\n",
            "   micro avg       0.65      0.40      0.50      5235\n",
            "   macro avg       0.60      0.39      0.40      5235\n",
            "weighted avg       0.67      0.40      0.43      5235\n",
            " samples avg       0.68      0.40      0.46      5235\n",
            "\n",
            "Train Loss: 1248.7197\n",
            "Val Loss: 1137.1225\n",
            "Epoch 26 of 30\n",
            "Training...\n",
            "Training\n"
          ]
        },
        {
          "output_type": "stream",
          "name": "stderr",
          "text": [
            "133it [01:41,  1.31it/s]\n"
          ]
        },
        {
          "output_type": "stream",
          "name": "stdout",
          "text": [
            "Classification Report\n",
            "              precision    recall  f1-score   support\n",
            "\n",
            "           0       0.58      0.30      0.40      2371\n",
            "           1       0.26      0.49      0.34      1165\n",
            "           2       0.59      0.90      0.71      2438\n",
            "           3       0.83      0.28      0.42      3380\n",
            "           4       0.23      0.26      0.25      1170\n",
            "\n",
            "   micro avg       0.49      0.45      0.47     10524\n",
            "   macro avg       0.50      0.45      0.42     10524\n",
            "weighted avg       0.59      0.45      0.45     10524\n",
            " samples avg       0.48      0.45      0.43     10524\n",
            "\n",
            "Exact match ratio:  0.03041018387553041\n",
            "1/0 Loss:  0.9695898161244696\n",
            "Hamming Loss:  0.5052333804809053\n",
            "Example based Accuracy:  nan\n",
            "Example based precision:  nan\n",
            "Macro Averaged Accuracy:  0.28090585100837046\n",
            "Macro Averaged Precision:  0.49827156532448547\n",
            "Macro Averaged Recall:  0.44605765603560055\n",
            "Micro Averaged Accuracy:  0.3056887391473371\n",
            "Micro Averaged Precision:  0.49002908184461985\n",
            "Micro Averaged Recall:  0.4483086278981376\n",
            "Validating...\n",
            "Validating\n"
          ]
        },
        {
          "output_type": "stream",
          "name": "stderr",
          "text": [
            "57it [00:22,  2.50it/s]\n"
          ]
        },
        {
          "output_type": "stream",
          "name": "stdout",
          "text": [
            "Classification Report\n",
            "              precision    recall  f1-score   support\n",
            "\n",
            "           0       0.84      0.81      0.82      1429\n",
            "           1       0.47      0.13      0.21       828\n",
            "           2       0.43      0.69      0.53       698\n",
            "           3       0.84      0.16      0.27      1515\n",
            "           4       0.37      0.12      0.18       765\n",
            "\n",
            "   micro avg       0.64      0.40      0.49      5235\n",
            "   macro avg       0.59      0.38      0.40      5235\n",
            "weighted avg       0.66      0.40      0.43      5235\n",
            " samples avg       0.67      0.40      0.45      5235\n",
            "\n",
            "Train Loss: 1266.6492\n",
            "Val Loss: 1161.9847\n",
            "Epoch 27 of 30\n",
            "Training...\n",
            "Training\n"
          ]
        },
        {
          "output_type": "stream",
          "name": "stderr",
          "text": [
            "133it [01:40,  1.32it/s]\n"
          ]
        },
        {
          "output_type": "stream",
          "name": "stdout",
          "text": [
            "Classification Report\n",
            "              precision    recall  f1-score   support\n",
            "\n",
            "           0       0.56      0.28      0.38      2371\n",
            "           1       0.27      0.51      0.35      1165\n",
            "           2       0.59      0.90      0.71      2438\n",
            "           3       0.83      0.28      0.41      3380\n",
            "           4       0.24      0.28      0.26      1170\n",
            "\n",
            "   micro avg       0.49      0.45      0.47     10524\n",
            "   macro avg       0.50      0.45      0.42     10524\n",
            "weighted avg       0.59      0.45      0.45     10524\n",
            " samples avg       0.48      0.45      0.43     10524\n",
            "\n",
            "Exact match ratio:  0.028995756718528994\n",
            "1/0 Loss:  0.9710042432814711\n",
            "Hamming Loss:  0.5053748231966054\n",
            "Example based Accuracy:  nan\n",
            "Example based precision:  nan\n",
            "Macro Averaged Accuracy:  0.2814302826126448\n",
            "Macro Averaged Precision:  0.4983347615920031\n",
            "Macro Averaged Recall:  0.4506998481422263\n",
            "Micro Averaged Accuracy:  0.3059889932016834\n",
            "Micro Averaged Precision:  0.4898932310562869\n",
            "Micro Averaged Recall:  0.4490687951349297\n",
            "Validating...\n",
            "Validating\n"
          ]
        },
        {
          "output_type": "stream",
          "name": "stderr",
          "text": [
            "57it [00:22,  2.49it/s]\n"
          ]
        },
        {
          "output_type": "stream",
          "name": "stdout",
          "text": [
            "Classification Report\n",
            "              precision    recall  f1-score   support\n",
            "\n",
            "           0       0.84      0.83      0.83      1429\n",
            "           1       0.48      0.13      0.21       828\n",
            "           2       0.44      0.75      0.55       698\n",
            "           3       0.84      0.15      0.25      1515\n",
            "           4       0.39      0.13      0.19       765\n",
            "\n",
            "   micro avg       0.64      0.41      0.50      5235\n",
            "   macro avg       0.60      0.40      0.41      5235\n",
            "weighted avg       0.66      0.41      0.43      5235\n",
            " samples avg       0.67      0.41      0.46      5235\n",
            "\n",
            "Train Loss: 1264.1352\n",
            "Val Loss: 1140.9327\n",
            "Epoch 28 of 30\n",
            "Training...\n",
            "Training\n"
          ]
        },
        {
          "output_type": "stream",
          "name": "stderr",
          "text": [
            "133it [01:41,  1.32it/s]\n"
          ]
        },
        {
          "output_type": "stream",
          "name": "stdout",
          "text": [
            "Classification Report\n",
            "              precision    recall  f1-score   support\n",
            "\n",
            "           0       0.56      0.28      0.37      2371\n",
            "           1       0.25      0.47      0.32      1165\n",
            "           2       0.59      0.90      0.71      2438\n",
            "           3       0.83      0.30      0.44      3380\n",
            "           4       0.23      0.27      0.25      1170\n",
            "\n",
            "   micro avg       0.49      0.45      0.47     10524\n",
            "   macro avg       0.49      0.44      0.42     10524\n",
            "weighted avg       0.58      0.45      0.45     10524\n",
            " samples avg       0.47      0.45      0.43     10524\n",
            "\n",
            "Exact match ratio:  0.027345591702027345\n",
            "1/0 Loss:  0.9726544082979727\n",
            "Hamming Loss:  0.5079207920792079\n",
            "Example based Accuracy:  nan\n",
            "Example based precision:  nan\n",
            "Macro Averaged Accuracy:  0.2793377203837985\n",
            "Macro Averaged Precision:  0.4904424731919287\n",
            "Macro Averaged Recall:  0.4431067763377339\n",
            "Micro Averaged Accuracy:  0.3049228982515001\n",
            "Micro Averaged Precision:  0.48716627151840014\n",
            "Micro Averaged Recall:  0.4490687951349297\n",
            "Validating...\n",
            "Validating\n"
          ]
        },
        {
          "output_type": "stream",
          "name": "stderr",
          "text": [
            "57it [00:23,  2.46it/s]\n"
          ]
        },
        {
          "output_type": "stream",
          "name": "stdout",
          "text": [
            "Classification Report\n",
            "              precision    recall  f1-score   support\n",
            "\n",
            "           0       0.84      0.83      0.83      1429\n",
            "           1       0.48      0.13      0.21       828\n",
            "           2       0.44      0.79      0.56       698\n",
            "           3       0.84      0.15      0.25      1515\n",
            "           4       0.39      0.11      0.17       765\n",
            "\n",
            "   micro avg       0.64      0.41      0.50      5235\n",
            "   macro avg       0.60      0.40      0.40      5235\n",
            "weighted avg       0.66      0.41      0.43      5235\n",
            " samples avg       0.67      0.41      0.46      5235\n",
            "\n",
            "Train Loss: 1280.7603\n",
            "Val Loss: 1137.1434\n",
            "Epoch 29 of 30\n",
            "Training...\n",
            "Training\n"
          ]
        },
        {
          "output_type": "stream",
          "name": "stderr",
          "text": [
            "133it [01:40,  1.32it/s]\n"
          ]
        },
        {
          "output_type": "stream",
          "name": "stdout",
          "text": [
            "Classification Report\n",
            "              precision    recall  f1-score   support\n",
            "\n",
            "           0       0.57      0.30      0.39      2371\n",
            "           1       0.26      0.49      0.34      1165\n",
            "           2       0.59      0.90      0.71      2438\n",
            "           3       0.82      0.28      0.42      3380\n",
            "           4       0.27      0.31      0.28      1170\n",
            "\n",
            "   micro avg       0.49      0.46      0.47     10524\n",
            "   macro avg       0.50      0.46      0.43     10524\n",
            "weighted avg       0.59      0.46      0.46     10524\n",
            " samples avg       0.49      0.46      0.43     10524\n",
            "\n",
            "Exact match ratio:  0.02616690240452617\n",
            "1/0 Loss:  0.9738330975954739\n",
            "Hamming Loss:  0.5024516737388025\n",
            "Example based Accuracy:  nan\n",
            "Example based precision:  nan\n",
            "Macro Averaged Accuracy:  0.2862735202457306\n",
            "Macro Averaged Precision:  0.5007617647338285\n",
            "Macro Averaged Recall:  0.4562272564689958\n",
            "Micro Averaged Accuracy:  0.31013723459347486\n",
            "Micro Averaged Precision:  0.49315491507977355\n",
            "Micro Averaged Recall:  0.45524515393386544\n",
            "Validating...\n",
            "Validating\n"
          ]
        },
        {
          "output_type": "stream",
          "name": "stderr",
          "text": [
            "57it [00:22,  2.50it/s]\n"
          ]
        },
        {
          "output_type": "stream",
          "name": "stdout",
          "text": [
            "Classification Report\n",
            "              precision    recall  f1-score   support\n",
            "\n",
            "           0       0.83      0.84      0.84      1429\n",
            "           1       0.48      0.13      0.20       828\n",
            "           2       0.43      0.72      0.54       698\n",
            "           3       0.84      0.15      0.25      1515\n",
            "           4       0.41      0.13      0.19       765\n",
            "\n",
            "   micro avg       0.64      0.41      0.50      5235\n",
            "   macro avg       0.60      0.39      0.40      5235\n",
            "weighted avg       0.67      0.41      0.43      5235\n",
            " samples avg       0.67      0.40      0.46      5235\n",
            "\n",
            "Train Loss: 1261.5817\n",
            "Val Loss: 1139.9179\n",
            "Epoch 30 of 30\n",
            "Training...\n",
            "Training\n"
          ]
        },
        {
          "output_type": "stream",
          "name": "stderr",
          "text": [
            "133it [01:41,  1.31it/s]\n"
          ]
        },
        {
          "output_type": "stream",
          "name": "stdout",
          "text": [
            "Classification Report\n",
            "              precision    recall  f1-score   support\n",
            "\n",
            "           0       0.56      0.30      0.39      2371\n",
            "           1       0.24      0.47      0.32      1165\n",
            "           2       0.59      0.92      0.72      2438\n",
            "           3       0.83      0.29      0.43      3380\n",
            "           4       0.22      0.25      0.23      1170\n",
            "\n",
            "   micro avg       0.48      0.45      0.47     10524\n",
            "   macro avg       0.49      0.44      0.42     10524\n",
            "weighted avg       0.58      0.45      0.45     10524\n",
            " samples avg       0.48      0.45      0.43     10524\n",
            "\n",
            "Exact match ratio:  0.02616690240452617\n",
            "1/0 Loss:  0.9738330975954739\n",
            "Hamming Loss:  0.5103253182461103\n",
            "Example based Accuracy:  nan\n",
            "Example based precision:  nan\n",
            "Macro Averaged Accuracy:  0.27874207631295833\n",
            "Macro Averaged Precision:  0.4886052402241532\n",
            "Macro Averaged Recall:  0.44404336745456446\n",
            "Micro Averaged Accuracy:  0.3048169556840077\n",
            "Micro Averaged Precision:  0.4846813725490196\n",
            "Micro Averaged Recall:  0.4509692132269099\n",
            "Validating...\n",
            "Validating\n"
          ]
        },
        {
          "output_type": "stream",
          "name": "stderr",
          "text": [
            "57it [00:22,  2.49it/s]\n"
          ]
        },
        {
          "output_type": "stream",
          "name": "stdout",
          "text": [
            "Classification Report\n",
            "              precision    recall  f1-score   support\n",
            "\n",
            "           0       0.83      0.84      0.84      1429\n",
            "           1       0.48      0.13      0.20       828\n",
            "           2       0.44      0.75      0.55       698\n",
            "           3       0.84      0.14      0.24      1515\n",
            "           4       0.40      0.12      0.19       765\n",
            "\n",
            "   micro avg       0.64      0.41      0.50      5235\n",
            "   macro avg       0.60      0.40      0.40      5235\n",
            "weighted avg       0.66      0.41      0.43      5235\n",
            " samples avg       0.67      0.40      0.46      5235\n",
            "\n",
            "Train Loss: 1281.5180\n",
            "Val Loss: 1137.8348\n"
          ]
        }
      ]
    },
    {
      "cell_type": "code",
      "source": [
        "# Saving the trained model to disk\n",
        "torch.save({\n",
        "            'epoch': epochs,\n",
        "            'model_state_dict': model.state_dict(),\n",
        "            'optimizer_state_dict': optimizer.state_dict(),\n",
        "            'loss': custom_loss,\n",
        "            }, '/content/drive/MyDrive/outputs/efficientnetb0_braintumor.pth')\n"
      ],
      "metadata": {
        "id": "cUVKskHIf4nA"
      },
      "execution_count": 61,
      "outputs": []
    },
    {
      "cell_type": "code",
      "source": [
        "# Plotting the train and validation loss graphs\n",
        "\n",
        "fig_1 = plt.figure(figsize=(14, 7))\n",
        "plt.plot(train_loss, 'tab:orange', label='train loss')\n",
        "plt.plot(valid_loss, 'tab:blue', label='validataion loss')\n",
        "plt.title('Training and validation loss')\n",
        "plt.xlabel('Epochs')\n",
        "plt.ylabel('Loss')\n",
        "plt.legend(loc ='best')\n",
        "plt.show()"
      ],
      "metadata": {
        "id": "lOCRV91iJ3j6",
        "colab": {
          "base_uri": "https://localhost:8080/",
          "height": 641
        },
        "outputId": "7d1a4acd-fd69-44d5-cc11-e90671c8b267"
      },
      "execution_count": 62,
      "outputs": [
        {
          "output_type": "display_data",
          "data": {
            "text/plain": [
              "<Figure size 1400x700 with 1 Axes>"
            ],
            "image/png": "[encoded data removed]"
          },
          "metadata": {}
        }
      ]
    },
    {
      "cell_type": "code",
      "source": [
        "fig_2 = plt.figure(figsize = (14, 7))\n",
        "plt.plot(emr_list, 'tab:blue', label='Exact match ratio')\n",
        "plt.plot(one_zero_loss_list, 'tab:orange', label='1/0 Loss')\n",
        "plt.plot(hamming_loss_list, 'tab:green', label='Hamming Loss')\n",
        "plt.plot(example_based_accuracy_list, 'tab:red', label='Example based Accuracy')\n",
        "plt.plot(example_based_precision_list, 'tab:purple', label='Example based precision')\n",
        "plt.title('Example Based Evaluation Metrics')\n",
        "plt.xlabel('Epochs')\n",
        "plt.ylabel('Metric Value')\n",
        "plt.legend(loc ='best')\n",
        "plt.show()"
      ],
      "metadata": {
        "id": "HOfT2tuH2Tcs",
        "colab": {
          "base_uri": "https://localhost:8080/",
          "height": 641
        },
        "outputId": "4416ffe2-4092-4fdd-eea2-5da0a682efe7"
      },
      "execution_count": 63,
      "outputs": [
        {
          "output_type": "display_data",
          "data": {
            "text/plain": [
              "<Figure size 1400x700 with 1 Axes>"
            ],
            "image/png": "[encoded data removed]"
          },
          "metadata": {}
        }
      ]
    },
    {
      "cell_type": "code",
      "source": [
        "fig_3 = plt.figure(figsize = (14, 7))\n",
        "plt.plot(label_based_macro_accuracy_list, 'tab:blue', label='Macro Averaged Accuracy')\n",
        "plt.plot(label_based_macro_precision_list, 'tab:orange', label='Macro Averaged Precision')\n",
        "plt.plot(label_based_macro_recall_list, 'tab:green', label='Macro Averaged Recall')\n",
        "plt.plot(label_based_micro_accuracy_list, 'tab:red', label='Micro Averaged Accuracy')\n",
        "plt.plot(label_based_micro_precision_list, 'tab:purple', label='Micro Averaged Precision')\n",
        "plt.plot(label_based_micro_recall_list, 'tab:brown', label='Micro Averaged Recall')\n",
        "# plt.plot(f1_score_list, 'tab:gray', label='F1 Score')\n",
        "plt.title('Label Based Evaluation Metrics')\n",
        "plt.xlabel('Epochs')\n",
        "plt.ylabel('Metric Value')\n",
        "plt.legend(loc ='best')\n",
        "plt.show()"
      ],
      "metadata": {
        "id": "-SXUEMC9Jw4v",
        "colab": {
          "base_uri": "https://localhost:8080/",
          "height": 641
        },
        "outputId": "c7376ebf-4b37-4000-deb0-cf93c25df33e"
      },
      "execution_count": 64,
      "outputs": [
        {
          "output_type": "display_data",
          "data": {
            "text/plain": [
              "<Figure size 1400x700 with 1 Axes>"
            ],
            "image/png": "[encoded data removed]"
          },
          "metadata": {}
        }
      ]
    },
    {
      "cell_type": "code",
      "source": [],
      "metadata": {
        "id": "WnWpOg3t1O7i"
      },
      "execution_count": null,
      "outputs": []
    }
  ]
}