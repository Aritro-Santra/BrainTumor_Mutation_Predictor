{
 "cells": [
  {
   "cell_type": "code",
   "execution_count": 3,
   "outputs": [],
   "source": [
    "import numpy as np\n",
    "import pandas as pd\n",
    "from tqdm import tqdm\n",
    "import os"
   ],
   "metadata": {
    "collapsed": false,
    "ExecuteTime": {
     "end_time": "2023-05-23T10:38:36.121887556Z",
     "start_time": "2023-05-23T10:38:36.079981489Z"
    }
   }
  },
  {
   "cell_type": "code",
   "execution_count": 2,
   "metadata": {
    "collapsed": true,
    "ExecuteTime": {
     "end_time": "2023-05-23T10:35:51.514963070Z",
     "start_time": "2023-05-23T10:35:51.479110158Z"
    }
   },
   "outputs": [
    {
     "data": {
      "text/plain": "                      Patient ID  IDH status  IDH-1P10Q Subtype  ATRX status  \\\n0       0_0_TCGA-02-0006_BS1_001         0.0                  0          NaN   \n1       0_0_TCGA-02-0007_BS1_001         0.0                  0          NaN   \n2       0_0_TCGA-02-0010_BS1_001         1.0                  0          NaN   \n3     0_0_TCGA-02-0010_BS1_001_3         1.0                  0          NaN   \n4       0_0_TCGA-02-0016_BS1_001         0.0                  0          NaN   \n...                          ...         ...                ...          ...   \n6055  7_2_TCGA-HT-7603_BS1_001_3         1.0                  0          1.0   \n6056  7_2_TCGA-HT-7605_BS1_001_3         1.0                  1          0.0   \n6057  7_2_TCGA-HT-7616_BS1_001_3         1.0                  1          0.0   \n6058  7_2_TCGA-HT-7677_BS1_001_3         1.0                  1          0.0   \n6059  7_3_TCGA-EZ-7264_BS1_001_3         1.0                  1          0.0   \n\n      MGMT promoter status  TERT expression status Cancer Type Detailed  \n0                      0.0                       0                    G  \n1                      0.0                       0                    G  \n2                      0.0                       0                    G  \n3                      0.0                       0                    G  \n4                      NaN                       0                    G  \n...                    ...                     ...                  ...  \n6055                   1.0                       0                    O  \n6056                   1.0                       0                    O  \n6057                   1.0                       0                    O  \n6058                   1.0                       1                    O  \n6059                   1.0                       1                    O  \n\n[6060 rows x 7 columns]",
      "text/html": "<div>\n<style scoped>\n    .dataframe tbody tr th:only-of-type {\n        vertical-align: middle;\n    }\n\n    .dataframe tbody tr th {\n        vertical-align: top;\n    }\n\n    .dataframe thead th {\n        text-align: right;\n    }\n</style>\n<table border=\"1\" class=\"dataframe\">\n  <thead>\n    <tr style=\"text-align: right;\">\n      <th></th>\n      <th>Patient ID</th>\n      <th>IDH status</th>\n      <th>IDH-1P10Q Subtype</th>\n      <th>ATRX status</th>\n      <th>MGMT promoter status</th>\n      <th>TERT expression status</th>\n      <th>Cancer Type Detailed</th>\n    </tr>\n  </thead>\n  <tbody>\n    <tr>\n      <th>0</th>\n      <td>0_0_TCGA-02-0006_BS1_001</td>\n      <td>0.0</td>\n      <td>0</td>\n      <td>NaN</td>\n      <td>0.0</td>\n      <td>0</td>\n      <td>G</td>\n    </tr>\n    <tr>\n      <th>1</th>\n      <td>0_0_TCGA-02-0007_BS1_001</td>\n      <td>0.0</td>\n      <td>0</td>\n      <td>NaN</td>\n      <td>0.0</td>\n      <td>0</td>\n      <td>G</td>\n    </tr>\n    <tr>\n      <th>2</th>\n      <td>0_0_TCGA-02-0010_BS1_001</td>\n      <td>1.0</td>\n      <td>0</td>\n      <td>NaN</td>\n      <td>0.0</td>\n      <td>0</td>\n      <td>G</td>\n    </tr>\n    <tr>\n      <th>3</th>\n      <td>0_0_TCGA-02-0010_BS1_001_3</td>\n      <td>1.0</td>\n      <td>0</td>\n      <td>NaN</td>\n      <td>0.0</td>\n      <td>0</td>\n      <td>G</td>\n    </tr>\n    <tr>\n      <th>4</th>\n      <td>0_0_TCGA-02-0016_BS1_001</td>\n      <td>0.0</td>\n      <td>0</td>\n      <td>NaN</td>\n      <td>NaN</td>\n      <td>0</td>\n      <td>G</td>\n    </tr>\n    <tr>\n      <th>...</th>\n      <td>...</td>\n      <td>...</td>\n      <td>...</td>\n      <td>...</td>\n      <td>...</td>\n      <td>...</td>\n      <td>...</td>\n    </tr>\n    <tr>\n      <th>6055</th>\n      <td>7_2_TCGA-HT-7603_BS1_001_3</td>\n      <td>1.0</td>\n      <td>0</td>\n      <td>1.0</td>\n      <td>1.0</td>\n      <td>0</td>\n      <td>O</td>\n    </tr>\n    <tr>\n      <th>6056</th>\n      <td>7_2_TCGA-HT-7605_BS1_001_3</td>\n      <td>1.0</td>\n      <td>1</td>\n      <td>0.0</td>\n      <td>1.0</td>\n      <td>0</td>\n      <td>O</td>\n    </tr>\n    <tr>\n      <th>6057</th>\n      <td>7_2_TCGA-HT-7616_BS1_001_3</td>\n      <td>1.0</td>\n      <td>1</td>\n      <td>0.0</td>\n      <td>1.0</td>\n      <td>0</td>\n      <td>O</td>\n    </tr>\n    <tr>\n      <th>6058</th>\n      <td>7_2_TCGA-HT-7677_BS1_001_3</td>\n      <td>1.0</td>\n      <td>1</td>\n      <td>0.0</td>\n      <td>1.0</td>\n      <td>1</td>\n      <td>O</td>\n    </tr>\n    <tr>\n      <th>6059</th>\n      <td>7_3_TCGA-EZ-7264_BS1_001_3</td>\n      <td>1.0</td>\n      <td>1</td>\n      <td>0.0</td>\n      <td>1.0</td>\n      <td>1</td>\n      <td>O</td>\n    </tr>\n  </tbody>\n</table>\n<p>6060 rows × 7 columns</p>\n</div>"
     },
     "execution_count": 2,
     "metadata": {},
     "output_type": "execute_result"
    }
   ],
   "source": [
    "mutation_data_path = 'mutation_data_small.csv'\n",
    "df = pd.read_csv(mutation_data_path)\n",
    "df"
   ]
  },
  {
   "cell_type": "code",
   "execution_count": 7,
   "outputs": [
    {
     "name": "stderr",
     "output_type": "stream",
     "text": [
      "100%|██████████| 6060/6060 [00:00<00:00, 79528.55it/s]"
     ]
    },
    {
     "name": "stdout",
     "output_type": "stream",
     "text": [
      "Found 6060 images with matching paths\n",
      "                   Patient ID                                 image_path  \\\n",
      "0    0_0_TCGA-02-0006_BS1_001    data_small/0_0_TCGA-02-0006_BS1_001.jpg   \n",
      "1    0_0_TCGA-02-0007_BS1_001    data_small/0_0_TCGA-02-0007_BS1_001.jpg   \n",
      "2    0_0_TCGA-02-0010_BS1_001    data_small/0_0_TCGA-02-0010_BS1_001.jpg   \n",
      "3  0_0_TCGA-02-0010_BS1_001_3  data_small/0_0_TCGA-02-0010_BS1_001_3.jpg   \n",
      "4    0_0_TCGA-02-0016_BS1_001    data_small/0_0_TCGA-02-0016_BS1_001.jpg   \n",
      "\n",
      "   IDH status  IDH-1P10Q Subtype  ATRX status  MGMT promoter status  \\\n",
      "0         0.0                  0          NaN                   0.0   \n",
      "1         0.0                  0          NaN                   0.0   \n",
      "2         1.0                  0          NaN                   0.0   \n",
      "3         1.0                  0          NaN                   0.0   \n",
      "4         0.0                  0          NaN                   NaN   \n",
      "\n",
      "   TERT expression status Cancer Type Detailed  \n",
      "0                       0                    G  \n",
      "1                       0                    G  \n",
      "2                       0                    G  \n",
      "3                       0                    G  \n",
      "4                       0                    G  \n"
     ]
    },
    {
     "name": "stderr",
     "output_type": "stream",
     "text": [
      "\n"
     ]
    }
   ],
   "source": [
    "patient_ids = df['Patient ID']\n",
    "data_directory_path = 'data_small'\n",
    "images_with_paths = []\n",
    "images_without_paths = []\n",
    "# Checking for existence of paths\n",
    "for p_id in tqdm(patient_ids):\n",
    "    if os.path.isfile(os.path.join(data_directory_path, p_id) + \".jpg\"):\n",
    "        images_with_paths.append(os.path.join(data_directory_path, p_id) + \".jpg\")\n",
    "    else:\n",
    "        print(\"File Not found: \", os.path.join(data_directory_path, p_id) + \".jpg\")\n",
    "        images_without_paths.append(os.path.join(data_directory_path, p_id) + \".jpg\")\n",
    "print(f\"Found {len(images_with_paths)} images with matching paths\")\n",
    "if len(df) != len(images_with_paths):\n",
    "    print(f\"But dataset contains {df.size()} images\")\n",
    "else:\n",
    "    # If all matching paths found, add a column in the dataframe as image_paths\n",
    "    df.insert(loc=1, column='image_path', value=images_with_paths, allow_duplicates=False)\n",
    "    print(df.head())"
   ],
   "metadata": {
    "collapsed": false,
    "ExecuteTime": {
     "end_time": "2023-05-23T10:51:47.081547189Z",
     "start_time": "2023-05-23T10:51:46.944880728Z"
    }
   }
  },
  {
   "cell_type": "code",
   "execution_count": 8,
   "outputs": [],
   "source": [
    "# If dataframe is ready with image paths for all samples, write the dataframe into a new csv file\n",
    "filename = 'mutation_data.csv'\n",
    "df.to_csv('./'+filename)"
   ],
   "metadata": {
    "collapsed": false,
    "ExecuteTime": {
     "end_time": "2023-05-23T10:56:17.778588778Z",
     "start_time": "2023-05-23T10:56:17.717565903Z"
    }
   }
  },
  {
   "cell_type": "code",
   "execution_count": null,
   "outputs": [],
   "source": [],
   "metadata": {
    "collapsed": false
   }
  }
 ],
 "metadata": {
  "kernelspec": {
   "display_name": "Python 3",
   "language": "python",
   "name": "python3"
  },
  "language_info": {
   "codemirror_mode": {
    "name": "ipython",
    "version": 2
   },
   "file_extension": ".py",
   "mimetype": "text/x-python",
   "name": "python",
   "nbconvert_exporter": "python",
   "pygments_lexer": "ipython2",
   "version": "2.7.6"
  }
 },
 "nbformat": 4,
 "nbformat_minor": 0
}
