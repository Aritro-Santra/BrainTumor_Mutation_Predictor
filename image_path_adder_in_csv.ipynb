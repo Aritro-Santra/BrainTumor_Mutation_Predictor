{
 "cells": [
  {
   "cell_type": "code",
   "execution_count": 2,
   "metadata": {
    "ExecuteTime": {
     "end_time": "2023-05-23T10:38:36.121887556Z",
     "start_time": "2023-05-23T10:38:36.079981489Z"
    },
    "collapsed": false
   },
   "outputs": [],
   "source": [
    "import numpy as np\n",
    "import pandas as pd\n",
    "from tqdm import tqdm\n",
    "import os"
   ]
  },
  {
   "cell_type": "code",
   "execution_count": 3,
   "metadata": {
    "ExecuteTime": {
     "end_time": "2023-05-23T10:35:51.514963070Z",
     "start_time": "2023-05-23T10:35:51.479110158Z"
    },
    "collapsed": true
   },
   "outputs": [
    {
     "data": {
      "text/html": [
       "<div>\n",
       "<style scoped>\n",
       "    .dataframe tbody tr th:only-of-type {\n",
       "        vertical-align: middle;\n",
       "    }\n",
       "\n",
       "    .dataframe tbody tr th {\n",
       "        vertical-align: top;\n",
       "    }\n",
       "\n",
       "    .dataframe thead th {\n",
       "        text-align: right;\n",
       "    }\n",
       "</style>\n",
       "<table border=\"1\" class=\"dataframe\">\n",
       "  <thead>\n",
       "    <tr style=\"text-align: right;\">\n",
       "      <th></th>\n",
       "      <th>Patient ID</th>\n",
       "      <th>IDH status</th>\n",
       "      <th>IDH-1P10Q Subtype</th>\n",
       "      <th>ATRX status</th>\n",
       "      <th>MGMT promoter status</th>\n",
       "      <th>TERT expression status</th>\n",
       "      <th>Cancer Type Detailed</th>\n",
       "    </tr>\n",
       "  </thead>\n",
       "  <tbody>\n",
       "    <tr>\n",
       "      <th>0</th>\n",
       "      <td>0_0_TCGA-02-0010_BS1_001_3</td>\n",
       "      <td>1.0</td>\n",
       "      <td>0.0</td>\n",
       "      <td>1.0</td>\n",
       "      <td>0.0</td>\n",
       "      <td>0.0</td>\n",
       "      <td>G</td>\n",
       "    </tr>\n",
       "    <tr>\n",
       "      <th>1</th>\n",
       "      <td>0_0_TCGA-02-0016_BS1_001_3</td>\n",
       "      <td>0.0</td>\n",
       "      <td>0.0</td>\n",
       "      <td>1.0</td>\n",
       "      <td>1.0</td>\n",
       "      <td>0.0</td>\n",
       "      <td>G</td>\n",
       "    </tr>\n",
       "    <tr>\n",
       "      <th>2</th>\n",
       "      <td>0_0_TCGA-02-0026_BS1_001_3</td>\n",
       "      <td>1.0</td>\n",
       "      <td>0.0</td>\n",
       "      <td>1.0</td>\n",
       "      <td>1.0</td>\n",
       "      <td>0.0</td>\n",
       "      <td>G</td>\n",
       "    </tr>\n",
       "    <tr>\n",
       "      <th>3</th>\n",
       "      <td>0_0_TCGA-02-0028_BS1_001_3</td>\n",
       "      <td>1.0</td>\n",
       "      <td>1.0</td>\n",
       "      <td>1.0</td>\n",
       "      <td>1.0</td>\n",
       "      <td>0.0</td>\n",
       "      <td>G</td>\n",
       "    </tr>\n",
       "    <tr>\n",
       "      <th>4</th>\n",
       "      <td>0_0_TCGA-02-0033_BS1_001_3</td>\n",
       "      <td>0.0</td>\n",
       "      <td>0.0</td>\n",
       "      <td>0.0</td>\n",
       "      <td>1.0</td>\n",
       "      <td>0.0</td>\n",
       "      <td>G</td>\n",
       "    </tr>\n",
       "    <tr>\n",
       "      <th>...</th>\n",
       "      <td>...</td>\n",
       "      <td>...</td>\n",
       "      <td>...</td>\n",
       "      <td>...</td>\n",
       "      <td>...</td>\n",
       "      <td>...</td>\n",
       "      <td>...</td>\n",
       "    </tr>\n",
       "    <tr>\n",
       "      <th>1588</th>\n",
       "      <td>7_2_TCGA-HT-7603_BS1_001_3</td>\n",
       "      <td>1.0</td>\n",
       "      <td>0.0</td>\n",
       "      <td>1.0</td>\n",
       "      <td>1.0</td>\n",
       "      <td>0.0</td>\n",
       "      <td>O</td>\n",
       "    </tr>\n",
       "    <tr>\n",
       "      <th>1589</th>\n",
       "      <td>7_2_TCGA-HT-7605_BS1_001_3</td>\n",
       "      <td>1.0</td>\n",
       "      <td>1.0</td>\n",
       "      <td>0.0</td>\n",
       "      <td>1.0</td>\n",
       "      <td>0.0</td>\n",
       "      <td>O</td>\n",
       "    </tr>\n",
       "    <tr>\n",
       "      <th>1590</th>\n",
       "      <td>7_2_TCGA-HT-7616_BS1_001_3</td>\n",
       "      <td>1.0</td>\n",
       "      <td>1.0</td>\n",
       "      <td>0.0</td>\n",
       "      <td>1.0</td>\n",
       "      <td>0.0</td>\n",
       "      <td>O</td>\n",
       "    </tr>\n",
       "    <tr>\n",
       "      <th>1591</th>\n",
       "      <td>7_2_TCGA-HT-7677_BS1_001_3</td>\n",
       "      <td>1.0</td>\n",
       "      <td>1.0</td>\n",
       "      <td>0.0</td>\n",
       "      <td>1.0</td>\n",
       "      <td>1.0</td>\n",
       "      <td>O</td>\n",
       "    </tr>\n",
       "    <tr>\n",
       "      <th>1592</th>\n",
       "      <td>7_3_TCGA-EZ-7264_BS1_001_3</td>\n",
       "      <td>1.0</td>\n",
       "      <td>1.0</td>\n",
       "      <td>0.0</td>\n",
       "      <td>1.0</td>\n",
       "      <td>1.0</td>\n",
       "      <td>O</td>\n",
       "    </tr>\n",
       "  </tbody>\n",
       "</table>\n",
       "<p>1593 rows × 7 columns</p>\n",
       "</div>"
      ],
      "text/plain": [
       "                      Patient ID  IDH status  IDH-1P10Q Subtype  ATRX status  \\\n",
       "0     0_0_TCGA-02-0010_BS1_001_3         1.0                0.0          1.0   \n",
       "1     0_0_TCGA-02-0016_BS1_001_3         0.0                0.0          1.0   \n",
       "2     0_0_TCGA-02-0026_BS1_001_3         1.0                0.0          1.0   \n",
       "3     0_0_TCGA-02-0028_BS1_001_3         1.0                1.0          1.0   \n",
       "4     0_0_TCGA-02-0033_BS1_001_3         0.0                0.0          0.0   \n",
       "...                          ...         ...                ...          ...   \n",
       "1588  7_2_TCGA-HT-7603_BS1_001_3         1.0                0.0          1.0   \n",
       "1589  7_2_TCGA-HT-7605_BS1_001_3         1.0                1.0          0.0   \n",
       "1590  7_2_TCGA-HT-7616_BS1_001_3         1.0                1.0          0.0   \n",
       "1591  7_2_TCGA-HT-7677_BS1_001_3         1.0                1.0          0.0   \n",
       "1592  7_3_TCGA-EZ-7264_BS1_001_3         1.0                1.0          0.0   \n",
       "\n",
       "      MGMT promoter status  TERT expression status Cancer Type Detailed  \n",
       "0                      0.0                     0.0                    G  \n",
       "1                      1.0                     0.0                    G  \n",
       "2                      1.0                     0.0                    G  \n",
       "3                      1.0                     0.0                    G  \n",
       "4                      1.0                     0.0                    G  \n",
       "...                    ...                     ...                  ...  \n",
       "1588                   1.0                     0.0                    O  \n",
       "1589                   1.0                     0.0                    O  \n",
       "1590                   1.0                     0.0                    O  \n",
       "1591                   1.0                     1.0                    O  \n",
       "1592                   1.0                     1.0                    O  \n",
       "\n",
       "[1593 rows x 7 columns]"
      ]
     },
     "execution_count": 3,
     "metadata": {},
     "output_type": "execute_result"
    }
   ],
   "source": [
    "mutation_data_path = 'dataset_small\\global\\labels_without_paths.csv'\n",
    "df = pd.read_csv(mutation_data_path)\n",
    "df"
   ]
  },
  {
   "cell_type": "code",
   "execution_count": 4,
   "metadata": {
    "ExecuteTime": {
     "end_time": "2023-05-23T10:51:47.081547189Z",
     "start_time": "2023-05-23T10:51:46.944880728Z"
    },
    "collapsed": false
   },
   "outputs": [
    {
     "name": "stderr",
     "output_type": "stream",
     "text": [
      "100%|██████████| 1593/1593 [00:00<00:00, 25279.89it/s]"
     ]
    },
    {
     "name": "stdout",
     "output_type": "stream",
     "text": [
      "Found 1593 images with matching paths\n",
      "                   Patient ID  \\\n",
      "0  0_0_TCGA-02-0010_BS1_001_3   \n",
      "1  0_0_TCGA-02-0016_BS1_001_3   \n",
      "2  0_0_TCGA-02-0026_BS1_001_3   \n",
      "3  0_0_TCGA-02-0028_BS1_001_3   \n",
      "4  0_0_TCGA-02-0033_BS1_001_3   \n",
      "\n",
      "                                          image_path  IDH status  \\\n",
      "0  dataset_small\\global\\images\\0_0_TCGA-02-0010_B...         1.0   \n",
      "1  dataset_small\\global\\images\\0_0_TCGA-02-0016_B...         0.0   \n",
      "2  dataset_small\\global\\images\\0_0_TCGA-02-0026_B...         1.0   \n",
      "3  dataset_small\\global\\images\\0_0_TCGA-02-0028_B...         1.0   \n",
      "4  dataset_small\\global\\images\\0_0_TCGA-02-0033_B...         0.0   \n",
      "\n",
      "   IDH-1P10Q Subtype  ATRX status  MGMT promoter status  \\\n",
      "0                0.0          1.0                   0.0   \n",
      "1                0.0          1.0                   1.0   \n",
      "2                0.0          1.0                   1.0   \n",
      "3                1.0          1.0                   1.0   \n",
      "4                0.0          0.0                   1.0   \n",
      "\n",
      "   TERT expression status Cancer Type Detailed  \n",
      "0                     0.0                    G  \n",
      "1                     0.0                    G  \n",
      "2                     0.0                    G  \n",
      "3                     0.0                    G  \n",
      "4                     0.0                    G  \n"
     ]
    },
    {
     "name": "stderr",
     "output_type": "stream",
     "text": [
      "\n"
     ]
    }
   ],
   "source": [
    "patient_ids = df['Patient ID']\n",
    "data_directory_path = 'dataset_small\\global\\images'\n",
    "images_with_paths = []\n",
    "images_without_paths = []\n",
    "# Checking for existence of paths\n",
    "for p_id in tqdm(patient_ids):\n",
    "    if os.path.isfile(os.path.join(data_directory_path, p_id) + \".jpg\"):\n",
    "        images_with_paths.append(os.path.join(data_directory_path, p_id) + \".jpg\")\n",
    "    else:\n",
    "        print(\"File Not found: \", os.path.join(data_directory_path, p_id) + \".jpg\")\n",
    "        images_without_paths.append(os.path.join(data_directory_path, p_id) + \".jpg\")\n",
    "print(f\"Found {len(images_with_paths)} images with matching paths\")\n",
    "if len(df) != len(images_with_paths):\n",
    "    print(f\"But dataset contains {df.size()} images\")\n",
    "else:\n",
    "    # If all matching paths found, add a column in the dataframe as image_paths\n",
    "    df.insert(loc=1, column='image_path', value=images_with_paths, allow_duplicates=False)\n",
    "    print(df.head())"
   ]
  },
  {
   "cell_type": "code",
   "execution_count": 5,
   "metadata": {},
   "outputs": [
    {
     "data": {
      "text/plain": [
       "0"
      ]
     },
     "execution_count": 5,
     "metadata": {},
     "output_type": "execute_result"
    }
   ],
   "source": [
    "df.duplicated(['image_path']).sum()"
   ]
  },
  {
   "cell_type": "code",
   "execution_count": 6,
   "metadata": {
    "ExecuteTime": {
     "end_time": "2023-05-23T10:56:17.778588778Z",
     "start_time": "2023-05-23T10:56:17.717565903Z"
    },
    "collapsed": false
   },
   "outputs": [],
   "source": [
    "# If dataframe is ready with image paths for all samples, write the dataframe into a new csv file\n",
    "filename = 'dataset_small\\global\\global_labels.csv'\n",
    "df.to_csv(filename)"
   ]
  },
  {
   "cell_type": "code",
   "execution_count": null,
   "metadata": {
    "collapsed": false
   },
   "outputs": [],
   "source": []
  }
 ],
 "metadata": {
  "kernelspec": {
   "display_name": "Python 3",
   "language": "python",
   "name": "python3"
  },
  "language_info": {
   "codemirror_mode": {
    "name": "ipython",
    "version": 3
   },
   "file_extension": ".py",
   "mimetype": "text/x-python",
   "name": "python",
   "nbconvert_exporter": "python",
   "pygments_lexer": "ipython3",
   "version": "3.10.11"
  }
 },
 "nbformat": 4,
 "nbformat_minor": 0
}
