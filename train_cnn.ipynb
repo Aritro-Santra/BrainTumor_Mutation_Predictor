{
  "nbformat": 4,
  "nbformat_minor": 0,
  "metadata": {
    "colab": {
      "provenance": [],
      "machine_shape": "hm",
      "gpuType": "T4"
    },
    "kernelspec": {
      "name": "python3",
      "display_name": "Python 3"
    },
    "language_info": {
      "name": "python"
    },
    "accelerator": "GPU"
  },
  "cells": [
    {
      "cell_type": "markdown",
      "source": [
        "Basic imports"
      ],
      "metadata": {
        "id": "NPSklRU47bJ2"
      }
    },
    {
      "cell_type": "code",
      "source": [
        "from google.colab import drive\n",
        "drive.mount('/content/drive')"
      ],
      "metadata": {
        "colab": {
          "base_uri": "https://localhost:8080/"
        },
        "id": "bMX4bGNGQgVd",
        "outputId": "dd0aca45-c917-4fac-906e-1e6f6a039653"
      },
      "execution_count": 1,
      "outputs": [
        {
          "output_type": "stream",
          "name": "stdout",
          "text": [
            "Mounted at /content/drive\n"
          ]
        }
      ]
    },
    {
      "cell_type": "code",
      "source": [
        "import numpy as np\n",
        "import pandas as pd\n",
        "import matplotlib.pyplot as plt\n",
        "import cv2\n",
        "import os\n",
        "import random\n",
        "import warnings\n",
        "from glob import glob\n",
        "from tqdm import tqdm\n",
        "from PIL import Image\n",
        "from io import BytesIO\n",
        "import base64\n",
        "warnings.filterwarnings(\"ignore\")\n",
        "%matplotlib inline"
      ],
      "metadata": {
        "id": "B77E4cho8sbh"
      },
      "execution_count": 6,
      "outputs": []
    },
    {
      "cell_type": "markdown",
      "source": [
        "Read csv file and image paths"
      ],
      "metadata": {
        "id": "pX5hdcrl9het"
      }
    },
    {
      "cell_type": "code",
      "source": [
        "IMAGE_ROOT = \"/content/drive/MyDrive/local_image_dataset/local_images\"\n",
        "CSV_PATH = \"/content/drive/MyDrive/local_image_dataset/local_image_labels_fin_2_sorted_file.csv\"\n",
        "\n",
        "df = pd.read_csv(CSV_PATH)\n",
        "image_paths = glob(IMAGE_ROOT + os.sep + \"*.jpg\")"
      ],
      "metadata": {
        "id": "oZtlf_Dc8ugY"
      },
      "execution_count": 7,
      "outputs": []
    },
    {
      "cell_type": "code",
      "source": [
        "files = os.listdir(IMAGE_ROOT)\n",
        "num_files = len(files)\n",
        "print(\"Number of files in the image folder:\", num_files)"
      ],
      "metadata": {
        "colab": {
          "base_uri": "https://localhost:8080/"
        },
        "id": "XzBsZER-OzGc",
        "outputId": "7f6cc3d8-cd72-4c9c-8532-4151629272fc"
      },
      "execution_count": 8,
      "outputs": [
        {
          "output_type": "stream",
          "name": "stdout",
          "text": [
            "Number of files in the image folder: 4467\n"
          ]
        }
      ]
    },
    {
      "cell_type": "code",
      "source": [
        "df"
      ],
      "metadata": {
        "colab": {
          "base_uri": "https://localhost:8080/",
          "height": 423
        },
        "id": "zHXvNy_E-Oxq",
        "outputId": "d841ba6c-7ca6-41d0-bfd2-5de8b564a6f9"
      },
      "execution_count": 9,
      "outputs": [
        {
          "output_type": "execute_result",
          "data": {
            "text/plain": [
              "                    Patient ID  IDH status  IDH-1P10Q Subtype  ATRX status  \\\n",
              "0     0_0_TCGA-02-0006_BS1_001         0.0                0.0          1.0   \n",
              "1     0_0_TCGA-02-0007_BS1_001         0.0                0.0          1.0   \n",
              "2     0_0_TCGA-02-0010_BS1_001         1.0                0.0          1.0   \n",
              "3     0_0_TCGA-02-0016_BS1_001         0.0                0.0          1.0   \n",
              "4     0_0_TCGA-02-0026_BS1_001         1.0                0.0          1.0   \n",
              "...                        ...         ...                ...          ...   \n",
              "4462  2_9_TCGA-HT-8011_BS1_001         0.0                0.0          0.0   \n",
              "4463  2_9_TCGA-HT-8015_TS1_001         0.0                0.0          0.0   \n",
              "4464  2_9_TCGA-S9-A6TS_TS1_001         1.0                0.0          1.0   \n",
              "4465  2_9_TCGA-WY-A858_TS1_001         1.0                0.0          1.0   \n",
              "4466  2_9_TCGA-WY-A859_TS1_001         1.0                0.0          0.0   \n",
              "\n",
              "      MGMT promoter status  TERT expression status Cancer Type Detailed  \n",
              "0                      0.0                     0.0                    G  \n",
              "1                      0.0                     0.0                    G  \n",
              "2                      0.0                     0.0                    G  \n",
              "3                      1.0                     0.0                    G  \n",
              "4                      1.0                     0.0                    G  \n",
              "...                    ...                     ...                  ...  \n",
              "4462                   0.0                     1.0                    A  \n",
              "4463                   0.0                     0.0                    A  \n",
              "4464                   1.0                     0.0                    A  \n",
              "4465                   1.0                     0.0                    A  \n",
              "4466                   1.0                     0.0                    A  \n",
              "\n",
              "[4467 rows x 7 columns]"
            ],
            "text/html": [
              "\n",
              "  <div id=\"df-a76ffcb5-9a79-4fea-8f14-cbf3994d09be\">\n",
              "    <div class=\"colab-df-container\">\n",
              "      <div>\n",
              "<style scoped>\n",
              "    .dataframe tbody tr th:only-of-type {\n",
              "        vertical-align: middle;\n",
              "    }\n",
              "\n",
              "    .dataframe tbody tr th {\n",
              "        vertical-align: top;\n",
              "    }\n",
              "\n",
              "    .dataframe thead th {\n",
              "        text-align: right;\n",
              "    }\n",
              "</style>\n",
              "<table border=\"1\" class=\"dataframe\">\n",
              "  <thead>\n",
              "    <tr style=\"text-align: right;\">\n",
              "      <th></th>\n",
              "      <th>Patient ID</th>\n",
              "      <th>IDH status</th>\n",
              "      <th>IDH-1P10Q Subtype</th>\n",
              "      <th>ATRX status</th>\n",
              "      <th>MGMT promoter status</th>\n",
              "      <th>TERT expression status</th>\n",
              "      <th>Cancer Type Detailed</th>\n",
              "    </tr>\n",
              "  </thead>\n",
              "  <tbody>\n",
              "    <tr>\n",
              "      <th>0</th>\n",
              "      <td>0_0_TCGA-02-0006_BS1_001</td>\n",
              "      <td>0.0</td>\n",
              "      <td>0.0</td>\n",
              "      <td>1.0</td>\n",
              "      <td>0.0</td>\n",
              "      <td>0.0</td>\n",
              "      <td>G</td>\n",
              "    </tr>\n",
              "    <tr>\n",
              "      <th>1</th>\n",
              "      <td>0_0_TCGA-02-0007_BS1_001</td>\n",
              "      <td>0.0</td>\n",
              "      <td>0.0</td>\n",
              "      <td>1.0</td>\n",
              "      <td>0.0</td>\n",
              "      <td>0.0</td>\n",
              "      <td>G</td>\n",
              "    </tr>\n",
              "    <tr>\n",
              "      <th>2</th>\n",
              "      <td>0_0_TCGA-02-0010_BS1_001</td>\n",
              "      <td>1.0</td>\n",
              "      <td>0.0</td>\n",
              "      <td>1.0</td>\n",
              "      <td>0.0</td>\n",
              "      <td>0.0</td>\n",
              "      <td>G</td>\n",
              "    </tr>\n",
              "    <tr>\n",
              "      <th>3</th>\n",
              "      <td>0_0_TCGA-02-0016_BS1_001</td>\n",
              "      <td>0.0</td>\n",
              "      <td>0.0</td>\n",
              "      <td>1.0</td>\n",
              "      <td>1.0</td>\n",
              "      <td>0.0</td>\n",
              "      <td>G</td>\n",
              "    </tr>\n",
              "    <tr>\n",
              "      <th>4</th>\n",
              "      <td>0_0_TCGA-02-0026_BS1_001</td>\n",
              "      <td>1.0</td>\n",
              "      <td>0.0</td>\n",
              "      <td>1.0</td>\n",
              "      <td>1.0</td>\n",
              "      <td>0.0</td>\n",
              "      <td>G</td>\n",
              "    </tr>\n",
              "    <tr>\n",
              "      <th>...</th>\n",
              "      <td>...</td>\n",
              "      <td>...</td>\n",
              "      <td>...</td>\n",
              "      <td>...</td>\n",
              "      <td>...</td>\n",
              "      <td>...</td>\n",
              "      <td>...</td>\n",
              "    </tr>\n",
              "    <tr>\n",
              "      <th>4462</th>\n",
              "      <td>2_9_TCGA-HT-8011_BS1_001</td>\n",
              "      <td>0.0</td>\n",
              "      <td>0.0</td>\n",
              "      <td>0.0</td>\n",
              "      <td>0.0</td>\n",
              "      <td>1.0</td>\n",
              "      <td>A</td>\n",
              "    </tr>\n",
              "    <tr>\n",
              "      <th>4463</th>\n",
              "      <td>2_9_TCGA-HT-8015_TS1_001</td>\n",
              "      <td>0.0</td>\n",
              "      <td>0.0</td>\n",
              "      <td>0.0</td>\n",
              "      <td>0.0</td>\n",
              "      <td>0.0</td>\n",
              "      <td>A</td>\n",
              "    </tr>\n",
              "    <tr>\n",
              "      <th>4464</th>\n",
              "      <td>2_9_TCGA-S9-A6TS_TS1_001</td>\n",
              "      <td>1.0</td>\n",
              "      <td>0.0</td>\n",
              "      <td>1.0</td>\n",
              "      <td>1.0</td>\n",
              "      <td>0.0</td>\n",
              "      <td>A</td>\n",
              "    </tr>\n",
              "    <tr>\n",
              "      <th>4465</th>\n",
              "      <td>2_9_TCGA-WY-A858_TS1_001</td>\n",
              "      <td>1.0</td>\n",
              "      <td>0.0</td>\n",
              "      <td>1.0</td>\n",
              "      <td>1.0</td>\n",
              "      <td>0.0</td>\n",
              "      <td>A</td>\n",
              "    </tr>\n",
              "    <tr>\n",
              "      <th>4466</th>\n",
              "      <td>2_9_TCGA-WY-A859_TS1_001</td>\n",
              "      <td>1.0</td>\n",
              "      <td>0.0</td>\n",
              "      <td>0.0</td>\n",
              "      <td>1.0</td>\n",
              "      <td>0.0</td>\n",
              "      <td>A</td>\n",
              "    </tr>\n",
              "  </tbody>\n",
              "</table>\n",
              "<p>4467 rows × 7 columns</p>\n",
              "</div>\n",
              "      <button class=\"colab-df-convert\" onclick=\"convertToInteractive('df-a76ffcb5-9a79-4fea-8f14-cbf3994d09be')\"\n",
              "              title=\"Convert this dataframe to an interactive table.\"\n",
              "              style=\"display:none;\">\n",
              "        \n",
              "  <svg xmlns=\"http://www.w3.org/2000/svg\" height=\"24px\"viewBox=\"0 0 24 24\"\n",
              "       width=\"24px\">\n",
              "    <path d=\"M0 0h24v24H0V0z\" fill=\"none\"/>\n",
              "    <path d=\"M18.56 5.44l.94 2.06.94-2.06 2.06-.94-2.06-.94-.94-2.06-.94 2.06-2.06.94zm-11 1L8.5 8.5l.94-2.06 2.06-.94-2.06-.94L8.5 2.5l-.94 2.06-2.06.94zm10 10l.94 2.06.94-2.06 2.06-.94-2.06-.94-.94-2.06-.94 2.06-2.06.94z\"/><path d=\"M17.41 7.96l-1.37-1.37c-.4-.4-.92-.59-1.43-.59-.52 0-1.04.2-1.43.59L10.3 9.45l-7.72 7.72c-.78.78-.78 2.05 0 2.83L4 21.41c.39.39.9.59 1.41.59.51 0 1.02-.2 1.41-.59l7.78-7.78 2.81-2.81c.8-.78.8-2.07 0-2.86zM5.41 20L4 18.59l7.72-7.72 1.47 1.35L5.41 20z\"/>\n",
              "  </svg>\n",
              "      </button>\n",
              "      \n",
              "  <style>\n",
              "    .colab-df-container {\n",
              "      display:flex;\n",
              "      flex-wrap:wrap;\n",
              "      gap: 12px;\n",
              "    }\n",
              "\n",
              "    .colab-df-convert {\n",
              "      background-color: #E8F0FE;\n",
              "      border: none;\n",
              "      border-radius: 50%;\n",
              "      cursor: pointer;\n",
              "      display: none;\n",
              "      fill: #1967D2;\n",
              "      height: 32px;\n",
              "      padding: 0 0 0 0;\n",
              "      width: 32px;\n",
              "    }\n",
              "\n",
              "    .colab-df-convert:hover {\n",
              "      background-color: #E2EBFA;\n",
              "      box-shadow: 0px 1px 2px rgba(60, 64, 67, 0.3), 0px 1px 3px 1px rgba(60, 64, 67, 0.15);\n",
              "      fill: #174EA6;\n",
              "    }\n",
              "\n",
              "    [theme=dark] .colab-df-convert {\n",
              "      background-color: #3B4455;\n",
              "      fill: #D2E3FC;\n",
              "    }\n",
              "\n",
              "    [theme=dark] .colab-df-convert:hover {\n",
              "      background-color: #434B5C;\n",
              "      box-shadow: 0px 1px 3px 1px rgba(0, 0, 0, 0.15);\n",
              "      filter: drop-shadow(0px 1px 2px rgba(0, 0, 0, 0.3));\n",
              "      fill: #FFFFFF;\n",
              "    }\n",
              "  </style>\n",
              "\n",
              "      <script>\n",
              "        const buttonEl =\n",
              "          document.querySelector('#df-a76ffcb5-9a79-4fea-8f14-cbf3994d09be button.colab-df-convert');\n",
              "        buttonEl.style.display =\n",
              "          google.colab.kernel.accessAllowed ? 'block' : 'none';\n",
              "\n",
              "        async function convertToInteractive(key) {\n",
              "          const element = document.querySelector('#df-a76ffcb5-9a79-4fea-8f14-cbf3994d09be');\n",
              "          const dataTable =\n",
              "            await google.colab.kernel.invokeFunction('convertToInteractive',\n",
              "                                                     [key], {});\n",
              "          if (!dataTable) return;\n",
              "\n",
              "          const docLinkHtml = 'Like what you see? Visit the ' +\n",
              "            '<a target=\"_blank\" href=https://colab.research.google.com/notebooks/data_table.ipynb>data table notebook</a>'\n",
              "            + ' to learn more about interactive tables.';\n",
              "          element.innerHTML = '';\n",
              "          dataTable['output_type'] = 'display_data';\n",
              "          await google.colab.output.renderOutput(dataTable, element);\n",
              "          const docLink = document.createElement('div');\n",
              "          docLink.innerHTML = docLinkHtml;\n",
              "          element.appendChild(docLink);\n",
              "        }\n",
              "      </script>\n",
              "    </div>\n",
              "  </div>\n",
              "  "
            ]
          },
          "metadata": {},
          "execution_count": 9
        }
      ]
    },
    {
      "cell_type": "markdown",
      "source": [
        "## Deep Learning"
      ],
      "metadata": {
        "id": "rdw6FaHVeFDu"
      }
    },
    {
      "cell_type": "markdown",
      "source": [
        "### Dataset class creation"
      ],
      "metadata": {
        "id": "-WUvcuAmegbq"
      }
    },
    {
      "cell_type": "code",
      "source": [
        "import torch\n",
        "import torchvision.transforms as transforms\n",
        "from torch.utils.data import Dataset, DataLoader"
      ],
      "metadata": {
        "id": "eVGHXMLHeEnG"
      },
      "execution_count": 10,
      "outputs": []
    },
    {
      "cell_type": "code",
      "source": [
        "class ImageDataset(Dataset):\n",
        "    def __init__(self, csv, train, test):\n",
        "        self.csv = csv\n",
        "        self.train = train\n",
        "        self.test = test\n",
        "        self.all_image_names = self.csv[:]['Patient ID']\n",
        "        self.all_labels = np.array(self.csv.drop(['Patient ID','Cancer Type Detailed'], axis=1))\n",
        "        self.train_ratio = int(0.85 * len(self.csv))\n",
        "        self.valid_ratio = len(self.csv) - self.train_ratio\n",
        "        # set the training data images and labels\n",
        "        if self.train:\n",
        "            print(f\"Number of training images: {self.train_ratio}\")\n",
        "            self.image_names = list(self.all_image_names[:self.train_ratio])\n",
        "            self.labels = list(self.all_labels[:self.train_ratio])\n",
        "            # define the training transforms\n",
        "            self.transform = transforms.Compose([\n",
        "                transforms.ToPILImage(),\n",
        "                transforms.Resize((400, 400)),\n",
        "                transforms.RandomHorizontalFlip(p=0.5),\n",
        "                transforms.RandomRotation(degrees=45),\n",
        "                transforms.ToTensor(),\n",
        "            ])\n",
        "        # set the validation data images and labels\n",
        "        elif self.train == False and self.test == False:\n",
        "            print(f\"Number of validation images: {self.valid_ratio}\")\n",
        "            self.image_names = list(self.all_image_names[-self.valid_ratio:-10])\n",
        "            self.labels = list(self.all_labels[-self.valid_ratio:-10])\n",
        "            # define the validation transforms\n",
        "            self.transform = transforms.Compose([\n",
        "                transforms.ToPILImage(),\n",
        "                transforms.Resize((400, 400)),\n",
        "                transforms.ToTensor(),\n",
        "            ])\n",
        "        # set the test data images and labels, only last 10 images\n",
        "        # this, we will use in a separate inference script\n",
        "        elif self.test == True and self.train == False:\n",
        "            self.image_names = list(self.all_image_names[-10:])\n",
        "            self.labels = list(self.all_labels[-10:])\n",
        "             # define the test transforms\n",
        "            self.transform = transforms.Compose([\n",
        "                transforms.ToPILImage(),\n",
        "                transforms.ToTensor(),\n",
        "            ])\n",
        "    def __len__(self):\n",
        "        return len(self.image_names)\n",
        "    \n",
        "    def __getitem__(self, index):\n",
        "        image = cv2.imread(f\"/content/drive/MyDrive/local_image_dataset/local_images/{self.image_names[index]}.jpg\")\n",
        "        # convert the image from BGR to RGB color format\n",
        "        image = cv2.cvtColor(image, cv2.COLOR_BGR2RGB)\n",
        "        # apply image transforms\n",
        "        image = self.transform(image)\n",
        "        targets = self.labels[index]\n",
        "        \n",
        "        return {\n",
        "            'image': torch.tensor(image, dtype=torch.float32),\n",
        "            'label': torch.tensor(targets, dtype=torch.float32)\n",
        "        }"
      ],
      "metadata": {
        "id": "HqoDDDNJenlJ"
      },
      "execution_count": 11,
      "outputs": []
    },
    {
      "cell_type": "markdown",
      "source": [
        "### Model creation\n",
        "We use the EfficientNet-B0 model architecture"
      ],
      "metadata": {
        "id": "jQOW3JIFe6q3"
      }
    },
    {
      "cell_type": "code",
      "source": [
        "import torchvision.models as models\n",
        "import torch.nn as nn\n",
        "\n",
        "def build_model(pretrained=False, fine_tune=True, num_classes=5):\n",
        "    if pretrained:\n",
        "        print('[INFO]: Loading pre-trained weights')\n",
        "    else:\n",
        "        print('[INFO]: Not loading pre-trained weights')\n",
        "    model = models.efficientnet_b0(pretrained=pretrained)\n",
        "    if fine_tune:\n",
        "        print('[INFO]: Fine-tuning all layers...')\n",
        "        for params in model.parameters():\n",
        "            params.requires_grad = True\n",
        "    elif not fine_tune:\n",
        "        print('[INFO]: Freezing hidden layers...')\n",
        "        for params in model.parameters():\n",
        "            params.requires_grad = False\n",
        "    # Change the final classification head\n",
        "    model.classifier[1] = nn.Linear(in_features=1280, out_features=num_classes)\n",
        "    return model"
      ],
      "metadata": {
        "id": "Ef-u_1bq_2Lb"
      },
      "execution_count": 12,
      "outputs": []
    },
    {
      "cell_type": "markdown",
      "source": [
        "### Custom Loss Function"
      ],
      "metadata": {
        "id": "bboGZmn0kCh_"
      }
    },
    {
      "cell_type": "code",
      "source": [
        "# Finding number of positive and negative samples in each label \n",
        "\n",
        "N = len(df) \n",
        "\n",
        "labels = df.keys()[1:-1]\n",
        "\n",
        "for k, label in enumerate(sorted(labels)):\n",
        "    positives = sum(df[label] == 1)\n",
        "    print(\n",
        "      '{}:\\tPositive Samples: {}\\t\\tNegative Samples: {}'\n",
        "      .format(label, positives, N - positives)\n",
        "    )"
      ],
      "metadata": {
        "colab": {
          "base_uri": "https://localhost:8080/"
        },
        "id": "OD6TZceTDtXO",
        "outputId": "1ac4c266-a15b-4e36-9a14-764b2f344861"
      },
      "execution_count": 13,
      "outputs": [
        {
          "output_type": "stream",
          "name": "stdout",
          "text": [
            "ATRX status:\tPositive Samples: 2464\t\tNegative Samples: 2003\n",
            "IDH status:\tPositive Samples: 2726\t\tNegative Samples: 1741\n",
            "IDH-1P10Q Subtype:\tPositive Samples: 1339\t\tNegative Samples: 3128\n",
            "MGMT promoter status:\tPositive Samples: 3614\t\tNegative Samples: 853\n",
            "TERT expression status:\tPositive Samples: 1335\t\tNegative Samples: 3132\n"
          ]
        }
      ]
    },
    {
      "cell_type": "code",
      "source": [
        "# Calculating class weights for each label\n",
        "\n",
        "class_weights = {}\n",
        "positive_weights = {}\n",
        "negative_weights = {}\n",
        "\n",
        "for label in sorted(labels):\n",
        "    positive_weights[label] = N /(2 * sum(df[label] == 1))\n",
        "    negative_weights[label] = N /(2 * sum(df[label] == 0))\n",
        "    \n",
        "class_weights['positive_weights'] = positive_weights\n",
        "class_weights['negative_weights'] = negative_weights\n",
        "\n",
        "class_weights"
      ],
      "metadata": {
        "colab": {
          "base_uri": "https://localhost:8080/"
        },
        "id": "rJbQjSqTDtjA",
        "outputId": "5c051f40-acc3-4373-80d8-e6a8278b2613"
      },
      "execution_count": 14,
      "outputs": [
        {
          "output_type": "execute_result",
          "data": {
            "text/plain": [
              "{'positive_weights': {'ATRX status': 0.906452922077922,\n",
              "  'IDH status': 0.8193323550990462,\n",
              "  'IDH-1P10Q Subtype': 1.6680358476474981,\n",
              "  'MGMT promoter status': 0.6180132816823465,\n",
              "  'TERT expression status': 1.6730337078651685},\n",
              " 'negative_weights': {'ATRX status': 1.115077383924114,\n",
              "  'IDH status': 1.2828834003446294,\n",
              "  'IDH-1P10Q Subtype': 0.71403452685422,\n",
              "  'MGMT promoter status': 2.618405627198124,\n",
              "  'TERT expression status': 0.7131226053639846}}"
            ]
          },
          "metadata": {},
          "execution_count": 14
        }
      ]
    },
    {
      "cell_type": "code",
      "source": [
        "import torch\n",
        "import torch.nn.functional as F\n",
        "\n",
        "Wp = class_weights['positive_weights']\n",
        "Wn = class_weights['negative_weights']\n",
        "\n",
        "def custom_loss(y_true, y_pred):\n",
        "    '''\n",
        "    Multi-label cross-entropy\n",
        "    * Required \"Wp\", \"Wn\" as positive & negative class-weights\n",
        "    y_true: true value\n",
        "    y_pred: predicted value\n",
        "    '''\n",
        "    loss = 0.0\n",
        "\n",
        "    for i, key in enumerate(Wp.keys()):\n",
        "        first_term = Wp[key] * y_true[:, i] * torch.log(y_pred[:, i] + 1e-7)\n",
        "        second_term = Wn[key] * (1 - y_true[:, i]) * torch.log(1 - y_pred[:, i] + 1e-7)\n",
        "        loss -= torch.sum(first_term + second_term)\n",
        "    \n",
        "    return loss"
      ],
      "metadata": {
        "id": "wcQVsOiBlC-1"
      },
      "execution_count": 15,
      "outputs": []
    },
    {
      "cell_type": "markdown",
      "source": [
        "### Create train function"
      ],
      "metadata": {
        "id": "gZGon10ifDVr"
      }
    },
    {
      "cell_type": "code",
      "source": [
        "# training function\n",
        "def train(model, dataloader, optimizer, criterion, train_data, device):\n",
        "    print('Training')\n",
        "    model.train()\n",
        "    counter = 0\n",
        "    train_running_loss = 0.0\n",
        "    targets = []\n",
        "    predictions = []\n",
        "    for i, data in tqdm(enumerate(dataloader), total=int(len(train_data) / dataloader.batch_size)):\n",
        "        counter += 1\n",
        "        data, target = data['image'].to(device), data['label'].to(device)\n",
        "        optimizer.zero_grad()\n",
        "        outputs = model(data)\n",
        "        # apply sigmoid activation to get all the outputs between 0 and 1\n",
        "        outputs = torch.sigmoid(outputs)\n",
        "        binarized_outputs = torch.round(outputs)\n",
        "        # binarized_outputs.requires_grad = True\n",
        "        # binarized_outputs.retain_grad()\n",
        "        # print(\"GT: \", target)\n",
        "        # print(\"Prediction: \", binarized_outputs)\n",
        "        # print(binarized_outputs.grad_fn)\n",
        "        # print(binarized_outputs.requires_grad)\n",
        "        loss = custom_loss(target, binarized_outputs)\n",
        "        train_running_loss += loss.item()\n",
        "        # backpropagation\n",
        "        loss.backward()\n",
        "        # update optimizer parameters\n",
        "        optimizer.step()\n",
        "        y_true = target.detach().cpu().numpy()\n",
        "        y_pred = binarized_outputs.detach().cpu().numpy()\n",
        "        # confustion_matrix = multilabel_confusion_matrix(y_true, y_pred)\n",
        "        # print(confustion_matrix)\n",
        "        # print(classification_report(y_true, y_pred))\n",
        "        targets.append(y_true)\n",
        "        predictions.append(y_pred)\n",
        "    targets = np.concatenate(targets)\n",
        "    predictions = np.concatenate(predictions)\n",
        "    train_loss = train_running_loss / counter\n",
        "    return train_loss, targets, predictions"
      ],
      "metadata": {
        "id": "yuDnhMpMfJok"
      },
      "execution_count": 16,
      "outputs": []
    },
    {
      "cell_type": "markdown",
      "source": [
        "### Create validation function"
      ],
      "metadata": {
        "id": "pLiHX44-fJ3F"
      }
    },
    {
      "cell_type": "code",
      "source": [
        "# validation function\n",
        "def validate(model, dataloader, criterion, val_data, device):\n",
        "    print('Validating')\n",
        "    model.eval()\n",
        "    counter = 0\n",
        "    val_running_loss = 0.0\n",
        "    targets = []\n",
        "    predictions = []\n",
        "    with torch.no_grad():\n",
        "        for i, data in tqdm(enumerate(dataloader), total=int(len(val_data)/dataloader.batch_size)):\n",
        "            counter += 1\n",
        "            data, target = data['image'].to(device), data['label'].to(device)\n",
        "            outputs = model(data)\n",
        "            # apply sigmoid activation to get all the outputs between 0 and 1\n",
        "            outputs = torch.sigmoid(outputs)\n",
        "            binarized_outputs = torch.round(outputs)\n",
        "            loss = custom_loss(target, binarized_outputs)\n",
        "            val_running_loss += loss.item()\n",
        "            y_true = target.detach().cpu().numpy()\n",
        "            y_pred = binarized_outputs.detach().cpu().numpy()\n",
        "            targets.append(y_true)\n",
        "            predictions.append(y_pred)\n",
        "        val_loss = val_running_loss / counter\n",
        "        targets = np.concatenate(targets)\n",
        "        predictions = np.concatenate(predictions)\n",
        "        return val_loss, targets, predictions"
      ],
      "metadata": {
        "id": "IKUuNeFqfMDa"
      },
      "execution_count": 17,
      "outputs": []
    },
    {
      "cell_type": "markdown",
      "source": [
        "### Initiate model and start training"
      ],
      "metadata": {
        "id": "qf-nLh9tfVPh"
      }
    },
    {
      "cell_type": "code",
      "source": [
        "import torch.optim as optim\n",
        "# initialize the computation device\n",
        "device = torch.device('cuda' if torch.cuda.is_available() else 'cpu')"
      ],
      "metadata": {
        "id": "91cyWo90fVp7"
      },
      "execution_count": 18,
      "outputs": []
    },
    {
      "cell_type": "code",
      "source": [
        "#intialize the model\n",
        "model = build_model(pretrained=False, fine_tune=True, num_classes=5).to(device)\n",
        "# learning parameters\n",
        "lr = 1e-3\n",
        "epochs = 30\n",
        "batch_size = 32\n",
        "optimizer = optim.Adam(model.parameters(), lr=lr)\n",
        "# criterion = nn.BCELoss()"
      ],
      "metadata": {
        "id": "t4PNfO5jfpAZ",
        "colab": {
          "base_uri": "https://localhost:8080/"
        },
        "outputId": "855d5dcf-e315-49c3-b417-0837a1e7d478"
      },
      "execution_count": 19,
      "outputs": [
        {
          "output_type": "stream",
          "name": "stdout",
          "text": [
            "[INFO]: Not loading pre-trained weights\n",
            "[INFO]: Fine-tuning all layers...\n"
          ]
        }
      ]
    },
    {
      "cell_type": "code",
      "source": [
        "# train dataset\n",
        "train_data = ImageDataset(df, train=True, test=False)\n",
        "# validation dataset\n",
        "valid_data = ImageDataset(df, train=False, test=False)\n",
        "# train data loader\n",
        "train_loader = DataLoader(train_data, batch_size=batch_size, shuffle=True)\n",
        "# validation data loader\n",
        "valid_loader = DataLoader(valid_data, batch_size=batch_size, shuffle=False)"
      ],
      "metadata": {
        "colab": {
          "base_uri": "https://localhost:8080/"
        },
        "id": "P2R5GzF9f132",
        "outputId": "fe4b6cfd-1822-4a62-8508-f170417e7d55"
      },
      "execution_count": 20,
      "outputs": [
        {
          "output_type": "stream",
          "name": "stdout",
          "text": [
            "Number of training images: 3796\n",
            "Number of validation images: 671\n"
          ]
        }
      ]
    },
    {
      "cell_type": "markdown",
      "source": [
        "### Defining Example Based metrics\n",
        "Implementations are taken from [here](https://medium.datadriveninvestor.com/a-survey-of-evaluation-metrics-for-multilabel-classification-bb16e8cd41cd)\n",
        "1.  Exact Match Ration (EMR)"
      ],
      "metadata": {
        "collapsed": false,
        "id": "s5WAppbqlvrY"
      }
    },
    {
      "cell_type": "code",
      "execution_count": 21,
      "outputs": [
        {
          "output_type": "stream",
          "name": "stdout",
          "text": [
            "EMR:  0.4\n"
          ]
        }
      ],
      "source": [
        "def emr(y_true, y_pred):\n",
        "    n = len(y_true)\n",
        "    row_indicators = np.all(y_true == y_pred, axis = 1) # axis = 1 will check for equality along rows.\n",
        "    exact_match_count = np.sum(row_indicators)\n",
        "    return exact_match_count/n\n",
        "\n",
        "# Example\n",
        "gt = np.asarray([[1, 0, 1], [1, 1, 0], [1, 0, 0], [1, 1, 1], [0, 1, 0]])\n",
        "pred = np.asarray([[1, 0, 1], [1, 0, 0], [1, 1, 0], [1, 1, 1], [0, 1, 1]])\n",
        "print(\"EMR: \", emr(gt, pred))"
      ],
      "metadata": {
        "colab": {
          "base_uri": "https://localhost:8080/"
        },
        "id": "Sdz6tdZYlvrY",
        "outputId": "39f7b399-5d3a-4d1a-c68c-e5a70e61b770"
      }
    },
    {
      "cell_type": "markdown",
      "source": [
        "2. 1/0 Loss"
      ],
      "metadata": {
        "collapsed": false,
        "id": "WzuWhoXxlvrY"
      }
    },
    {
      "cell_type": "code",
      "execution_count": 22,
      "outputs": [
        {
          "output_type": "stream",
          "name": "stdout",
          "text": [
            "1/0 Loss:  0.6\n"
          ]
        }
      ],
      "source": [
        "def one_zero_loss(y_true, y_pred):\n",
        "    n = len(y_true)\n",
        "    row_indicators = np.logical_not(np.all(y_true == y_pred, axis = 1)) # axis = 1 will check for equality along rows.\n",
        "    not_equal_count = np.sum(row_indicators)\n",
        "    return not_equal_count/n\n",
        "\n",
        "# Example\n",
        "gt = np.asarray([[1, 0, 1], [1, 1, 0], [1, 0, 0], [1, 1, 1], [0, 1, 0]])\n",
        "pred = np.asarray([[1, 0, 1], [1, 0, 0], [1, 1, 0], [1, 1, 1], [0, 1, 1]])\n",
        "print(\"1/0 Loss: \", one_zero_loss(gt, pred))"
      ],
      "metadata": {
        "colab": {
          "base_uri": "https://localhost:8080/"
        },
        "id": "A0g_2I3ElvrY",
        "outputId": "21a0a161-5629-4bde-d6ad-02a354982851"
      }
    },
    {
      "cell_type": "markdown",
      "source": [
        "3. Hamming Loss"
      ],
      "metadata": {
        "collapsed": false,
        "id": "NZ7aNzz4lvrY"
      }
    },
    {
      "cell_type": "code",
      "execution_count": 23,
      "outputs": [
        {
          "output_type": "stream",
          "name": "stdout",
          "text": [
            "Hamming Loss: 0.2\n"
          ]
        }
      ],
      "source": [
        "def hamming_loss(y_true, y_pred):\n",
        "    \"\"\"\n",
        "\tXOR TT for reference -\n",
        "\n",
        "\tA  B   Output\n",
        "\n",
        "\t0  0    0\n",
        "\t0  1    1\n",
        "\t1  0    1\n",
        "\t1  1    0\n",
        "\t\"\"\"\n",
        "    hl_num = np.sum(np.logical_xor(y_true, y_pred))\n",
        "    hl_den = np.prod(y_true.shape)\n",
        "\n",
        "    return hl_num/hl_den\n",
        "\n",
        "# Example\n",
        "gt = np.asarray([[1, 0, 1], [1, 1, 0], [1, 0, 0], [1, 1, 1], [0, 1, 0]])\n",
        "pred = np.asarray([[1, 0, 1], [1, 0, 0], [1, 1, 0], [1, 1, 1], [0, 1, 1]])\n",
        "hl_value = hamming_loss(gt, pred)\n",
        "print(f\"Hamming Loss: {hl_value}\")"
      ],
      "metadata": {
        "colab": {
          "base_uri": "https://localhost:8080/"
        },
        "id": "WwDHi-SolvrZ",
        "outputId": "e8460625-198f-4ecf-aee9-0a478dbe7fd5"
      }
    },
    {
      "cell_type": "markdown",
      "source": [
        "4. Example based accuracy"
      ],
      "metadata": {
        "collapsed": false,
        "id": "mytBroBflvrZ"
      }
    },
    {
      "cell_type": "code",
      "execution_count": 24,
      "outputs": [
        {
          "output_type": "stream",
          "name": "stdout",
          "text": [
            "Example Based Accuracy: 0.7\n"
          ]
        }
      ],
      "source": [
        "def example_based_accuracy(y_true, y_pred):\n",
        "\n",
        "    # compute true positives using the logical AND operator\n",
        "    numerator = np.sum(np.logical_and(y_true, y_pred), axis = 1)\n",
        "\n",
        "    # compute true_positive + false negatives + false positive using the logical OR operator\n",
        "    denominator = np.sum(np.logical_or(y_true, y_pred), axis = 1)\n",
        "    instance_accuracy = numerator/denominator\n",
        "\n",
        "    avg_accuracy = np.mean(instance_accuracy)\n",
        "    return avg_accuracy\n",
        "\n",
        "# Example\n",
        "gt = np.asarray([[1, 0, 1], [1, 1, 0], [1, 0, 0], [1, 1, 1], [0, 1, 0]])\n",
        "pred = np.asarray([[1, 0, 1], [1, 0, 0], [1, 1, 0], [1, 1, 1], [0, 1, 1]])\n",
        "ex_based_accuracy = example_based_accuracy(gt, pred)\n",
        "print(f\"Example Based Accuracy: {ex_based_accuracy}\")"
      ],
      "metadata": {
        "colab": {
          "base_uri": "https://localhost:8080/"
        },
        "id": "GLiMgun0lvrZ",
        "outputId": "15927271-b708-4bd5-f99a-addd90cc8b81"
      }
    },
    {
      "cell_type": "markdown",
      "source": [
        "5. Example-Based Precision"
      ],
      "metadata": {
        "collapsed": false,
        "id": "sI6A6ZiElvrZ"
      }
    },
    {
      "cell_type": "code",
      "execution_count": 25,
      "outputs": [
        {
          "output_type": "stream",
          "name": "stdout",
          "text": [
            "Example Based Precision: 0.8\n"
          ]
        }
      ],
      "source": [
        "def example_based_precision(y_true, y_pred):\n",
        "    \"\"\"\n",
        "    precision = TP/ (TP + FP)\n",
        "    \"\"\"\n",
        "\n",
        "    # Compute True Positive\n",
        "    precision_num = np.sum(np.logical_and(y_true, y_pred), axis = 1)\n",
        "\n",
        "    # Total number of pred true labels\n",
        "    precision_den = np.sum(y_pred, axis = 1)\n",
        "\n",
        "    # precision averaged over all training examples\n",
        "    avg_precision = np.mean(precision_num/precision_den)\n",
        "\n",
        "    return avg_precision\n",
        "\n",
        "# Example\n",
        "gt = np.asarray([[1, 0, 1], [1, 1, 0], [1, 0, 0], [1, 1, 1], [0, 1, 0]])\n",
        "pred = np.asarray([[1, 0, 1], [1, 0, 0], [1, 1, 0], [1, 1, 1], [0, 1, 1]])\n",
        "ex_based_precision = example_based_precision(gt, pred)\n",
        "print(f\"Example Based Precision: {ex_based_precision}\")"
      ],
      "metadata": {
        "colab": {
          "base_uri": "https://localhost:8080/"
        },
        "id": "n7FMoo-ElvrZ",
        "outputId": "7f9e4cda-48ed-4150-c200-e8dd4ff6dfe6"
      }
    },
    {
      "cell_type": "markdown",
      "source": [
        "### Defining Label based metrics\n",
        "1. Macro Averaged Accuracy"
      ],
      "metadata": {
        "collapsed": false,
        "id": "McIGFRfelvrZ"
      }
    },
    {
      "cell_type": "code",
      "execution_count": 26,
      "outputs": [
        {
          "output_type": "stream",
          "name": "stdout",
          "text": [
            "Label Based Macro Accuracy: 0.7222222222222222\n"
          ]
        }
      ],
      "source": [
        "def label_based_macro_accuracy(y_true, y_pred):\n",
        "\n",
        "    # axis = 0 computes true positives along columns i.e labels\n",
        "    l_acc_num = np.sum(np.logical_and(y_true, y_pred), axis = 0)\n",
        "\n",
        "    # axis = 0 computes true postive + false positive + false negatives along columns i.e labels\n",
        "    l_acc_den = np.sum(np.logical_or(y_true, y_pred), axis = 0)\n",
        "\n",
        "    # compute mean accuracy across labels.\n",
        "    return np.mean(l_acc_num/l_acc_den)\n",
        "# Example\n",
        "gt = np.asarray([[1, 0, 1], [1, 1, 0], [1, 0, 0], [1, 1, 1], [0, 1, 0]])\n",
        "pred = np.asarray([[1, 0, 1], [1, 0, 0], [1, 1, 0], [1, 1, 1], [0, 1, 1]])\n",
        "lb_macro_acc_val = label_based_macro_accuracy(gt, pred)\n",
        "print(f\"Label Based Macro Accuracy: {lb_macro_acc_val}\")"
      ],
      "metadata": {
        "colab": {
          "base_uri": "https://localhost:8080/"
        },
        "id": "NI609esIlvrZ",
        "outputId": "f5b01d0b-c7e3-4d3c-f55c-feecb41fe19a"
      }
    },
    {
      "cell_type": "markdown",
      "source": [
        "2. Macro Averaged Precision"
      ],
      "metadata": {
        "collapsed": false,
        "id": "OEStlF0Nlvra"
      }
    },
    {
      "cell_type": "code",
      "execution_count": 27,
      "outputs": [
        {
          "output_type": "stream",
          "name": "stdout",
          "text": [
            "Label Based Precision: 0.7777777777777777\n"
          ]
        }
      ],
      "source": [
        "def label_based_macro_precision(y_true, y_pred):\n",
        " \n",
        "    # axis = 0 computes true positive along columns i.e labels\n",
        "    l_prec_num = np.sum(np.logical_and(y_true, y_pred), axis = 0)\n",
        "\n",
        "    # axis = computes true_positive + false positive along columns i.e labels\n",
        "    l_prec_den = np.sum(y_pred, axis = 0)\n",
        "\n",
        "    # compute precision per class/label\n",
        "    l_prec_per_class = l_prec_num/l_prec_den\n",
        "\n",
        "    # macro precision = average of precsion across labels. \n",
        "    l_prec = np.mean(l_prec_per_class)\n",
        "    return l_prec\n",
        "\n",
        "# Example\n",
        "gt = np.asarray([[1, 0, 1], [1, 1, 0], [1, 0, 0], [1, 1, 1], [0, 1, 0]])\n",
        "pred = np.asarray([[1, 0, 1], [1, 0, 0], [1, 1, 0], [1, 1, 1], [0, 1, 1]])\n",
        "lb_macro_precision_val = label_based_macro_precision(gt, pred)\n",
        "print(f\"Label Based Precision: {lb_macro_precision_val}\")"
      ],
      "metadata": {
        "colab": {
          "base_uri": "https://localhost:8080/"
        },
        "id": "wxRI9yowlvra",
        "outputId": "bce2737a-6dae-4b7d-c3eb-a2b92b49fbad"
      }
    },
    {
      "cell_type": "markdown",
      "source": [
        "3. Macro Averaged Recall"
      ],
      "metadata": {
        "collapsed": false,
        "id": "a2adr8_Xlvra"
      }
    },
    {
      "cell_type": "code",
      "execution_count": 28,
      "outputs": [
        {
          "output_type": "stream",
          "name": "stdout",
          "text": [
            "Label Based Recall: 0.8888888888888888\n"
          ]
        }
      ],
      "source": [
        "def label_based_macro_recall(y_true, y_pred):\n",
        "    \n",
        "    # compute true positive along axis = 0 i.e labels\n",
        "    l_recall_num = np.sum(np.logical_and(y_true, y_pred), axis = 0)\n",
        "\n",
        "    # compute true positive + false negatives along axis = 0 i.e columns\n",
        "    l_recall_den = np.sum(y_true, axis = 0)\n",
        "\n",
        "    # compute recall per class/label\n",
        "    l_recall_per_class = l_recall_num/l_recall_den\n",
        "\n",
        "    # compute macro averaged recall i.e recall averaged across labels. \n",
        "    l_recall = np.mean(l_recall_per_class)\n",
        "    return l_recall\n",
        "\n",
        "# Example\n",
        "gt = np.asarray([[1, 0, 1], [1, 1, 0], [1, 0, 0], [1, 1, 1], [0, 1, 0]])\n",
        "pred = np.asarray([[1, 0, 1], [1, 0, 0], [1, 1, 0], [1, 1, 1], [0, 1, 1]])\n",
        "lb_macro_recall_val = label_based_macro_recall(gt, pred) \n",
        "print(f\"Label Based Recall: {lb_macro_recall_val}\")"
      ],
      "metadata": {
        "colab": {
          "base_uri": "https://localhost:8080/"
        },
        "id": "SH8TffZRlvra",
        "outputId": "b716c32a-6a9e-4225-f368-a87ff99ceabd"
      }
    },
    {
      "cell_type": "markdown",
      "source": [
        "4. Micro Averaged Accuracy"
      ],
      "metadata": {
        "collapsed": false,
        "id": "ci5X6KSJlvra"
      }
    },
    {
      "cell_type": "code",
      "execution_count": 29,
      "outputs": [
        {
          "output_type": "stream",
          "name": "stdout",
          "text": [
            "Label Based Micro Accuracy: 0.7272727272727273\n"
          ]
        }
      ],
      "source": [
        "def label_based_micro_accuracy(y_true, y_pred):\n",
        "    \n",
        "    # sum of all true positives across all examples and labels \n",
        "    l_acc_num = np.sum(np.logical_and(y_true, y_pred))\n",
        "\n",
        "    # sum of all tp+fp+fn across all examples and labels.\n",
        "    l_acc_den = np.sum(np.logical_or(y_true, y_pred))\n",
        "\n",
        "    # compute mirco averaged accuracy\n",
        "    return l_acc_num/l_acc_den\n",
        "\n",
        "# Example\n",
        "gt = np.asarray([[1, 0, 1], [1, 1, 0], [1, 0, 0], [1, 1, 1], [0, 1, 0]])\n",
        "pred = np.asarray([[1, 0, 1], [1, 0, 0], [1, 1, 0], [1, 1, 1], [0, 1, 1]])\n",
        "lb_micro_acc_val = label_based_micro_accuracy(gt, pred)\n",
        "print(f\"Label Based Micro Accuracy: {lb_micro_acc_val}\")"
      ],
      "metadata": {
        "colab": {
          "base_uri": "https://localhost:8080/"
        },
        "id": "rcdl3OMYlvra",
        "outputId": "743d5759-5c16-4733-cfae-49cabe2c6825"
      }
    },
    {
      "cell_type": "markdown",
      "source": [
        "5. Micro Averaged Precision"
      ],
      "metadata": {
        "collapsed": false,
        "id": "lit_LDu0lvra"
      }
    },
    {
      "cell_type": "code",
      "execution_count": 30,
      "outputs": [
        {
          "output_type": "stream",
          "name": "stdout",
          "text": [
            "Label Based Micro Precision: 0.8\n"
          ]
        }
      ],
      "source": [
        "def label_based_micro_precision(y_true, y_pred):\n",
        "    \n",
        "    # compute sum of true positives (tp) across training examples\n",
        "    # and labels. \n",
        "    l_prec_num = np.sum(np.logical_and(y_true, y_pred))\n",
        "\n",
        "    # compute the sum of tp + fp across training examples and labels\n",
        "    l_prec_den = np.sum(y_pred)\n",
        "\n",
        "    # compute micro-averaged precision\n",
        "    return l_prec_num/l_prec_den\n",
        "\n",
        "# Example\n",
        "gt = np.asarray([[1, 0, 1], [1, 1, 0], [1, 0, 0], [1, 1, 1], [0, 1, 0]])\n",
        "pred = np.asarray([[1, 0, 1], [1, 0, 0], [1, 1, 0], [1, 1, 1], [0, 1, 1]])\n",
        "lb_micro_prec_val = label_based_micro_precision(gt, pred)\n",
        "print(f\"Label Based Micro Precision: {lb_micro_prec_val}\")"
      ],
      "metadata": {
        "colab": {
          "base_uri": "https://localhost:8080/"
        },
        "id": "m-P-u21Tlvra",
        "outputId": "965e230e-01a2-48fe-9060-a6b7f64abde6"
      }
    },
    {
      "cell_type": "markdown",
      "source": [
        "6. Micro Averaged Recall"
      ],
      "metadata": {
        "collapsed": false,
        "id": "Vi2vCPr3lvra"
      }
    },
    {
      "cell_type": "code",
      "execution_count": 31,
      "outputs": [
        {
          "output_type": "stream",
          "name": "stdout",
          "text": [
            "Label Based Micro Recall: 0.8888888888888888\n"
          ]
        }
      ],
      "source": [
        "def label_based_micro_recall(y_true, y_pred):\n",
        "\t\n",
        "    # compute sum of true positives across training examples and labels.\n",
        "    l_recall_num = np.sum(np.logical_and(y_true, y_pred))\n",
        "    # compute sum of tp + fn across training examples and labels\n",
        "    l_recall_den = np.sum(y_true)\n",
        "\n",
        "    # compute mirco-average recall\n",
        "    return l_recall_num/l_recall_den\n",
        "\n",
        "# Example\n",
        "gt = np.asarray([[1, 0, 1], [1, 1, 0], [1, 0, 0], [1, 1, 1], [0, 1, 0]])\n",
        "pred = np.asarray([[1, 0, 1], [1, 0, 0], [1, 1, 0], [1, 1, 1], [0, 1, 1]])\n",
        "lb_micro_recall_val = label_based_micro_recall(gt, pred)\n",
        "print(f\"Label Based Micro Recall: {lb_micro_recall_val}\")"
      ],
      "metadata": {
        "colab": {
          "base_uri": "https://localhost:8080/"
        },
        "id": "jFrY39zllvra",
        "outputId": "9ccb8cb5-66bb-49a2-934f-1ab61a61eecd"
      }
    },
    {
      "cell_type": "markdown",
      "source": [
        "### Defining F1 Score\n"
      ],
      "metadata": {
        "collapsed": false,
        "id": "WZD8vbuynD7Y"
      }
    },
    {
      "cell_type": "code",
      "source": [
        "import numpy as np\n",
        "\n",
        "def f1_score(y_true, y_pred):\n",
        "    '''\n",
        "    Calculate F1 score\n",
        "    y_true: true value\n",
        "    y_pred: predicted value\n",
        "    '''\n",
        "    epsilon = 1e-7\n",
        "\n",
        "    true_positives = np.sum(np.round(np.clip(y_true * y_pred, 0, 1)))\n",
        "    possible_positives = np.sum(np.round(np.clip(y_true, 0, 1)))\n",
        "    recall = true_positives / (possible_positives + epsilon)\n",
        "    predicted_positives = np.sum(np.round(np.clip(y_pred, 0, 1)))\n",
        "    precision = true_positives / (predicted_positives + epsilon)\n",
        "    return (2 * precision * recall) / (precision + recall + epsilon)\n",
        "\n",
        "# Example\n",
        "gt = np.asarray([[1, 0, 1], [1, 1, 0], [1, 0, 0], [1, 1, 1], [0, 1, 0]])\n",
        "pred = np.asarray([[1, 0, 1], [1, 0, 0], [1, 1, 0], [1, 1, 1], [0, 1, 1]])\n",
        "f1_score = f1_score(gt, pred)\n",
        "print(f\"F1 Score: {f1_score}\")"
      ],
      "metadata": {
        "id": "uUiCPWUSnWwx",
        "colab": {
          "base_uri": "https://localhost:8080/"
        },
        "outputId": "448bd56d-39ca-41a7-db08-6a1f2d38023a"
      },
      "execution_count": 32,
      "outputs": [
        {
          "output_type": "stream",
          "name": "stdout",
          "text": [
            "F1 Score: 0.8421052044321361\n"
          ]
        }
      ]
    },
    {
      "cell_type": "markdown",
      "source": [
        "Starting training and validation"
      ],
      "metadata": {
        "collapsed": false,
        "id": "1WzndTPRlvrb"
      }
    },
    {
      "cell_type": "code",
      "source": [
        "from sklearn.metrics import classification_report, multilabel_confusion_matrix\n",
        "# start the training and validation\n",
        "emr_list = []\n",
        "one_zero_loss_list = []\n",
        "hamming_loss_list = []\n",
        "example_based_accuracy_list = []\n",
        "example_based_precision_list = []\n",
        "label_based_macro_accuracy_list = []\n",
        "label_based_macro_precision_list = []\n",
        "label_based_macro_recall_list = []\n",
        "label_based_micro_accuracy_list = []\n",
        "label_based_micro_precision_list = []\n",
        "label_based_micro_recall_list = []\n",
        "# f1_score_list= []\n",
        "\n",
        "train_loss = []\n",
        "valid_loss = []\n",
        "for epoch in range(epochs):\n",
        "    print(f\"Epoch {epoch+1} of {epochs}\")\n",
        "    print(\"Training...\")\n",
        "    train_epoch_loss, targets, predictions = train(\n",
        "        model, train_loader, optimizer, custom_loss, train_data, device\n",
        "    )\n",
        "    print(\"Classification Report\")\n",
        "    print(classification_report(targets, predictions))\n",
        "    \n",
        "    emr_score = emr(targets, predictions)\n",
        "    one_zero_loss_score = one_zero_loss(targets, predictions)\n",
        "    hamming_loss_score = hamming_loss(targets, predictions)\n",
        "    example_based_accuracy_score = example_based_accuracy(targets, predictions)\n",
        "    example_based_precision_score = example_based_precision(targets, predictions)\n",
        "    label_based_macro_accuracy_score = label_based_macro_accuracy(targets, predictions)\n",
        "    label_based_macro_precision_score = label_based_macro_precision(targets, predictions)\n",
        "    label_based_macro_recall_score = label_based_macro_recall(targets, predictions)\n",
        "    label_based_micro_accuracy_score = label_based_micro_accuracy(targets, predictions)\n",
        "    label_based_micro_precision_score = label_based_micro_precision(targets, predictions)\n",
        "    label_based_micro_recall_score = label_based_micro_recall(targets, predictions)\n",
        "    # f1_score = f1_score(targets, predictions)\n",
        "\n",
        "    emr_list.append(emr_score)\n",
        "    one_zero_loss_list.append(one_zero_loss_score)\n",
        "    hamming_loss_list.append(hamming_loss_score)\n",
        "    example_based_accuracy_list.append(example_based_accuracy_score)\n",
        "    example_based_precision_list.append(example_based_precision_score)\n",
        "    label_based_macro_accuracy_list.append(label_based_macro_accuracy_score)\n",
        "    label_based_macro_precision_list.append(label_based_macro_precision_score)\n",
        "    label_based_macro_recall_list.append(label_based_macro_recall_score)\n",
        "    label_based_micro_accuracy_list.append(label_based_micro_accuracy_score)\n",
        "    label_based_micro_precision_list.append(label_based_micro_precision_score)\n",
        "    label_based_micro_recall_list.append(label_based_micro_recall_score)\n",
        "    # f1_score_list.append(f1_score)\n",
        "\n",
        "    print(\"Exact match ratio: \", emr_score)\n",
        "    print(\"1/0 Loss: \", one_zero_loss_score)\n",
        "    print(\"Hamming Loss: \", hamming_loss_score)\n",
        "    print(\"Example based Accuracy: \", example_based_accuracy_score)\n",
        "    print(\"Example based precision: \", example_based_precision_score)\n",
        "    print(\"Macro Averaged Accuracy: \", label_based_macro_accuracy_score)\n",
        "    print(\"Macro Averaged Precision: \", label_based_macro_precision_score)\n",
        "    print(\"Macro Averaged Recall: \", label_based_macro_recall_score)\n",
        "    print(\"Micro Averaged Accuracy: \", label_based_micro_accuracy_score)\n",
        "    print(\"Micro Averaged Precision: \", label_based_micro_precision_score)\n",
        "    print(\"Micro Averaged Recall: \", label_based_micro_recall_score)\n",
        "    # print(\"F1 Score:\", f1_score)\n",
        "\n",
        "    print(\"Validating...\")\n",
        "    valid_epoch_loss, val_targets, val_predictions = validate(\n",
        "        model, valid_loader, custom_loss, valid_data, device\n",
        "    )\n",
        "    print(\"Classification Report\")\n",
        "    print(classification_report(val_targets, val_predictions))\n",
        "    train_loss.append(train_epoch_loss)\n",
        "    valid_loss.append(valid_epoch_loss)\n",
        "    print(f\"Train Loss: {train_epoch_loss:.4f}\")\n",
        "    print(f'Val Loss: {valid_epoch_loss:.4f}')"
      ],
      "metadata": {
        "id": "94dsUmW7rag5",
        "colab": {
          "base_uri": "https://localhost:8080/"
        },
        "outputId": "c6f3fff6-ef5c-439e-bea8-cd91b768caed"
      },
      "execution_count": 33,
      "outputs": [
        {
          "output_type": "stream",
          "name": "stdout",
          "text": [
            "Epoch 1 of 30\n",
            "Training...\n",
            "Training\n"
          ]
        },
        {
          "output_type": "stream",
          "name": "stderr",
          "text": [
            "119it [38:56, 19.63s/it]\n"
          ]
        },
        {
          "output_type": "stream",
          "name": "stdout",
          "text": [
            "Classification Report\n",
            "              precision    recall  f1-score   support\n",
            "\n",
            "           0       0.57      0.75      0.65      2157\n",
            "           1       0.28      0.96      0.43      1046\n",
            "           2       0.49      0.32      0.39      2185\n",
            "           3       0.80      0.26      0.39      3036\n",
            "           4       0.32      0.49      0.38      1059\n",
            "\n",
            "   micro avg       0.44      0.49      0.46      9483\n",
            "   macro avg       0.49      0.55      0.45      9483\n",
            "weighted avg       0.57      0.49      0.45      9483\n",
            " samples avg       0.43      0.42      0.40      9483\n",
            "\n",
            "Exact match ratio:  0.007112750263435195\n",
            "1/0 Loss:  0.9928872497365648\n",
            "Hamming Loss:  0.5630663856691254\n",
            "Example based Accuracy:  nan\n",
            "Example based precision:  nan\n",
            "Macro Averaged Accuracy:  0.2956868877309638\n",
            "Macro Averaged Precision:  0.49209772415393405\n",
            "Macro Averaged Recall:  0.5548922205034865\n",
            "Micro Averaged Accuracy:  0.30191390685217845\n",
            "Micro Averaged Precision:  0.4423813169984686\n",
            "Micro Averaged Recall:  0.4873985025835706\n",
            "Validating...\n",
            "Validating\n"
          ]
        },
        {
          "output_type": "stream",
          "name": "stderr",
          "text": [
            "21it [06:34, 18.78s/it]\n"
          ]
        },
        {
          "output_type": "stream",
          "name": "stdout",
          "text": [
            "Classification Report\n",
            "              precision    recall  f1-score   support\n",
            "\n",
            "           0       0.85      0.98      0.91       563\n",
            "           1       0.44      1.00      0.61       292\n",
            "           2       0.41      0.97      0.58       275\n",
            "           3       1.00      0.01      0.02       572\n",
            "           4       0.42      1.00      0.59       274\n",
            "\n",
            "   micro avg       0.53      0.71      0.61      1976\n",
            "   macro avg       0.62      0.79      0.54      1976\n",
            "weighted avg       0.71      0.71      0.52      1976\n",
            " samples avg       0.53      0.65      0.57      1976\n",
            "\n",
            "Train Loss: 1594.9259\n",
            "Val Loss: 1150.9920\n",
            "Epoch 2 of 30\n",
            "Training...\n",
            "Training\n"
          ]
        },
        {
          "output_type": "stream",
          "name": "stderr",
          "text": [
            "119it [01:27,  1.36it/s]\n"
          ]
        },
        {
          "output_type": "stream",
          "name": "stdout",
          "text": [
            "Classification Report\n",
            "              precision    recall  f1-score   support\n",
            "\n",
            "           0       0.57      0.76      0.65      2157\n",
            "           1       0.28      0.94      0.43      1046\n",
            "           2       0.50      0.32      0.39      2185\n",
            "           3       0.82      0.28      0.41      3036\n",
            "           4       0.31      0.47      0.38      1059\n",
            "\n",
            "   micro avg       0.45      0.49      0.47      9483\n",
            "   macro avg       0.50      0.55      0.45      9483\n",
            "weighted avg       0.57      0.49      0.46      9483\n",
            " samples avg       0.44      0.43      0.40      9483\n",
            "\n",
            "Exact match ratio:  0.007903055848261328\n",
            "1/0 Loss:  0.9920969441517387\n",
            "Hamming Loss:  0.5596944151738672\n",
            "Example based Accuracy:  nan\n",
            "Example based precision:  nan\n",
            "Macro Averaged Accuracy:  0.298072161168968\n",
            "Macro Averaged Precision:  0.4959247377548202\n",
            "Macro Averaged Recall:  0.5541931760422035\n",
            "Micro Averaged Accuracy:  0.30500490677134445\n",
            "Micro Averaged Precision:  0.4455275229357798\n",
            "Micro Averaged Recall:  0.4916165770325846\n",
            "Validating...\n",
            "Validating\n"
          ]
        },
        {
          "output_type": "stream",
          "name": "stderr",
          "text": [
            "21it [00:08,  2.57it/s]\n"
          ]
        },
        {
          "output_type": "stream",
          "name": "stdout",
          "text": [
            "Classification Report\n",
            "              precision    recall  f1-score   support\n",
            "\n",
            "           0       0.85      0.98      0.91       563\n",
            "           1       0.44      1.00      0.61       292\n",
            "           2       0.41      0.98      0.58       275\n",
            "           3       1.00      0.01      0.01       572\n",
            "           4       0.42      1.00      0.59       274\n",
            "\n",
            "   micro avg       0.53      0.70      0.60      1976\n",
            "   macro avg       0.62      0.79      0.54      1976\n",
            "weighted avg       0.71      0.70      0.52      1976\n",
            " samples avg       0.53      0.65      0.57      1976\n",
            "\n",
            "Train Loss: 1591.3699\n",
            "Val Loss: 1151.6821\n",
            "Epoch 3 of 30\n",
            "Training...\n",
            "Training\n"
          ]
        },
        {
          "output_type": "stream",
          "name": "stderr",
          "text": [
            "119it [01:28,  1.35it/s]\n"
          ]
        },
        {
          "output_type": "stream",
          "name": "stdout",
          "text": [
            "Classification Report\n",
            "              precision    recall  f1-score   support\n",
            "\n",
            "           0       0.57      0.75      0.65      2157\n",
            "           1       0.28      0.95      0.43      1046\n",
            "           2       0.51      0.33      0.40      2185\n",
            "           3       0.81      0.26      0.40      3036\n",
            "           4       0.31      0.48      0.38      1059\n",
            "\n",
            "   micro avg       0.44      0.49      0.46      9483\n",
            "   macro avg       0.49      0.55      0.45      9483\n",
            "weighted avg       0.57      0.49      0.45      9483\n",
            " samples avg       0.43      0.42      0.40      9483\n",
            "\n",
            "Exact match ratio:  0.0050052687038988405\n",
            "1/0 Loss:  0.9949947312961012\n",
            "Hamming Loss:  0.5622760800842993\n",
            "Example based Accuracy:  0.2900641025641026\n",
            "Example based precision:  nan\n",
            "Macro Averaged Accuracy:  0.2956760178533129\n",
            "Macro Averaged Precision:  0.4946328369321071\n",
            "Macro Averaged Recall:  0.5531948559504337\n",
            "Micro Averaged Accuracy:  0.3023012552301255\n",
            "Micro Averaged Precision:  0.4430391875059883\n",
            "Micro Averaged Recall:  0.4876094063060213\n",
            "Validating...\n",
            "Validating\n"
          ]
        },
        {
          "output_type": "stream",
          "name": "stderr",
          "text": [
            "21it [00:08,  2.58it/s]\n"
          ]
        },
        {
          "output_type": "stream",
          "name": "stdout",
          "text": [
            "Classification Report\n",
            "              precision    recall  f1-score   support\n",
            "\n",
            "           0       0.85      0.98      0.91       563\n",
            "           1       0.44      1.00      0.61       292\n",
            "           2       0.41      0.97      0.58       275\n",
            "           3       1.00      0.01      0.01       572\n",
            "           4       0.42      1.00      0.59       274\n",
            "\n",
            "   micro avg       0.53      0.70      0.60      1976\n",
            "   macro avg       0.62      0.79      0.54      1976\n",
            "weighted avg       0.71      0.70      0.52      1976\n",
            " samples avg       0.53      0.65      0.57      1976\n",
            "\n",
            "Train Loss: 1595.8829\n",
            "Val Loss: 1154.2426\n",
            "Epoch 4 of 30\n",
            "Training...\n",
            "Training\n"
          ]
        },
        {
          "output_type": "stream",
          "name": "stderr",
          "text": [
            "119it [01:29,  1.33it/s]\n"
          ]
        },
        {
          "output_type": "stream",
          "name": "stdout",
          "text": [
            "Classification Report\n",
            "              precision    recall  f1-score   support\n",
            "\n",
            "           0       0.56      0.74      0.64      2157\n",
            "           1       0.28      0.95      0.43      1046\n",
            "           2       0.49      0.32      0.39      2185\n",
            "           3       0.81      0.26      0.40      3036\n",
            "           4       0.30      0.46      0.37      1059\n",
            "\n",
            "   micro avg       0.44      0.48      0.46      9483\n",
            "   macro avg       0.49      0.55      0.44      9483\n",
            "weighted avg       0.57      0.48      0.45      9483\n",
            " samples avg       0.43      0.42      0.39      9483\n",
            "\n",
            "Exact match ratio:  0.008166491043203371\n",
            "1/0 Loss:  0.9918335089567967\n",
            "Hamming Loss:  0.5679662802950474\n",
            "Example based Accuracy:  0.28617843343870747\n",
            "Example based precision:  nan\n",
            "Macro Averaged Accuracy:  0.29113669390531066\n",
            "Macro Averaged Precision:  0.48885638290799005\n",
            "Macro Averaged Recall:  0.5478784945973372\n",
            "Micro Averaged Accuracy:  0.2984511258622934\n",
            "Micro Averaged Precision:  0.4380552106218359\n",
            "Micro Averaged Recall:  0.483602235579458\n",
            "Validating...\n",
            "Validating\n"
          ]
        },
        {
          "output_type": "stream",
          "name": "stderr",
          "text": [
            "21it [00:07,  2.68it/s]\n"
          ]
        },
        {
          "output_type": "stream",
          "name": "stdout",
          "text": [
            "Classification Report\n",
            "              precision    recall  f1-score   support\n",
            "\n",
            "           0       0.85      0.98      0.91       563\n",
            "           1       0.44      1.00      0.61       292\n",
            "           2       0.41      0.98      0.58       275\n",
            "           3       1.00      0.01      0.01       572\n",
            "           4       0.42      1.00      0.59       274\n",
            "\n",
            "   micro avg       0.53      0.70      0.61      1976\n",
            "   macro avg       0.62      0.79      0.54      1976\n",
            "weighted avg       0.71      0.70      0.52      1976\n",
            " samples avg       0.53      0.65      0.57      1976\n",
            "\n",
            "Train Loss: 1609.2852\n",
            "Val Loss: 1150.6604\n",
            "Epoch 5 of 30\n",
            "Training...\n",
            "Training\n"
          ]
        },
        {
          "output_type": "stream",
          "name": "stderr",
          "text": [
            "119it [01:29,  1.33it/s]\n"
          ]
        },
        {
          "output_type": "stream",
          "name": "stdout",
          "text": [
            "Classification Report\n",
            "              precision    recall  f1-score   support\n",
            "\n",
            "           0       0.57      0.76      0.65      2157\n",
            "           1       0.28      0.94      0.43      1046\n",
            "           2       0.50      0.33      0.40      2185\n",
            "           3       0.82      0.27      0.41      3036\n",
            "           4       0.30      0.46      0.37      1059\n",
            "\n",
            "   micro avg       0.44      0.49      0.47      9483\n",
            "   macro avg       0.49      0.55      0.45      9483\n",
            "weighted avg       0.57      0.49      0.46      9483\n",
            " samples avg       0.43      0.42      0.40      9483\n",
            "\n",
            "Exact match ratio:  0.007639620653319284\n",
            "1/0 Loss:  0.9923603793466808\n",
            "Hamming Loss:  0.5631717597471022\n",
            "Example based Accuracy:  0.29213645943098004\n",
            "Example based precision:  nan\n",
            "Macro Averaged Accuracy:  0.2961859545058226\n",
            "Macro Averaged Precision:  0.4929833860099436\n",
            "Macro Averaged Recall:  0.552910119123346\n",
            "Micro Averaged Accuracy:  0.30342130987292276\n",
            "Micro Averaged Precision:  0.44266970907016545\n",
            "Micro Averaged Recall:  0.4909838658652325\n",
            "Validating...\n",
            "Validating\n"
          ]
        },
        {
          "output_type": "stream",
          "name": "stderr",
          "text": [
            "21it [00:08,  2.57it/s]\n"
          ]
        },
        {
          "output_type": "stream",
          "name": "stdout",
          "text": [
            "Classification Report\n",
            "              precision    recall  f1-score   support\n",
            "\n",
            "           0       0.85      0.98      0.91       563\n",
            "           1       0.44      1.00      0.61       292\n",
            "           2       0.41      0.97      0.58       275\n",
            "           3       1.00      0.01      0.01       572\n",
            "           4       0.42      1.00      0.59       274\n",
            "\n",
            "   micro avg       0.53      0.70      0.60      1976\n",
            "   macro avg       0.62      0.79      0.54      1976\n",
            "weighted avg       0.71      0.70      0.52      1976\n",
            " samples avg       0.53      0.65      0.57      1976\n",
            "\n",
            "Train Loss: 1597.7681\n",
            "Val Loss: 1153.7683\n",
            "Epoch 6 of 30\n",
            "Training...\n",
            "Training\n"
          ]
        },
        {
          "output_type": "stream",
          "name": "stderr",
          "text": [
            "119it [01:29,  1.33it/s]\n"
          ]
        },
        {
          "output_type": "stream",
          "name": "stdout",
          "text": [
            "Classification Report\n",
            "              precision    recall  f1-score   support\n",
            "\n",
            "           0       0.57      0.75      0.65      2157\n",
            "           1       0.27      0.94      0.42      1046\n",
            "           2       0.52      0.35      0.42      2185\n",
            "           3       0.80      0.25      0.39      3036\n",
            "           4       0.31      0.48      0.38      1059\n",
            "\n",
            "   micro avg       0.44      0.49      0.46      9483\n",
            "   macro avg       0.49      0.55      0.45      9483\n",
            "weighted avg       0.57      0.49      0.46      9483\n",
            " samples avg       0.43      0.43      0.40      9483\n",
            "\n",
            "Exact match ratio:  0.01053740779768177\n",
            "1/0 Loss:  0.9894625922023182\n",
            "Hamming Loss:  0.5634351949420443\n",
            "Example based Accuracy:  nan\n",
            "Example based precision:  nan\n",
            "Macro Averaged Accuracy:  0.29657647385331354\n",
            "Macro Averaged Precision:  0.4949602947313747\n",
            "Macro Averaged Recall:  0.5542422367145192\n",
            "Micro Averaged Accuracy:  0.3025955393243772\n",
            "Micro Averaged Precision:  0.4422838623582118\n",
            "Micro Averaged Recall:  0.4892966360856269\n",
            "Validating...\n",
            "Validating\n"
          ]
        },
        {
          "output_type": "stream",
          "name": "stderr",
          "text": [
            "21it [00:08,  2.56it/s]\n"
          ]
        },
        {
          "output_type": "stream",
          "name": "stdout",
          "text": [
            "Classification Report\n",
            "              precision    recall  f1-score   support\n",
            "\n",
            "           0       0.85      0.98      0.91       563\n",
            "           1       0.44      1.00      0.61       292\n",
            "           2       0.41      0.97      0.58       275\n",
            "           3       1.00      0.01      0.01       572\n",
            "           4       0.42      1.00      0.59       274\n",
            "\n",
            "   micro avg       0.53      0.70      0.60      1976\n",
            "   macro avg       0.62      0.79      0.54      1976\n",
            "weighted avg       0.71      0.70      0.52      1976\n",
            " samples avg       0.53      0.65      0.57      1976\n",
            "\n",
            "Train Loss: 1592.7757\n",
            "Val Loss: 1153.2209\n",
            "Epoch 7 of 30\n",
            "Training...\n",
            "Training\n"
          ]
        },
        {
          "output_type": "stream",
          "name": "stderr",
          "text": [
            "119it [01:29,  1.33it/s]\n"
          ]
        },
        {
          "output_type": "stream",
          "name": "stdout",
          "text": [
            "Classification Report\n",
            "              precision    recall  f1-score   support\n",
            "\n",
            "           0       0.56      0.75      0.64      2157\n",
            "           1       0.28      0.95      0.43      1046\n",
            "           2       0.50      0.34      0.40      2185\n",
            "           3       0.81      0.27      0.41      3036\n",
            "           4       0.32      0.48      0.38      1059\n",
            "\n",
            "   micro avg       0.44      0.49      0.47      9483\n",
            "   macro avg       0.49      0.56      0.45      9483\n",
            "weighted avg       0.57      0.49      0.46      9483\n",
            " samples avg       0.44      0.43      0.40      9483\n",
            "\n",
            "Exact match ratio:  0.008166491043203371\n",
            "1/0 Loss:  0.9918335089567967\n",
            "Hamming Loss:  0.5609062170706006\n",
            "Example based Accuracy:  0.29445468914647\n",
            "Example based precision:  nan\n",
            "Macro Averaged Accuracy:  0.2985660122173208\n",
            "Macro Averaged Precision:  0.4945238573467762\n",
            "Macro Averaged Recall:  0.5571040934548914\n",
            "Micro Averaged Accuracy:  0.30509138381201045\n",
            "Micro Averaged Precision:  0.4446770050423366\n",
            "Micro Averaged Recall:  0.4928819993672888\n",
            "Validating...\n",
            "Validating\n"
          ]
        },
        {
          "output_type": "stream",
          "name": "stderr",
          "text": [
            "21it [00:07,  2.68it/s]\n"
          ]
        },
        {
          "output_type": "stream",
          "name": "stdout",
          "text": [
            "Classification Report\n",
            "              precision    recall  f1-score   support\n",
            "\n",
            "           0       0.85      0.98      0.91       563\n",
            "           1       0.44      1.00      0.61       292\n",
            "           2       0.41      0.97      0.58       275\n",
            "           3       1.00      0.01      0.02       572\n",
            "           4       0.42      1.00      0.59       274\n",
            "\n",
            "   micro avg       0.53      0.70      0.60      1976\n",
            "   macro avg       0.62      0.79      0.54      1976\n",
            "weighted avg       0.71      0.70      0.52      1976\n",
            " samples avg       0.53      0.65      0.57      1976\n",
            "\n",
            "Train Loss: 1592.6187\n",
            "Val Loss: 1152.7466\n",
            "Epoch 8 of 30\n",
            "Training...\n",
            "Training\n"
          ]
        },
        {
          "output_type": "stream",
          "name": "stderr",
          "text": [
            "119it [01:29,  1.33it/s]\n"
          ]
        },
        {
          "output_type": "stream",
          "name": "stdout",
          "text": [
            "Classification Report\n",
            "              precision    recall  f1-score   support\n",
            "\n",
            "           0       0.57      0.74      0.64      2157\n",
            "           1       0.28      0.96      0.43      1046\n",
            "           2       0.51      0.34      0.41      2185\n",
            "           3       0.82      0.27      0.41      3036\n",
            "           4       0.31      0.48      0.37      1059\n",
            "\n",
            "   micro avg       0.44      0.49      0.47      9483\n",
            "   macro avg       0.50      0.56      0.45      9483\n",
            "weighted avg       0.57      0.49      0.46      9483\n",
            " samples avg       0.44      0.43      0.40      9483\n",
            "\n",
            "Exact match ratio:  0.006059009483667018\n",
            "1/0 Loss:  0.993940990516333\n",
            "Hamming Loss:  0.5608535300316122\n",
            "Example based Accuracy:  nan\n",
            "Example based precision:  nan\n",
            "Macro Averaged Accuracy:  0.2989796571780679\n",
            "Macro Averaged Precision:  0.49708062236215805\n",
            "Macro Averaged Recall:  0.5588704226374941\n",
            "Micro Averaged Accuracy:  0.30570049569527785\n",
            "Micro Averaged Precision:  0.4448557327258922\n",
            "Micro Averaged Recall:  0.4942528735632184\n",
            "Validating...\n",
            "Validating\n"
          ]
        },
        {
          "output_type": "stream",
          "name": "stderr",
          "text": [
            "21it [00:07,  2.74it/s]\n"
          ]
        },
        {
          "output_type": "stream",
          "name": "stdout",
          "text": [
            "Classification Report\n",
            "              precision    recall  f1-score   support\n",
            "\n",
            "           0       0.85      0.98      0.91       563\n",
            "           1       0.44      1.00      0.61       292\n",
            "           2       0.41      0.97      0.58       275\n",
            "           3       1.00      0.01      0.02       572\n",
            "           4       0.42      1.00      0.59       274\n",
            "\n",
            "   micro avg       0.53      0.70      0.61      1976\n",
            "   macro avg       0.62      0.79      0.54      1976\n",
            "weighted avg       0.71      0.70      0.52      1976\n",
            " samples avg       0.53      0.65      0.57      1976\n",
            "\n",
            "Train Loss: 1587.0529\n",
            "Val Loss: 1152.2722\n",
            "Epoch 9 of 30\n",
            "Training...\n",
            "Training\n"
          ]
        },
        {
          "output_type": "stream",
          "name": "stderr",
          "text": [
            "119it [01:29,  1.33it/s]\n"
          ]
        },
        {
          "output_type": "stream",
          "name": "stdout",
          "text": [
            "Classification Report\n",
            "              precision    recall  f1-score   support\n",
            "\n",
            "           0       0.57      0.75      0.65      2157\n",
            "           1       0.28      0.95      0.43      1046\n",
            "           2       0.50      0.33      0.40      2185\n",
            "           3       0.81      0.27      0.40      3036\n",
            "           4       0.31      0.47      0.38      1059\n",
            "\n",
            "   micro avg       0.44      0.49      0.47      9483\n",
            "   macro avg       0.49      0.55      0.45      9483\n",
            "weighted avg       0.57      0.49      0.46      9483\n",
            " samples avg       0.43      0.42      0.40      9483\n",
            "\n",
            "Exact match ratio:  0.005795574288724974\n",
            "1/0 Loss:  0.994204425711275\n",
            "Hamming Loss:  0.560958904109589\n",
            "Example based Accuracy:  0.2910914998243766\n",
            "Example based precision:  nan\n",
            "Macro Averaged Accuracy:  0.2965517302368013\n",
            "Macro Averaged Precision:  0.49413321181688313\n",
            "Macro Averaged Recall:  0.5528552263782027\n",
            "Micro Averaged Accuracy:  0.3032979976442874\n",
            "Micro Averaged Precision:  0.44422081656124207\n",
            "Micro Averaged Recall:  0.48876937677950016\n",
            "Validating...\n",
            "Validating\n"
          ]
        },
        {
          "output_type": "stream",
          "name": "stderr",
          "text": [
            "21it [00:08,  2.54it/s]\n"
          ]
        },
        {
          "output_type": "stream",
          "name": "stdout",
          "text": [
            "Classification Report\n",
            "              precision    recall  f1-score   support\n",
            "\n",
            "           0       0.85      0.99      0.91       563\n",
            "           1       0.44      1.00      0.61       292\n",
            "           2       0.41      0.97      0.58       275\n",
            "           3       1.00      0.01      0.01       572\n",
            "           4       0.42      1.00      0.59       274\n",
            "\n",
            "   micro avg       0.53      0.70      0.61      1976\n",
            "   macro avg       0.62      0.79      0.54      1976\n",
            "weighted avg       0.71      0.70      0.52      1976\n",
            " samples avg       0.53      0.65      0.57      1976\n",
            "\n",
            "Train Loss: 1592.5819\n",
            "Val Loss: 1151.7923\n",
            "Epoch 10 of 30\n",
            "Training...\n",
            "Training\n"
          ]
        },
        {
          "output_type": "stream",
          "name": "stderr",
          "text": [
            "119it [01:29,  1.33it/s]\n"
          ]
        },
        {
          "output_type": "stream",
          "name": "stdout",
          "text": [
            "Classification Report\n",
            "              precision    recall  f1-score   support\n",
            "\n",
            "           0       0.57      0.76      0.65      2157\n",
            "           1       0.27      0.94      0.42      1046\n",
            "           2       0.50      0.32      0.39      2185\n",
            "           3       0.80      0.25      0.38      3036\n",
            "           4       0.31      0.46      0.37      1059\n",
            "\n",
            "   micro avg       0.44      0.48      0.46      9483\n",
            "   macro avg       0.49      0.55      0.44      9483\n",
            "weighted avg       0.57      0.48      0.45      9483\n",
            " samples avg       0.43      0.42      0.39      9483\n",
            "\n",
            "Exact match ratio:  0.00684931506849315\n",
            "1/0 Loss:  0.9931506849315068\n",
            "Hamming Loss:  0.5642255005268704\n",
            "Example based Accuracy:  nan\n",
            "Example based precision:  nan\n",
            "Macro Averaged Accuracy:  0.2926884681205979\n",
            "Macro Averaged Precision:  0.49129591736426564\n",
            "Macro Averaged Recall:  0.5473202718195388\n",
            "Micro Averaged Accuracy:  0.29965339088352627\n",
            "Micro Averaged Precision:  0.44100096246390763\n",
            "Micro Averaged Recall:  0.4831804281345566\n",
            "Validating...\n",
            "Validating\n"
          ]
        },
        {
          "output_type": "stream",
          "name": "stderr",
          "text": [
            "21it [00:08,  2.57it/s]\n"
          ]
        },
        {
          "output_type": "stream",
          "name": "stdout",
          "text": [
            "Classification Report\n",
            "              precision    recall  f1-score   support\n",
            "\n",
            "           0       0.85      0.98      0.91       563\n",
            "           1       0.44      1.00      0.61       292\n",
            "           2       0.41      0.97      0.57       275\n",
            "           3       1.00      0.01      0.02       572\n",
            "           4       0.42      1.00      0.59       274\n",
            "\n",
            "   micro avg       0.53      0.70      0.60      1976\n",
            "   macro avg       0.62      0.79      0.54      1976\n",
            "weighted avg       0.71      0.70      0.52      1976\n",
            " samples avg       0.53      0.65      0.57      1976\n",
            "\n",
            "Train Loss: 1602.0120\n",
            "Val Loss: 1154.0268\n",
            "Epoch 11 of 30\n",
            "Training...\n",
            "Training\n"
          ]
        },
        {
          "output_type": "stream",
          "name": "stderr",
          "text": [
            "119it [01:29,  1.33it/s]\n"
          ]
        },
        {
          "output_type": "stream",
          "name": "stdout",
          "text": [
            "Classification Report\n",
            "              precision    recall  f1-score   support\n",
            "\n",
            "           0       0.57      0.75      0.65      2157\n",
            "           1       0.27      0.93      0.42      1046\n",
            "           2       0.51      0.33      0.40      2185\n",
            "           3       0.82      0.27      0.41      3036\n",
            "           4       0.31      0.46      0.37      1059\n",
            "\n",
            "   micro avg       0.44      0.49      0.46      9483\n",
            "   macro avg       0.49      0.55      0.45      9483\n",
            "weighted avg       0.57      0.49      0.46      9483\n",
            " samples avg       0.44      0.43      0.40      9483\n",
            "\n",
            "Exact match ratio:  0.008429926238145416\n",
            "1/0 Loss:  0.9915700737618546\n",
            "Hamming Loss:  0.5624341412012644\n",
            "Example based Accuracy:  0.2917939936775553\n",
            "Example based precision:  nan\n",
            "Macro Averaged Accuracy:  0.29545954771285177\n",
            "Macro Averaged Precision:  0.49434427753252164\n",
            "Macro Averaged Recall:  0.5490009543740857\n",
            "Micro Averaged Accuracy:  0.3021963655379788\n",
            "Micro Averaged Precision:  0.4429009388771795\n",
            "Micro Averaged Recall:  0.48750395444479594\n",
            "Validating...\n",
            "Validating\n"
          ]
        },
        {
          "output_type": "stream",
          "name": "stderr",
          "text": [
            "21it [00:07,  2.70it/s]\n"
          ]
        },
        {
          "output_type": "stream",
          "name": "stdout",
          "text": [
            "Classification Report\n",
            "              precision    recall  f1-score   support\n",
            "\n",
            "           0       0.85      0.98      0.91       563\n",
            "           1       0.44      1.00      0.61       292\n",
            "           2       0.41      0.97      0.58       275\n",
            "           3       1.00      0.01      0.01       572\n",
            "           4       0.42      1.00      0.59       274\n",
            "\n",
            "   micro avg       0.53      0.70      0.60      1976\n",
            "   macro avg       0.62      0.79      0.54      1976\n",
            "weighted avg       0.71      0.70      0.52      1976\n",
            " samples avg       0.53      0.65      0.57      1976\n",
            "\n",
            "Train Loss: 1596.4736\n",
            "Val Loss: 1152.4880\n",
            "Epoch 12 of 30\n",
            "Training...\n",
            "Training\n"
          ]
        },
        {
          "output_type": "stream",
          "name": "stderr",
          "text": [
            "119it [01:29,  1.33it/s]\n"
          ]
        },
        {
          "output_type": "stream",
          "name": "stdout",
          "text": [
            "Classification Report\n",
            "              precision    recall  f1-score   support\n",
            "\n",
            "           0       0.57      0.76      0.65      2157\n",
            "           1       0.28      0.95      0.43      1046\n",
            "           2       0.50      0.32      0.39      2185\n",
            "           3       0.80      0.26      0.40      3036\n",
            "           4       0.33      0.49      0.39      1059\n",
            "\n",
            "   micro avg       0.45      0.49      0.47      9483\n",
            "   macro avg       0.50      0.56      0.45      9483\n",
            "weighted avg       0.57      0.49      0.46      9483\n",
            " samples avg       0.43      0.42      0.40      9483\n",
            "\n",
            "Exact match ratio:  0.006322444678609062\n",
            "1/0 Loss:  0.9936775553213909\n",
            "Hamming Loss:  0.5590094836670179\n",
            "Example based Accuracy:  0.29220670881629784\n",
            "Example based precision:  nan\n",
            "Macro Averaged Accuracy:  0.29866875790302244\n",
            "Macro Averaged Precision:  0.4952372905463577\n",
            "Macro Averaged Recall:  0.5571749417993983\n",
            "Micro Averaged Accuracy:  0.3049914843442945\n",
            "Micro Averaged Precision:  0.4460197336909666\n",
            "Micro Averaged Recall:  0.4909838658652325\n",
            "Validating...\n",
            "Validating\n"
          ]
        },
        {
          "output_type": "stream",
          "name": "stderr",
          "text": [
            "21it [00:07,  2.76it/s]\n"
          ]
        },
        {
          "output_type": "stream",
          "name": "stdout",
          "text": [
            "Classification Report\n",
            "              precision    recall  f1-score   support\n",
            "\n",
            "           0       0.85      0.99      0.91       563\n",
            "           1       0.44      1.00      0.61       292\n",
            "           2       0.41      0.97      0.58       275\n",
            "           3       1.00      0.01      0.01       572\n",
            "           4       0.42      1.00      0.59       274\n",
            "\n",
            "   micro avg       0.53      0.70      0.60      1976\n",
            "   macro avg       0.62      0.79      0.54      1976\n",
            "weighted avg       0.71      0.70      0.52      1976\n",
            " samples avg       0.53      0.65      0.57      1976\n",
            "\n",
            "Train Loss: 1591.4136\n",
            "Val Loss: 1152.2666\n",
            "Epoch 13 of 30\n",
            "Training...\n",
            "Training\n"
          ]
        },
        {
          "output_type": "stream",
          "name": "stderr",
          "text": [
            "119it [01:29,  1.33it/s]\n"
          ]
        },
        {
          "output_type": "stream",
          "name": "stdout",
          "text": [
            "Classification Report\n",
            "              precision    recall  f1-score   support\n",
            "\n",
            "           0       0.57      0.75      0.65      2157\n",
            "           1       0.27      0.94      0.42      1046\n",
            "           2       0.49      0.32      0.39      2185\n",
            "           3       0.80      0.26      0.39      3036\n",
            "           4       0.31      0.48      0.38      1059\n",
            "\n",
            "   micro avg       0.44      0.49      0.46      9483\n",
            "   macro avg       0.49      0.55      0.45      9483\n",
            "weighted avg       0.56      0.49      0.45      9483\n",
            " samples avg       0.43      0.42      0.39      9483\n",
            "\n",
            "Exact match ratio:  0.007376185458377239\n",
            "1/0 Loss:  0.9926238145416227\n",
            "Hamming Loss:  0.5663329820864067\n",
            "Example based Accuracy:  0.28751756234632947\n",
            "Example based precision:  nan\n",
            "Macro Averaged Accuracy:  0.29307060371089816\n",
            "Macro Averaged Precision:  0.489545847436196\n",
            "Macro Averaged Recall:  0.5498020611276555\n",
            "Micro Averaged Accuracy:  0.2996937911264578\n",
            "Micro Averaged Precision:  0.4395184406650105\n",
            "Micro Averaged Recall:  0.4850785616366129\n",
            "Validating...\n",
            "Validating\n"
          ]
        },
        {
          "output_type": "stream",
          "name": "stderr",
          "text": [
            "21it [00:08,  2.58it/s]\n"
          ]
        },
        {
          "output_type": "stream",
          "name": "stdout",
          "text": [
            "Classification Report\n",
            "              precision    recall  f1-score   support\n",
            "\n",
            "           0       0.85      0.98      0.91       563\n",
            "           1       0.44      1.00      0.61       292\n",
            "           2       0.41      0.97      0.58       275\n",
            "           3       1.00      0.01      0.01       572\n",
            "           4       0.42      1.00      0.59       274\n",
            "\n",
            "   micro avg       0.53      0.70      0.60      1976\n",
            "   macro avg       0.62      0.79      0.54      1976\n",
            "weighted avg       0.71      0.70      0.52      1976\n",
            " samples avg       0.53      0.65      0.57      1976\n",
            "\n",
            "Train Loss: 1608.3252\n",
            "Val Loss: 1153.2209\n",
            "Epoch 14 of 30\n",
            "Training...\n",
            "Training\n"
          ]
        },
        {
          "output_type": "stream",
          "name": "stderr",
          "text": [
            "119it [01:29,  1.33it/s]\n"
          ]
        },
        {
          "output_type": "stream",
          "name": "stdout",
          "text": [
            "Classification Report\n",
            "              precision    recall  f1-score   support\n",
            "\n",
            "           0       0.57      0.75      0.65      2157\n",
            "           1       0.28      0.94      0.43      1046\n",
            "           2       0.51      0.34      0.41      2185\n",
            "           3       0.80      0.25      0.39      3036\n",
            "           4       0.31      0.48      0.38      1059\n",
            "\n",
            "   micro avg       0.44      0.49      0.46      9483\n",
            "   macro avg       0.49      0.55      0.45      9483\n",
            "weighted avg       0.57      0.49      0.46      9483\n",
            " samples avg       0.43      0.43      0.40      9483\n",
            "\n",
            "Exact match ratio:  0.007376185458377239\n",
            "1/0 Loss:  0.9926238145416227\n",
            "Hamming Loss:  0.5623287671232877\n",
            "Example based Accuracy:  nan\n",
            "Example based precision:  nan\n",
            "Macro Averaged Accuracy:  0.2968628833771622\n",
            "Macro Averaged Precision:  0.49406787271627917\n",
            "Macro Averaged Recall:  0.5549292763137942\n",
            "Micro Averaged Accuracy:  0.3028739386022208\n",
            "Micro Averaged Precision:  0.44313837920489296\n",
            "Micro Averaged Recall:  0.48898028050195086\n",
            "Validating...\n",
            "Validating\n"
          ]
        },
        {
          "output_type": "stream",
          "name": "stderr",
          "text": [
            "21it [00:08,  2.56it/s]\n"
          ]
        },
        {
          "output_type": "stream",
          "name": "stdout",
          "text": [
            "Classification Report\n",
            "              precision    recall  f1-score   support\n",
            "\n",
            "           0       0.85      0.98      0.91       563\n",
            "           1       0.44      1.00      0.61       292\n",
            "           2       0.41      0.97      0.58       275\n",
            "           3       1.00      0.01      0.01       572\n",
            "           4       0.42      1.00      0.59       274\n",
            "\n",
            "   micro avg       0.53      0.70      0.60      1976\n",
            "   macro avg       0.62      0.79      0.54      1976\n",
            "weighted avg       0.71      0.70      0.52      1976\n",
            " samples avg       0.53      0.65      0.57      1976\n",
            "\n",
            "Train Loss: 1590.5888\n",
            "Val Loss: 1154.2426\n",
            "Epoch 15 of 30\n",
            "Training...\n",
            "Training\n"
          ]
        },
        {
          "output_type": "stream",
          "name": "stderr",
          "text": [
            "119it [01:29,  1.33it/s]\n"
          ]
        },
        {
          "output_type": "stream",
          "name": "stdout",
          "text": [
            "Classification Report\n",
            "              precision    recall  f1-score   support\n",
            "\n",
            "           0       0.57      0.76      0.65      2157\n",
            "           1       0.27      0.94      0.42      1046\n",
            "           2       0.50      0.33      0.40      2185\n",
            "           3       0.81      0.26      0.39      3036\n",
            "           4       0.33      0.51      0.40      1059\n",
            "\n",
            "   micro avg       0.44      0.49      0.47      9483\n",
            "   macro avg       0.50      0.56      0.45      9483\n",
            "weighted avg       0.57      0.49      0.46      9483\n",
            " samples avg       0.43      0.43      0.40      9483\n",
            "\n",
            "Exact match ratio:  0.007639620653319284\n",
            "1/0 Loss:  0.9923603793466808\n",
            "Hamming Loss:  0.562118018967334\n",
            "Example based Accuracy:  nan\n",
            "Example based precision:  nan\n",
            "Macro Averaged Accuracy:  0.29868915021849823\n",
            "Macro Averaged Precision:  0.49569129694476005\n",
            "Macro Averaged Recall:  0.5591217735424369\n",
            "Micro Averaged Accuracy:  0.30431664058424623\n",
            "Micro Averaged Precision:  0.44363117870722435\n",
            "Micro Averaged Recall:  0.4921438363387114\n",
            "Validating...\n",
            "Validating\n"
          ]
        },
        {
          "output_type": "stream",
          "name": "stderr",
          "text": [
            "21it [00:07,  2.69it/s]\n"
          ]
        },
        {
          "output_type": "stream",
          "name": "stdout",
          "text": [
            "Classification Report\n",
            "              precision    recall  f1-score   support\n",
            "\n",
            "           0       0.85      0.98      0.91       563\n",
            "           1       0.44      1.00      0.61       292\n",
            "           2       0.41      0.97      0.58       275\n",
            "           3       1.00      0.01      0.01       572\n",
            "           4       0.42      1.00      0.59       274\n",
            "\n",
            "   micro avg       0.53      0.70      0.60      1976\n",
            "   macro avg       0.62      0.79      0.54      1976\n",
            "weighted avg       0.71      0.70      0.52      1976\n",
            " samples avg       0.53      0.65      0.57      1976\n",
            "\n",
            "Train Loss: 1590.4033\n",
            "Val Loss: 1153.7683\n",
            "Epoch 16 of 30\n",
            "Training...\n",
            "Training\n"
          ]
        },
        {
          "output_type": "stream",
          "name": "stderr",
          "text": [
            "119it [01:29,  1.33it/s]\n"
          ]
        },
        {
          "output_type": "stream",
          "name": "stdout",
          "text": [
            "Classification Report\n",
            "              precision    recall  f1-score   support\n",
            "\n",
            "           0       0.57      0.74      0.64      2157\n",
            "           1       0.28      0.95      0.43      1046\n",
            "           2       0.50      0.33      0.40      2185\n",
            "           3       0.82      0.27      0.40      3036\n",
            "           4       0.31      0.46      0.37      1059\n",
            "\n",
            "   micro avg       0.44      0.49      0.46      9483\n",
            "   macro avg       0.50      0.55      0.45      9483\n",
            "weighted avg       0.57      0.49      0.46      9483\n",
            " samples avg       0.43      0.42      0.40      9483\n",
            "\n",
            "Exact match ratio:  0.007903055848261328\n",
            "1/0 Loss:  0.9920969441517387\n",
            "Hamming Loss:  0.5622760800842993\n",
            "Example based Accuracy:  0.2912407797681771\n",
            "Example based precision:  nan\n",
            "Macro Averaged Accuracy:  0.2953699503402015\n",
            "Macro Averaged Precision:  0.4955530261081932\n",
            "Macro Averaged Recall:  0.550600088841377\n",
            "Micro Averaged Accuracy:  0.3023012552301255\n",
            "Micro Averaged Precision:  0.4430391875059883\n",
            "Micro Averaged Recall:  0.4876094063060213\n",
            "Validating...\n",
            "Validating\n"
          ]
        },
        {
          "output_type": "stream",
          "name": "stderr",
          "text": [
            "21it [00:07,  2.76it/s]\n"
          ]
        },
        {
          "output_type": "stream",
          "name": "stdout",
          "text": [
            "Classification Report\n",
            "              precision    recall  f1-score   support\n",
            "\n",
            "           0       0.85      0.98      0.91       563\n",
            "           1       0.44      1.00      0.61       292\n",
            "           2       0.41      0.97      0.58       275\n",
            "           3       1.00      0.01      0.01       572\n",
            "           4       0.42      1.00      0.59       274\n",
            "\n",
            "   micro avg       0.53      0.70      0.60      1976\n",
            "   macro avg       0.62      0.79      0.54      1976\n",
            "weighted avg       0.71      0.70      0.52      1976\n",
            " samples avg       0.53      0.65      0.57      1976\n",
            "\n",
            "Train Loss: 1591.3103\n",
            "Val Loss: 1153.7683\n",
            "Epoch 17 of 30\n",
            "Training...\n",
            "Training\n"
          ]
        },
        {
          "output_type": "stream",
          "name": "stderr",
          "text": [
            "119it [01:29,  1.33it/s]\n"
          ]
        },
        {
          "output_type": "stream",
          "name": "stdout",
          "text": [
            "Classification Report\n",
            "              precision    recall  f1-score   support\n",
            "\n",
            "           0       0.56      0.75      0.64      2157\n",
            "           1       0.28      0.94      0.43      1046\n",
            "           2       0.50      0.32      0.39      2185\n",
            "           3       0.80      0.26      0.39      3036\n",
            "           4       0.32      0.49      0.39      1059\n",
            "\n",
            "   micro avg       0.44      0.48      0.46      9483\n",
            "   macro avg       0.49      0.55      0.45      9483\n",
            "weighted avg       0.56      0.48      0.45      9483\n",
            " samples avg       0.43      0.42      0.39      9483\n",
            "\n",
            "Exact match ratio:  0.006059009483667018\n",
            "1/0 Loss:  0.993940990516333\n",
            "Hamming Loss:  0.5667017913593256\n",
            "Example based Accuracy:  nan\n",
            "Example based precision:  nan\n",
            "Macro Averaged Accuracy:  0.2930861261337159\n",
            "Macro Averaged Precision:  0.4903920263662598\n",
            "Macro Averaged Recall:  0.5513002465453495\n",
            "Micro Averaged Accuracy:  0.29937467430953624\n",
            "Micro Averaged Precision:  0.43917821309125654\n",
            "Micro Averaged Recall:  0.4846567541917115\n",
            "Validating...\n",
            "Validating\n"
          ]
        },
        {
          "output_type": "stream",
          "name": "stderr",
          "text": [
            "21it [00:08,  2.57it/s]\n"
          ]
        },
        {
          "output_type": "stream",
          "name": "stdout",
          "text": [
            "Classification Report\n",
            "              precision    recall  f1-score   support\n",
            "\n",
            "           0       0.85      0.98      0.91       563\n",
            "           1       0.44      1.00      0.61       292\n",
            "           2       0.41      0.97      0.58       275\n",
            "           3       1.00      0.01      0.01       572\n",
            "           4       0.42      1.00      0.59       274\n",
            "\n",
            "   micro avg       0.53      0.70      0.60      1976\n",
            "   macro avg       0.62      0.79      0.54      1976\n",
            "weighted avg       0.71      0.70      0.52      1976\n",
            " samples avg       0.53      0.65      0.57      1976\n",
            "\n",
            "Train Loss: 1606.1910\n",
            "Val Loss: 1153.7683\n",
            "Epoch 18 of 30\n",
            "Training...\n",
            "Training\n"
          ]
        },
        {
          "output_type": "stream",
          "name": "stderr",
          "text": [
            "119it [01:29,  1.34it/s]\n"
          ]
        },
        {
          "output_type": "stream",
          "name": "stdout",
          "text": [
            "Classification Report\n",
            "              precision    recall  f1-score   support\n",
            "\n",
            "           0       0.57      0.76      0.65      2157\n",
            "           1       0.27      0.93      0.42      1046\n",
            "           2       0.49      0.33      0.39      2185\n",
            "           3       0.82      0.26      0.40      3036\n",
            "           4       0.31      0.47      0.37      1059\n",
            "\n",
            "   micro avg       0.44      0.49      0.46      9483\n",
            "   macro avg       0.49      0.55      0.45      9483\n",
            "weighted avg       0.57      0.49      0.45      9483\n",
            " samples avg       0.43      0.42      0.40      9483\n",
            "\n",
            "Exact match ratio:  0.007112750263435195\n",
            "1/0 Loss:  0.9928872497365648\n",
            "Hamming Loss:  0.5651738672286617\n",
            "Example based Accuracy:  0.2885230066736916\n",
            "Example based precision:  nan\n",
            "Macro Averaged Accuracy:  0.2941231653454268\n",
            "Macro Averaged Precision:  0.4915059177758717\n",
            "Macro Averaged Recall:  0.5493634335039266\n",
            "Micro Averaged Accuracy:  0.3007626621471873\n",
            "Micro Averaged Precision:  0.4406035141329259\n",
            "Micro Averaged Recall:  0.4865548876937678\n",
            "Validating...\n",
            "Validating\n"
          ]
        },
        {
          "output_type": "stream",
          "name": "stderr",
          "text": [
            "21it [00:08,  2.55it/s]\n"
          ]
        },
        {
          "output_type": "stream",
          "name": "stdout",
          "text": [
            "Classification Report\n",
            "              precision    recall  f1-score   support\n",
            "\n",
            "           0       0.85      0.98      0.91       563\n",
            "           1       0.44      1.00      0.61       292\n",
            "           2       0.41      0.98      0.58       275\n",
            "           3       1.00      0.01      0.01       572\n",
            "           4       0.42      1.00      0.59       274\n",
            "\n",
            "   micro avg       0.53      0.70      0.60      1976\n",
            "   macro avg       0.62      0.79      0.54      1976\n",
            "weighted avg       0.71      0.70      0.52      1976\n",
            " samples avg       0.53      0.65      0.57      1976\n",
            "\n",
            "Train Loss: 1599.5041\n",
            "Val Loss: 1152.7768\n",
            "Epoch 19 of 30\n",
            "Training...\n",
            "Training\n"
          ]
        },
        {
          "output_type": "stream",
          "name": "stderr",
          "text": [
            "119it [01:29,  1.33it/s]\n"
          ]
        },
        {
          "output_type": "stream",
          "name": "stdout",
          "text": [
            "Classification Report\n",
            "              precision    recall  f1-score   support\n",
            "\n",
            "           0       0.57      0.75      0.65      2157\n",
            "           1       0.27      0.94      0.43      1046\n",
            "           2       0.51      0.33      0.40      2185\n",
            "           3       0.82      0.27      0.41      3036\n",
            "           4       0.30      0.45      0.36      1059\n",
            "\n",
            "   micro avg       0.45      0.49      0.47      9483\n",
            "   macro avg       0.50      0.55      0.45      9483\n",
            "weighted avg       0.58      0.49      0.46      9483\n",
            " samples avg       0.44      0.42      0.40      9483\n",
            "\n",
            "Exact match ratio:  0.008429926238145416\n",
            "1/0 Loss:  0.9915700737618546\n",
            "Hamming Loss:  0.5596417281348788\n",
            "Example based Accuracy:  nan\n",
            "Example based precision:  nan\n",
            "Macro Averaged Accuracy:  0.2966946614727329\n",
            "Macro Averaged Precision:  0.49646688844156506\n",
            "Macro Averaged Recall:  0.5495825029193879\n",
            "Micro Averaged Accuracy:  0.3038862310767416\n",
            "Micro Averaged Precision:  0.4453087486795352\n",
            "Micro Averaged Recall:  0.48898028050195086\n",
            "Validating...\n",
            "Validating\n"
          ]
        },
        {
          "output_type": "stream",
          "name": "stderr",
          "text": [
            "21it [00:07,  2.68it/s]\n"
          ]
        },
        {
          "output_type": "stream",
          "name": "stdout",
          "text": [
            "Classification Report\n",
            "              precision    recall  f1-score   support\n",
            "\n",
            "           0       0.85      0.98      0.91       563\n",
            "           1       0.44      1.00      0.61       292\n",
            "           2       0.41      0.98      0.58       275\n",
            "           3       1.00      0.01      0.01       572\n",
            "           4       0.42      1.00      0.59       274\n",
            "\n",
            "   micro avg       0.53      0.70      0.60      1976\n",
            "   macro avg       0.62      0.79      0.54      1976\n",
            "weighted avg       0.71      0.70      0.52      1976\n",
            " samples avg       0.53      0.65      0.57      1976\n",
            "\n",
            "Train Loss: 1589.9406\n",
            "Val Loss: 1152.2294\n",
            "Epoch 20 of 30\n",
            "Training...\n",
            "Training\n"
          ]
        },
        {
          "output_type": "stream",
          "name": "stderr",
          "text": [
            "119it [01:29,  1.33it/s]\n"
          ]
        },
        {
          "output_type": "stream",
          "name": "stdout",
          "text": [
            "Classification Report\n",
            "              precision    recall  f1-score   support\n",
            "\n",
            "           0       0.56      0.74      0.64      2157\n",
            "           1       0.28      0.95      0.43      1046\n",
            "           2       0.50      0.34      0.40      2185\n",
            "           3       0.80      0.26      0.39      3036\n",
            "           4       0.31      0.46      0.37      1059\n",
            "\n",
            "   micro avg       0.44      0.49      0.46      9483\n",
            "   macro avg       0.49      0.55      0.45      9483\n",
            "weighted avg       0.56      0.49      0.45      9483\n",
            " samples avg       0.43      0.42      0.40      9483\n",
            "\n",
            "Exact match ratio:  0.0050052687038988405\n",
            "1/0 Loss:  0.9949947312961012\n",
            "Hamming Loss:  0.5660168598524763\n",
            "Example based Accuracy:  0.28799174569722513\n",
            "Example based precision:  nan\n",
            "Macro Averaged Accuracy:  0.29307042202186123\n",
            "Macro Averaged Precision:  0.4897360672257041\n",
            "Macro Averaged Recall:  0.5498173083127956\n",
            "Micro Averaged Accuracy:  0.3000390930414386\n",
            "Micro Averaged Precision:  0.43982808022922637\n",
            "Micro Averaged Recall:  0.48560582094273963\n",
            "Validating...\n",
            "Validating\n"
          ]
        },
        {
          "output_type": "stream",
          "name": "stderr",
          "text": [
            "21it [00:07,  2.64it/s]\n"
          ]
        },
        {
          "output_type": "stream",
          "name": "stdout",
          "text": [
            "Classification Report\n",
            "              precision    recall  f1-score   support\n",
            "\n",
            "           0       0.85      0.98      0.91       563\n",
            "           1       0.44      1.00      0.61       292\n",
            "           2       0.41      0.98      0.58       275\n",
            "           3       1.00      0.01      0.01       572\n",
            "           4       0.42      1.00      0.59       274\n",
            "\n",
            "   micro avg       0.53      0.70      0.60      1976\n",
            "   macro avg       0.62      0.79      0.54      1976\n",
            "weighted avg       0.71      0.70      0.52      1976\n",
            " samples avg       0.53      0.65      0.57      1976\n",
            "\n",
            "Train Loss: 1604.6707\n",
            "Val Loss: 1151.4965\n",
            "Epoch 21 of 30\n",
            "Training...\n",
            "Training\n"
          ]
        },
        {
          "output_type": "stream",
          "name": "stderr",
          "text": [
            "119it [01:30,  1.31it/s]\n"
          ]
        },
        {
          "output_type": "stream",
          "name": "stdout",
          "text": [
            "Classification Report\n",
            "              precision    recall  f1-score   support\n",
            "\n",
            "           0       0.58      0.76      0.66      2157\n",
            "           1       0.28      0.96      0.43      1046\n",
            "           2       0.51      0.33      0.40      2185\n",
            "           3       0.80      0.25      0.38      3036\n",
            "           4       0.32      0.49      0.39      1059\n",
            "\n",
            "   micro avg       0.44      0.49      0.47      9483\n",
            "   macro avg       0.49      0.56      0.45      9483\n",
            "weighted avg       0.57      0.49      0.45      9483\n",
            " samples avg       0.43      0.42      0.40      9483\n",
            "\n",
            "Exact match ratio:  0.008429926238145416\n",
            "1/0 Loss:  0.9915700737618546\n",
            "Hamming Loss:  0.5611696522655427\n",
            "Example based Accuracy:  0.29201352300667366\n",
            "Example based precision:  nan\n",
            "Macro Averaged Accuracy:  0.2979394104135531\n",
            "Macro Averaged Precision:  0.4947813425420463\n",
            "Macro Averaged Recall:  0.5587970330211924\n",
            "Micro Averaged Accuracy:  0.3041290996994643\n",
            "Micro Averaged Precision:  0.4442641725520137\n",
            "Micro Averaged Recall:  0.49087841400400717\n",
            "Validating...\n",
            "Validating\n"
          ]
        },
        {
          "output_type": "stream",
          "name": "stderr",
          "text": [
            "21it [00:08,  2.50it/s]\n"
          ]
        },
        {
          "output_type": "stream",
          "name": "stdout",
          "text": [
            "Classification Report\n",
            "              precision    recall  f1-score   support\n",
            "\n",
            "           0       0.85      0.98      0.91       563\n",
            "           1       0.44      1.00      0.61       292\n",
            "           2       0.41      0.97      0.58       275\n",
            "           3       1.00      0.01      0.01       572\n",
            "           4       0.42      1.00      0.59       274\n",
            "\n",
            "   micro avg       0.53      0.70      0.60      1976\n",
            "   macro avg       0.62      0.79      0.54      1976\n",
            "weighted avg       0.71      0.70      0.52      1976\n",
            " samples avg       0.53      0.65      0.57      1976\n",
            "\n",
            "Train Loss: 1590.2481\n",
            "Val Loss: 1154.2426\n",
            "Epoch 22 of 30\n",
            "Training...\n",
            "Training\n"
          ]
        },
        {
          "output_type": "stream",
          "name": "stderr",
          "text": [
            "119it [01:30,  1.31it/s]\n"
          ]
        },
        {
          "output_type": "stream",
          "name": "stdout",
          "text": [
            "Classification Report\n",
            "              precision    recall  f1-score   support\n",
            "\n",
            "           0       0.58      0.75      0.65      2157\n",
            "           1       0.27      0.94      0.42      1046\n",
            "           2       0.50      0.33      0.40      2185\n",
            "           3       0.80      0.26      0.39      3036\n",
            "           4       0.32      0.48      0.38      1059\n",
            "\n",
            "   micro avg       0.44      0.49      0.46      9483\n",
            "   macro avg       0.49      0.55      0.45      9483\n",
            "weighted avg       0.57      0.49      0.45      9483\n",
            " samples avg       0.43      0.42      0.40      9483\n",
            "\n",
            "Exact match ratio:  0.010273972602739725\n",
            "1/0 Loss:  0.9897260273972602\n",
            "Hamming Loss:  0.5620126448893572\n",
            "Example based Accuracy:  0.2897787144362487\n",
            "Example based precision:  nan\n",
            "Macro Averaged Accuracy:  0.2955533098044124\n",
            "Macro Averaged Precision:  0.49371949004581384\n",
            "Macro Averaged Recall:  0.5508401051322755\n",
            "Micro Averaged Accuracy:  0.3017608169143156\n",
            "Micro Averaged Precision:  0.4430988081507113\n",
            "Micro Averaged Recall:  0.48613308024886637\n",
            "Validating...\n",
            "Validating\n"
          ]
        },
        {
          "output_type": "stream",
          "name": "stderr",
          "text": [
            "21it [00:08,  2.54it/s]\n"
          ]
        },
        {
          "output_type": "stream",
          "name": "stdout",
          "text": [
            "Classification Report\n",
            "              precision    recall  f1-score   support\n",
            "\n",
            "           0       0.85      0.98      0.91       563\n",
            "           1       0.44      1.00      0.61       292\n",
            "           2       0.41      0.97      0.58       275\n",
            "           3       1.00      0.01      0.01       572\n",
            "           4       0.42      1.00      0.59       274\n",
            "\n",
            "   micro avg       0.53      0.70      0.60      1976\n",
            "   macro avg       0.62      0.79      0.54      1976\n",
            "weighted avg       0.71      0.70      0.52      1976\n",
            " samples avg       0.53      0.65      0.57      1976\n",
            "\n",
            "Train Loss: 1595.3133\n",
            "Val Loss: 1153.7683\n",
            "Epoch 23 of 30\n",
            "Training...\n",
            "Training\n"
          ]
        },
        {
          "output_type": "stream",
          "name": "stderr",
          "text": [
            "119it [01:30,  1.32it/s]\n"
          ]
        },
        {
          "output_type": "stream",
          "name": "stdout",
          "text": [
            "Classification Report\n",
            "              precision    recall  f1-score   support\n",
            "\n",
            "           0       0.57      0.75      0.64      2157\n",
            "           1       0.27      0.94      0.42      1046\n",
            "           2       0.52      0.34      0.41      2185\n",
            "           3       0.81      0.27      0.41      3036\n",
            "           4       0.30      0.46      0.36      1059\n",
            "\n",
            "   micro avg       0.44      0.49      0.47      9483\n",
            "   macro avg       0.49      0.55      0.45      9483\n",
            "weighted avg       0.57      0.49      0.46      9483\n",
            " samples avg       0.44      0.43      0.40      9483\n",
            "\n",
            "Exact match ratio:  0.007112750263435195\n",
            "1/0 Loss:  0.9928872497365648\n",
            "Hamming Loss:  0.5624868282402529\n",
            "Example based Accuracy:  nan\n",
            "Example based precision:  nan\n",
            "Macro Averaged Accuracy:  0.29644359250316443\n",
            "Macro Averaged Precision:  0.49441351748356965\n",
            "Macro Averaged Recall:  0.5519688219566425\n",
            "Micro Averaged Accuracy:  0.3034059767714994\n",
            "Micro Averaged Precision:  0.44315257790908225\n",
            "Micro Averaged Recall:  0.49035115469788043\n",
            "Validating...\n",
            "Validating\n"
          ]
        },
        {
          "output_type": "stream",
          "name": "stderr",
          "text": [
            "21it [00:07,  2.68it/s]\n"
          ]
        },
        {
          "output_type": "stream",
          "name": "stdout",
          "text": [
            "Classification Report\n",
            "              precision    recall  f1-score   support\n",
            "\n",
            "           0       0.85      0.98      0.91       563\n",
            "           1       0.44      1.00      0.61       292\n",
            "           2       0.41      0.97      0.58       275\n",
            "           3       1.00      0.01      0.02       572\n",
            "           4       0.42      1.00      0.59       274\n",
            "\n",
            "   micro avg       0.53      0.70      0.60      1976\n",
            "   macro avg       0.62      0.79      0.54      1976\n",
            "weighted avg       0.71      0.70      0.52      1976\n",
            " samples avg       0.53      0.65      0.57      1976\n",
            "\n",
            "Train Loss: 1596.6273\n",
            "Val Loss: 1152.7466\n",
            "Epoch 24 of 30\n",
            "Training...\n",
            "Training\n"
          ]
        },
        {
          "output_type": "stream",
          "name": "stderr",
          "text": [
            "119it [01:29,  1.32it/s]\n"
          ]
        },
        {
          "output_type": "stream",
          "name": "stdout",
          "text": [
            "Classification Report\n",
            "              precision    recall  f1-score   support\n",
            "\n",
            "           0       0.57      0.74      0.64      2157\n",
            "           1       0.28      0.95      0.43      1046\n",
            "           2       0.50      0.33      0.39      2185\n",
            "           3       0.82      0.27      0.40      3036\n",
            "           4       0.32      0.49      0.39      1059\n",
            "\n",
            "   micro avg       0.44      0.49      0.46      9483\n",
            "   macro avg       0.50      0.55      0.45      9483\n",
            "weighted avg       0.57      0.49      0.46      9483\n",
            " samples avg       0.43      0.43      0.40      9483\n",
            "\n",
            "Exact match ratio:  0.008429926238145416\n",
            "1/0 Loss:  0.9915700737618546\n",
            "Hamming Loss:  0.5614857744994731\n",
            "Example based Accuracy:  nan\n",
            "Example based precision:  nan\n",
            "Macro Averaged Accuracy:  0.2971680265107207\n",
            "Macro Averaged Precision:  0.4973821115162326\n",
            "Macro Averaged Recall:  0.554850419407261\n",
            "Micro Averaged Accuracy:  0.30287172107019034\n",
            "Micro Averaged Precision:  0.4437416139543799\n",
            "Micro Averaged Recall:  0.4882421174733734\n",
            "Validating...\n",
            "Validating\n"
          ]
        },
        {
          "output_type": "stream",
          "name": "stderr",
          "text": [
            "21it [00:08,  2.54it/s]\n"
          ]
        },
        {
          "output_type": "stream",
          "name": "stdout",
          "text": [
            "Classification Report\n",
            "              precision    recall  f1-score   support\n",
            "\n",
            "           0       0.85      0.98      0.91       563\n",
            "           1       0.44      1.00      0.61       292\n",
            "           2       0.41      0.97      0.58       275\n",
            "           3       1.00      0.01      0.01       572\n",
            "           4       0.42      1.00      0.59       274\n",
            "\n",
            "   micro avg       0.53      0.70      0.60      1976\n",
            "   macro avg       0.62      0.79      0.54      1976\n",
            "weighted avg       0.71      0.70      0.52      1976\n",
            " samples avg       0.53      0.65      0.57      1976\n",
            "\n",
            "Train Loss: 1589.3139\n",
            "Val Loss: 1153.7683\n",
            "Epoch 25 of 30\n",
            "Training...\n",
            "Training\n"
          ]
        },
        {
          "output_type": "stream",
          "name": "stderr",
          "text": [
            "119it [01:29,  1.33it/s]\n"
          ]
        },
        {
          "output_type": "stream",
          "name": "stdout",
          "text": [
            "Classification Report\n",
            "              precision    recall  f1-score   support\n",
            "\n",
            "           0       0.57      0.75      0.65      2157\n",
            "           1       0.27      0.94      0.42      1046\n",
            "           2       0.49      0.32      0.39      2185\n",
            "           3       0.82      0.27      0.40      3036\n",
            "           4       0.31      0.47      0.37      1059\n",
            "\n",
            "   micro avg       0.44      0.49      0.46      9483\n",
            "   macro avg       0.49      0.55      0.45      9483\n",
            "weighted avg       0.57      0.49      0.45      9483\n",
            " samples avg       0.43      0.43      0.40      9483\n",
            "\n",
            "Exact match ratio:  0.008956796628029505\n",
            "1/0 Loss:  0.9910432033719705\n",
            "Hamming Loss:  0.5648577449947313\n",
            "Example based Accuracy:  0.29043730242360377\n",
            "Example based precision:  nan\n",
            "Macro Averaged Accuracy:  0.29461676728522396\n",
            "Macro Averaged Precision:  0.4929462927319733\n",
            "Macro Averaged Recall:  0.5514831239592812\n",
            "Micro Averaged Accuracy:  0.30147250456085484\n",
            "Micro Averaged Precision:  0.44100266869996185\n",
            "Micro Averaged Recall:  0.48792576188969733\n",
            "Validating...\n",
            "Validating\n"
          ]
        },
        {
          "output_type": "stream",
          "name": "stderr",
          "text": [
            "21it [00:08,  2.53it/s]\n"
          ]
        },
        {
          "output_type": "stream",
          "name": "stdout",
          "text": [
            "Classification Report\n",
            "              precision    recall  f1-score   support\n",
            "\n",
            "           0       0.85      0.99      0.91       563\n",
            "           1       0.44      1.00      0.61       292\n",
            "           2       0.41      0.98      0.58       275\n",
            "           3       1.00      0.01      0.01       572\n",
            "           4       0.42      1.00      0.59       274\n",
            "\n",
            "   micro avg       0.53      0.70      0.60      1976\n",
            "   macro avg       0.62      0.79      0.54      1976\n",
            "weighted avg       0.71      0.70      0.52      1976\n",
            " samples avg       0.53      0.65      0.57      1976\n",
            "\n",
            "Train Loss: 1599.2649\n",
            "Val Loss: 1152.0810\n",
            "Epoch 26 of 30\n",
            "Training...\n",
            "Training\n"
          ]
        },
        {
          "output_type": "stream",
          "name": "stderr",
          "text": [
            "119it [01:29,  1.32it/s]\n"
          ]
        },
        {
          "output_type": "stream",
          "name": "stdout",
          "text": [
            "Classification Report\n",
            "              precision    recall  f1-score   support\n",
            "\n",
            "           0       0.57      0.75      0.65      2157\n",
            "           1       0.28      0.94      0.43      1046\n",
            "           2       0.51      0.34      0.41      2185\n",
            "           3       0.82      0.27      0.40      3036\n",
            "           4       0.29      0.46      0.36      1059\n",
            "\n",
            "   micro avg       0.44      0.49      0.46      9483\n",
            "   macro avg       0.49      0.55      0.45      9483\n",
            "weighted avg       0.57      0.49      0.46      9483\n",
            " samples avg       0.43      0.42      0.40      9483\n",
            "\n",
            "Exact match ratio:  0.008956796628029505\n",
            "1/0 Loss:  0.9910432033719705\n",
            "Hamming Loss:  0.56390937829294\n",
            "Example based Accuracy:  nan\n",
            "Example based precision:  nan\n",
            "Macro Averaged Accuracy:  0.29536853891885934\n",
            "Macro Averaged Precision:  0.4935200956885268\n",
            "Macro Averaged Recall:  0.5505040718965032\n",
            "Micro Averaged Accuracy:  0.302418040800365\n",
            "Micro Averaged Precision:  0.4419047619047619\n",
            "Micro Averaged Recall:  0.4892966360856269\n",
            "Validating...\n",
            "Validating\n"
          ]
        },
        {
          "output_type": "stream",
          "name": "stderr",
          "text": [
            "21it [00:07,  2.70it/s]\n"
          ]
        },
        {
          "output_type": "stream",
          "name": "stdout",
          "text": [
            "Classification Report\n",
            "              precision    recall  f1-score   support\n",
            "\n",
            "           0       0.85      0.98      0.91       563\n",
            "           1       0.44      1.00      0.61       292\n",
            "           2       0.41      0.97      0.57       275\n",
            "           3       1.00      0.01      0.02       572\n",
            "           4       0.42      1.00      0.59       274\n",
            "\n",
            "   micro avg       0.53      0.70      0.60      1976\n",
            "   macro avg       0.62      0.79      0.54      1976\n",
            "weighted avg       0.71      0.70      0.52      1976\n",
            " samples avg       0.53      0.65      0.57      1976\n",
            "\n",
            "Train Loss: 1594.6152\n",
            "Val Loss: 1153.5525\n",
            "Epoch 27 of 30\n",
            "Training...\n",
            "Training\n"
          ]
        },
        {
          "output_type": "stream",
          "name": "stderr",
          "text": [
            "119it [01:29,  1.32it/s]\n"
          ]
        },
        {
          "output_type": "stream",
          "name": "stdout",
          "text": [
            "Classification Report\n",
            "              precision    recall  f1-score   support\n",
            "\n",
            "           0       0.57      0.75      0.65      2157\n",
            "           1       0.28      0.95      0.43      1046\n",
            "           2       0.50      0.33      0.40      2185\n",
            "           3       0.81      0.26      0.40      3036\n",
            "           4       0.31      0.47      0.37      1059\n",
            "\n",
            "   micro avg       0.44      0.49      0.46      9483\n",
            "   macro avg       0.49      0.55      0.45      9483\n",
            "weighted avg       0.57      0.49      0.45      9483\n",
            " samples avg       0.43      0.42      0.40      9483\n",
            "\n",
            "Exact match ratio:  0.007639620653319284\n",
            "1/0 Loss:  0.9923603793466808\n",
            "Hamming Loss:  0.5641201264488935\n",
            "Example based Accuracy:  nan\n",
            "Example based precision:  nan\n",
            "Macro Averaged Accuracy:  0.2949052433992378\n",
            "Macro Averaged Precision:  0.4927982983018393\n",
            "Macro Averaged Recall:  0.5522369184600326\n",
            "Micro Averaged Accuracy:  0.3013832702596894\n",
            "Micro Averaged Precision:  0.4415025807684955\n",
            "Micro Averaged Recall:  0.48708214699989455\n",
            "Validating...\n",
            "Validating\n"
          ]
        },
        {
          "output_type": "stream",
          "name": "stderr",
          "text": [
            "21it [00:07,  2.66it/s]\n"
          ]
        },
        {
          "output_type": "stream",
          "name": "stdout",
          "text": [
            "Classification Report\n",
            "              precision    recall  f1-score   support\n",
            "\n",
            "           0       0.85      0.98      0.91       563\n",
            "           1       0.44      1.00      0.61       292\n",
            "           2       0.41      0.98      0.58       275\n",
            "           3       1.00      0.01      0.01       572\n",
            "           4       0.42      1.00      0.59       274\n",
            "\n",
            "   micro avg       0.53      0.70      0.60      1976\n",
            "   macro avg       0.62      0.79      0.54      1976\n",
            "weighted avg       0.71      0.70      0.52      1976\n",
            " samples avg       0.53      0.65      0.57      1976\n",
            "\n",
            "Train Loss: 1599.3148\n",
            "Val Loss: 1151.6821\n",
            "Epoch 28 of 30\n",
            "Training...\n",
            "Training\n"
          ]
        },
        {
          "output_type": "stream",
          "name": "stderr",
          "text": [
            "119it [01:29,  1.33it/s]\n"
          ]
        },
        {
          "output_type": "stream",
          "name": "stdout",
          "text": [
            "Classification Report\n",
            "              precision    recall  f1-score   support\n",
            "\n",
            "           0       0.57      0.75      0.65      2157\n",
            "           1       0.27      0.94      0.42      1046\n",
            "           2       0.49      0.32      0.39      2185\n",
            "           3       0.81      0.27      0.40      3036\n",
            "           4       0.31      0.48      0.38      1059\n",
            "\n",
            "   micro avg       0.44      0.49      0.46      9483\n",
            "   macro avg       0.49      0.55      0.45      9483\n",
            "weighted avg       0.57      0.49      0.45      9483\n",
            " samples avg       0.43      0.42      0.40      9483\n",
            "\n",
            "Exact match ratio:  0.007639620653319284\n",
            "1/0 Loss:  0.9923603793466808\n",
            "Hamming Loss:  0.5654899894625922\n",
            "Example based Accuracy:  nan\n",
            "Example based precision:  nan\n",
            "Macro Averaged Accuracy:  0.29477028236494823\n",
            "Macro Averaged Precision:  0.49076405690330216\n",
            "Macro Averaged Recall:  0.5525456437754709\n",
            "Micro Averaged Accuracy:  0.3013279520895717\n",
            "Micro Averaged Precision:  0.44052150742291585\n",
            "Micro Averaged Recall:  0.4881366656121481\n",
            "Validating...\n",
            "Validating\n"
          ]
        },
        {
          "output_type": "stream",
          "name": "stderr",
          "text": [
            "21it [00:08,  2.46it/s]\n"
          ]
        },
        {
          "output_type": "stream",
          "name": "stdout",
          "text": [
            "Classification Report\n",
            "              precision    recall  f1-score   support\n",
            "\n",
            "           0       0.85      0.98      0.91       563\n",
            "           1       0.44      1.00      0.61       292\n",
            "           2       0.41      0.97      0.58       275\n",
            "           3       1.00      0.01      0.01       572\n",
            "           4       0.42      1.00      0.59       274\n",
            "\n",
            "   micro avg       0.53      0.70      0.60      1976\n",
            "   macro avg       0.62      0.79      0.54      1976\n",
            "weighted avg       0.71      0.70      0.52      1976\n",
            " samples avg       0.53      0.65      0.57      1976\n",
            "\n",
            "Train Loss: 1604.1165\n",
            "Val Loss: 1153.7683\n",
            "Epoch 29 of 30\n",
            "Training...\n",
            "Training\n"
          ]
        },
        {
          "output_type": "stream",
          "name": "stderr",
          "text": [
            "119it [01:29,  1.32it/s]\n"
          ]
        },
        {
          "output_type": "stream",
          "name": "stdout",
          "text": [
            "Classification Report\n",
            "              precision    recall  f1-score   support\n",
            "\n",
            "           0       0.57      0.76      0.65      2157\n",
            "           1       0.28      0.95      0.43      1046\n",
            "           2       0.49      0.32      0.39      2185\n",
            "           3       0.82      0.27      0.41      3036\n",
            "           4       0.31      0.48      0.38      1059\n",
            "\n",
            "   micro avg       0.44      0.49      0.47      9483\n",
            "   macro avg       0.49      0.55      0.45      9483\n",
            "weighted avg       0.57      0.49      0.46      9483\n",
            " samples avg       0.43      0.43      0.40      9483\n",
            "\n",
            "Exact match ratio:  0.007112750263435195\n",
            "1/0 Loss:  0.9928872497365648\n",
            "Hamming Loss:  0.5643308746048472\n",
            "Example based Accuracy:  0.29170179135932567\n",
            "Example based precision:  nan\n",
            "Macro Averaged Accuracy:  0.2960414472711966\n",
            "Macro Averaged Precision:  0.49162140691559697\n",
            "Macro Averaged Recall:  0.554909294909714\n",
            "Micro Averaged Accuracy:  0.30294155928673694\n",
            "Micro Averaged Precision:  0.44173467451129245\n",
            "Micro Averaged Recall:  0.49087841400400717\n",
            "Validating...\n",
            "Validating\n"
          ]
        },
        {
          "output_type": "stream",
          "name": "stderr",
          "text": [
            "21it [00:08,  2.60it/s]\n"
          ]
        },
        {
          "output_type": "stream",
          "name": "stdout",
          "text": [
            "Classification Report\n",
            "              precision    recall  f1-score   support\n",
            "\n",
            "           0       0.85      0.99      0.91       563\n",
            "           1       0.44      1.00      0.61       292\n",
            "           2       0.41      0.97      0.58       275\n",
            "           3       1.00      0.01      0.01       572\n",
            "           4       0.42      1.00      0.59       274\n",
            "\n",
            "   micro avg       0.53      0.70      0.60      1976\n",
            "   macro avg       0.62      0.79      0.54      1976\n",
            "weighted avg       0.71      0.70      0.52      1976\n",
            " samples avg       0.53      0.65      0.57      1976\n",
            "\n",
            "Train Loss: 1599.0021\n",
            "Val Loss: 1153.0725\n",
            "Epoch 30 of 30\n",
            "Training...\n",
            "Training\n"
          ]
        },
        {
          "output_type": "stream",
          "name": "stderr",
          "text": [
            "119it [01:29,  1.32it/s]\n"
          ]
        },
        {
          "output_type": "stream",
          "name": "stdout",
          "text": [
            "Classification Report\n",
            "              precision    recall  f1-score   support\n",
            "\n",
            "           0       0.57      0.75      0.65      2157\n",
            "           1       0.27      0.94      0.42      1046\n",
            "           2       0.49      0.31      0.38      2185\n",
            "           3       0.82      0.28      0.41      3036\n",
            "           4       0.32      0.48      0.38      1059\n",
            "\n",
            "   micro avg       0.44      0.49      0.46      9483\n",
            "   macro avg       0.49      0.55      0.45      9483\n",
            "weighted avg       0.57      0.49      0.46      9483\n",
            " samples avg       0.43      0.42      0.40      9483\n",
            "\n",
            "Exact match ratio:  0.00869336143308746\n",
            "1/0 Loss:  0.9913066385669126\n",
            "Hamming Loss:  0.5622233930453109\n",
            "Example based Accuracy:  nan\n",
            "Example based precision:  nan\n",
            "Macro Averaged Accuracy:  0.29563323286237975\n",
            "Macro Averaged Precision:  0.493931890225806\n",
            "Macro Averaged Recall:  0.5509628044695744\n",
            "Micro Averaged Accuracy:  0.30209287115761935\n",
            "Micro Averaged Precision:  0.44302704776520235\n",
            "Micro Averaged Recall:  0.48708214699989455\n",
            "Validating...\n",
            "Validating\n"
          ]
        },
        {
          "output_type": "stream",
          "name": "stderr",
          "text": [
            "21it [00:07,  2.74it/s]"
          ]
        },
        {
          "output_type": "stream",
          "name": "stdout",
          "text": [
            "Classification Report\n",
            "              precision    recall  f1-score   support\n",
            "\n",
            "           0       0.85      0.98      0.91       563\n",
            "           1       0.44      1.00      0.61       292\n",
            "           2       0.41      0.98      0.58       275\n",
            "           3       1.00      0.01      0.01       572\n",
            "           4       0.42      1.00      0.59       274\n",
            "\n",
            "   micro avg       0.53      0.70      0.60      1976\n",
            "   macro avg       0.62      0.79      0.54      1976\n",
            "weighted avg       0.71      0.70      0.52      1976\n",
            " samples avg       0.53      0.65      0.57      1976\n",
            "\n",
            "Train Loss: 1598.2049\n",
            "Val Loss: 1152.2294\n"
          ]
        },
        {
          "output_type": "stream",
          "name": "stderr",
          "text": [
            "\n"
          ]
        }
      ]
    },
    {
      "cell_type": "code",
      "source": [
        "# Saving the trained model to disk\n",
        "torch.save({\n",
        "            'epoch': epochs,\n",
        "            'model_state_dict': model.state_dict(),\n",
        "            'optimizer_state_dict': optimizer.state_dict(),\n",
        "            'loss': custom_loss,\n",
        "            }, '/content/drive/MyDrive/outputs/efficientnetb0_braintumor_local.pth')\n"
      ],
      "metadata": {
        "id": "cUVKskHIf4nA"
      },
      "execution_count": 34,
      "outputs": []
    },
    {
      "cell_type": "code",
      "source": [
        "# Plotting the train and validation loss graphs\n",
        "\n",
        "fig_1 = plt.figure(figsize=(14, 7))\n",
        "plt.plot(train_loss, 'tab:orange', label='train loss')\n",
        "plt.plot(valid_loss, 'tab:blue', label='validataion loss')\n",
        "plt.title('Training and validation loss')\n",
        "plt.xlabel('Epochs')\n",
        "plt.ylabel('Loss')\n",
        "plt.legend(loc ='best')\n",
        "plt.show()"
      ],
      "metadata": {
        "id": "lOCRV91iJ3j6",
        "colab": {
          "base_uri": "https://localhost:8080/",
          "height": 641
        },
        "outputId": "752062c6-a863-4ebb-8f8f-4c7b5f54aa6f"
      },
      "execution_count": 35,
      "outputs": [
        {
          "output_type": "display_data",
          "data": {
            "text/plain": [
              "<Figure size 1400x700 with 1 Axes>"
            ],
            "image/png": "[encoded data removed]"
          },
          "metadata": {}
        }
      ]
    },
    {
      "cell_type": "code",
      "source": [
        "fig_2 = plt.figure(figsize = (14, 7))\n",
        "plt.plot(emr_list, 'tab:blue', label='Exact match ratio')\n",
        "plt.plot(one_zero_loss_list, 'tab:orange', label='1/0 Loss')\n",
        "plt.plot(hamming_loss_list, 'tab:green', label='Hamming Loss')\n",
        "plt.plot(example_based_accuracy_list, 'tab:red', label='Example based Accuracy')\n",
        "plt.plot(example_based_precision_list, 'tab:purple', label='Example based precision')\n",
        "plt.title('Example Based Evaluation Metrics')\n",
        "plt.xlabel('Epochs')\n",
        "plt.ylabel('Metric Value')\n",
        "plt.legend(loc ='best')\n",
        "plt.show()"
      ],
      "metadata": {
        "id": "HOfT2tuH2Tcs",
        "colab": {
          "base_uri": "https://localhost:8080/",
          "height": 641
        },
        "outputId": "3e79d33a-93ff-4f26-8514-1967061b9b2d"
      },
      "execution_count": 36,
      "outputs": [
        {
          "output_type": "display_data",
          "data": {
            "text/plain": [
              "<Figure size 1400x700 with 1 Axes>"
            ],
            "image/png": "[encoded data removed]"
          },
          "metadata": {}
        }
      ]
    },
    {
      "cell_type": "code",
      "source": [
        "fig_3 = plt.figure(figsize = (14, 7))\n",
        "plt.plot(label_based_macro_accuracy_list, 'tab:blue', label='Macro Averaged Accuracy')\n",
        "plt.plot(label_based_macro_precision_list, 'tab:orange', label='Macro Averaged Precision')\n",
        "plt.plot(label_based_macro_recall_list, 'tab:green', label='Macro Averaged Recall')\n",
        "plt.plot(label_based_micro_accuracy_list, 'tab:red', label='Micro Averaged Accuracy')\n",
        "plt.plot(label_based_micro_precision_list, 'tab:purple', label='Micro Averaged Precision')\n",
        "plt.plot(label_based_micro_recall_list, 'tab:brown', label='Micro Averaged Recall')\n",
        "# plt.plot(f1_score_list, 'tab:gray', label='F1 Score')\n",
        "plt.title('Label Based Evaluation Metrics')\n",
        "plt.xlabel('Epochs')\n",
        "plt.ylabel('Metric Value')\n",
        "plt.legend(loc ='best')\n",
        "plt.show()"
      ],
      "metadata": {
        "id": "-SXUEMC9Jw4v",
        "colab": {
          "base_uri": "https://localhost:8080/",
          "height": 641
        },
        "outputId": "e7b19cc2-cc22-4417-e6d4-b8705255e843"
      },
      "execution_count": 37,
      "outputs": [
        {
          "output_type": "display_data",
          "data": {
            "text/plain": [
              "<Figure size 1400x700 with 1 Axes>"
            ],
            "image/png": "[encoded data removed]"
          },
          "metadata": {}
        }
      ]
    },
    {
      "cell_type": "code",
      "source": [],
      "metadata": {
        "id": "WnWpOg3t1O7i"
      },
      "execution_count": null,
      "outputs": []
    }
  ]
}